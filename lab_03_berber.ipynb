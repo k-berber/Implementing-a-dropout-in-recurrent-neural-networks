{
 "cells": [
  {
   "cell_type": "markdown",
   "metadata": {
    "id": "gA9QDzUryYtF"
   },
   "source": [
    "# Третье практическое задание. Реализация дропаута в рекуррентных нейронных сетях\n",
    "Практикум на ЭВМ для 317 группы, весна 2021\n",
    "\n",
    "#### Фамилия, имя:\n",
    "\n",
    "Дата выдачи: 3 апреля 00:01\n",
    "\n",
    "Мягкий дедлайн: 17 апреля 00:01"
   ]
  },
  {
   "cell_type": "markdown",
   "metadata": {
    "id": "CXWwe-W5yYtL"
   },
   "source": [
    "Данное задание будет состоять из двух частей:\n",
    "1. Применение рекуррентной сети для решения задачи классификации текста. Более конкретно -- предсказания рейтинга отзыва фильма.\n",
    "2. Простейшая лингвистическая модель для генерации текста на основе LSTM."
   ]
  },
  {
   "cell_type": "markdown",
   "metadata": {
    "id": "cRmBcg8wyYtM"
   },
   "source": [
    "При выполнении задания вы обучите LSTM с разным уровнем \"коробочности\", а также познакомитесь с различными способами применения DropOut к рекуррентным архитектурам. В рекуррентных архитектурах вариантов, куда можно наложить бинарную маску шума, гораздо больше, чем в нейросетях прямого прохода.\n",
    "\n",
    "Во второй части вы попробуете реализовать простейший рекуррентный декодер для генерации текстов.\n",
    "\n",
    "Задание сделано так, чтобы его можно было выполнять на CPU, однако RNN - это ресурсоёмкая вещь, поэтому на GPU с ними работать приятнее. Можете попробовать использовать [https://colab.research.google.com](https://colab.research.google.com) - бесплатное облако с GPU."
   ]
  },
  {
   "cell_type": "markdown",
   "metadata": {
    "id": "w_MvfaBZyYtM"
   },
   "source": [
    "**Для корректного отображения картинок, вам может понадобится сделать ноутбук доверенным (Trusted) в правом верхнем углу**"
   ]
  },
  {
   "cell_type": "markdown",
   "metadata": {
    "id": "follu-hkyYtM"
   },
   "source": [
    "# Часть 0. Загрузка и предобработка данных. (1 балл)"
   ]
  },
  {
   "cell_type": "markdown",
   "metadata": {
    "id": "yhk7Z9JKyYtN"
   },
   "source": [
    "## Рекомендуемые гиперпараметры"
   ]
  },
  {
   "cell_type": "code",
   "execution_count": 352,
   "metadata": {
    "id": "tCeY1j1pyYtN"
   },
   "outputs": [],
   "source": [
    "max_length = 200\n",
    "top_n_words = 5000\n",
    "\n",
    "hidden_dim = 128\n",
    "embedding_dim = 32\n",
    "\n",
    "num_epochs = 15\n",
    "batch_size = 64\n",
    "learning_rate = 1e-3"
   ]
  },
  {
   "cell_type": "markdown",
   "metadata": {
    "id": "nCJvXfhsyYtO"
   },
   "source": [
    "Первое, что нужно сделать -- скачать, предобработать данные и организовать их таким образом, чтобы их можно было подавать в нейронную сеть.\n",
    "\n",
    "Для обеих частей задания мы будем использовать [**Large Movie Review Dataset**](https://ai.stanford.edu/~amaas/data/sentiment/)."
   ]
  },
  {
   "cell_type": "markdown",
   "metadata": {
    "id": "i_p6bqzhyYtP"
   },
   "source": [
    "## Загрузка и предобработка данных"
   ]
  },
  {
   "cell_type": "markdown",
   "metadata": {
    "id": "OXd_tR0YyYtP"
   },
   "source": [
    "Загрузите данные по ссылке выше. (**tip**: используйте `wget`)"
   ]
  },
  {
   "cell_type": "code",
   "execution_count": 353,
   "metadata": {
    "colab": {
     "base_uri": "https://localhost:8080/"
    },
    "id": "G6rJfeY7yYtP",
    "outputId": "023b8d83-f016-428b-d0d2-970ba864dfdb"
   },
   "outputs": [
    {
     "name": "stdout",
     "output_type": "stream",
     "text": [
      "Requirement already satisfied: wget in /usr/local/lib/python3.7/dist-packages (3.2)\n"
     ]
    }
   ],
   "source": [
    "pip install wget"
   ]
  },
  {
   "cell_type": "code",
   "execution_count": 354,
   "metadata": {
    "id": "3qy0E4afzIeM"
   },
   "outputs": [],
   "source": [
    "import wget"
   ]
  },
  {
   "cell_type": "code",
   "execution_count": 355,
   "metadata": {
    "id": "ACBy6vmAzWoH"
   },
   "outputs": [],
   "source": [
    "url = 'https://ai.stanford.edu/~amaas/data/sentiment/aclImdb_v1.tar.gz'"
   ]
  },
  {
   "cell_type": "code",
   "execution_count": 356,
   "metadata": {
    "id": "BOOYCy0SzgqP"
   },
   "outputs": [],
   "source": [
    "data_file = wget.download(url)"
   ]
  },
  {
   "cell_type": "code",
   "execution_count": 357,
   "metadata": {
    "colab": {
     "base_uri": "https://localhost:8080/"
    },
    "id": "bHwjdSH_zlm5",
    "outputId": "fe2050d5-dd9f-411f-ff4b-3ec8053649b3"
   },
   "outputs": [
    {
     "data": {
      "text/plain": [
       "str"
      ]
     },
     "execution_count": 357,
     "metadata": {
      "tags": []
     },
     "output_type": "execute_result"
    }
   ],
   "source": [
    "type(data_file)"
   ]
  },
  {
   "cell_type": "code",
   "execution_count": 358,
   "metadata": {
    "id": "oZqimRKRztDg"
   },
   "outputs": [],
   "source": [
    "import tarfile"
   ]
  },
  {
   "cell_type": "markdown",
   "metadata": {
    "id": "kxe4luFEyYtR"
   },
   "source": [
    "Распакуйте скачанные данные в папку `aclImdb` (**tip:** используйте `tar`)"
   ]
  },
  {
   "cell_type": "code",
   "execution_count": 359,
   "metadata": {
    "id": "ByoL9KEzyYtR"
   },
   "outputs": [],
   "source": [
    "tar = tarfile.open(data_file)\n",
    "tar.extractall(path='.')\n",
    "tar.close()"
   ]
  },
  {
   "cell_type": "markdown",
   "metadata": {
    "id": "BMYq_ELtyYtS"
   },
   "source": [
    "Посмотрите в файле `./aclImdb/README` как организованы данные"
   ]
  },
  {
   "cell_type": "code",
   "execution_count": 360,
   "metadata": {
    "colab": {
     "base_uri": "https://localhost:8080/"
    },
    "id": "ZNGV6EfI0fCT",
    "outputId": "37b0b8ac-a9a6-490d-fd79-bd0389900bd1"
   },
   "outputs": [
    {
     "name": "stdout",
     "output_type": "stream",
     "text": [
      "Large Movie Review Dataset v1.0\n",
      "\n",
      "Overview\n",
      "\n",
      "This dataset contains movie reviews along with their associated binary\n",
      "sentiment polarity labels. It is intended to serve as a benchmark for\n",
      "sentiment classification. This document outlines how the dataset was\n",
      "gathered, and how to use the files provided. \n",
      "\n",
      "Dataset \n",
      "\n",
      "The core dataset contains 50,000 reviews split evenly into 25k train\n",
      "and 25k test sets. The overall distribution of labels is balanced (25k\n",
      "pos and 25k neg). We also include an additional 50,000 unlabeled\n",
      "documents for unsupervised learning. \n",
      "\n",
      "In the entire collection, no more than 30 reviews are allowed for any\n",
      "given movie because reviews for the same movie tend to have correlated\n",
      "ratings. Further, the train and test sets contain a disjoint set of\n",
      "movies, so no significant performance is obtained by memorizing\n",
      "movie-unique terms and their associated with observed labels.  In the\n",
      "labeled train/test sets, a negative review has a score <= 4 out of 10,\n",
      "and a positive review has a score >= 7 out of 10. Thus reviews with\n",
      "more neutral ratings are not included in the train/test sets. In the\n",
      "unsupervised set, reviews of any rating are included and there are an\n",
      "even number of reviews > 5 and <= 5.\n",
      "\n",
      "Files\n",
      "\n",
      "There are two top-level directories [train/, test/] corresponding to\n",
      "the training and test sets. Each contains [pos/, neg/] directories for\n",
      "the reviews with binary labels positive and negative. Within these\n",
      "directories, reviews are stored in text files named following the\n",
      "convention [[id]_[rating].txt] where [id] is a unique id and [rating] is\n",
      "the star rating for that review on a 1-10 scale. For example, the file\n",
      "[test/pos/200_8.txt] is the text for a positive-labeled test set\n",
      "example with unique id 200 and star rating 8/10 from IMDb. The\n",
      "[train/unsup/] directory has 0 for all ratings because the ratings are\n",
      "omitted for this portion of the dataset.\n",
      "\n",
      "We also include the IMDb URLs for each review in a separate\n",
      "[urls_[pos, neg, unsup].txt] file. A review with unique id 200 will\n",
      "have its URL on line 200 of this file. Due the ever-changing IMDb, we\n",
      "are unable to link directly to the review, but only to the movie's\n",
      "review page.\n",
      "\n",
      "In addition to the review text files, we include already-tokenized bag\n",
      "of words (BoW) features that were used in our experiments. These \n",
      "are stored in .feat files in the train/test directories. Each .feat\n",
      "file is in LIBSVM format, an ascii sparse-vector format for labeled\n",
      "data.  The feature indices in these files start from 0, and the text\n",
      "tokens corresponding to a feature index is found in [imdb.vocab]. So a\n",
      "line with 0:7 in a .feat file means the first word in [imdb.vocab]\n",
      "(the) appears 7 times in that review.\n",
      "\n",
      "LIBSVM page for details on .feat file format:\n",
      "http://www.csie.ntu.edu.tw/~cjlin/libsvm/\n",
      "\n",
      "We also include [imdbEr.txt] which contains the expected rating for\n",
      "each token in [imdb.vocab] as computed by (Potts, 2011). The expected\n",
      "rating is a good way to get a sense for the average polarity of a word\n",
      "in the dataset.\n",
      "\n",
      "Citing the dataset\n",
      "\n",
      "When using this dataset please cite our ACL 2011 paper which\n",
      "introduces it. This paper also contains classification results which\n",
      "you may want to compare against.\n",
      "\n",
      "\n",
      "@InProceedings{maas-EtAl:2011:ACL-HLT2011,\n",
      "  author    = {Maas, Andrew L.  and  Daly, Raymond E.  and  Pham, Peter T.  and  Huang, Dan  and  Ng, Andrew Y.  and  Potts, Christopher},\n",
      "  title     = {Learning Word Vectors for Sentiment Analysis},\n",
      "  booktitle = {Proceedings of the 49th Annual Meeting of the Association for Computational Linguistics: Human Language Technologies},\n",
      "  month     = {June},\n",
      "  year      = {2011},\n",
      "  address   = {Portland, Oregon, USA},\n",
      "  publisher = {Association for Computational Linguistics},\n",
      "  pages     = {142--150},\n",
      "  url       = {http://www.aclweb.org/anthology/P11-1015}\n",
      "}\n",
      "\n",
      "References\n",
      "\n",
      "Potts, Christopher. 2011. On the negativity of negation. In Nan Li and\n",
      "David Lutz, eds., Proceedings of Semantics and Linguistic Theory 20,\n",
      "636-659.\n",
      "\n",
      "Contact\n",
      "\n",
      "For questions/comments/corrections please contact Andrew Maas\n",
      "amaas@cs.stanford.edu\n"
     ]
    }
   ],
   "source": [
    "! cat ./aclImdb/README"
   ]
  },
  {
   "cell_type": "code",
   "execution_count": 361,
   "metadata": {
    "colab": {
     "base_uri": "https://localhost:8080/"
    },
    "id": "nGTUUE6dyYtS",
    "outputId": "7064a789-2cb3-4b06-e5fd-eb7722fc5593"
   },
   "outputs": [
    {
     "name": "stdout",
     "output_type": "stream",
     "text": [
      "This is not the typical Mel Brooks film. It was much less slapstick than most of his movies and actually had a plot that was followable. Leslie Ann Warren made the movie, she is such a fantastic, under-rated actress. There were some moments that could have been fleshed out a bit more, and some scenes that could probably have been cut to make the room to do so, but all in all, this is worth the price to rent and see it. The acting was good overall, Brooks himself did a good job without his characteristic speaking to directly to the audience. Again, Warren was the best actor in the movie, but \"Fume\" and \"Sailor\" both played their parts well."
     ]
    }
   ],
   "source": [
    "! cat ./aclImdb/train/pos/10003_8.txt"
   ]
  },
  {
   "cell_type": "code",
   "execution_count": 362,
   "metadata": {
    "id": "p9Ge3aPUyYtS"
   },
   "outputs": [],
   "source": [
    "test_data_path = './aclImdb/test/'\n",
    "train_data_path = './aclImdb/train/'"
   ]
  },
  {
   "cell_type": "code",
   "execution_count": 363,
   "metadata": {
    "colab": {
     "base_uri": "https://localhost:8080/"
    },
    "id": "eLeJ8At0yYtS",
    "outputId": "88e3a716-d40e-4424-e110-207353515686"
   },
   "outputs": [
    {
     "name": "stdout",
     "output_type": "stream",
     "text": [
      "[nltk_data] Downloading package stopwords to /root/nltk_data...\n",
      "[nltk_data]   Package stopwords is already up-to-date!\n"
     ]
    }
   ],
   "source": [
    "import os\n",
    "from functools import partial\n",
    "from collections import defaultdict\n",
    "\n",
    "import nltk\n",
    "nltk.download('stopwords')\n",
    "\n",
    "import regex\n",
    "import numpy as np\n",
    "\n",
    "import torch\n",
    "import torchtext\n",
    "from torch.utils.data import Dataset, DataLoader"
   ]
  },
  {
   "cell_type": "markdown",
   "metadata": {
    "id": "qDIrDt9wyYtT"
   },
   "source": [
    "Стандартной предобработкой данных является токенизация текстов. Полученные токены можно будет закодировать и затем подавать на вход нейронной сети. Ключевым моментом, который влияет на скорость работы нейросети и её размер в памяти -- размер словаря, используемого при токенизации. Для задачи классификации мы можем убрать часть слов (стоп слова, редкие слова), ускорив обучение без потери в качестве."
   ]
  },
  {
   "cell_type": "code",
   "execution_count": 364,
   "metadata": {
    "id": "HTjZeelSyYtT"
   },
   "outputs": [],
   "source": [
    "STOPWORDS = nltk.corpus.stopwords.words('english')"
   ]
  },
  {
   "cell_type": "markdown",
   "metadata": {
    "id": "_iZrxtAayYtT"
   },
   "source": [
    "Реализуйте функцию для токенизации текста. Выполнять токенизацию можно по-разному, но в данном задании предлагается это делать следующим образом:\n",
    "1. Привести текст к нижнему регистру\n",
    "2. Убрать html разметку из текстов (`<br />`)\n",
    "3. Убрать все символы кроме латинских букв\n",
    "4. Разбить строку по пробелам\n",
    "5. Убрать стоп слова"
   ]
  },
  {
   "cell_type": "code",
   "execution_count": 365,
   "metadata": {
    "id": "726gNQ8vyYtT"
   },
   "outputs": [],
   "source": [
    "import re\n",
    "def tokenize(text):\n",
    "    \"\"\"\n",
    "    :param str text: Input text \n",
    "    :return List[str]: List of words\n",
    "    \"\"\"\n",
    "    # YOUR CODE HERE\n",
    "    text = text.lower()\n",
    "    text = text.replace('<br />', '')\n",
    "    text = re.sub(r\"[^a-zA-Z]+\", \" \", text)\n",
    "    text = text.split(' ')\n",
    "    text = [word for word in text if word not in STOPWORDS]\n",
    "    return text[1:-1]"
   ]
  },
  {
   "cell_type": "code",
   "execution_count": 366,
   "metadata": {
    "colab": {
     "base_uri": "https://localhost:8080/"
    },
    "id": "zT4A3Azv2HGF",
    "outputId": "96aebf1e-959f-40f8-bf63-8e2549b5d869"
   },
   "outputs": [
    {
     "data": {
      "text/plain": [
       "['hello', 'fff', 'ff', 'dfd', 'ee', 'reds', 'words']"
      ]
     },
     "execution_count": 366,
     "metadata": {
      "tags": []
     },
     "output_type": "execute_result"
    }
   ],
   "source": [
    "tokenize('1Hello  FFF fF 343     dfd 3ee4 reds  <br />  words!  ! <br /> ')"
   ]
  },
  {
   "cell_type": "code",
   "execution_count": 367,
   "metadata": {
    "colab": {
     "base_uri": "https://localhost:8080/"
    },
    "id": "UxXmUeVWyYtU",
    "outputId": "859d9c2a-2fde-4e3c-afe3-9ed2fce96b51"
   },
   "outputs": [
    {
     "data": {
      "text/plain": [
       "['hello', 'words']"
      ]
     },
     "execution_count": 367,
     "metadata": {
      "tags": []
     },
     "output_type": "execute_result"
    }
   ],
   "source": [
    "tokenize('1. Hello <br /> words!! <br />')"
   ]
  },
  {
   "cell_type": "markdown",
   "metadata": {
    "id": "ERAcKJI2yYtU"
   },
   "source": [
    "Теперь мы можем создать словарь, с помощью которого мы будем численно кодировать токены из текста и наоборот.\n",
    "\n",
    "Удобной обёрткой для создания словарей является класс `torchtext.vocab.Vocab`."
   ]
  },
  {
   "cell_type": "code",
   "execution_count": 368,
   "metadata": {
    "id": "uk5hRR4DyYtU",
    "scrolled": false
   },
   "outputs": [],
   "source": [
    "torchtext.vocab.Vocab??"
   ]
  },
  {
   "cell_type": "markdown",
   "metadata": {
    "id": "wX6wXAZwyYtU"
   },
   "source": [
    "Чтобы создать такой словарь, сначала нужно создать словарь со всеми токенами в тексте и их частотами встречаемости:"
   ]
  },
  {
   "cell_type": "code",
   "execution_count": 369,
   "metadata": {
    "id": "BcOQOxgNyYtV"
   },
   "outputs": [],
   "source": [
    "counter = defaultdict(int)\n",
    "\n",
    "for path in ['./aclImdb/test/neg', './aclImdb/test/pos', './aclImdb/train/neg', './aclImdb/train/pos']:\n",
    "    for file_path in os.listdir(path):\n",
    "        text = open(os.path.join(path, file_path), 'r', encoding='utf-8', errors='ignore').read().strip()\n",
    "        for token in tokenize(text):\n",
    "            counter[token] += 1"
   ]
  },
  {
   "cell_type": "markdown",
   "metadata": {
    "id": "pHX9uUc_yYtV"
   },
   "source": [
    "Для работы с текстами нам необходимо зарезервировать два специальных токена:\n",
    "1. `<pad>` для токена означающего паддинг\n",
    "2. `<unk>` для токенов, которые отсутствуют в словаре"
   ]
  },
  {
   "cell_type": "code",
   "execution_count": 370,
   "metadata": {
    "id": "pXnHFO0RyYtV"
   },
   "outputs": [],
   "source": [
    "specials = ['<pad>', '<unk>']\n",
    "for special in specials:\n",
    "    counter[special] = 0"
   ]
  },
  {
   "cell_type": "code",
   "execution_count": 371,
   "metadata": {
    "colab": {
     "base_uri": "https://localhost:8080/"
    },
    "id": "CI-W5T0X5aQJ",
    "outputId": "6ef01627-50ec-4a6b-f2ec-9275f6431d8e"
   },
   "outputs": [
    {
     "data": {
      "text/plain": [
       "(0, 0)"
      ]
     },
     "execution_count": 371,
     "metadata": {
      "tags": []
     },
     "output_type": "execute_result"
    }
   ],
   "source": [
    "counter['<pad>'], counter['<unk>']"
   ]
  },
  {
   "cell_type": "code",
   "execution_count": 372,
   "metadata": {
    "colab": {
     "base_uri": "https://localhost:8080/"
    },
    "id": "GsL-oE-E95Ca",
    "outputId": "159a6704-405e-42b8-a97e-89b7c037bc4c"
   },
   "outputs": [
    {
     "data": {
      "text/plain": [
       "5000"
      ]
     },
     "execution_count": 372,
     "metadata": {
      "tags": []
     },
     "output_type": "execute_result"
    }
   ],
   "source": [
    "top_n_words"
   ]
  },
  {
   "cell_type": "code",
   "execution_count": 373,
   "metadata": {
    "colab": {
     "base_uri": "https://localhost:8080/"
    },
    "id": "Y9oaH0NcTWgb",
    "outputId": "d6d790d3-9c5a-4ab0-8c3f-505938ce1fda"
   },
   "outputs": [
    {
     "data": {
      "text/plain": [
       "100898"
      ]
     },
     "execution_count": 373,
     "metadata": {
      "tags": []
     },
     "output_type": "execute_result"
    }
   ],
   "source": [
    "len(counter)"
   ]
  },
  {
   "cell_type": "markdown",
   "metadata": {
    "id": "E-2Obx22yYtV"
   },
   "source": [
    "*Создайте* словарь из словаря частот `counter`. Наименьшие id отдайте под специальные токены. Отбросьте низкочастотные слова, оставив только `top_n_words` слов"
   ]
  },
  {
   "cell_type": "code",
   "execution_count": 374,
   "metadata": {
    "id": "LpeB7vTCyYtV"
   },
   "outputs": [],
   "source": [
    "# YOUR CODE HERE\n",
    "vocab = torchtext.vocab.Vocab(counter, max_size = top_n_words, specials = specials)"
   ]
  },
  {
   "cell_type": "code",
   "execution_count": 375,
   "metadata": {
    "colab": {
     "base_uri": "https://localhost:8080/"
    },
    "id": "JuHudRJx9q2E",
    "outputId": "205ad7a5-fc47-4b7d-cc93-74e33dd85f72"
   },
   "outputs": [
    {
     "data": {
      "text/plain": [
       "[0, 1]"
      ]
     },
     "execution_count": 375,
     "metadata": {
      "tags": []
     },
     "output_type": "execute_result"
    }
   ],
   "source": [
    "vocab.lookup_indices(['<pad>', '<unk>'])"
   ]
  },
  {
   "cell_type": "code",
   "execution_count": 376,
   "metadata": {
    "colab": {
     "base_uri": "https://localhost:8080/"
    },
    "id": "esl5gC1FyYtW",
    "outputId": "1463e5f0-868d-46e6-ee36-a4e4fc53b585"
   },
   "outputs": [
    {
     "data": {
      "text/plain": [
       "[0, 1]"
      ]
     },
     "execution_count": 376,
     "metadata": {
      "tags": []
     },
     "output_type": "execute_result"
    }
   ],
   "source": [
    "vocab.lookup_indices(['<pad>', '<unk>'])"
   ]
  },
  {
   "cell_type": "code",
   "execution_count": 377,
   "metadata": {
    "colab": {
     "base_uri": "https://localhost:8080/"
    },
    "id": "t9HPu2f59yS1",
    "outputId": "cbc77640-f092-451e-8f0b-789d540573c5"
   },
   "outputs": [
    {
     "data": {
      "text/plain": [
       "[1, 3, 1, 254]"
      ]
     },
     "execution_count": 377,
     "metadata": {
      "tags": []
     },
     "output_type": "execute_result"
    }
   ],
   "source": [
    "vocab.lookup_indices(['this', 'film', 'was', 'awful'])"
   ]
  },
  {
   "cell_type": "code",
   "execution_count": 378,
   "metadata": {
    "colab": {
     "base_uri": "https://localhost:8080/"
    },
    "id": "BzMSx9jTYR6r",
    "outputId": "0bf8d6fa-4cf8-43fc-b8d8-8a788e0c2079"
   },
   "outputs": [
    {
     "data": {
      "text/plain": [
       "torchtext.vocab.Vocab"
      ]
     },
     "execution_count": 378,
     "metadata": {
      "tags": []
     },
     "output_type": "execute_result"
    }
   ],
   "source": [
    "type(vocab)"
   ]
  },
  {
   "cell_type": "code",
   "execution_count": 379,
   "metadata": {
    "colab": {
     "base_uri": "https://localhost:8080/"
    },
    "id": "VAxfyvFKX-P-",
    "outputId": "48b5181f-5a05-4159-d89a-78077a760fb3"
   },
   "outputs": [
    {
     "data": {
      "text/plain": [
       "5002"
      ]
     },
     "execution_count": 379,
     "metadata": {
      "tags": []
     },
     "output_type": "execute_result"
    }
   ],
   "source": [
    "len(vocab)"
   ]
  },
  {
   "cell_type": "code",
   "execution_count": 380,
   "metadata": {
    "colab": {
     "base_uri": "https://localhost:8080/"
    },
    "id": "mqLIZtswYbxG",
    "outputId": "92f26714-f59d-418e-e8e2-0966e919a447"
   },
   "outputs": [
    {
     "data": {
      "text/plain": [
       "5002"
      ]
     },
     "execution_count": 380,
     "metadata": {
      "tags": []
     },
     "output_type": "execute_result"
    }
   ],
   "source": [
    "len(vocab.itos)"
   ]
  },
  {
   "cell_type": "code",
   "execution_count": 381,
   "metadata": {
    "id": "NDlmcz0_QyAn"
   },
   "outputs": [],
   "source": [
    "#vocab.lookup_indices(vocab)"
   ]
  },
  {
   "cell_type": "markdown",
   "metadata": {
    "id": "r7_hFCHwyYtW"
   },
   "source": [
    "Теперь мы готовы создать обёртку-датасет для наших данных. \n",
    "\n",
    "Необходимо добавить несколько опции, которые понадобятся во второй части задания:\n",
    "1. Ограничение на максимальную длину текста в токенах. Если текст оказывается длиннее, то последние токены отбрасываются\n",
    "2. Возможность добавить в специальные токены `<sos>`, `<eos>` в начало и конец токенизированного текста\n",
    "    \n",
    "**tips:**\n",
    "1. Обратите особое внимание, что у длинных текстов не должен обрезаться паддинг\n",
    "2. В исходных данных рейтинг закодирован в названии файла в виде числа от 1 до 10. Для удобства, вычтите 1, чтобы рейтинг был от 0 до 9"
   ]
  },
  {
   "cell_type": "code",
   "execution_count": 382,
   "metadata": {
    "colab": {
     "base_uri": "https://localhost:8080/"
    },
    "id": "mlmqVHkJU86x",
    "outputId": "ebd84513-bafa-41ac-ca7d-18c98e1e087e"
   },
   "outputs": [
    {
     "data": {
      "text/plain": [
       "1"
      ]
     },
     "execution_count": 382,
     "metadata": {
      "tags": []
     },
     "output_type": "execute_result"
    }
   ],
   "source": [
    "s = '123'\n",
    "int(s[0])"
   ]
  },
  {
   "cell_type": "code",
   "execution_count": 383,
   "metadata": {
    "id": "ffGsqOwIyYtX"
   },
   "outputs": [],
   "source": [
    "class LargeMovieReviewDataset(Dataset):\n",
    "    def __init__(self, data_path, vocab, max_len, pad_sos=False, pad_eos=False):\n",
    "        \"\"\"\n",
    "        :param str data_path: Path to folder with one of the data splits (train or test)\n",
    "        :param torchtext.vocab.Vocab vocab: dictionary with lookup_indices method\n",
    "        :param int max_len: Maximum length of tokenized text\n",
    "        :param bool pad_sos: If True pad sequence at the beginning with <sos> \n",
    "        :param bool pad_eos: If True pad sequence at the end with <eos>         \n",
    "        \"\"\"\n",
    "        super().__init__()\n",
    "        \n",
    "        self.pad_sos = pad_sos\n",
    "        if self.pad_sos:\n",
    "            self.sos_id = vocab.lookup_indices(['<sos>'])[0]\n",
    "        self.pad_eos = pad_eos\n",
    "        if self.pad_eos:\n",
    "            self.eos_id = vocab.lookup_indices(['<eos>'])[0]\n",
    "        \n",
    "        self.vocab = vocab\n",
    "        self.max_len = max_len\n",
    "        self.data_path = data_path\n",
    "        self.negative_path = os.path.join(data_path, 'neg')\n",
    "        self.positive_path = os.path.join(data_path, 'pos')\n",
    "        \n",
    "        self.negative_paths = []\n",
    "        self.positive_paths = []\n",
    "\n",
    "        for file_path in os.listdir(self.negative_path):\n",
    "            self.negative_paths.append(os.path.join(self.negative_path, file_path))\n",
    "\n",
    "        for file_path in os.listdir(self.positive_path):\n",
    "            self.positive_paths.append(os.path.join(self.positive_path, file_path))\n",
    "        \n",
    "        self.texts = []\n",
    "        self.tokens = []\n",
    "        self.ratings = []\n",
    "        self.labels = [0] * len(self.negative_paths) + [1] * len(self.positive_paths)\n",
    "        \n",
    "        # Read each file in data_path, tokenize it, get tokens ids, its rating and store\n",
    "        for path in self.negative_paths + self.positive_paths:\n",
    "            # YOUR CODE HERE\n",
    "            text = open(path, 'r', encoding='utf-8', errors='ignore').read().strip()\n",
    "            self.texts += [text]\n",
    "            tokenize_text = tokenize(text)[:max_length]\n",
    "            self.tokens += [self.vocab.lookup_indices(tokenize_text)]\n",
    "            if path[-6] == '_':\n",
    "              self.ratings += [int(path[-5])- 1]\n",
    "            else:\n",
    "              self.ratings += [9]\n",
    "\n",
    "        \n",
    "    def __getitem__(self, idx):\n",
    "        \"\"\"\n",
    "        :param int idx: index of object in dataset\n",
    "        :return dict: Dictionary with all useful object data \n",
    "            {\n",
    "                'text' str: unprocessed text,\n",
    "                'label' torch.tensor(dtype=torch.long): sentiment of the text (0 for negative, 1 for positive)\n",
    "                'rating' torch.tensor(dtype=torch.long): rating of the text\n",
    "                'tokens' torch.tensor(dtype=torch.long): tensor of tokens ids for the text\n",
    "                'tokens_len' torch.tensor(dtype=torch.long): number of tokens\n",
    "            }\n",
    "        \"\"\"\n",
    "        # YOUR CODE HERE\n",
    "        # Do not forget to add padding if needed!\n",
    "        if self.pad_sos:\n",
    "          (self.tokens[idx]).insert(0, self.sos_id)\n",
    "        if self.pad_eos:\n",
    "          (self.tokens[idx]).append(self.eos_id)\n",
    "        l = len(self.tokens[idx])\n",
    "        d = {'text': self.texts[idx], 'label': torch.tensor(self.labels[idx], dtype=torch.long), 'rating' :torch.tensor(self.ratings[idx], dtype=torch.long), 'tokens': torch.tensor(self.tokens[idx], dtype=torch.long), 'tokens_len': torch.tensor(l,dtype=torch.long)}\n",
    "        return d\n",
    "    def __len__(self):\n",
    "        \"\"\"\n",
    "        :return int: number of objects in dataset \n",
    "        \"\"\"\n",
    "        # YOUR CODE HERE\n",
    "        return len( self.texts)"
   ]
  },
  {
   "cell_type": "markdown",
   "metadata": {
    "id": "PcgNUa2pyYtX"
   },
   "source": [
    "Создайте датасеты для тестовой и обучающей выборки. \n",
    "\n",
    "Обратите внимание, что для задачи классификации нам не потребуется паддинг с помощью `<sos>`, `<eos>`. \n",
    "\n",
    "Не забудьте обрезать длинные тексты, передав параметр `max_length`."
   ]
  },
  {
   "cell_type": "code",
   "execution_count": 384,
   "metadata": {
    "id": "X7TIBaYByYtX"
   },
   "outputs": [],
   "source": [
    "# YOUR CODE HERE\n",
    "test_dataset = LargeMovieReviewDataset(test_data_path, vocab, max_length)\n",
    "train_dataset = LargeMovieReviewDataset(train_data_path, vocab, max_length)"
   ]
  },
  {
   "cell_type": "markdown",
   "metadata": {
    "id": "kHFW_AT_yYtX"
   },
   "source": [
    "Посмотрим, как выглядит объект в датасете:"
   ]
  },
  {
   "cell_type": "code",
   "execution_count": 385,
   "metadata": {
    "colab": {
     "base_uri": "https://localhost:8080/"
    },
    "id": "fethNQuzaIZP",
    "outputId": "82abdac2-0f61-4e7a-e586-52888b6b6669"
   },
   "outputs": [
    {
     "data": {
      "text/plain": [
       "{'label': tensor(1),\n",
       " 'rating': tensor(8),\n",
       " 'text': \"'The Dresser' is one of those films which are so perfect you really struggle to find something not to like about them. Written by Ronald Harwood (himself a former dresser to the legendary Donald Wolfit), it sparkles with energy and true love of life behind the footlights.<br /><br />As 'Sir', the overbearing actor and main focus of the play, Albert Finney is a joy to watch - whether complaining about the lack of a storm during the 'blow, winds ...' bit of 'King Lear' or chatting to his faithful stage manager, Madge (Eileen Atkins, good as ever) about the old times. As Norman, his camp dresser, Tom Courtenay gives a fabulous performance, wiggling around at the beck and call of 'Lear', collecting a bottle to go at the pub, or bitchily disparaging the former Fool, Mr Davenport-Scott (often mentioned, but never seen!).<br /><br />In an engaging support cast, there's Edward Fox as Oxenby (a typical arrogant second lead), Zena Walker as her Ladyship, Lockwood West as the replacement Fool, and many others.<br /><br />This film has great energy, bringing with it some of the greasepaint of its stage origins, it is true, but being so well-acted you don't notice. Very well done indeed.\",\n",
       " 'tokens': tensor([   1,    4,   30,  279,   12, 1543,   69,   51,    5,  283,    1,    1,\n",
       "          962,    1, 2454, 2303,    1,    1, 1525,  176,   38,   34,  382,    1,\n",
       "         2347,    1,  166,  168,  988,  173, 2137,    1, 1620,   29,  584, 4674,\n",
       "          437, 2816, 2123, 3868,  116,  563,    1,    1, 2691,  769, 2761,    1,\n",
       "            1,    1,    6,   43,   62,  104, 3062, 1055,    1,  686,    1,  289,\n",
       "         2834,  128,    1,   83,    1,  516,    1,    1, 3989,   52,    1,    1,\n",
       "            1,  962, 2326,  312,    1,  910,  285,  911,   37,   33, 1668, 1281,\n",
       "           76, 2257, 1467,    1,  666, 3856,  220,  336,    1, 2721,    1,    1,\n",
       "         1054,    1, 2326,   32,  276,    3,   19, 1525, 2007,    1,  769,    1,\n",
       "          176,   13,  736, 1267,   13,  112,  717]),\n",
       " 'tokens_len': tensor(115)}"
      ]
     },
     "execution_count": 385,
     "metadata": {
      "tags": []
     },
     "output_type": "execute_result"
    }
   ],
   "source": [
    "test_dataset[-1]"
   ]
  },
  {
   "cell_type": "code",
   "execution_count": 386,
   "metadata": {
    "colab": {
     "base_uri": "https://localhost:8080/"
    },
    "id": "tXxM6-jAyYtY",
    "outputId": "003a0ddf-3200-4fac-8500-09af833ce44c"
   },
   "outputs": [
    {
     "data": {
      "text/plain": [
       "{'label': tensor(0),\n",
       " 'rating': tensor(1),\n",
       " 'text': 'So what is one to do if you are a porno star with fading looks? I know, become a pop star! This documentary - and I use the term loosely - follows the trials and tribulations of Colton as he tries to transform himself from a gay porn star into a singer of electronic (read: dance) music. I only wish Mr Ford\\'s voice was as muscular as his arms...sorry to say his vocals are painfully thin. There isn\\'t much interesting going on here but Mr Ford and friends are eye candy.<br /><br />See him record a song that sounds exactly like every other mindless dance tune. See him travel to New York to make \"connections.\" See him go back to L.A. with little success. See yourself look in the mirror and ask, \" Why am I wasting time watching this mess?\"',\n",
       " 'tokens': tensor([3617,  205,    1,  174,   42,  298, 1382,  205,  507,  237, 2460, 3385,\n",
       "          948,    1,    1,    1,  377,    1,  737, 1319,  205, 1643,    1,  239,\n",
       "          711,  100,  505,  312, 1471,  414,    1, 2409,  655,   49,    1, 2188,\n",
       "         1482,   14,  114,   70,  312, 1471,  232,  603, 1791,   11, 1724,  459,\n",
       "          778,  489,    5,   73, 2830,  711, 2860,   11, 1885,   71,  698,   22,\n",
       "            1,   11,   52,   53, 1135,   41,  856,   11,   68, 2848,  831, 2973,\n",
       "            7,   56,  803]),\n",
       " 'tokens_len': tensor(75)}"
      ]
     },
     "execution_count": 386,
     "metadata": {
      "tags": []
     },
     "output_type": "execute_result"
    }
   ],
   "source": [
    "test_dataset[0]"
   ]
  },
  {
   "cell_type": "code",
   "execution_count": 387,
   "metadata": {
    "colab": {
     "base_uri": "https://localhost:8080/"
    },
    "id": "_UlVb-pkb-1q",
    "outputId": "b86d5e88-4374-44a1-bc7b-fe77336b775a"
   },
   "outputs": [
    {
     "data": {
      "text/plain": [
       "25000"
      ]
     },
     "execution_count": 387,
     "metadata": {
      "tags": []
     },
     "output_type": "execute_result"
    }
   ],
   "source": [
    "len(test_dataset)"
   ]
  },
  {
   "cell_type": "markdown",
   "metadata": {
    "id": "eRXcD5xvyYtY"
   },
   "source": [
    "Теперь нам нужно создать `DataLoader` для наших данных. `DataLoader` умеет из коробки объединять список объектов из датасета в один батч, даже когда датасет возвращает словарь тензоров. Однако, это работает только в случае когда все эти тензоры имеют один и тот же размер во всех батчах. В нашем случае, это не так, так как разные тексты могут иметь разную длину.\n",
    "\n",
    "Чтобы обойти эту проблему у `DataLoader` есть параметр `collate_fn`, который позволяет задать функцию для объединения списка объектов в один батч."
   ]
  },
  {
   "cell_type": "markdown",
   "metadata": {
    "id": "itC5Az7XyYtY"
   },
   "source": [
    "Чтобы объединить несколько тензоров разной длины в один можно использовать функцию `torch.nn.utils.rnn.pad_sequence`\n",
    "\n",
    "Обратите внимание на её аргументы:\n",
    "1. `batch_first` определяет по какой оси \"складывать\" тензоры. Предпочтительнее использовать `batch_first=False` так как это может упростить выполнение задания в дальнейшем \n",
    "2. `padding_value` -- число, которое будет использоваться в качестве паддинга, чтобы сделать все тензоры одинаковой длины"
   ]
  },
  {
   "cell_type": "code",
   "execution_count": 388,
   "metadata": {
    "colab": {
     "base_uri": "https://localhost:8080/"
    },
    "id": "7qjLMbV-yYtY",
    "outputId": "8ccd2be2-76eb-4e18-e622-1996e1873a34"
   },
   "outputs": [
    {
     "data": {
      "text/plain": [
       "tensor([[ 1,  4,  6],\n",
       "        [ 2,  5,  7],\n",
       "        [ 3, -1,  8],\n",
       "        [-1, -1,  9]])"
      ]
     },
     "execution_count": 388,
     "metadata": {
      "tags": []
     },
     "output_type": "execute_result"
    }
   ],
   "source": [
    "torch.nn.utils.rnn.pad_sequence([\n",
    "    torch.tensor([1, 2, 3]),\n",
    "    torch.tensor([4, 5]),\n",
    "    torch.tensor([6, 7, 8, 9])\n",
    "], batch_first=False, padding_value=-1)"
   ]
  },
  {
   "cell_type": "code",
   "execution_count": 389,
   "metadata": {
    "id": "j97nKG9yyYtZ"
   },
   "outputs": [],
   "source": [
    "def collate_fn(batch, padding_value, batch_first=False):\n",
    "    \"\"\"\n",
    "    :param List[Dict] batch: List of objects from dataset\n",
    "    :param int padding_value: Value that will be used to pad tokens\n",
    "    :param bool batch_first: If True resulting tensor with tokens must have shape [B, T] otherwise [T, B]\n",
    "    :return dict: Dictionary with all data collated\n",
    "        {\n",
    "            'ratings' torch.tensor(dtype=torch.long): rating of the text for each object in batch\n",
    "            'labels' torch.tensor(dtype=torch.long): sentiment of the text for each object in batch\n",
    "            \n",
    "            'texts' List[str]: All texts in one list\n",
    "            'tokens' torch.tensor(dtype=torch.long): tensor of tokens ids padded with @padding_value\n",
    "            'tokens_lens' torch.tensor(dtype=torch.long): number of tokens for each object in batch\n",
    "        }\n",
    "    \"\"\"\n",
    "    # YOUR CODE HERE\n",
    "    tenz_ratings = []\n",
    "    tenz_labels = []\n",
    "    tenz_texts = []\n",
    "    tenz_tokens = []\n",
    "    tenz_tokens_lens = []\n",
    "    for batch_curr in batch:\n",
    "      tenz_ratings.append(batch_curr['rating'])\n",
    "      tenz_labels.append(batch_curr['label'])\n",
    "      tenz_texts.append(batch_curr['text'])\n",
    "      tenz_tokens.append(batch_curr['tokens'])\n",
    "      tenz_tokens_lens.append(batch_curr['tokens_len'])\n",
    "\n",
    "    tenz_tokens = torch.nn.utils.rnn.pad_sequence(tenz_tokens, batch_first = batch_first, padding_value = padding_value)\n",
    "    d = {'texts': tenz_texts, 'labels': torch.tensor(tenz_labels, dtype=torch.long), 'ratings' :torch.tensor(tenz_ratings, dtype=torch.long), 'tokens': torch.tensor(tenz_tokens, dtype=torch.long), 'tokens_lens': torch.tensor(tenz_tokens_lens,dtype=torch.long)}\n",
    "    return d"
   ]
  },
  {
   "cell_type": "markdown",
   "metadata": {
    "id": "O2UigwZ9yYtZ"
   },
   "source": [
    "Создайте даталоадеры с использованием `collate_fn`.\n",
    "\n",
    "**tips**:\n",
    "1. Передать в `collate_fn` правильное значение паддинга можно, например, с помощью `functools.partial`\n",
    "2. Если вы работаете в Google Colab, то, возможно, вам будет необходимо установить `num_workers=0` во избежание падения ноутбука."
   ]
  },
  {
   "cell_type": "code",
   "execution_count": 390,
   "metadata": {
    "id": "IbroNygcyYtZ"
   },
   "outputs": [],
   "source": [
    "# YOUR CODE HERE\n",
    "from functools import partial\n",
    "part = partial(collate_fn, padding_value = 0, batch_first = False)  \n",
    "test_dataloader = DataLoader(test_dataset, collate_fn=part, batch_size=batch_size, shuffle=True)\n",
    "train_dataloader = DataLoader(train_dataset, collate_fn=part, batch_size=batch_size, shuffle=True)"
   ]
  },
  {
   "cell_type": "code",
   "execution_count": 391,
   "metadata": {
    "id": "7wcyF3bQq_CA"
   },
   "outputs": [],
   "source": [
    " #padding_value = 0"
   ]
  },
  {
   "cell_type": "markdown",
   "metadata": {
    "id": "8xIC98YRyYtZ"
   },
   "source": [
    "Посмотрим на какой-нибудь батч:"
   ]
  },
  {
   "cell_type": "code",
   "execution_count": 392,
   "metadata": {
    "colab": {
     "base_uri": "https://localhost:8080/"
    },
    "id": "jIntKQ5Oo4Aq",
    "outputId": "936c324e-b8d2-41a3-f89a-f161e0ab75e8"
   },
   "outputs": [
    {
     "data": {
      "text/plain": [
       "(dict_keys(['texts', 'labels', 'ratings', 'tokens', 'tokens_lens']),\n",
       " tensor([1, 0, 0, 0, 1, 0, 0, 0, 1, 0, 1, 0, 0, 1, 1, 1, 1, 0, 0, 0, 0, 1, 1, 1,\n",
       "         0, 0, 0, 1, 0, 1, 1, 0, 1, 0, 0, 1, 1, 1, 1, 0, 1, 0, 1, 1, 1, 0, 1, 0,\n",
       "         0, 1, 1, 1, 0, 0, 1, 0, 0, 0, 1, 0, 1, 1, 0, 0]),\n",
       " tensor([6, 0, 1, 0, 6, 0, 0, 0, 9, 3, 9, 1, 1, 7, 9, 7, 8, 1, 2, 3, 3, 7, 8, 6,\n",
       "         0, 1, 1, 6, 0, 9, 7, 3, 7, 0, 3, 6, 7, 9, 8, 3, 8, 3, 7, 9, 8, 3, 7, 3,\n",
       "         2, 7, 8, 9, 0, 0, 7, 0, 2, 3, 8, 0, 6, 8, 1, 0]),\n",
       " tensor([[ 104,  418,   11,  ...,    1,  588, 4161],\n",
       "         [ 663,   58,    3,  ...,    1,  462, 1299],\n",
       "         [   2,  312, 4560,  ...,   85,  952,  724],\n",
       "         ...,\n",
       "         [   0,    0,    0,  ...,    0, 4267,    0],\n",
       "         [   0,    0,    0,  ...,    0,    1,    0],\n",
       "         [   0,    0,    0,  ...,    0,  766,    0]]),\n",
       " tensor([ 40,  59,  75, 157,  56,  83,  80,  61,  73, 101, 200,  66, 200, 144,\n",
       "         200,  38, 108,  53,  51,  58,  28,  65,  66,  56,  46,  84, 200,  57,\n",
       "         190, 200,  89,  94, 118,  48, 151, 200,  61, 173, 200, 125,  99,  35,\n",
       "         200,  86,  78,  42,  80, 107,  97,  86,  83, 105,  62,  34,  73,  64,\n",
       "          69, 154,  97,  84, 200,  68, 200,  91]))"
      ]
     },
     "execution_count": 392,
     "metadata": {
      "tags": []
     },
     "output_type": "execute_result"
    }
   ],
   "source": [
    "batch = next(iter(test_dataloader))\n",
    "batch.keys(), batch['labels'], batch['ratings'], batch['tokens'], batch['tokens_lens']"
   ]
  },
  {
   "cell_type": "code",
   "execution_count": 393,
   "metadata": {
    "colab": {
     "base_uri": "https://localhost:8080/"
    },
    "id": "S-LFaPfcjYd6",
    "outputId": "cf09aa9b-929b-48c6-9c61-9b2ecd68fc22"
   },
   "outputs": [
    {
     "data": {
      "text/plain": [
       "<torch.utils.data.dataloader.DataLoader at 0x7f7af91b1ed0>"
      ]
     },
     "execution_count": 393,
     "metadata": {
      "tags": []
     },
     "output_type": "execute_result"
    }
   ],
   "source": [
    "test_dataloader"
   ]
  },
  {
   "cell_type": "markdown",
   "metadata": {
    "id": "eI-nPG_byYta"
   },
   "source": [
    "# Часть 1. Классификация текстов. (6 баллов)"
   ]
  },
  {
   "cell_type": "markdown",
   "metadata": {
    "id": "FWHoQNnUyYta"
   },
   "source": [
    "## Сборка и обучение RNN в pytorch (2 балла)"
   ]
  },
  {
   "cell_type": "markdown",
   "metadata": {
    "id": "nNTOeL6kyYta"
   },
   "source": [
    "Создадим переменные для device-agnostic кода:"
   ]
  },
  {
   "cell_type": "code",
   "execution_count": 394,
   "metadata": {
    "colab": {
     "base_uri": "https://localhost:8080/"
    },
    "id": "ipJLnCQUyYta",
    "outputId": "a4833966-3a7f-4494-ac6e-351090640cf3"
   },
   "outputs": [
    {
     "name": "stdout",
     "output_type": "stream",
     "text": [
      "Using device: cuda:0, dtype: torch.float32\n"
     ]
    }
   ],
   "source": [
    "dtype, device, cuda_device_id = torch.float32, None, 0\n",
    "os.environ[\"CUDA_VISIBLE_DEVICES\"] = '{0}'.format(str(cuda_device_id) if cuda_device_id is not None else '')\n",
    "if cuda_device_id is not None and torch.cuda.is_available():\n",
    "    device = 'cuda:{0:d}'.format(0)\n",
    "else:\n",
    "    device = torch.device('cpu')\n",
    "print(f'Using device: {device}, dtype: {dtype}')"
   ]
  },
  {
   "cell_type": "markdown",
   "metadata": {
    "id": "Z9zSQIjkyYta"
   },
   "source": [
    "Наша нейросеть будет обрабатывать входную последовательность по словам (word level). Мы будем использовать простую и стандартную рекуррентную архитектуру для классификации:\n",
    "1. Слой представлений, превращающий id токена в вектор-ембеддинг этого слова\n",
    "2. Слой LSTM\n",
    "3. Полносвязный слой, предсказывающий выход по последнему скрытому состоянию\n",
    "\n",
    "Ниже дан код для сборки и обучения нашей нейросети."
   ]
  },
  {
   "cell_type": "markdown",
   "metadata": {
    "id": "GyV8k3eHyYta"
   },
   "source": [
    "Допишите класс-обёртку над LSTM для задачи классификации. \n",
    "**Не используйте циклы.**"
   ]
  },
  {
   "cell_type": "markdown",
   "metadata": {
    "id": "puGm1vwdyYtb"
   },
   "source": [
    "**Для каждого тензора в функции `forward` подпишите в комментарии его размеры**"
   ]
  },
  {
   "cell_type": "code",
   "execution_count": 395,
   "metadata": {
    "id": "1__TUDLtyYtb"
   },
   "outputs": [],
   "source": [
    "import torch\n",
    "import torch.nn as nn\n",
    "class RNNClassifier(torch.nn.Module):\n",
    "    def __init__(\n",
    "        self, embedding_dim, hidden_dim, output_size, vocab,\n",
    "        rec_layer=torch.nn.LSTM, dropout=None, **kwargs\n",
    "    ):\n",
    "        super().__init__()\n",
    "\n",
    "        self.dropout = dropout\n",
    "        \n",
    "        self.vocab = vocab\n",
    "        self.hidden_dim = hidden_dim\n",
    "        self.output_size = output_size\n",
    "        self.embedding_dim = embedding_dim\n",
    "        \n",
    "        # Create a simple lookup table that stores embeddings of a fixed dictionary and size.\n",
    "        #    Use torch.nn.Embedding. Do not forget specify padding_idx!\n",
    "        # YOUR CODE HERE\n",
    "\n",
    "        self.word_embeddings = torch.nn.Embedding(len(self.vocab), embedding_dim = self.embedding_dim, padding_idx=0)\n",
    "        \n",
    "        if dropout is not None:\n",
    "            self.rnn = rec_layer(self.embedding_dim, self.hidden_dim, dropout=self.dropout, **kwargs)\n",
    "        else:\n",
    "            self.rnn = rec_layer(self.embedding_dim, self.hidden_dim, **kwargs)\n",
    "        \n",
    "        # Create linear layer for classification\n",
    "        # YOUR CODE HERE\n",
    "\n",
    "\n",
    "        self.output = nn.Linear(self.hidden_dim, self.output_size)\n",
    "        #m = nn.LogSoftmax(dim = 1)\n",
    "        #self.output = m(self.output)\n",
    "    \n",
    "    def forward(self, tokens, tokens_lens):\n",
    "        \"\"\"\n",
    "        :param torch.tensor(dtype=torch.long) tokens: Batch of texts represented with tokens.\n",
    "        :param torch.tensor(dtype=torch.long) tokens_lens: Number of non-padding tokens for each object in batch.\n",
    "        :return torch.tensor(dtype=torch.long): Vector representation for each sequence in batch\n",
    "        \"\"\"\n",
    "        # Evaluate embeddings\n",
    "        # YOUR CODE HERE\n",
    "        embed = self.word_embeddings(tokens) # len(vocab.stoi), batch_size, embedding_dim\n",
    "        #print(\"embed\", embed.shape)\n",
    "\n",
    "        # Make forward pass through recurrent network\n",
    "        # YOUR CODE HERE\n",
    "        lstm_aft_emb = self.rnn(embed)[0]  # len(vocab.stoi), batch_size, hidden_dim\n",
    "        #print('lstm_aft_emb', lstm_aft_emb.shape)\n",
    "        exit_sell = lstm_aft_emb[tokens_lens - 1, torch.arange(lstm_aft_emb.shape[1])]\n",
    "        #print('exit_sell', exit_sell.shape)\n",
    "        # Pass output from rnn to linear layer \n",
    "        # Note: each object in batch has its own length \n",
    "        #     so we must take rnn hidden state after the last token for each text in batch\n",
    "        # YOUR CODE HERE\n",
    "        \n",
    "        fin_res = self.output(exit_sell) # batch_size, output_dim\n",
    "        #print('fin_res', fin_res.shape)\n",
    "        return fin_res\n",
    "\n"
   ]
  },
  {
   "cell_type": "markdown",
   "metadata": {
    "id": "F8iNzpE0yYtb"
   },
   "source": [
    "[Исходный код LSTM](http://pytorch.org/docs/master/_modules/torch/nn/modules/rnn.html#LSTM)"
   ]
  },
  {
   "cell_type": "markdown",
   "metadata": {
    "id": "OzLEkxUEyYtb"
   },
   "source": [
    "Допишите функции для обучения и оценки модели:\n",
    "\n",
    "**tip:**\n",
    "1. В функции `evaluate` при подсчёте метрик учитывайте, что батчи могут иметь разный размер. (в частности последний батч)"
   ]
  },
  {
   "cell_type": "code",
   "execution_count": 396,
   "metadata": {
    "id": "rbXhye6-yYtb"
   },
   "outputs": [],
   "source": [
    "def train_epoch(dataloader, model, loss_fn, optimizer, device):\n",
    "    model.train()\n",
    "    for idx, data in enumerate(dataloader):\n",
    "        # 1. Take data from batch\n",
    "        # 2. Perform forward pass\n",
    "        # 3. Evaluate loss\n",
    "        # 4. Make optimizer step\n",
    "        # YOUR CODE HERE\n",
    "        optimizer.zero_grad()\n",
    "\n",
    "        token = data['tokens'].to(device)\n",
    "        tokens_len = data['tokens_lens'].to(device)\n",
    "        lstm_model = model.forward(token, tokens_len).to('cpu')\n",
    "        loss = loss_fn(lstm_model, data['ratings'])\n",
    "\n",
    "        loss.backward()\n",
    "        optimizer.step()\n",
    "    \n",
    "def evaluate(dataloader, model, loss_fn, device):\n",
    "    model.eval()\n",
    "    \n",
    "    total_loss = 0.0\n",
    "    total_accuracy = 0.0\n",
    "    with torch.no_grad():\n",
    "        for idx, data in enumerate(dataloader):\n",
    "            # 1. Take data from batch\n",
    "            # 2. Perform forward pass\n",
    "            # 3. Evaluate loss\n",
    "            # 4. Evaluate accuracy\n",
    "            # YOUR CODE HERE\n",
    "            token = data['tokens'].to(device)\n",
    "            tokens_len = data['tokens_lens'].to(device)\n",
    "            lstm_model = model.forward(token, tokens_len).to('cpu')\n",
    "            loss = loss_fn(lstm_model, data['ratings'])\n",
    "\n",
    "            total_loss += loss\n",
    "            total_accuracy += (lstm_model.argmax(axis =1) ==  data['ratings']).to(float).sum()\n",
    "\n",
    "    return total_loss / len(dataloader.dataset), total_accuracy / len(dataloader.dataset)\n",
    "    \n",
    "\n",
    "def train(\n",
    "    train_loader, test_loader, model, loss_fn, optimizer, device, num_epochs\n",
    "):\n",
    "    test_losses = []\n",
    "    train_losses = []\n",
    "    test_accuracies = []\n",
    "    train_accuracies = []\n",
    "    for epoch in range(num_epochs):\n",
    "        train_epoch(train_loader, model, loss_fn, optimizer, device)\n",
    "        \n",
    "        train_loss, train_acc = evaluate(train_loader, model, loss_fn, device)\n",
    "        train_accuracies.append(train_acc)\n",
    "        train_losses.append(train_loss)\n",
    "        \n",
    "        test_loss, test_acc = evaluate(test_loader, model, loss_fn, device)\n",
    "        test_accuracies.append(test_acc)\n",
    "        test_losses.append(test_loss)\n",
    "        \n",
    "        print(\n",
    "            'Epoch: {0:d}/{1:d}. Loss (Train/Test): {2:.3f}/{3:.3f}. Accuracy (Train/Test): {4:.3f}/{5:.3f}'.format(\n",
    "                epoch + 1, num_epochs, train_losses[-1], test_losses[-1], train_accuracies[-1], test_accuracies[-1]\n",
    "            )\n",
    "        )\n",
    "    return train_losses, train_accuracies, test_losses, test_accuracies"
   ]
  },
  {
   "cell_type": "markdown",
   "metadata": {
    "id": "LxwySd23yYtc"
   },
   "source": [
    "Создадим модель:"
   ]
  },
  {
   "cell_type": "code",
   "execution_count": 46,
   "metadata": {
    "id": "fwIhostKyYtc"
   },
   "outputs": [],
   "source": [
    "model = RNNClassifier(\n",
    "    embedding_dim=embedding_dim, hidden_dim=hidden_dim, output_size=10, vocab=vocab,\n",
    "    rec_layer=torch.nn.LSTM, dropout=None\n",
    ").to(device)"
   ]
  },
  {
   "cell_type": "markdown",
   "metadata": {
    "id": "NDj0M1kMyYtc"
   },
   "source": [
    "Создадим класс для подсчёта функции потерь и оптимизатор:"
   ]
  },
  {
   "cell_type": "code",
   "execution_count": 47,
   "metadata": {
    "id": "-iwSbPiUyYtc"
   },
   "outputs": [],
   "source": [
    "loss_fn = torch.nn.CrossEntropyLoss(reduction='sum') # sum mean\n",
    "optimizer = torch.optim.Adam(model.parameters(), lr=learning_rate)"
   ]
  },
  {
   "cell_type": "markdown",
   "metadata": {
    "id": "A--uxgmKyYtc"
   },
   "source": [
    "Попробуем обучить модель:"
   ]
  },
  {
   "cell_type": "markdown",
   "metadata": {
    "id": "01UFQuuMyYtc"
   },
   "source": [
    "**Сохраните все метрики и время работы модели. Это потребуется в конце первой части для построения графиков обучения и сравнения времени работы для всех моделей в этой секции**"
   ]
  },
  {
   "cell_type": "code",
   "execution_count": 48,
   "metadata": {
    "colab": {
     "base_uri": "https://localhost:8080/"
    },
    "id": "7gI56v8b1UvH",
    "outputId": "cf7e87c2-6a3e-458a-9140-a6965960b704"
   },
   "outputs": [
    {
     "name": "stderr",
     "output_type": "stream",
     "text": [
      "/usr/local/lib/python3.7/dist-packages/ipykernel_launcher.py:30: UserWarning: To copy construct from a tensor, it is recommended to use sourceTensor.clone().detach() or sourceTensor.clone().detach().requires_grad_(True), rather than torch.tensor(sourceTensor).\n"
     ]
    },
    {
     "name": "stdout",
     "output_type": "stream",
     "text": [
      "Epoch: 1/15. Loss (Train/Test): 2.006/2.010. Accuracy (Train/Test): 0.251/0.251\n",
      "Epoch: 2/15. Loss (Train/Test): 1.756/1.778. Accuracy (Train/Test): 0.341/0.340\n",
      "Epoch: 3/15. Loss (Train/Test): 1.648/1.686. Accuracy (Train/Test): 0.370/0.357\n",
      "Epoch: 4/15. Loss (Train/Test): 1.585/1.654. Accuracy (Train/Test): 0.380/0.357\n",
      "Epoch: 5/15. Loss (Train/Test): 1.479/1.585. Accuracy (Train/Test): 0.418/0.391\n",
      "Epoch: 6/15. Loss (Train/Test): 1.425/1.579. Accuracy (Train/Test): 0.436/0.392\n",
      "Epoch: 7/15. Loss (Train/Test): 1.360/1.553. Accuracy (Train/Test): 0.465/0.400\n",
      "Epoch: 8/15. Loss (Train/Test): 1.327/1.567. Accuracy (Train/Test): 0.475/0.395\n",
      "Epoch: 9/15. Loss (Train/Test): 1.243/1.587. Accuracy (Train/Test): 0.509/0.397\n",
      "Epoch: 10/15. Loss (Train/Test): 1.197/1.602. Accuracy (Train/Test): 0.533/0.390\n",
      "Epoch: 11/15. Loss (Train/Test): 1.122/1.638. Accuracy (Train/Test): 0.562/0.392\n",
      "Epoch: 12/15. Loss (Train/Test): 1.053/1.688. Accuracy (Train/Test): 0.595/0.384\n",
      "Epoch: 13/15. Loss (Train/Test): 0.976/1.764. Accuracy (Train/Test): 0.643/0.365\n",
      "Epoch: 14/15. Loss (Train/Test): 0.893/1.844. Accuracy (Train/Test): 0.677/0.364\n",
      "Epoch: 15/15. Loss (Train/Test): 0.807/1.960. Accuracy (Train/Test): 0.705/0.361\n"
     ]
    }
   ],
   "source": [
    "import time \n",
    "start_time = time.time()\n",
    "train_losses_pure, train_accuracies_pure, test_losses_pure, test_accuracies_pure = train(\n",
    "    train_dataloader, test_dataloader, model, loss_fn, optimizer, device, num_epochs\n",
    ")\n",
    "t_first_model = time.time() - start_time"
   ]
  },
  {
   "cell_type": "code",
   "execution_count": 50,
   "metadata": {
    "id": "1RE5bkTCUCp5"
   },
   "outputs": [],
   "source": [
    "#train_losses_pure"
   ]
  },
  {
   "cell_type": "code",
   "execution_count": 158,
   "metadata": {
    "colab": {
     "base_uri": "https://localhost:8080/"
    },
    "id": "-TwjhfLJmor3",
    "outputId": "ffd950eb-c6fb-412f-95b8-0f9b086d97fa"
   },
   "outputs": [
    {
     "data": {
      "text/plain": [
       "341.31329011917114"
      ]
     },
     "execution_count": 158,
     "metadata": {
      "tags": []
     },
     "output_type": "execute_result"
    }
   ],
   "source": [
    "t_first_model"
   ]
  },
  {
   "cell_type": "markdown",
   "metadata": {
    "id": "uGfAHGHynxSu"
   },
   "source": [
    "**Ниже просто оставил ячейки, которые были в ноутбуке, для того чтобы можно было сравнить разумность результатов. Так буду делать для каждой**"
   ]
  },
  {
   "cell_type": "code",
   "execution_count": null,
   "metadata": {
    "id": "MrxB_yJXyYtc",
    "outputId": "a2d127b5-6ec6-496f-9a60-d17db7920b39"
   },
   "outputs": [
    {
     "name": "stdout",
     "output_type": "stream",
     "text": [
      "Epoch: 1/15. Loss (Train/Test): 1.951/1.961. Accuracy (Train/Test): 0.278/0.284\n",
      "Epoch: 2/15. Loss (Train/Test): 1.819/1.858. Accuracy (Train/Test): 0.330/0.330\n",
      "Epoch: 3/15. Loss (Train/Test): 1.632/1.683. Accuracy (Train/Test): 0.366/0.354\n",
      "Epoch: 4/15. Loss (Train/Test): 1.541/1.624. Accuracy (Train/Test): 0.392/0.371\n",
      "Epoch: 5/15. Loss (Train/Test): 1.478/1.596. Accuracy (Train/Test): 0.412/0.386\n",
      "Epoch: 6/15. Loss (Train/Test): 1.437/1.594. Accuracy (Train/Test): 0.435/0.380\n",
      "Epoch: 7/15. Loss (Train/Test): 1.352/1.566. Accuracy (Train/Test): 0.470/0.396\n",
      "Epoch: 8/15. Loss (Train/Test): 1.299/1.571. Accuracy (Train/Test): 0.488/0.396\n",
      "Epoch: 9/15. Loss (Train/Test): 1.239/1.596. Accuracy (Train/Test): 0.515/0.388\n",
      "Epoch: 10/15. Loss (Train/Test): 1.186/1.602. Accuracy (Train/Test): 0.541/0.384\n",
      "Epoch: 11/15. Loss (Train/Test): 1.107/1.671. Accuracy (Train/Test): 0.572/0.380\n",
      "Epoch: 12/15. Loss (Train/Test): 1.046/1.721. Accuracy (Train/Test): 0.596/0.387\n",
      "Epoch: 13/15. Loss (Train/Test): 0.960/1.808. Accuracy (Train/Test): 0.634/0.377\n",
      "Epoch: 14/15. Loss (Train/Test): 0.866/1.830. Accuracy (Train/Test): 0.687/0.376\n",
      "Epoch: 15/15. Loss (Train/Test): 0.777/1.939. Accuracy (Train/Test): 0.726/0.363\n"
     ]
    }
   ],
   "source": [
    "train_losses_pure, train_accuracies_pure, test_losses_pure, test_accuracies_pure = train(\n",
    "    train_dataloader, test_dataloader, model, loss_fn, optimizer, device, num_epochs\n",
    ")"
   ]
  },
  {
   "cell_type": "markdown",
   "metadata": {
    "id": "sfGmLsbiyYtd"
   },
   "source": [
    "Нерегуляризованные LSTM часто быстро переобучаются (и мы это видим по точности на контроле). Чтобы с этим бороться, часто используют L2-регуляризацию и дропаут.\n",
    "Однако способов накладывать дропаут на рекуррентный слой достаточно много, и далеко не все хорошо работают. По [ссылке](https://medium.com/@bingobee01/a-review-of-dropout-as-applied-to-rnns-72e79ecd5b7b) доступен хороший обзор дропаутов для RNN.\n",
    "\n",
    "Мы реализуем два варианта DropOut для RNN (и третий дополнительно). Заодно увидим, что для реализации различных усовершенствований рекуррентной архитектуры приходится \"вскрывать\" слой до различной \"глубины\"."
   ]
  },
  {
   "cell_type": "markdown",
   "metadata": {
    "id": "mBL9IntcyYtd"
   },
   "source": [
    "## Реализация дропаута по статье Гала и Гарамани. Variational Dropout. (1 балл)"
   ]
  },
  {
   "cell_type": "markdown",
   "metadata": {
    "id": "Es06qBQ6yYtd"
   },
   "source": [
    "Начнем с дропаута, описанного в [статье Гала и Гарамани](https://arxiv.org/abs/1512.05287).\n",
    "Для этого нам потребуется перейти от использования слоя `torch.nn.LSTM`, полностью скрывающего от нас рекуррентную логику, к использованию слоя `torch.nn.LSTMCell`, обрабатывающего лишь один временной шаг нашей последовательности (а всю логику вокруг придется реализовать самостоятельно). \n",
    "\n",
    "Допишите класс `RNNLayer`. При `dropout=0` ваш класс должен работать как обычный слой LSTM, а при `dropout > 0` накладывать бинарную маску на входной и скрытый вектор на каждом временном шаге, причем эта маска должна быть одинаковой во все моменты времени.\n",
    "\n",
    "Дропаут Гала и Гарамани в виде формул (m обозначает маску дропаута):\n",
    "\n",
    "$$\n",
    "h_{t-1} = h_{t-1}*m_h, \\, x_t = x_t * m_x\n",
    "$$\n",
    "\n",
    "Далее обычный шаг рекуррентной архитектуры, например, LSTM:\n",
    "\n",
    "$$\n",
    "i = \\sigma(h_{t-1}W^i + x_t U^i+b_i) \\quad\n",
    "o = \\sigma(h_{t-1}W^o + x_t U^o+b_o) \n",
    "$$\n",
    "$$\n",
    "f = \\sigma(h_{t-1}W^f + x_t U^f+b_f) \\quad \n",
    "g = tanh(h_{t-1} W^g + x_t U^g+b_g) \n",
    "$$\n",
    "$$\n",
    "c_t = f \\odot c_{t-1} +  i \\odot  g \\quad\n",
    "h_t =  o \\odot tanh(c_t) \\nonumber\n",
    "$$"
   ]
  },
  {
   "cell_type": "code",
   "execution_count": 397,
   "metadata": {
    "id": "ueV773oLyYtd"
   },
   "outputs": [],
   "source": [
    "def init_h0_c0(num_objects, hidden_size, some_existing_tensor):\n",
    "    \"\"\"\n",
    "    return h0 and c0, use some_existing_tensor.new_zeros() to gen them\n",
    "    h0 shape: num_objects x hidden_size\n",
    "    c0 shape: num_objects x hidden_size\n",
    "    \"\"\"\n",
    "    # YOUR CODE HERE\n",
    "    h0 = some_existing_tensor.new_zeros(size = (num_objects, hidden_size))\n",
    "    c0 = some_existing_tensor.new_zeros(size = (num_objects, hidden_size))\n",
    "    return (h0, c0)"
   ]
  },
  {
   "cell_type": "code",
   "execution_count": 398,
   "metadata": {
    "id": "zrt2AZm0yYte"
   },
   "outputs": [],
   "source": [
    "def gen_dropout_mask(input_size, hidden_size, is_training, p, some_existing_tensor):\n",
    "    \"\"\"\n",
    "    is_training: if True, gen masks from Bernoulli\n",
    "                 if False, gen masks consisting of (1-p)\n",
    "    \n",
    "    return dropout masks of size input_size, hidden_size if p is not None\n",
    "    return one masks if p is None\n",
    "    \"\"\"\n",
    "    # YOUR CODE HERE\n",
    "    if p is None:\n",
    "      inp = some_existing_tensor.new_ones(input_size)\n",
    "      hidd = some_existing_tensor.new_ones(hidden_size)        \n",
    "      return (inp, hidd)\n",
    "    else:\n",
    "      if is_training:\n",
    "        return (torch.bernoulli( some_existing_tensor.new_ones(input_size) * (1 - p) ),\n",
    "                torch.bernoulli( some_existing_tensor.new_ones(hidden_size)* (1 - p) ))\n",
    "      else:\n",
    "        inp = some_existing_tensor.new_ones(input_size) * (1 - p)\n",
    "        hidd = some_existing_tensor.new_ones(hidden_size)* (1 - p)\n",
    "        return (inp, hidd)"
   ]
  },
  {
   "cell_type": "markdown",
   "metadata": {
    "id": "kdAvnJIlyYte"
   },
   "source": [
    "Допишите класс-обёртку над LSTMCell для реализации Variational Dropout. **Используйте только цикл по времени**"
   ]
  },
  {
   "cell_type": "markdown",
   "metadata": {
    "id": "p45ET3v1yYte"
   },
   "source": [
    "**Для каждого тензора в функции `forward` подпишите в комментарии его размеры**"
   ]
  },
  {
   "cell_type": "code",
   "execution_count": 399,
   "metadata": {
    "id": "IIp3MAnKyYte"
   },
   "outputs": [],
   "source": [
    "class RNNLayer(torch.nn.Module):\n",
    "    def __init__(self, input_size, hidden_size, dropout=None):\n",
    "        super().__init__()\n",
    "\n",
    "        self.dropout = dropout\n",
    "        self.input_size = input_size\n",
    "        self.hidden_size = hidden_size\n",
    "        \n",
    "        self.rnn_cell = torch.nn.LSTMCell(self.input_size, self.hidden_size)\n",
    "        \n",
    "    def forward(self, x):\n",
    "        # Initialize h_0, c_0\n",
    "        # YOUR CODE HERE\n",
    "        h_0, c_0 = init_h0_c0(x.shape[1], self.hidden_size, x) #  (1, batch_size,hidden_size  1, batch_size, hidden_size)\n",
    "        # Gen masks for input and hidden state\n",
    "        # YOUR CODE HERE\n",
    "        # print('x', x.shape)\n",
    "        mask_i, mask_h = gen_dropout_mask(self.input_size, self.hidden_size, self.training, self.dropout, x) # input_size, hidden_size\n",
    "        \n",
    "        # Implement recurrent logic and return what nn.LSTM returns\n",
    "        # Do not forget to apply generated dropout masks!\n",
    "        # YOUR CODE HERE\n",
    "        output_cell = []\n",
    "        h = h_0\n",
    "        c = c_0\n",
    "        for i in range(x.shape[0]):\n",
    "          #print('x_i', x[i].shape)# 64 32\n",
    "          #print('mask_h', mask_h.shape) # 128\n",
    "          #print('mask_i', mask_i.shape) # 32\n",
    "          #print('h', h.shape) # 64 128\n",
    "          #print('c', c.shape) # 64 128\n",
    "          h, c = self.rnn_cell(x[i] * mask_i, (h * mask_h, c)) # batch_size, hidden_size  batch_size, hidden_size\n",
    "          output_cell += [h.clone()]\n",
    "\n",
    "        output_cell = torch.stack(output_cell) # seqlen, batch_size,  hidden_size\n",
    "        #print('output_cell', output_cell.shape)#[200, 64, 128]\n",
    "        return output_cell, (h, c)"
   ]
  },
  {
   "cell_type": "markdown",
   "metadata": {
    "id": "eNGg6qKcyYte"
   },
   "source": [
    "Протестируйте реализованную модель с выключенным дропаутом (слой `RNNLayer` надо передать в `RNNClassifier` в качестве `rec_layer`). Замерьте время обучения. Сильно ли оно увеличилось по сравнению с `torch.nn.LSTM` (LSTM \"из коробки\")?"
   ]
  },
  {
   "cell_type": "markdown",
   "metadata": {
    "id": "lLA8arRzyYte"
   },
   "source": [
    "**Сохраните все метрики и время работы модели. Это потребуется в конце первой части для построения графиков обучения и сравнения времени работы для всех моделей в этой секции**"
   ]
  },
  {
   "cell_type": "code",
   "execution_count": 59,
   "metadata": {
    "id": "TKf_UeYrHDgQ"
   },
   "outputs": [],
   "source": [
    "model_2 = RNNClassifier(\n",
    "    embedding_dim=embedding_dim, hidden_dim=hidden_dim, output_size=10, vocab=vocab,\n",
    "    rec_layer = RNNLayer, dropout=None\n",
    ").to(device)"
   ]
  },
  {
   "cell_type": "code",
   "execution_count": 60,
   "metadata": {
    "id": "ej7kWRcLBIBj"
   },
   "outputs": [],
   "source": [
    "loss_fn = torch.nn.CrossEntropyLoss(reduction='sum')#sum\n",
    "optimizer_2 = torch.optim.Adam(model_2.parameters(), lr=learning_rate)"
   ]
  },
  {
   "cell_type": "code",
   "execution_count": 61,
   "metadata": {
    "colab": {
     "base_uri": "https://localhost:8080/"
    },
    "id": "dzwTrpZwHVBh",
    "outputId": "15edb6a6-ad18-4f63-c2b9-30f6c127c8a5"
   },
   "outputs": [
    {
     "name": "stderr",
     "output_type": "stream",
     "text": [
      "/usr/local/lib/python3.7/dist-packages/ipykernel_launcher.py:30: UserWarning: To copy construct from a tensor, it is recommended to use sourceTensor.clone().detach() or sourceTensor.clone().detach().requires_grad_(True), rather than torch.tensor(sourceTensor).\n"
     ]
    },
    {
     "name": "stdout",
     "output_type": "stream",
     "text": [
      "Epoch: 1/15. Loss (Train/Test): 1.957/1.962. Accuracy (Train/Test): 0.271/0.271\n",
      "Epoch: 2/15. Loss (Train/Test): 1.778/1.795. Accuracy (Train/Test): 0.329/0.332\n",
      "Epoch: 3/15. Loss (Train/Test): 1.639/1.686. Accuracy (Train/Test): 0.367/0.351\n",
      "Epoch: 4/15. Loss (Train/Test): 1.584/1.658. Accuracy (Train/Test): 0.380/0.349\n",
      "Epoch: 5/15. Loss (Train/Test): 1.463/1.575. Accuracy (Train/Test): 0.425/0.387\n",
      "Epoch: 6/15. Loss (Train/Test): 1.422/1.576. Accuracy (Train/Test): 0.443/0.395\n",
      "Epoch: 7/15. Loss (Train/Test): 1.357/1.560. Accuracy (Train/Test): 0.466/0.400\n",
      "Epoch: 8/15. Loss (Train/Test): 1.305/1.571. Accuracy (Train/Test): 0.486/0.393\n",
      "Epoch: 9/15. Loss (Train/Test): 1.243/1.589. Accuracy (Train/Test): 0.510/0.397\n",
      "Epoch: 10/15. Loss (Train/Test): 1.191/1.595. Accuracy (Train/Test): 0.535/0.396\n",
      "Epoch: 11/15. Loss (Train/Test): 1.160/1.694. Accuracy (Train/Test): 0.544/0.381\n",
      "Epoch: 12/15. Loss (Train/Test): 1.056/1.718. Accuracy (Train/Test): 0.589/0.376\n",
      "Epoch: 13/15. Loss (Train/Test): 0.988/1.780. Accuracy (Train/Test): 0.626/0.378\n",
      "Epoch: 14/15. Loss (Train/Test): 0.889/1.858. Accuracy (Train/Test): 0.672/0.370\n",
      "Epoch: 15/15. Loss (Train/Test): 0.828/1.929. Accuracy (Train/Test): 0.695/0.372\n"
     ]
    }
   ],
   "source": [
    "import time \n",
    "start_time = time.time()\n",
    "train_losses_pure_2, train_accuracies_pure_2, test_losses_pure_2, test_accuracies_pure_2 = train(\n",
    "    train_dataloader, test_dataloader, model_2, loss_fn, optimizer_2, device, num_epochs\n",
    ")\n",
    "t_first_model_2 = time.time() - start_time"
   ]
  },
  {
   "cell_type": "code",
   "execution_count": 160,
   "metadata": {
    "colab": {
     "base_uri": "https://localhost:8080/"
    },
    "id": "Uz89ZwN5BakY",
    "outputId": "9dcb447a-5f87-48dd-d3c9-49bec1ad16bc"
   },
   "outputs": [
    {
     "data": {
      "text/plain": [
       "(16.0, 24.80755877494812)"
      ]
     },
     "execution_count": 160,
     "metadata": {
      "tags": []
     },
     "output_type": "execute_result"
    }
   ],
   "source": [
    "t_first_model_2 // 60, t_first_model_2 % 60"
   ]
  },
  {
   "cell_type": "code",
   "execution_count": null,
   "metadata": {
    "id": "WAaWvgj1yYtf",
    "outputId": "14371841-6e75-4865-faa5-1c279d1950a7"
   },
   "outputs": [
    {
     "name": "stdout",
     "output_type": "stream",
     "text": [
      "Epoch: 1/15. Loss (Train/Test): 2.009/2.015. Accuracy (Train/Test): 0.231/0.234\n",
      "Epoch: 2/15. Loss (Train/Test): 1.798/1.820. Accuracy (Train/Test): 0.332/0.328\n",
      "Epoch: 3/15. Loss (Train/Test): 1.629/1.682. Accuracy (Train/Test): 0.375/0.356\n",
      "Epoch: 4/15. Loss (Train/Test): 1.532/1.614. Accuracy (Train/Test): 0.403/0.377\n",
      "Epoch: 5/15. Loss (Train/Test): 1.459/1.574. Accuracy (Train/Test): 0.431/0.388\n",
      "Epoch: 6/15. Loss (Train/Test): 1.407/1.551. Accuracy (Train/Test): 0.446/0.395\n",
      "Epoch: 7/15. Loss (Train/Test): 1.358/1.545. Accuracy (Train/Test): 0.466/0.398\n",
      "Epoch: 8/15. Loss (Train/Test): 1.305/1.559. Accuracy (Train/Test): 0.487/0.401\n",
      "Epoch: 9/15. Loss (Train/Test): 1.231/1.590. Accuracy (Train/Test): 0.520/0.395\n",
      "Epoch: 10/15. Loss (Train/Test): 1.170/1.592. Accuracy (Train/Test): 0.551/0.393\n",
      "Epoch: 11/15. Loss (Train/Test): 1.108/1.641. Accuracy (Train/Test): 0.573/0.393\n",
      "Epoch: 12/15. Loss (Train/Test): 1.030/1.709. Accuracy (Train/Test): 0.614/0.376\n",
      "Epoch: 13/15. Loss (Train/Test): 0.942/1.757. Accuracy (Train/Test): 0.656/0.376\n",
      "Epoch: 14/15. Loss (Train/Test): 0.851/1.866. Accuracy (Train/Test): 0.693/0.369\n",
      "Epoch: 15/15. Loss (Train/Test): 0.803/2.034. Accuracy (Train/Test): 0.698/0.372\n"
     ]
    }
   ],
   "source": [
    "# YOUR CODE HERE"
   ]
  },
  {
   "cell_type": "code",
   "execution_count": null,
   "metadata": {
    "id": "kaLbxiDqBYP-"
   },
   "outputs": [],
   "source": []
  },
  {
   "cell_type": "markdown",
   "metadata": {
    "id": "8P7sqJ0RyYtf"
   },
   "source": [
    "Протестируйте полученную модель с `dropout=0.25`, вновь замерив время обучения. Получилось ли побороть переобучение? Сильно ли дольше обучается данная модель по сравнению с предыдущей? (доп. время тратится на генерацию масок дропаута)."
   ]
  },
  {
   "cell_type": "code",
   "execution_count": 63,
   "metadata": {
    "id": "GFSAQ2x5C53_"
   },
   "outputs": [],
   "source": [
    "model_3 = RNNClassifier(\n",
    "    embedding_dim=embedding_dim, hidden_dim=hidden_dim, output_size=10, vocab=vocab,\n",
    "    rec_layer = RNNLayer, dropout= 0.25\n",
    ").to(device)"
   ]
  },
  {
   "cell_type": "code",
   "execution_count": 64,
   "metadata": {
    "id": "nK3oEshFEDRw"
   },
   "outputs": [],
   "source": [
    "loss_fn = torch.nn.CrossEntropyLoss(reduction='sum')#поставить sum\n",
    "optimizer_3 = torch.optim.Adam(model_3.parameters(), lr=learning_rate)"
   ]
  },
  {
   "cell_type": "code",
   "execution_count": 65,
   "metadata": {
    "colab": {
     "base_uri": "https://localhost:8080/"
    },
    "id": "gJQyAV3NEIdd",
    "outputId": "f7934be6-6099-4faa-dfed-8841eb64d5ff"
   },
   "outputs": [
    {
     "name": "stderr",
     "output_type": "stream",
     "text": [
      "/usr/local/lib/python3.7/dist-packages/ipykernel_launcher.py:30: UserWarning: To copy construct from a tensor, it is recommended to use sourceTensor.clone().detach() or sourceTensor.clone().detach().requires_grad_(True), rather than torch.tensor(sourceTensor).\n"
     ]
    },
    {
     "name": "stdout",
     "output_type": "stream",
     "text": [
      "Epoch: 1/15. Loss (Train/Test): 2.001/2.006. Accuracy (Train/Test): 0.244/0.241\n",
      "Epoch: 2/15. Loss (Train/Test): 1.814/1.827. Accuracy (Train/Test): 0.326/0.328\n",
      "Epoch: 3/15. Loss (Train/Test): 1.685/1.709. Accuracy (Train/Test): 0.351/0.355\n",
      "Epoch: 4/15. Loss (Train/Test): 1.624/1.665. Accuracy (Train/Test): 0.371/0.361\n",
      "Epoch: 5/15. Loss (Train/Test): 1.587/1.644. Accuracy (Train/Test): 0.379/0.369\n",
      "Epoch: 6/15. Loss (Train/Test): 1.525/1.597. Accuracy (Train/Test): 0.407/0.381\n",
      "Epoch: 7/15. Loss (Train/Test): 1.479/1.572. Accuracy (Train/Test): 0.419/0.390\n",
      "Epoch: 8/15. Loss (Train/Test): 1.451/1.558. Accuracy (Train/Test): 0.428/0.389\n",
      "Epoch: 9/15. Loss (Train/Test): 1.414/1.536. Accuracy (Train/Test): 0.441/0.404\n",
      "Epoch: 10/15. Loss (Train/Test): 1.395/1.542. Accuracy (Train/Test): 0.451/0.398\n",
      "Epoch: 11/15. Loss (Train/Test): 1.368/1.529. Accuracy (Train/Test): 0.464/0.400\n",
      "Epoch: 12/15. Loss (Train/Test): 1.344/1.523. Accuracy (Train/Test): 0.468/0.407\n",
      "Epoch: 13/15. Loss (Train/Test): 1.328/1.524. Accuracy (Train/Test): 0.476/0.407\n",
      "Epoch: 14/15. Loss (Train/Test): 1.302/1.523. Accuracy (Train/Test): 0.490/0.405\n",
      "Epoch: 15/15. Loss (Train/Test): 1.287/1.529. Accuracy (Train/Test): 0.495/0.404\n"
     ]
    }
   ],
   "source": [
    "import time \n",
    "start_time = time.time()\n",
    "train_losses_pure_3, train_accuracies_pure_3, test_losses_pure_3, test_accuracies_pure_3 = train(\n",
    "    train_dataloader, test_dataloader, model_3, loss_fn, optimizer_3, device, num_epochs\n",
    ")\n",
    "t_first_model_3 = time.time() - start_time"
   ]
  },
  {
   "cell_type": "code",
   "execution_count": 66,
   "metadata": {
    "colab": {
     "base_uri": "https://localhost:8080/"
    },
    "id": "R02zjmuUHES8",
    "outputId": "7c1e5de6-80e9-4372-a84c-7adf43e248e6"
   },
   "outputs": [
    {
     "data": {
      "text/plain": [
       "16.69864910443624"
      ]
     },
     "execution_count": 66,
     "metadata": {
      "tags": []
     },
     "output_type": "execute_result"
    }
   ],
   "source": [
    "t_first_model_3 / 60\n"
   ]
  },
  {
   "cell_type": "code",
   "execution_count": null,
   "metadata": {
    "id": "RHFvZUrFyYtf",
    "outputId": "ab0ddca0-50b9-484e-d5f4-2b48bce25303"
   },
   "outputs": [
    {
     "name": "stdout",
     "output_type": "stream",
     "text": [
      "Epoch: 1/15. Loss (Train/Test): 1.998/2.000. Accuracy (Train/Test): 0.242/0.245\n",
      "Epoch: 2/15. Loss (Train/Test): 1.825/1.840. Accuracy (Train/Test): 0.320/0.321\n",
      "Epoch: 3/15. Loss (Train/Test): 1.737/1.754. Accuracy (Train/Test): 0.343/0.347\n",
      "Epoch: 4/15. Loss (Train/Test): 1.623/1.655. Accuracy (Train/Test): 0.381/0.372\n",
      "Epoch: 5/15. Loss (Train/Test): 1.545/1.597. Accuracy (Train/Test): 0.400/0.384\n",
      "Epoch: 6/15. Loss (Train/Test): 1.491/1.556. Accuracy (Train/Test): 0.419/0.397\n",
      "Epoch: 7/15. Loss (Train/Test): 1.461/1.535. Accuracy (Train/Test): 0.424/0.403\n",
      "Epoch: 8/15. Loss (Train/Test): 1.425/1.530. Accuracy (Train/Test): 0.440/0.402\n",
      "Epoch: 9/15. Loss (Train/Test): 1.404/1.516. Accuracy (Train/Test): 0.441/0.409\n",
      "Epoch: 10/15. Loss (Train/Test): 1.373/1.505. Accuracy (Train/Test): 0.461/0.410\n",
      "Epoch: 11/15. Loss (Train/Test): 1.348/1.504. Accuracy (Train/Test): 0.470/0.410\n",
      "Epoch: 12/15. Loss (Train/Test): 1.332/1.497. Accuracy (Train/Test): 0.475/0.412\n",
      "Epoch: 13/15. Loss (Train/Test): 1.327/1.513. Accuracy (Train/Test): 0.472/0.412\n",
      "Epoch: 14/15. Loss (Train/Test): 1.284/1.495. Accuracy (Train/Test): 0.494/0.417\n",
      "Epoch: 15/15. Loss (Train/Test): 1.270/1.494. Accuracy (Train/Test): 0.500/0.414\n"
     ]
    }
   ],
   "source": [
    "# YOUR CODE HERE"
   ]
  },
  {
   "cell_type": "markdown",
   "metadata": {
    "id": "2jB1zKefyYtf"
   },
   "source": [
    "## Реализация дропаута по статье Гала и Гарамани. Дубль 2 (1 балл)"
   ]
  },
  {
   "cell_type": "markdown",
   "metadata": {
    "id": "uyjTjk7eyYtf"
   },
   "source": [
    "<начало взлома pytorch>"
   ]
  },
  {
   "cell_type": "markdown",
   "metadata": {
    "id": "GWPCmP4dyYtg"
   },
   "source": [
    "При разворачивании цикла по времени средствами python обучение рекуррентной нейросети сильно замедляется. Однако для реализации дропаута Гала и Гарамани необязательно явно задавать в коде домножение нейронов на маски. Можно схитрить и обойтись использованием слоя `torch.nn.LSTM`: перед вызовом `forward` слоя `torch.nn.LSTM` подменять его веса на веса, домноженные по строкам на маски. А обучаемые веса хранить отдельно. Именно так этот дропаут реализован в библиотеке `fastai`, код из которой использован в ячейке ниже.\n",
    "\n",
    "Такой слой реализуется в виде обертки над `torch.nn.LSTM`. Допишите класс:"
   ]
  },
  {
   "cell_type": "code",
   "execution_count": 400,
   "metadata": {
    "id": "VhEAvIocyYtg"
   },
   "outputs": [],
   "source": [
    "import warnings"
   ]
  },
  {
   "cell_type": "code",
   "execution_count": 68,
   "metadata": {
    "id": "pWtSkIGwyYtg"
   },
   "outputs": [],
   "source": [
    "class FastRNNLayer(torch.nn.Module):\n",
    "    def __init__(self, input_size, hidden_size, dropout=0.0, layers_dropout=0.0, num_layers=1):\n",
    "        super().__init__()\n",
    "\n",
    "        self.input_size = input_size\n",
    "        self.hidden_size = hidden_size\n",
    "\n",
    "        self.num_layers = num_layers\n",
    "\n",
    "        self.dropout = dropout\n",
    "        self.layers_dropout = layers_dropout\n",
    "        self.module = torch.nn.LSTM(input_size, hidden_size, dropout=layers_dropout, num_layers=num_layers)\n",
    "\n",
    "        self.layer_names = []\n",
    "        for layer_n in range(self.num_layers):\n",
    "            self.layer_names += [f'weight_hh_l{layer_n}', f'weight_ih_l{layer_n}']\n",
    "\n",
    "        for layer in self.layer_names:\n",
    "            # Get torch.nn.Parameter with weights from torch.nn.LSTM instance\n",
    "            w = getattr(self.module, layer)\n",
    "\n",
    "            # Remove it from model\n",
    "            delattr(self.module, layer)\n",
    "\n",
    "            # And create new torch.nn.Parameter with the same data but different name\n",
    "            self.register_parameter(f'{layer}_raw', torch.nn.Parameter(w.data))\n",
    "\n",
    "            # Note. In torch.nn.LSTM.forward parameter with name `layer` will be used\n",
    "            #     so we must initialize it using `layer_raw` before forward pass\n",
    "\n",
    "    def _setweights(self, x):\n",
    "        \"\"\"\n",
    "            Apply dropout to the raw weights.\n",
    "        \"\"\"\n",
    "        for layer in self.layer_names:\n",
    "            # Get torch.nn.Parameter with weights\n",
    "            raw_w = getattr(self, f'{layer}_raw')\n",
    "\n",
    "            # Generate mask (use function gen_dropout_mask)\n",
    "            # YOUR CODE HERE\n",
    "            inp_m, hidd_m = gen_dropout_mask(raw_w.shape, self.hidden_size, self.training, self.dropout, x)\n",
    "\n",
    "            # Apply dropout mask\n",
    "            # YOUR CODE HERE\n",
    "            \n",
    "            masked_raw_w = raw_w * inp_m\n",
    "            \n",
    "\n",
    "            # Set modified weights in its place\n",
    "            setattr(self.module, layer, masked_raw_w)\n",
    "\n",
    "    def forward(self, x, h_c=None):\n",
    "        \"\"\"\n",
    "        :param x: tensor containing the features of the input sequence.\n",
    "        :param Optional[Tuple[torch.tensor, torch.tensor]] h_c: initial hidden state and initial cell state\n",
    "        \"\"\"\n",
    "        with warnings.catch_warnings():\n",
    "            # To avoid the warning that comes because the weights aren't flattened.\n",
    "            warnings.simplefilter(\"ignore\")\n",
    "\n",
    "            # Set new weights of self.module and call its forward\n",
    "            # Pass h_c with x if it is not None. Otherwise pass only x\n",
    "            # YOUR CODE HERE\n",
    "            self._setweights(x)\n",
    "\n",
    "            if h_c is None:\n",
    "              res, (h, c) = self.module(x)\n",
    "            else:\n",
    "              res, (h, c) = self.module(x, *h_c)\n",
    "            \n",
    "            return  res, (h, c)\n",
    "            \n",
    "    def reset(self):\n",
    "        if hasattr(self.module, 'reset'):\n",
    "            self.module.reset()"
   ]
  },
  {
   "cell_type": "markdown",
   "metadata": {
    "id": "VAwa78fzyYtg"
   },
   "source": [
    "Протестируйте реализованную модель с выключенным дропаутом (слой `FastRNNLayer` надо передать в `RNNClassifier` в качестве `rec_layer`). Замерьте время обучения. Убедитесь, что модель выдаёт такое же качество, как и оригинальная реализация LSTM."
   ]
  },
  {
   "cell_type": "markdown",
   "metadata": {
    "id": "LHj1xAn3yYtg"
   },
   "source": [
    "**Сохраните все метрики и время работы модели. Это потребуется в конце первой части для построения графиков обучения и сравнения времени работы для всех моделей в этой секции**"
   ]
  },
  {
   "cell_type": "code",
   "execution_count": 69,
   "metadata": {
    "id": "8FpoGAM7PMwG"
   },
   "outputs": [],
   "source": [
    "model_4 = RNNClassifier(\n",
    "    embedding_dim=embedding_dim, hidden_dim=hidden_dim, output_size=10, vocab=vocab,\n",
    "    rec_layer = FastRNNLayer , dropout=None\n",
    ").to(device)"
   ]
  },
  {
   "cell_type": "code",
   "execution_count": 70,
   "metadata": {
    "id": "VMEh6rTHPTOC"
   },
   "outputs": [],
   "source": [
    "loss_fn = torch.nn.CrossEntropyLoss(reduction='sum')#поставить summ\n",
    "optimizer_4 = torch.optim.Adam(model_4.parameters(), lr=learning_rate)"
   ]
  },
  {
   "cell_type": "code",
   "execution_count": 71,
   "metadata": {
    "colab": {
     "base_uri": "https://localhost:8080/"
    },
    "id": "SAPBavr3Phrc",
    "outputId": "2eb93099-5433-49a8-950c-43c8a8973afc"
   },
   "outputs": [
    {
     "name": "stdout",
     "output_type": "stream",
     "text": [
      "Epoch: 1/15. Loss (Train/Test): 1.905/1.915. Accuracy (Train/Test): 0.294/0.294\n",
      "Epoch: 2/15. Loss (Train/Test): 1.694/1.731. Accuracy (Train/Test): 0.352/0.347\n",
      "Epoch: 3/15. Loss (Train/Test): 1.600/1.671. Accuracy (Train/Test): 0.379/0.354\n",
      "Epoch: 4/15. Loss (Train/Test): 1.531/1.632. Accuracy (Train/Test): 0.397/0.355\n",
      "Epoch: 5/15. Loss (Train/Test): 1.431/1.586. Accuracy (Train/Test): 0.434/0.389\n",
      "Epoch: 6/15. Loss (Train/Test): 1.381/1.585. Accuracy (Train/Test): 0.452/0.389\n",
      "Epoch: 7/15. Loss (Train/Test): 1.315/1.583. Accuracy (Train/Test): 0.479/0.387\n",
      "Epoch: 8/15. Loss (Train/Test): 1.260/1.589. Accuracy (Train/Test): 0.507/0.383\n",
      "Epoch: 9/15. Loss (Train/Test): 1.215/1.635. Accuracy (Train/Test): 0.523/0.382\n",
      "Epoch: 10/15. Loss (Train/Test): 1.137/1.641. Accuracy (Train/Test): 0.555/0.390\n",
      "Epoch: 11/15. Loss (Train/Test): 1.073/1.709. Accuracy (Train/Test): 0.588/0.381\n",
      "Epoch: 12/15. Loss (Train/Test): 0.987/1.754. Accuracy (Train/Test): 0.627/0.377\n",
      "Epoch: 13/15. Loss (Train/Test): 0.902/1.840. Accuracy (Train/Test): 0.668/0.374\n",
      "Epoch: 14/15. Loss (Train/Test): 0.810/1.921. Accuracy (Train/Test): 0.708/0.370\n",
      "Epoch: 15/15. Loss (Train/Test): 0.730/2.063. Accuracy (Train/Test): 0.742/0.369\n"
     ]
    }
   ],
   "source": [
    "warnings.filterwarnings('ignore')\n",
    "import time \n",
    "start_time = time.time()\n",
    "train_losses_pure_4, train_accuracies_pure_4, test_losses_pure_4, test_accuracies_pure_4 = train(\n",
    "    train_dataloader, test_dataloader, model_4, loss_fn, optimizer_4, device, num_epochs\n",
    ")\n",
    "t_first_model_4 = time.time() - start_time"
   ]
  },
  {
   "cell_type": "code",
   "execution_count": 161,
   "metadata": {
    "colab": {
     "base_uri": "https://localhost:8080/"
    },
    "id": "B9c9WTBHR8Z2",
    "outputId": "c5fc478a-8669-4e1c-d64f-1e84c129eff0"
   },
   "outputs": [
    {
     "data": {
      "text/plain": [
       "(5.0, 49.52453303337097)"
      ]
     },
     "execution_count": 161,
     "metadata": {
      "tags": []
     },
     "output_type": "execute_result"
    }
   ],
   "source": [
    "t_first_model_4 // 60, t_first_model_4 % 60"
   ]
  },
  {
   "cell_type": "code",
   "execution_count": null,
   "metadata": {
    "id": "HdBFuOnAyYth",
    "outputId": "3c7b607c-e1bb-4458-b864-f4e8eaa54f41"
   },
   "outputs": [
    {
     "name": "stdout",
     "output_type": "stream",
     "text": [
      "Epoch: 1/15. Loss (Train/Test): 2.028/2.031. Accuracy (Train/Test): 0.217/0.214\n",
      "Epoch: 2/15. Loss (Train/Test): 1.850/1.872. Accuracy (Train/Test): 0.312/0.314\n",
      "Epoch: 3/15. Loss (Train/Test): 1.621/1.680. Accuracy (Train/Test): 0.370/0.351\n",
      "Epoch: 4/15. Loss (Train/Test): 1.534/1.614. Accuracy (Train/Test): 0.395/0.376\n",
      "Epoch: 5/15. Loss (Train/Test): 1.459/1.581. Accuracy (Train/Test): 0.423/0.386\n",
      "Epoch: 6/15. Loss (Train/Test): 1.399/1.566. Accuracy (Train/Test): 0.443/0.393\n",
      "Epoch: 7/15. Loss (Train/Test): 1.345/1.558. Accuracy (Train/Test): 0.469/0.393\n",
      "Epoch: 8/15. Loss (Train/Test): 1.301/1.576. Accuracy (Train/Test): 0.483/0.397\n",
      "Epoch: 9/15. Loss (Train/Test): 1.251/1.589. Accuracy (Train/Test): 0.508/0.388\n",
      "Epoch: 10/15. Loss (Train/Test): 1.187/1.627. Accuracy (Train/Test): 0.532/0.395\n",
      "Epoch: 11/15. Loss (Train/Test): 1.094/1.643. Accuracy (Train/Test): 0.584/0.382\n",
      "Epoch: 12/15. Loss (Train/Test): 1.036/1.736. Accuracy (Train/Test): 0.612/0.368\n",
      "Epoch: 13/15. Loss (Train/Test): 0.952/1.784. Accuracy (Train/Test): 0.642/0.379\n",
      "Epoch: 14/15. Loss (Train/Test): 0.867/1.849. Accuracy (Train/Test): 0.689/0.367\n",
      "Epoch: 15/15. Loss (Train/Test): 0.765/1.968. Accuracy (Train/Test): 0.731/0.367\n"
     ]
    }
   ],
   "source": [
    "# YOUR CODE HERE"
   ]
  },
  {
   "cell_type": "markdown",
   "metadata": {
    "id": "U3NQNv2jyYth"
   },
   "source": [
    "Протестируйте полученный слой (вновь подставив его в `RNNClassifier` в качестве `rec_layer`) с `dropout=0.25`. Сравните время обучения с предыдущими моделями. Проследите, чтобы качество получилось такое же, как при первой реализации этого дропаута."
   ]
  },
  {
   "cell_type": "code",
   "execution_count": 73,
   "metadata": {
    "id": "XD9P-EqDRr10"
   },
   "outputs": [],
   "source": [
    "model_5 = RNNClassifier(\n",
    "    embedding_dim=embedding_dim, hidden_dim=hidden_dim, output_size=10, vocab=vocab,\n",
    "    rec_layer = FastRNNLayer , dropout=0.25\n",
    ").to(device)"
   ]
  },
  {
   "cell_type": "code",
   "execution_count": 74,
   "metadata": {
    "id": "K75vOiUeRwUL"
   },
   "outputs": [],
   "source": [
    "loss_fn = torch.nn.CrossEntropyLoss(reduction='sum')#поставить summ\n",
    "optimizer_5 = torch.optim.Adam(model_5.parameters(), lr=learning_rate)"
   ]
  },
  {
   "cell_type": "code",
   "execution_count": 75,
   "metadata": {
    "colab": {
     "base_uri": "https://localhost:8080/"
    },
    "id": "SUoGmwuWR0sD",
    "outputId": "b0ebb7c5-ef49-48da-a693-09db9bf98ebf"
   },
   "outputs": [
    {
     "name": "stdout",
     "output_type": "stream",
     "text": [
      "Epoch: 1/15. Loss (Train/Test): 1.956/1.961. Accuracy (Train/Test): 0.268/0.276\n",
      "Epoch: 2/15. Loss (Train/Test): 1.765/1.794. Accuracy (Train/Test): 0.337/0.336\n",
      "Epoch: 3/15. Loss (Train/Test): 1.684/1.725. Accuracy (Train/Test): 0.354/0.354\n",
      "Epoch: 4/15. Loss (Train/Test): 1.644/1.697. Accuracy (Train/Test): 0.364/0.362\n",
      "Epoch: 5/15. Loss (Train/Test): 1.626/1.702. Accuracy (Train/Test): 0.369/0.358\n",
      "Epoch: 6/15. Loss (Train/Test): 1.537/1.624. Accuracy (Train/Test): 0.394/0.368\n",
      "Epoch: 7/15. Loss (Train/Test): 1.514/1.626. Accuracy (Train/Test): 0.401/0.376\n",
      "Epoch: 8/15. Loss (Train/Test): 1.459/1.579. Accuracy (Train/Test): 0.421/0.387\n",
      "Epoch: 9/15. Loss (Train/Test): 1.447/1.607. Accuracy (Train/Test): 0.429/0.389\n",
      "Epoch: 10/15. Loss (Train/Test): 1.409/1.576. Accuracy (Train/Test): 0.442/0.396\n",
      "Epoch: 11/15. Loss (Train/Test): 1.375/1.565. Accuracy (Train/Test): 0.458/0.390\n",
      "Epoch: 12/15. Loss (Train/Test): 1.356/1.567. Accuracy (Train/Test): 0.463/0.399\n",
      "Epoch: 13/15. Loss (Train/Test): 1.334/1.567. Accuracy (Train/Test): 0.472/0.405\n",
      "Epoch: 14/15. Loss (Train/Test): 1.331/1.630. Accuracy (Train/Test): 0.475/0.397\n",
      "Epoch: 15/15. Loss (Train/Test): 1.298/1.589. Accuracy (Train/Test): 0.484/0.398\n"
     ]
    }
   ],
   "source": [
    "warnings.filterwarnings('ignore')\n",
    "import time \n",
    "start_time = time.time()\n",
    "train_losses_pure_5, train_accuracies_pure_5, test_losses_pure_5, test_accuracies_pure_5 = train(\n",
    "    train_dataloader, test_dataloader, model_5, loss_fn, optimizer_5, device, num_epochs\n",
    ")\n",
    "t_first_model_5 = time.time() - start_time"
   ]
  },
  {
   "cell_type": "code",
   "execution_count": 76,
   "metadata": {
    "colab": {
     "base_uri": "https://localhost:8080/"
    },
    "id": "oB3U6oMLSKp-",
    "outputId": "cce997f5-dea8-4e7b-cdb9-3cd24608336b"
   },
   "outputs": [
    {
     "data": {
      "text/plain": [
       "5.826614224910736"
      ]
     },
     "execution_count": 76,
     "metadata": {
      "tags": []
     },
     "output_type": "execute_result"
    }
   ],
   "source": [
    "t_first_model_5 / 60"
   ]
  },
  {
   "cell_type": "code",
   "execution_count": null,
   "metadata": {
    "id": "A1WEj13lyYth",
    "outputId": "08efe52f-7754-47c7-fb04-9b767686ddb4"
   },
   "outputs": [
    {
     "name": "stdout",
     "output_type": "stream",
     "text": [
      "Epoch: 1/15. Loss (Train/Test): 1.993/1.998. Accuracy (Train/Test): 0.248/0.246\n",
      "Epoch: 2/15. Loss (Train/Test): 1.794/1.812. Accuracy (Train/Test): 0.333/0.331\n",
      "Epoch: 3/15. Loss (Train/Test): 1.705/1.731. Accuracy (Train/Test): 0.351/0.348\n",
      "Epoch: 4/15. Loss (Train/Test): 1.655/1.697. Accuracy (Train/Test): 0.364/0.353\n",
      "Epoch: 5/15. Loss (Train/Test): 1.587/1.635. Accuracy (Train/Test): 0.384/0.369\n",
      "Epoch: 6/15. Loss (Train/Test): 1.548/1.606. Accuracy (Train/Test): 0.394/0.381\n",
      "Epoch: 7/15. Loss (Train/Test): 1.507/1.578. Accuracy (Train/Test): 0.411/0.387\n",
      "Epoch: 8/15. Loss (Train/Test): 1.481/1.565. Accuracy (Train/Test): 0.420/0.394\n",
      "Epoch: 9/15. Loss (Train/Test): 1.454/1.560. Accuracy (Train/Test): 0.425/0.385\n",
      "Epoch: 10/15. Loss (Train/Test): 1.417/1.533. Accuracy (Train/Test): 0.440/0.399\n",
      "Epoch: 11/15. Loss (Train/Test): 1.384/1.519. Accuracy (Train/Test): 0.455/0.408\n",
      "Epoch: 12/15. Loss (Train/Test): 1.366/1.521. Accuracy (Train/Test): 0.465/0.406\n",
      "Epoch: 13/15. Loss (Train/Test): 1.350/1.517. Accuracy (Train/Test): 0.466/0.412\n",
      "Epoch: 14/15. Loss (Train/Test): 1.316/1.504. Accuracy (Train/Test): 0.484/0.411\n",
      "Epoch: 15/15. Loss (Train/Test): 1.292/1.504. Accuracy (Train/Test): 0.494/0.412\n"
     ]
    }
   ],
   "source": [
    "# YOUR CODE HERE"
   ]
  },
  {
   "cell_type": "markdown",
   "metadata": {
    "id": "f_2i_8eWyYth"
   },
   "source": [
    "</конец взлома pytorch>"
   ]
  },
  {
   "cell_type": "markdown",
   "metadata": {
    "id": "nKtYC4yWyYti"
   },
   "source": [
    "## Реализация дропаута по статье Семениуты и др. (1 балл)"
   ]
  },
  {
   "cell_type": "markdown",
   "metadata": {
    "id": "LEKu4jqZyYti"
   },
   "source": [
    "Перейдем к реализации дропаута для LSTM по статье [Semeniuta et al](http://www.aclweb.org/anthology/C16-1165). \n",
    "\n",
    "Этот метод применения дропаута не менее популярен, чем предыдущий. Его особенность состоит в том, что он придуман специально для гейтовых архитектур. В контексте LSTM этот дропаут накладывается только на информационный поток (m_h - маска дропаута):\n",
    "$$\n",
    "i = \\sigma(h_{t-1}W^i + x_t U^i+b_i) \\quad\n",
    "o = \\sigma(h_{t-1}W^o + x_t U^o+b_o) \n",
    "$$\n",
    "$$\n",
    "f = \\sigma(h_{t-1}W^f + x_t U^f+b_f) \\quad \n",
    "g = tanh(h_{t-1} W^g + x_t U^g+b_g) \n",
    "$$\n",
    "$$\n",
    "c_t = f \\odot c_{t-1} +  i \\odot g \\odot {\\bf m_h} \\quad\n",
    "h_t =  o \\odot tanh(c_t) \\nonumber\n",
    "$$\n",
    "На входы $x_t$ маска накладывается как в предыдущем дропауте. Впрочем, на входы маску можно наложить вообще до вызова рекуррентного слоя.\n",
    "\n",
    "Согласно статье, маска дропаута может быть как одинаковая, так и разная для всех моментов времени. Мы сделаем одинаковую для всех моментов времени.\n",
    "\n",
    "Для реализации этого дропаута можно: \n",
    "1. самостоятельно реализовать LSTM (интерфейса LSTMCell не хватит) \n",
    "2. снова воспользоваться трюком с установкой весов (но тут мы опираемся на свойство $tanh(0)=0$, к тому же, трюк в данном случае выглядит менее тривиально, чем с дропаутом Гала). \n",
    "\n",
    "Предлагается реализовать дропаут по сценарию 1. Допишите класс:"
   ]
  },
  {
   "cell_type": "markdown",
   "metadata": {
    "id": "V0I1fBtYyYti"
   },
   "source": [
    "**Для каждого тензора в функции `forward` подпишите в комментарии его размеры**"
   ]
  },
  {
   "cell_type": "code",
   "execution_count": 77,
   "metadata": {
    "id": "EuzpdratyYti"
   },
   "outputs": [],
   "source": [
    "class HandmadeLSTM(torch.nn.Module):\n",
    "    def __init__(self, input_size, hidden_size, dropout=0.0):\n",
    "        super().__init__()\n",
    "        \n",
    "        self.dropout = dropout\n",
    "        self.input_size = input_size\n",
    "        self.hidden_size = hidden_size\n",
    "        \n",
    "        self.input_weights = torch.nn.Linear(input_size, 4 * hidden_size)\n",
    "        self.hidden_weights = torch.nn.Linear(hidden_size, 4 * hidden_size)\n",
    "        \n",
    "        self.reset_params()\n",
    "\n",
    "    def reset_params(self):\n",
    "        \"\"\"\n",
    "        Initialization as in Pytorch. \n",
    "        Do not forget to call this method!\n",
    "        https://pytorch.org/docs/stable/_modules/torch/nn/modules/rnn.html#LSTM\n",
    "        \"\"\"\n",
    "        stdv = 1.0 / np.sqrt(self.hidden_size)\n",
    "        for weight in self.parameters():\n",
    "            torch.nn.init.uniform_(weight, -stdv, stdv)\n",
    "\n",
    "    def forward(self, x):\n",
    "        # Use functions init_h0_c0 and gen_dropout_masks defined above\n",
    "        # YOUR CODE HERE\n",
    "        h_0, c_0 = init_h0_c0(x.shape[1], self.hidden_size, x) # batch_size, hidden_size both\n",
    "\n",
    "        inp_m, hidd_m = gen_dropout_mask(self.input_size, self.hidden_size, self.training, self.dropout, x)\n",
    "\n",
    "        # Implement recurrent logic to mimic torch.nn.LSTM\n",
    "        # Do not forget to apply dropout mask\n",
    "        # YOUR CODE HERE\n",
    "        output_cell = []\n",
    "        h = h_0 # batch_size, hidden_size\n",
    "        c = c_0 # batch_size, hidden_size\n",
    "        for k in range(x.shape[0]):\n",
    "          #print('x_i', x[k].shape)# 64 32\n",
    "          #print('mask_h', mask_h.shape) # 128\n",
    "          #print('mask_i', mask_i.shape) # 32\n",
    "          #print('h', h.shape) # 64 128\n",
    "          #print('c', c.shape) # 64 128\n",
    "          into = self.hidden_weights(h) + self.input_weights(x[k] * inp_m) #batch_size, 4 * hidden_size\n",
    "          sigm = torch.sigmoid(into[:, :3*self.hidden_size])\n",
    "          i = sigm[:, :self.hidden_size] #batch_size, hidden_size\n",
    "          o = sigm[:, self.hidden_size: 2*self.hidden_size] #batch_size, hidden_size\n",
    "          f = sigm[:, 2*self.hidden_size: 3*self.hidden_size] #batch_size, hidden_size\n",
    "\n",
    "          g =  torch.tanh(into[:, 3 * self.hidden_size: 4 * self.hidden_size]) #batch_size, hidden_size\n",
    "          c = f * c + i * g * hidd_m\n",
    "          h = o * torch.tanh(c) # batch_size, hidden_size\n",
    "\n",
    "          output_cell += [h.clone()]\n",
    "\n",
    "        output_cell = torch.stack(output_cell)\n",
    "        #print('output_cell', output_cell.shape)#[200, 64, 128]\n",
    "        return output_cell, (h, c)\n"
   ]
  },
  {
   "cell_type": "markdown",
   "metadata": {
    "id": "LBsYQVX4yYti"
   },
   "source": [
    "Протестируйте вашу реализацию без дропаута (проконтролируйте качество и сравните время обучения с временем обучения `torch.nn.LSTM` и `RNNLayer`), а также с `dropout=0.25`. Сравните качество модели с таким дропаутом с качеством модели с дропаутом Гала и Гарамани."
   ]
  },
  {
   "cell_type": "markdown",
   "metadata": {
    "id": "pw78rH5_yYti"
   },
   "source": [
    "**Сохраните все метрики и время работы модели. Это потребуется в конце первой части для построения графиков обучения и сравнения времени работы для всех моделей в этой секции**"
   ]
  },
  {
   "cell_type": "code",
   "execution_count": 78,
   "metadata": {
    "id": "i4okiXo6ZNIJ"
   },
   "outputs": [],
   "source": [
    "model_6 = RNNClassifier(\n",
    "    embedding_dim=embedding_dim, hidden_dim=hidden_dim, output_size=10, vocab=vocab,\n",
    "    rec_layer = HandmadeLSTM , dropout=None\n",
    ").to(device)"
   ]
  },
  {
   "cell_type": "code",
   "execution_count": 79,
   "metadata": {
    "id": "GQrTz4nHZWYC"
   },
   "outputs": [],
   "source": [
    "loss_fn = torch.nn.CrossEntropyLoss(reduction='sum')#поставить summ\n",
    "optimizer_6 = torch.optim.Adam(model_6.parameters(), lr=learning_rate)"
   ]
  },
  {
   "cell_type": "code",
   "execution_count": 80,
   "metadata": {
    "colab": {
     "base_uri": "https://localhost:8080/"
    },
    "id": "czldaoFCZccl",
    "outputId": "20389bc1-0c1c-430b-be0d-11e3bfddd2cc"
   },
   "outputs": [
    {
     "name": "stdout",
     "output_type": "stream",
     "text": [
      "Epoch: 1/15. Loss (Train/Test): 2.015/2.025. Accuracy (Train/Test): 0.216/0.213\n",
      "Epoch: 2/15. Loss (Train/Test): 1.846/1.864. Accuracy (Train/Test): 0.317/0.320\n",
      "Epoch: 3/15. Loss (Train/Test): 1.726/1.762. Accuracy (Train/Test): 0.343/0.337\n",
      "Epoch: 4/15. Loss (Train/Test): 1.638/1.697. Accuracy (Train/Test): 0.370/0.357\n",
      "Epoch: 5/15. Loss (Train/Test): 1.542/1.623. Accuracy (Train/Test): 0.405/0.374\n",
      "Epoch: 6/15. Loss (Train/Test): 1.489/1.608. Accuracy (Train/Test): 0.422/0.388\n",
      "Epoch: 7/15. Loss (Train/Test): 1.452/1.590. Accuracy (Train/Test): 0.439/0.378\n",
      "Epoch: 8/15. Loss (Train/Test): 1.397/1.571. Accuracy (Train/Test): 0.459/0.389\n",
      "Epoch: 9/15. Loss (Train/Test): 1.338/1.582. Accuracy (Train/Test): 0.479/0.394\n",
      "Epoch: 10/15. Loss (Train/Test): 1.306/1.600. Accuracy (Train/Test): 0.491/0.394\n",
      "Epoch: 11/15. Loss (Train/Test): 1.236/1.619. Accuracy (Train/Test): 0.517/0.397\n",
      "Epoch: 12/15. Loss (Train/Test): 1.180/1.615. Accuracy (Train/Test): 0.551/0.388\n",
      "Epoch: 13/15. Loss (Train/Test): 1.113/1.695. Accuracy (Train/Test): 0.574/0.383\n",
      "Epoch: 14/15. Loss (Train/Test): 1.056/1.746. Accuracy (Train/Test): 0.599/0.383\n",
      "Epoch: 15/15. Loss (Train/Test): 0.951/1.783. Accuracy (Train/Test): 0.655/0.375\n"
     ]
    }
   ],
   "source": [
    "warnings.filterwarnings('ignore')\n",
    "import time \n",
    "start_time = time.time()\n",
    "train_losses_pure_6, train_accuracies_pure_6, test_losses_pure_6, test_accuracies_pure_6 = train(\n",
    "    train_dataloader, test_dataloader, model_6, loss_fn, optimizer_6, device, num_epochs\n",
    ")\n",
    "t_first_model_6 = time.time() - start_time"
   ]
  },
  {
   "cell_type": "code",
   "execution_count": 162,
   "metadata": {
    "colab": {
     "base_uri": "https://localhost:8080/"
    },
    "id": "2FXlsWGBHdON",
    "outputId": "070c2e26-4ea2-4e75-91bd-33dba489190f"
   },
   "outputs": [
    {
     "data": {
      "text/plain": [
       "(36.0, 45.447237968444824)"
      ]
     },
     "execution_count": 162,
     "metadata": {
      "tags": []
     },
     "output_type": "execute_result"
    }
   ],
   "source": [
    "t_first_model_6 // 60, t_first_model_6 % 60"
   ]
  },
  {
   "cell_type": "code",
   "execution_count": null,
   "metadata": {
    "id": "Wzj0aXUjyYtj",
    "outputId": "f9f043e3-3136-4201-9a8b-a1121bbe8993"
   },
   "outputs": [
    {
     "name": "stdout",
     "output_type": "stream",
     "text": [
      "Epoch: 1/15. Loss (Train/Test): 1.999/2.003. Accuracy (Train/Test): 0.245/0.244\n",
      "Epoch: 2/15. Loss (Train/Test): 1.781/1.798. Accuracy (Train/Test): 0.335/0.337\n",
      "Epoch: 3/15. Loss (Train/Test): 1.648/1.692. Accuracy (Train/Test): 0.363/0.351\n",
      "Epoch: 4/15. Loss (Train/Test): 1.536/1.606. Accuracy (Train/Test): 0.400/0.375\n",
      "Epoch: 5/15. Loss (Train/Test): 1.482/1.585. Accuracy (Train/Test): 0.423/0.382\n",
      "Epoch: 6/15. Loss (Train/Test): 1.422/1.571. Accuracy (Train/Test): 0.442/0.390\n",
      "Epoch: 7/15. Loss (Train/Test): 1.362/1.557. Accuracy (Train/Test): 0.463/0.395\n",
      "Epoch: 8/15. Loss (Train/Test): 1.314/1.572. Accuracy (Train/Test): 0.482/0.384\n",
      "Epoch: 9/15. Loss (Train/Test): 1.257/1.587. Accuracy (Train/Test): 0.510/0.387\n",
      "Epoch: 10/15. Loss (Train/Test): 1.180/1.617. Accuracy (Train/Test): 0.536/0.394\n",
      "Epoch: 11/15. Loss (Train/Test): 1.126/1.636. Accuracy (Train/Test): 0.569/0.387\n",
      "Epoch: 12/15. Loss (Train/Test): 1.053/1.683. Accuracy (Train/Test): 0.596/0.386\n",
      "Epoch: 13/15. Loss (Train/Test): 0.967/1.725. Accuracy (Train/Test): 0.637/0.382\n",
      "Epoch: 14/15. Loss (Train/Test): 0.878/1.844. Accuracy (Train/Test): 0.677/0.374\n",
      "Epoch: 15/15. Loss (Train/Test): 0.798/1.926. Accuracy (Train/Test): 0.715/0.363\n"
     ]
    }
   ],
   "source": [
    "# YOUR CODE HERE"
   ]
  },
  {
   "cell_type": "code",
   "execution_count": 82,
   "metadata": {
    "id": "qD1gap3TZ5zX"
   },
   "outputs": [],
   "source": [
    "model_7 = RNNClassifier(\n",
    "    embedding_dim=embedding_dim, hidden_dim=hidden_dim, output_size=10, vocab=vocab,\n",
    "    rec_layer = HandmadeLSTM , dropout=0.25\n",
    ").to(device)"
   ]
  },
  {
   "cell_type": "code",
   "execution_count": 83,
   "metadata": {
    "id": "bxBvr3GCZ-Yi"
   },
   "outputs": [],
   "source": [
    "loss_fn = torch.nn.CrossEntropyLoss(reduction='sum')#поставить summ\n",
    "optimizer_7 = torch.optim.Adam(model_7.parameters(), lr=learning_rate)"
   ]
  },
  {
   "cell_type": "code",
   "execution_count": 84,
   "metadata": {
    "colab": {
     "base_uri": "https://localhost:8080/"
    },
    "id": "ZK3wHydYaCOZ",
    "outputId": "ed8d1b3a-f5e1-4bc7-ed8d-4d4c8182930a"
   },
   "outputs": [
    {
     "name": "stdout",
     "output_type": "stream",
     "text": [
      "Epoch: 1/15. Loss (Train/Test): 2.032/2.028. Accuracy (Train/Test): 0.235/0.236\n",
      "Epoch: 2/15. Loss (Train/Test): 2.046/2.055. Accuracy (Train/Test): 0.259/0.258\n",
      "Epoch: 3/15. Loss (Train/Test): 1.760/1.786. Accuracy (Train/Test): 0.334/0.330\n",
      "Epoch: 4/15. Loss (Train/Test): 1.689/1.726. Accuracy (Train/Test): 0.353/0.344\n",
      "Epoch: 5/15. Loss (Train/Test): 1.619/1.659. Accuracy (Train/Test): 0.376/0.369\n",
      "Epoch: 6/15. Loss (Train/Test): 1.564/1.622. Accuracy (Train/Test): 0.388/0.378\n",
      "Epoch: 7/15. Loss (Train/Test): 1.530/1.599. Accuracy (Train/Test): 0.398/0.373\n",
      "Epoch: 8/15. Loss (Train/Test): 1.516/1.597. Accuracy (Train/Test): 0.410/0.388\n",
      "Epoch: 9/15. Loss (Train/Test): 1.474/1.566. Accuracy (Train/Test): 0.424/0.391\n",
      "Epoch: 10/15. Loss (Train/Test): 1.443/1.547. Accuracy (Train/Test): 0.432/0.402\n",
      "Epoch: 11/15. Loss (Train/Test): 1.438/1.556. Accuracy (Train/Test): 0.439/0.397\n",
      "Epoch: 12/15. Loss (Train/Test): 1.401/1.536. Accuracy (Train/Test): 0.448/0.404\n",
      "Epoch: 13/15. Loss (Train/Test): 1.386/1.534. Accuracy (Train/Test): 0.454/0.415\n",
      "Epoch: 14/15. Loss (Train/Test): 1.377/1.527. Accuracy (Train/Test): 0.456/0.410\n",
      "Epoch: 15/15. Loss (Train/Test): 1.355/1.522. Accuracy (Train/Test): 0.468/0.410\n"
     ]
    }
   ],
   "source": [
    "warnings.filterwarnings('ignore')\n",
    "import time \n",
    "start_time = time.time()\n",
    "train_losses_pure_7, train_accuracies_pure_7, test_losses_pure_7, test_accuracies_pure_7 = train(\n",
    "    train_dataloader, test_dataloader, model_7, loss_fn, optimizer_7, device, num_epochs\n",
    ")\n",
    "t_first_model_7 = time.time() - start_time"
   ]
  },
  {
   "cell_type": "code",
   "execution_count": 86,
   "metadata": {
    "colab": {
     "base_uri": "https://localhost:8080/"
    },
    "id": "OLjUkYfbID0z",
    "outputId": "f755420b-e7cb-4f02-90fa-38529894bb5e"
   },
   "outputs": [
    {
     "data": {
      "text/plain": [
       "37.90889136791229"
      ]
     },
     "execution_count": 86,
     "metadata": {
      "tags": []
     },
     "output_type": "execute_result"
    }
   ],
   "source": [
    "t_first_model_7 / 60"
   ]
  },
  {
   "cell_type": "code",
   "execution_count": null,
   "metadata": {
    "id": "ERvXxQblyYtj",
    "outputId": "6d9f8b0f-3987-4297-9ca5-15846c1aad24"
   },
   "outputs": [
    {
     "name": "stdout",
     "output_type": "stream",
     "text": [
      "Epoch: 1/15. Loss (Train/Test): 2.031/2.032. Accuracy (Train/Test): 0.216/0.213\n",
      "Epoch: 2/15. Loss (Train/Test): 1.857/1.873. Accuracy (Train/Test): 0.317/0.320\n",
      "Epoch: 3/15. Loss (Train/Test): 1.688/1.724. Accuracy (Train/Test): 0.351/0.352\n",
      "Epoch: 4/15. Loss (Train/Test): 1.632/1.677. Accuracy (Train/Test): 0.363/0.344\n",
      "Epoch: 5/15. Loss (Train/Test): 1.551/1.610. Accuracy (Train/Test): 0.394/0.374\n",
      "Epoch: 6/15. Loss (Train/Test): 1.524/1.586. Accuracy (Train/Test): 0.404/0.379\n",
      "Epoch: 7/15. Loss (Train/Test): 1.486/1.562. Accuracy (Train/Test): 0.416/0.393\n",
      "Epoch: 8/15. Loss (Train/Test): 1.455/1.552. Accuracy (Train/Test): 0.427/0.398\n",
      "Epoch: 9/15. Loss (Train/Test): 1.434/1.552. Accuracy (Train/Test): 0.435/0.397\n",
      "Epoch: 10/15. Loss (Train/Test): 1.402/1.522. Accuracy (Train/Test): 0.444/0.405\n",
      "Epoch: 11/15. Loss (Train/Test): 1.391/1.527. Accuracy (Train/Test): 0.450/0.408\n",
      "Epoch: 12/15. Loss (Train/Test): 1.369/1.526. Accuracy (Train/Test): 0.459/0.405\n",
      "Epoch: 13/15. Loss (Train/Test): 1.360/1.522. Accuracy (Train/Test): 0.463/0.414\n",
      "Epoch: 14/15. Loss (Train/Test): 1.351/1.528. Accuracy (Train/Test): 0.466/0.410\n",
      "Epoch: 15/15. Loss (Train/Test): 1.327/1.520. Accuracy (Train/Test): 0.472/0.417\n"
     ]
    }
   ],
   "source": [
    "# YOUR CODE HERE"
   ]
  },
  {
   "cell_type": "markdown",
   "metadata": {
    "id": "KUJdLjMeyYtj"
   },
   "source": [
    "## Сравнение всех предложенных моделей. (1 балл)"
   ]
  },
  {
   "cell_type": "markdown",
   "metadata": {
    "id": "7HOHemDZyYtj"
   },
   "source": [
    "Используя замеры времени заполните табличку с временем работы четырёх реализованных моделей в следующей ячейке:"
   ]
  },
  {
   "cell_type": "markdown",
   "metadata": {
    "id": "xhOF62ZSyYtj"
   },
   "source": [
    "| torch.nn.LSTM | RNNLayer | FastRNNLayer | HandmadeLSTM |\n",
    "|---------------|----------|--------------|--------------|\n",
    "| 5m 41s        | 16m 24s  | 5m 49s       | 36m 45s      |"
   ]
  },
  {
   "cell_type": "code",
   "execution_count": 87,
   "metadata": {
    "id": "FddIXpfwyYtj"
   },
   "outputs": [],
   "source": [
    "import matplotlib.pyplot as plt"
   ]
  },
  {
   "cell_type": "markdown",
   "metadata": {
    "id": "jv1e-AHdyYtk"
   },
   "source": [
    "Крайне желательно рисовать графики в векторном формате. \n",
    "\n",
    "Если по каким-то причинам, отрисовка не будет работать, закомментируйте следующую ячейку."
   ]
  },
  {
   "cell_type": "code",
   "execution_count": 88,
   "metadata": {
    "id": "MVbEVJb6yYtk"
   },
   "outputs": [],
   "source": [
    "%matplotlib inline\n",
    "\n",
    "from IPython.display import set_matplotlib_formats\n",
    "\n",
    "set_matplotlib_formats('pdf', 'svg')"
   ]
  },
  {
   "cell_type": "markdown",
   "metadata": {
    "id": "J-Lqc6U9yYtk"
   },
   "source": [
    "Нарисуйте два графика -- функция потерь и качество на обучающей и тестовой выборке для всех 7 моделей обученных выше."
   ]
  },
  {
   "cell_type": "code",
   "execution_count": 163,
   "metadata": {
    "id": "z1Pe2nLDQ0OB"
   },
   "outputs": [],
   "source": [
    "y = torch.arange(15)"
   ]
  },
  {
   "cell_type": "code",
   "execution_count": 97,
   "metadata": {
    "id": "we0QfZyrRX99"
   },
   "outputs": [],
   "source": [
    "#train_losses_pure, train_accuracies_pure, test_losses_pure, test_accuracies_pure"
   ]
  },
  {
   "cell_type": "code",
   "execution_count": 104,
   "metadata": {
    "colab": {
     "base_uri": "https://localhost:8080/"
    },
    "id": "kN1YaooiR4G5",
    "outputId": "78b88fe2-f213-4106-cae8-fe7003736c35"
   },
   "outputs": [
    {
     "data": {
      "text/plain": [
       "[tensor(2.0102),\n",
       " tensor(1.7777),\n",
       " tensor(1.6859),\n",
       " tensor(1.6541),\n",
       " tensor(1.5848),\n",
       " tensor(1.5789),\n",
       " tensor(1.5531),\n",
       " tensor(1.5669),\n",
       " tensor(1.5872),\n",
       " tensor(1.6021),\n",
       " tensor(1.6378),\n",
       " tensor(1.6879),\n",
       " tensor(1.7639),\n",
       " tensor(1.8436),\n",
       " tensor(1.9601)]"
      ]
     },
     "execution_count": 104,
     "metadata": {
      "tags": []
     },
     "output_type": "execute_result"
    }
   ],
   "source": [
    "test_losses_pure"
   ]
  },
  {
   "cell_type": "code",
   "execution_count": 156,
   "metadata": {
    "colab": {
     "base_uri": "https://localhost:8080/",
     "height": 969
    },
    "id": "1qmJ3OlZlh51",
    "outputId": "ada3bf0d-e893-4c76-d020-a52b59f3b91a"
   },
   "outputs": [
    {
     "data": {
      "application/pdf": "[encoded data removed]",
      "image/svg+xml": [
       "<?xml version=\"1.0\" encoding=\"utf-8\" standalone=\"no\"?>\n",
       "<!DOCTYPE svg PUBLIC \"-//W3C//DTD SVG 1.1//EN\"\n",
       "  \"http://www.w3.org/Graphics/SVG/1.1/DTD/svg11.dtd\">\n",
       "<!-- Created with matplotlib (https://matplotlib.org/) -->\n",
       "<svg height=\"711.274375pt\" version=\"1.1\" viewBox=\"0 0 712.703125 711.274375\" width=\"712.703125pt\" xmlns=\"http://www.w3.org/2000/svg\" xmlns:xlink=\"http://www.w3.org/1999/xlink\">\n",
       " <defs>\n",
       "  <style type=\"text/css\">\n",
       "*{stroke-linecap:butt;stroke-linejoin:round;}\n",
       "  </style>\n",
       " </defs>\n",
       " <g id=\"figure_1\">\n",
       "  <g id=\"patch_1\">\n",
       "   <path d=\"M 0 711.274375 \n",
       "L 712.703125 711.274375 \n",
       "L 712.703125 0 \n",
       "L 0 0 \n",
       "z\n",
       "\" style=\"fill:none;\"/>\n",
       "  </g>\n",
       "  <g id=\"axes_1\">\n",
       "   <g id=\"patch_2\">\n",
       "    <path d=\"M 30.103125 319.118125 \n",
       "L 705.503125 319.118125 \n",
       "L 705.503125 22.318125 \n",
       "L 30.103125 22.318125 \n",
       "z\n",
       "\" style=\"fill:#ffffff;\"/>\n",
       "   </g>\n",
       "   <g id=\"matplotlib.axis_1\">\n",
       "    <g id=\"xtick_1\">\n",
       "     <g id=\"line2d_1\">\n",
       "      <path clip-path=\"url(#p37f692dc70)\" d=\"M 60.803125 319.118125 \n",
       "L 60.803125 22.318125 \n",
       "\" style=\"fill:none;stroke:#b0b0b0;stroke-linecap:square;stroke-width:0.8;\"/>\n",
       "     </g>\n",
       "     <g id=\"line2d_2\">\n",
       "      <defs>\n",
       "       <path d=\"M 0 0 \n",
       "L 0 3.5 \n",
       "\" id=\"mec934a000c\" style=\"stroke:#000000;stroke-width:0.8;\"/>\n",
       "      </defs>\n",
       "      <g>\n",
       "       <use style=\"stroke:#000000;stroke-width:0.8;\" x=\"60.803125\" xlink:href=\"#mec934a000c\" y=\"319.118125\"/>\n",
       "      </g>\n",
       "     </g>\n",
       "     <g id=\"text_1\">\n",
       "      <!-- 0 -->\n",
       "      <defs>\n",
       "       <path d=\"M 31.78125 66.40625 \n",
       "Q 24.171875 66.40625 20.328125 58.90625 \n",
       "Q 16.5 51.421875 16.5 36.375 \n",
       "Q 16.5 21.390625 20.328125 13.890625 \n",
       "Q 24.171875 6.390625 31.78125 6.390625 \n",
       "Q 39.453125 6.390625 43.28125 13.890625 \n",
       "Q 47.125 21.390625 47.125 36.375 \n",
       "Q 47.125 51.421875 43.28125 58.90625 \n",
       "Q 39.453125 66.40625 31.78125 66.40625 \n",
       "z\n",
       "M 31.78125 74.21875 \n",
       "Q 44.046875 74.21875 50.515625 64.515625 \n",
       "Q 56.984375 54.828125 56.984375 36.375 \n",
       "Q 56.984375 17.96875 50.515625 8.265625 \n",
       "Q 44.046875 -1.421875 31.78125 -1.421875 \n",
       "Q 19.53125 -1.421875 13.0625 8.265625 \n",
       "Q 6.59375 17.96875 6.59375 36.375 \n",
       "Q 6.59375 54.828125 13.0625 64.515625 \n",
       "Q 19.53125 74.21875 31.78125 74.21875 \n",
       "z\n",
       "\" id=\"DejaVuSans-48\"/>\n",
       "      </defs>\n",
       "      <g transform=\"translate(57.621875 333.716562)scale(0.1 -0.1)\">\n",
       "       <use xlink:href=\"#DejaVuSans-48\"/>\n",
       "      </g>\n",
       "     </g>\n",
       "    </g>\n",
       "    <g id=\"xtick_2\">\n",
       "     <g id=\"line2d_3\">\n",
       "      <path clip-path=\"url(#p37f692dc70)\" d=\"M 148.517411 319.118125 \n",
       "L 148.517411 22.318125 \n",
       "\" style=\"fill:none;stroke:#b0b0b0;stroke-linecap:square;stroke-width:0.8;\"/>\n",
       "     </g>\n",
       "     <g id=\"line2d_4\">\n",
       "      <g>\n",
       "       <use style=\"stroke:#000000;stroke-width:0.8;\" x=\"148.517411\" xlink:href=\"#mec934a000c\" y=\"319.118125\"/>\n",
       "      </g>\n",
       "     </g>\n",
       "     <g id=\"text_2\">\n",
       "      <!-- 2 -->\n",
       "      <defs>\n",
       "       <path d=\"M 19.1875 8.296875 \n",
       "L 53.609375 8.296875 \n",
       "L 53.609375 0 \n",
       "L 7.328125 0 \n",
       "L 7.328125 8.296875 \n",
       "Q 12.9375 14.109375 22.625 23.890625 \n",
       "Q 32.328125 33.6875 34.8125 36.53125 \n",
       "Q 39.546875 41.84375 41.421875 45.53125 \n",
       "Q 43.3125 49.21875 43.3125 52.78125 \n",
       "Q 43.3125 58.59375 39.234375 62.25 \n",
       "Q 35.15625 65.921875 28.609375 65.921875 \n",
       "Q 23.96875 65.921875 18.8125 64.3125 \n",
       "Q 13.671875 62.703125 7.8125 59.421875 \n",
       "L 7.8125 69.390625 \n",
       "Q 13.765625 71.78125 18.9375 73 \n",
       "Q 24.125 74.21875 28.421875 74.21875 \n",
       "Q 39.75 74.21875 46.484375 68.546875 \n",
       "Q 53.21875 62.890625 53.21875 53.421875 \n",
       "Q 53.21875 48.921875 51.53125 44.890625 \n",
       "Q 49.859375 40.875 45.40625 35.40625 \n",
       "Q 44.1875 33.984375 37.640625 27.21875 \n",
       "Q 31.109375 20.453125 19.1875 8.296875 \n",
       "z\n",
       "\" id=\"DejaVuSans-50\"/>\n",
       "      </defs>\n",
       "      <g transform=\"translate(145.336161 333.716562)scale(0.1 -0.1)\">\n",
       "       <use xlink:href=\"#DejaVuSans-50\"/>\n",
       "      </g>\n",
       "     </g>\n",
       "    </g>\n",
       "    <g id=\"xtick_3\">\n",
       "     <g id=\"line2d_5\">\n",
       "      <path clip-path=\"url(#p37f692dc70)\" d=\"M 236.231696 319.118125 \n",
       "L 236.231696 22.318125 \n",
       "\" style=\"fill:none;stroke:#b0b0b0;stroke-linecap:square;stroke-width:0.8;\"/>\n",
       "     </g>\n",
       "     <g id=\"line2d_6\">\n",
       "      <g>\n",
       "       <use style=\"stroke:#000000;stroke-width:0.8;\" x=\"236.231696\" xlink:href=\"#mec934a000c\" y=\"319.118125\"/>\n",
       "      </g>\n",
       "     </g>\n",
       "     <g id=\"text_3\">\n",
       "      <!-- 4 -->\n",
       "      <defs>\n",
       "       <path d=\"M 37.796875 64.3125 \n",
       "L 12.890625 25.390625 \n",
       "L 37.796875 25.390625 \n",
       "z\n",
       "M 35.203125 72.90625 \n",
       "L 47.609375 72.90625 \n",
       "L 47.609375 25.390625 \n",
       "L 58.015625 25.390625 \n",
       "L 58.015625 17.1875 \n",
       "L 47.609375 17.1875 \n",
       "L 47.609375 0 \n",
       "L 37.796875 0 \n",
       "L 37.796875 17.1875 \n",
       "L 4.890625 17.1875 \n",
       "L 4.890625 26.703125 \n",
       "z\n",
       "\" id=\"DejaVuSans-52\"/>\n",
       "      </defs>\n",
       "      <g transform=\"translate(233.050446 333.716562)scale(0.1 -0.1)\">\n",
       "       <use xlink:href=\"#DejaVuSans-52\"/>\n",
       "      </g>\n",
       "     </g>\n",
       "    </g>\n",
       "    <g id=\"xtick_4\">\n",
       "     <g id=\"line2d_7\">\n",
       "      <path clip-path=\"url(#p37f692dc70)\" d=\"M 323.945982 319.118125 \n",
       "L 323.945982 22.318125 \n",
       "\" style=\"fill:none;stroke:#b0b0b0;stroke-linecap:square;stroke-width:0.8;\"/>\n",
       "     </g>\n",
       "     <g id=\"line2d_8\">\n",
       "      <g>\n",
       "       <use style=\"stroke:#000000;stroke-width:0.8;\" x=\"323.945982\" xlink:href=\"#mec934a000c\" y=\"319.118125\"/>\n",
       "      </g>\n",
       "     </g>\n",
       "     <g id=\"text_4\">\n",
       "      <!-- 6 -->\n",
       "      <defs>\n",
       "       <path d=\"M 33.015625 40.375 \n",
       "Q 26.375 40.375 22.484375 35.828125 \n",
       "Q 18.609375 31.296875 18.609375 23.390625 \n",
       "Q 18.609375 15.53125 22.484375 10.953125 \n",
       "Q 26.375 6.390625 33.015625 6.390625 \n",
       "Q 39.65625 6.390625 43.53125 10.953125 \n",
       "Q 47.40625 15.53125 47.40625 23.390625 \n",
       "Q 47.40625 31.296875 43.53125 35.828125 \n",
       "Q 39.65625 40.375 33.015625 40.375 \n",
       "z\n",
       "M 52.59375 71.296875 \n",
       "L 52.59375 62.3125 \n",
       "Q 48.875 64.0625 45.09375 64.984375 \n",
       "Q 41.3125 65.921875 37.59375 65.921875 \n",
       "Q 27.828125 65.921875 22.671875 59.328125 \n",
       "Q 17.53125 52.734375 16.796875 39.40625 \n",
       "Q 19.671875 43.65625 24.015625 45.921875 \n",
       "Q 28.375 48.1875 33.59375 48.1875 \n",
       "Q 44.578125 48.1875 50.953125 41.515625 \n",
       "Q 57.328125 34.859375 57.328125 23.390625 \n",
       "Q 57.328125 12.15625 50.6875 5.359375 \n",
       "Q 44.046875 -1.421875 33.015625 -1.421875 \n",
       "Q 20.359375 -1.421875 13.671875 8.265625 \n",
       "Q 6.984375 17.96875 6.984375 36.375 \n",
       "Q 6.984375 53.65625 15.1875 63.9375 \n",
       "Q 23.390625 74.21875 37.203125 74.21875 \n",
       "Q 40.921875 74.21875 44.703125 73.484375 \n",
       "Q 48.484375 72.75 52.59375 71.296875 \n",
       "z\n",
       "\" id=\"DejaVuSans-54\"/>\n",
       "      </defs>\n",
       "      <g transform=\"translate(320.764732 333.716562)scale(0.1 -0.1)\">\n",
       "       <use xlink:href=\"#DejaVuSans-54\"/>\n",
       "      </g>\n",
       "     </g>\n",
       "    </g>\n",
       "    <g id=\"xtick_5\">\n",
       "     <g id=\"line2d_9\">\n",
       "      <path clip-path=\"url(#p37f692dc70)\" d=\"M 411.660268 319.118125 \n",
       "L 411.660268 22.318125 \n",
       "\" style=\"fill:none;stroke:#b0b0b0;stroke-linecap:square;stroke-width:0.8;\"/>\n",
       "     </g>\n",
       "     <g id=\"line2d_10\">\n",
       "      <g>\n",
       "       <use style=\"stroke:#000000;stroke-width:0.8;\" x=\"411.660268\" xlink:href=\"#mec934a000c\" y=\"319.118125\"/>\n",
       "      </g>\n",
       "     </g>\n",
       "     <g id=\"text_5\">\n",
       "      <!-- 8 -->\n",
       "      <defs>\n",
       "       <path d=\"M 31.78125 34.625 \n",
       "Q 24.75 34.625 20.71875 30.859375 \n",
       "Q 16.703125 27.09375 16.703125 20.515625 \n",
       "Q 16.703125 13.921875 20.71875 10.15625 \n",
       "Q 24.75 6.390625 31.78125 6.390625 \n",
       "Q 38.8125 6.390625 42.859375 10.171875 \n",
       "Q 46.921875 13.96875 46.921875 20.515625 \n",
       "Q 46.921875 27.09375 42.890625 30.859375 \n",
       "Q 38.875 34.625 31.78125 34.625 \n",
       "z\n",
       "M 21.921875 38.8125 \n",
       "Q 15.578125 40.375 12.03125 44.71875 \n",
       "Q 8.5 49.078125 8.5 55.328125 \n",
       "Q 8.5 64.0625 14.71875 69.140625 \n",
       "Q 20.953125 74.21875 31.78125 74.21875 \n",
       "Q 42.671875 74.21875 48.875 69.140625 \n",
       "Q 55.078125 64.0625 55.078125 55.328125 \n",
       "Q 55.078125 49.078125 51.53125 44.71875 \n",
       "Q 48 40.375 41.703125 38.8125 \n",
       "Q 48.828125 37.15625 52.796875 32.3125 \n",
       "Q 56.78125 27.484375 56.78125 20.515625 \n",
       "Q 56.78125 9.90625 50.3125 4.234375 \n",
       "Q 43.84375 -1.421875 31.78125 -1.421875 \n",
       "Q 19.734375 -1.421875 13.25 4.234375 \n",
       "Q 6.78125 9.90625 6.78125 20.515625 \n",
       "Q 6.78125 27.484375 10.78125 32.3125 \n",
       "Q 14.796875 37.15625 21.921875 38.8125 \n",
       "z\n",
       "M 18.3125 54.390625 \n",
       "Q 18.3125 48.734375 21.84375 45.5625 \n",
       "Q 25.390625 42.390625 31.78125 42.390625 \n",
       "Q 38.140625 42.390625 41.71875 45.5625 \n",
       "Q 45.3125 48.734375 45.3125 54.390625 \n",
       "Q 45.3125 60.0625 41.71875 63.234375 \n",
       "Q 38.140625 66.40625 31.78125 66.40625 \n",
       "Q 25.390625 66.40625 21.84375 63.234375 \n",
       "Q 18.3125 60.0625 18.3125 54.390625 \n",
       "z\n",
       "\" id=\"DejaVuSans-56\"/>\n",
       "      </defs>\n",
       "      <g transform=\"translate(408.479018 333.716562)scale(0.1 -0.1)\">\n",
       "       <use xlink:href=\"#DejaVuSans-56\"/>\n",
       "      </g>\n",
       "     </g>\n",
       "    </g>\n",
       "    <g id=\"xtick_6\">\n",
       "     <g id=\"line2d_11\">\n",
       "      <path clip-path=\"url(#p37f692dc70)\" d=\"M 499.374554 319.118125 \n",
       "L 499.374554 22.318125 \n",
       "\" style=\"fill:none;stroke:#b0b0b0;stroke-linecap:square;stroke-width:0.8;\"/>\n",
       "     </g>\n",
       "     <g id=\"line2d_12\">\n",
       "      <g>\n",
       "       <use style=\"stroke:#000000;stroke-width:0.8;\" x=\"499.374554\" xlink:href=\"#mec934a000c\" y=\"319.118125\"/>\n",
       "      </g>\n",
       "     </g>\n",
       "     <g id=\"text_6\">\n",
       "      <!-- 10 -->\n",
       "      <defs>\n",
       "       <path d=\"M 12.40625 8.296875 \n",
       "L 28.515625 8.296875 \n",
       "L 28.515625 63.921875 \n",
       "L 10.984375 60.40625 \n",
       "L 10.984375 69.390625 \n",
       "L 28.421875 72.90625 \n",
       "L 38.28125 72.90625 \n",
       "L 38.28125 8.296875 \n",
       "L 54.390625 8.296875 \n",
       "L 54.390625 0 \n",
       "L 12.40625 0 \n",
       "z\n",
       "\" id=\"DejaVuSans-49\"/>\n",
       "      </defs>\n",
       "      <g transform=\"translate(493.012054 333.716562)scale(0.1 -0.1)\">\n",
       "       <use xlink:href=\"#DejaVuSans-49\"/>\n",
       "       <use x=\"63.623047\" xlink:href=\"#DejaVuSans-48\"/>\n",
       "      </g>\n",
       "     </g>\n",
       "    </g>\n",
       "    <g id=\"xtick_7\">\n",
       "     <g id=\"line2d_13\">\n",
       "      <path clip-path=\"url(#p37f692dc70)\" d=\"M 587.088839 319.118125 \n",
       "L 587.088839 22.318125 \n",
       "\" style=\"fill:none;stroke:#b0b0b0;stroke-linecap:square;stroke-width:0.8;\"/>\n",
       "     </g>\n",
       "     <g id=\"line2d_14\">\n",
       "      <g>\n",
       "       <use style=\"stroke:#000000;stroke-width:0.8;\" x=\"587.088839\" xlink:href=\"#mec934a000c\" y=\"319.118125\"/>\n",
       "      </g>\n",
       "     </g>\n",
       "     <g id=\"text_7\">\n",
       "      <!-- 12 -->\n",
       "      <g transform=\"translate(580.726339 333.716562)scale(0.1 -0.1)\">\n",
       "       <use xlink:href=\"#DejaVuSans-49\"/>\n",
       "       <use x=\"63.623047\" xlink:href=\"#DejaVuSans-50\"/>\n",
       "      </g>\n",
       "     </g>\n",
       "    </g>\n",
       "    <g id=\"xtick_8\">\n",
       "     <g id=\"line2d_15\">\n",
       "      <path clip-path=\"url(#p37f692dc70)\" d=\"M 674.803125 319.118125 \n",
       "L 674.803125 22.318125 \n",
       "\" style=\"fill:none;stroke:#b0b0b0;stroke-linecap:square;stroke-width:0.8;\"/>\n",
       "     </g>\n",
       "     <g id=\"line2d_16\">\n",
       "      <g>\n",
       "       <use style=\"stroke:#000000;stroke-width:0.8;\" x=\"674.803125\" xlink:href=\"#mec934a000c\" y=\"319.118125\"/>\n",
       "      </g>\n",
       "     </g>\n",
       "     <g id=\"text_8\">\n",
       "      <!-- 14 -->\n",
       "      <g transform=\"translate(668.440625 333.716562)scale(0.1 -0.1)\">\n",
       "       <use xlink:href=\"#DejaVuSans-49\"/>\n",
       "       <use x=\"63.623047\" xlink:href=\"#DejaVuSans-52\"/>\n",
       "      </g>\n",
       "     </g>\n",
       "    </g>\n",
       "    <g id=\"text_9\">\n",
       "     <!-- Epoch -->\n",
       "     <defs>\n",
       "      <path d=\"M 9.8125 72.90625 \n",
       "L 55.90625 72.90625 \n",
       "L 55.90625 64.59375 \n",
       "L 19.671875 64.59375 \n",
       "L 19.671875 43.015625 \n",
       "L 54.390625 43.015625 \n",
       "L 54.390625 34.71875 \n",
       "L 19.671875 34.71875 \n",
       "L 19.671875 8.296875 \n",
       "L 56.78125 8.296875 \n",
       "L 56.78125 0 \n",
       "L 9.8125 0 \n",
       "z\n",
       "\" id=\"DejaVuSans-69\"/>\n",
       "      <path d=\"M 18.109375 8.203125 \n",
       "L 18.109375 -20.796875 \n",
       "L 9.078125 -20.796875 \n",
       "L 9.078125 54.6875 \n",
       "L 18.109375 54.6875 \n",
       "L 18.109375 46.390625 \n",
       "Q 20.953125 51.265625 25.265625 53.625 \n",
       "Q 29.59375 56 35.59375 56 \n",
       "Q 45.5625 56 51.78125 48.09375 \n",
       "Q 58.015625 40.1875 58.015625 27.296875 \n",
       "Q 58.015625 14.40625 51.78125 6.484375 \n",
       "Q 45.5625 -1.421875 35.59375 -1.421875 \n",
       "Q 29.59375 -1.421875 25.265625 0.953125 \n",
       "Q 20.953125 3.328125 18.109375 8.203125 \n",
       "z\n",
       "M 48.6875 27.296875 \n",
       "Q 48.6875 37.203125 44.609375 42.84375 \n",
       "Q 40.53125 48.484375 33.40625 48.484375 \n",
       "Q 26.265625 48.484375 22.1875 42.84375 \n",
       "Q 18.109375 37.203125 18.109375 27.296875 \n",
       "Q 18.109375 17.390625 22.1875 11.75 \n",
       "Q 26.265625 6.109375 33.40625 6.109375 \n",
       "Q 40.53125 6.109375 44.609375 11.75 \n",
       "Q 48.6875 17.390625 48.6875 27.296875 \n",
       "z\n",
       "\" id=\"DejaVuSans-112\"/>\n",
       "      <path d=\"M 30.609375 48.390625 \n",
       "Q 23.390625 48.390625 19.1875 42.75 \n",
       "Q 14.984375 37.109375 14.984375 27.296875 \n",
       "Q 14.984375 17.484375 19.15625 11.84375 \n",
       "Q 23.34375 6.203125 30.609375 6.203125 \n",
       "Q 37.796875 6.203125 41.984375 11.859375 \n",
       "Q 46.1875 17.53125 46.1875 27.296875 \n",
       "Q 46.1875 37.015625 41.984375 42.703125 \n",
       "Q 37.796875 48.390625 30.609375 48.390625 \n",
       "z\n",
       "M 30.609375 56 \n",
       "Q 42.328125 56 49.015625 48.375 \n",
       "Q 55.71875 40.765625 55.71875 27.296875 \n",
       "Q 55.71875 13.875 49.015625 6.21875 \n",
       "Q 42.328125 -1.421875 30.609375 -1.421875 \n",
       "Q 18.84375 -1.421875 12.171875 6.21875 \n",
       "Q 5.515625 13.875 5.515625 27.296875 \n",
       "Q 5.515625 40.765625 12.171875 48.375 \n",
       "Q 18.84375 56 30.609375 56 \n",
       "z\n",
       "\" id=\"DejaVuSans-111\"/>\n",
       "      <path d=\"M 48.78125 52.59375 \n",
       "L 48.78125 44.1875 \n",
       "Q 44.96875 46.296875 41.140625 47.34375 \n",
       "Q 37.3125 48.390625 33.40625 48.390625 \n",
       "Q 24.65625 48.390625 19.8125 42.84375 \n",
       "Q 14.984375 37.3125 14.984375 27.296875 \n",
       "Q 14.984375 17.28125 19.8125 11.734375 \n",
       "Q 24.65625 6.203125 33.40625 6.203125 \n",
       "Q 37.3125 6.203125 41.140625 7.25 \n",
       "Q 44.96875 8.296875 48.78125 10.40625 \n",
       "L 48.78125 2.09375 \n",
       "Q 45.015625 0.34375 40.984375 -0.53125 \n",
       "Q 36.96875 -1.421875 32.421875 -1.421875 \n",
       "Q 20.0625 -1.421875 12.78125 6.34375 \n",
       "Q 5.515625 14.109375 5.515625 27.296875 \n",
       "Q 5.515625 40.671875 12.859375 48.328125 \n",
       "Q 20.21875 56 33.015625 56 \n",
       "Q 37.15625 56 41.109375 55.140625 \n",
       "Q 45.0625 54.296875 48.78125 52.59375 \n",
       "z\n",
       "\" id=\"DejaVuSans-99\"/>\n",
       "      <path d=\"M 54.890625 33.015625 \n",
       "L 54.890625 0 \n",
       "L 45.90625 0 \n",
       "L 45.90625 32.71875 \n",
       "Q 45.90625 40.484375 42.875 44.328125 \n",
       "Q 39.84375 48.1875 33.796875 48.1875 \n",
       "Q 26.515625 48.1875 22.3125 43.546875 \n",
       "Q 18.109375 38.921875 18.109375 30.90625 \n",
       "L 18.109375 0 \n",
       "L 9.078125 0 \n",
       "L 9.078125 75.984375 \n",
       "L 18.109375 75.984375 \n",
       "L 18.109375 46.1875 \n",
       "Q 21.34375 51.125 25.703125 53.5625 \n",
       "Q 30.078125 56 35.796875 56 \n",
       "Q 45.21875 56 50.046875 50.171875 \n",
       "Q 54.890625 44.34375 54.890625 33.015625 \n",
       "z\n",
       "\" id=\"DejaVuSans-104\"/>\n",
       "     </defs>\n",
       "     <g transform=\"translate(352.492187 347.394687)scale(0.1 -0.1)\">\n",
       "      <use xlink:href=\"#DejaVuSans-69\"/>\n",
       "      <use x=\"63.183594\" xlink:href=\"#DejaVuSans-112\"/>\n",
       "      <use x=\"126.660156\" xlink:href=\"#DejaVuSans-111\"/>\n",
       "      <use x=\"187.841797\" xlink:href=\"#DejaVuSans-99\"/>\n",
       "      <use x=\"242.822266\" xlink:href=\"#DejaVuSans-104\"/>\n",
       "     </g>\n",
       "    </g>\n",
       "   </g>\n",
       "   <g id=\"matplotlib.axis_2\">\n",
       "    <g id=\"ytick_1\">\n",
       "     <g id=\"line2d_17\">\n",
       "      <path clip-path=\"url(#p37f692dc70)\" d=\"M 30.103125 291.496843 \n",
       "L 705.503125 291.496843 \n",
       "\" style=\"fill:none;stroke:#b0b0b0;stroke-linecap:square;stroke-width:0.8;\"/>\n",
       "     </g>\n",
       "     <g id=\"line2d_18\">\n",
       "      <defs>\n",
       "       <path d=\"M 0 0 \n",
       "L -3.5 0 \n",
       "\" id=\"m9997b468c1\" style=\"stroke:#000000;stroke-width:0.8;\"/>\n",
       "      </defs>\n",
       "      <g>\n",
       "       <use style=\"stroke:#000000;stroke-width:0.8;\" x=\"30.103125\" xlink:href=\"#m9997b468c1\" y=\"291.496843\"/>\n",
       "      </g>\n",
       "     </g>\n",
       "     <g id=\"text_10\">\n",
       "      <!-- 0.8 -->\n",
       "      <defs>\n",
       "       <path d=\"M 10.6875 12.40625 \n",
       "L 21 12.40625 \n",
       "L 21 0 \n",
       "L 10.6875 0 \n",
       "z\n",
       "\" id=\"DejaVuSans-46\"/>\n",
       "      </defs>\n",
       "      <g transform=\"translate(7.2 295.296062)scale(0.1 -0.1)\">\n",
       "       <use xlink:href=\"#DejaVuSans-48\"/>\n",
       "       <use x=\"63.623047\" xlink:href=\"#DejaVuSans-46\"/>\n",
       "       <use x=\"95.410156\" xlink:href=\"#DejaVuSans-56\"/>\n",
       "      </g>\n",
       "     </g>\n",
       "    </g>\n",
       "    <g id=\"ytick_2\">\n",
       "     <g id=\"line2d_19\">\n",
       "      <path clip-path=\"url(#p37f692dc70)\" d=\"M 30.103125 251.016726 \n",
       "L 705.503125 251.016726 \n",
       "\" style=\"fill:none;stroke:#b0b0b0;stroke-linecap:square;stroke-width:0.8;\"/>\n",
       "     </g>\n",
       "     <g id=\"line2d_20\">\n",
       "      <g>\n",
       "       <use style=\"stroke:#000000;stroke-width:0.8;\" x=\"30.103125\" xlink:href=\"#m9997b468c1\" y=\"251.016726\"/>\n",
       "      </g>\n",
       "     </g>\n",
       "     <g id=\"text_11\">\n",
       "      <!-- 1.0 -->\n",
       "      <g transform=\"translate(7.2 254.815945)scale(0.1 -0.1)\">\n",
       "       <use xlink:href=\"#DejaVuSans-49\"/>\n",
       "       <use x=\"63.623047\" xlink:href=\"#DejaVuSans-46\"/>\n",
       "       <use x=\"95.410156\" xlink:href=\"#DejaVuSans-48\"/>\n",
       "      </g>\n",
       "     </g>\n",
       "    </g>\n",
       "    <g id=\"ytick_3\">\n",
       "     <g id=\"line2d_21\">\n",
       "      <path clip-path=\"url(#p37f692dc70)\" d=\"M 30.103125 210.53661 \n",
       "L 705.503125 210.53661 \n",
       "\" style=\"fill:none;stroke:#b0b0b0;stroke-linecap:square;stroke-width:0.8;\"/>\n",
       "     </g>\n",
       "     <g id=\"line2d_22\">\n",
       "      <g>\n",
       "       <use style=\"stroke:#000000;stroke-width:0.8;\" x=\"30.103125\" xlink:href=\"#m9997b468c1\" y=\"210.53661\"/>\n",
       "      </g>\n",
       "     </g>\n",
       "     <g id=\"text_12\">\n",
       "      <!-- 1.2 -->\n",
       "      <g transform=\"translate(7.2 214.335829)scale(0.1 -0.1)\">\n",
       "       <use xlink:href=\"#DejaVuSans-49\"/>\n",
       "       <use x=\"63.623047\" xlink:href=\"#DejaVuSans-46\"/>\n",
       "       <use x=\"95.410156\" xlink:href=\"#DejaVuSans-50\"/>\n",
       "      </g>\n",
       "     </g>\n",
       "    </g>\n",
       "    <g id=\"ytick_4\">\n",
       "     <g id=\"line2d_23\">\n",
       "      <path clip-path=\"url(#p37f692dc70)\" d=\"M 30.103125 170.056493 \n",
       "L 705.503125 170.056493 \n",
       "\" style=\"fill:none;stroke:#b0b0b0;stroke-linecap:square;stroke-width:0.8;\"/>\n",
       "     </g>\n",
       "     <g id=\"line2d_24\">\n",
       "      <g>\n",
       "       <use style=\"stroke:#000000;stroke-width:0.8;\" x=\"30.103125\" xlink:href=\"#m9997b468c1\" y=\"170.056493\"/>\n",
       "      </g>\n",
       "     </g>\n",
       "     <g id=\"text_13\">\n",
       "      <!-- 1.4 -->\n",
       "      <g transform=\"translate(7.2 173.855712)scale(0.1 -0.1)\">\n",
       "       <use xlink:href=\"#DejaVuSans-49\"/>\n",
       "       <use x=\"63.623047\" xlink:href=\"#DejaVuSans-46\"/>\n",
       "       <use x=\"95.410156\" xlink:href=\"#DejaVuSans-52\"/>\n",
       "      </g>\n",
       "     </g>\n",
       "    </g>\n",
       "    <g id=\"ytick_5\">\n",
       "     <g id=\"line2d_25\">\n",
       "      <path clip-path=\"url(#p37f692dc70)\" d=\"M 30.103125 129.576377 \n",
       "L 705.503125 129.576377 \n",
       "\" style=\"fill:none;stroke:#b0b0b0;stroke-linecap:square;stroke-width:0.8;\"/>\n",
       "     </g>\n",
       "     <g id=\"line2d_26\">\n",
       "      <g>\n",
       "       <use style=\"stroke:#000000;stroke-width:0.8;\" x=\"30.103125\" xlink:href=\"#m9997b468c1\" y=\"129.576377\"/>\n",
       "      </g>\n",
       "     </g>\n",
       "     <g id=\"text_14\">\n",
       "      <!-- 1.6 -->\n",
       "      <g transform=\"translate(7.2 133.375596)scale(0.1 -0.1)\">\n",
       "       <use xlink:href=\"#DejaVuSans-49\"/>\n",
       "       <use x=\"63.623047\" xlink:href=\"#DejaVuSans-46\"/>\n",
       "       <use x=\"95.410156\" xlink:href=\"#DejaVuSans-54\"/>\n",
       "      </g>\n",
       "     </g>\n",
       "    </g>\n",
       "    <g id=\"ytick_6\">\n",
       "     <g id=\"line2d_27\">\n",
       "      <path clip-path=\"url(#p37f692dc70)\" d=\"M 30.103125 89.09626 \n",
       "L 705.503125 89.09626 \n",
       "\" style=\"fill:none;stroke:#b0b0b0;stroke-linecap:square;stroke-width:0.8;\"/>\n",
       "     </g>\n",
       "     <g id=\"line2d_28\">\n",
       "      <g>\n",
       "       <use style=\"stroke:#000000;stroke-width:0.8;\" x=\"30.103125\" xlink:href=\"#m9997b468c1\" y=\"89.09626\"/>\n",
       "      </g>\n",
       "     </g>\n",
       "     <g id=\"text_15\">\n",
       "      <!-- 1.8 -->\n",
       "      <g transform=\"translate(7.2 92.895479)scale(0.1 -0.1)\">\n",
       "       <use xlink:href=\"#DejaVuSans-49\"/>\n",
       "       <use x=\"63.623047\" xlink:href=\"#DejaVuSans-46\"/>\n",
       "       <use x=\"95.410156\" xlink:href=\"#DejaVuSans-56\"/>\n",
       "      </g>\n",
       "     </g>\n",
       "    </g>\n",
       "    <g id=\"ytick_7\">\n",
       "     <g id=\"line2d_29\">\n",
       "      <path clip-path=\"url(#p37f692dc70)\" d=\"M 30.103125 48.616144 \n",
       "L 705.503125 48.616144 \n",
       "\" style=\"fill:none;stroke:#b0b0b0;stroke-linecap:square;stroke-width:0.8;\"/>\n",
       "     </g>\n",
       "     <g id=\"line2d_30\">\n",
       "      <g>\n",
       "       <use style=\"stroke:#000000;stroke-width:0.8;\" x=\"30.103125\" xlink:href=\"#m9997b468c1\" y=\"48.616144\"/>\n",
       "      </g>\n",
       "     </g>\n",
       "     <g id=\"text_16\">\n",
       "      <!-- 2.0 -->\n",
       "      <g transform=\"translate(7.2 52.415363)scale(0.1 -0.1)\">\n",
       "       <use xlink:href=\"#DejaVuSans-50\"/>\n",
       "       <use x=\"63.623047\" xlink:href=\"#DejaVuSans-46\"/>\n",
       "       <use x=\"95.410156\" xlink:href=\"#DejaVuSans-48\"/>\n",
       "      </g>\n",
       "     </g>\n",
       "    </g>\n",
       "   </g>\n",
       "   <g id=\"line2d_31\">\n",
       "    <path clip-path=\"url(#p37f692dc70)\" d=\"M 60.803125 46.558988 \n",
       "L 104.660268 93.618249 \n",
       "L 148.517411 112.183851 \n",
       "L 192.374554 118.630137 \n",
       "L 236.231696 132.652213 \n",
       "L 280.088839 133.838202 \n",
       "L 323.945982 139.078883 \n",
       "L 367.803125 136.272769 \n",
       "L 411.660268 132.164634 \n",
       "L 455.517411 129.15541 \n",
       "L 499.374554 121.931888 \n",
       "L 543.231696 111.785642 \n",
       "L 587.088839 96.399801 \n",
       "L 630.945982 80.277065 \n",
       "L 674.803125 56.684847 \n",
       "\" style=\"fill:none;stroke:#000000;stroke-dasharray:5.55,2.4;stroke-dashoffset:0;stroke-width:1.5;\"/>\n",
       "   </g>\n",
       "   <g id=\"line2d_32\">\n",
       "    <path clip-path=\"url(#p37f692dc70)\" d=\"M 60.803125 47.330651 \n",
       "L 104.660268 97.952825 \n",
       "L 148.517411 119.935728 \n",
       "L 192.374554 132.51975 \n",
       "L 236.231696 154.140323 \n",
       "L 280.088839 164.90251 \n",
       "L 323.945982 178.151669 \n",
       "L 367.803125 184.905394 \n",
       "L 411.660268 201.742464 \n",
       "L 455.517411 211.099604 \n",
       "L 499.374554 226.235623 \n",
       "L 543.231696 240.364853 \n",
       "L 587.088839 255.905994 \n",
       "L 630.945982 272.691659 \n",
       "L 674.803125 290.073528 \n",
       "\" style=\"fill:none;stroke:#000000;stroke-linecap:square;stroke-width:1.5;\"/>\n",
       "   </g>\n",
       "   <g id=\"line2d_33\">\n",
       "    <path clip-path=\"url(#p37f692dc70)\" d=\"M 60.803125 56.37456 \n",
       "L 104.660268 90.145719 \n",
       "L 148.517411 112.26135 \n",
       "L 192.374554 117.89884 \n",
       "L 236.231696 134.63035 \n",
       "L 280.088839 134.480008 \n",
       "L 323.945982 137.588615 \n",
       "L 367.803125 135.388308 \n",
       "L 411.660268 131.897633 \n",
       "L 455.517411 130.492562 \n",
       "L 499.374554 110.577865 \n",
       "L 543.231696 105.646265 \n",
       "L 587.088839 93.191328 \n",
       "L 630.945982 77.382329 \n",
       "L 674.803125 63.042052 \n",
       "\" style=\"fill:none;stroke:#ff0000;stroke-dasharray:5.55,2.4;stroke-dashoffset:0;stroke-width:1.5;\"/>\n",
       "   </g>\n",
       "   <g id=\"line2d_34\">\n",
       "    <path clip-path=\"url(#p37f692dc70)\" d=\"M 60.803125 57.242952 \n",
       "L 104.660268 93.607826 \n",
       "L 148.517411 121.627875 \n",
       "L 192.374554 132.810952 \n",
       "L 236.231696 157.279042 \n",
       "L 280.088839 165.551192 \n",
       "L 323.945982 178.667985 \n",
       "L 367.803125 189.349753 \n",
       "L 411.660268 201.823679 \n",
       "L 455.517411 212.323594 \n",
       "L 499.374554 218.540616 \n",
       "L 543.231696 239.662172 \n",
       "L 587.088839 253.459545 \n",
       "L 630.945982 273.459618 \n",
       "L 674.803125 285.824136 \n",
       "\" style=\"fill:none;stroke:#ff0000;stroke-linecap:square;stroke-width:1.5;\"/>\n",
       "   </g>\n",
       "   <g id=\"line2d_35\">\n",
       "    <path clip-path=\"url(#p37f692dc70)\" d=\"M 60.803125 47.36525 \n",
       "L 104.660268 83.676753 \n",
       "L 148.517411 107.444358 \n",
       "L 192.374554 116.343933 \n",
       "L 236.231696 120.656963 \n",
       "L 280.088839 130.099637 \n",
       "L 323.945982 135.229304 \n",
       "L 367.803125 138.172465 \n",
       "L 411.660268 142.460499 \n",
       "L 455.517411 141.370756 \n",
       "L 499.374554 143.99258 \n",
       "L 543.231696 145.21066 \n",
       "L 587.088839 144.874122 \n",
       "L 630.945982 145.187955 \n",
       "L 674.803125 143.900604 \n",
       "\" style=\"fill:none;stroke:#0000ff;stroke-dasharray:5.55,2.4;stroke-dashoffset:0;stroke-width:1.5;\"/>\n",
       "   </g>\n",
       "   <g id=\"line2d_36\">\n",
       "    <path clip-path=\"url(#p37f692dc70)\" d=\"M 60.803125 48.375298 \n",
       "L 104.660268 86.232852 \n",
       "L 148.517411 112.379022 \n",
       "L 192.374554 124.791301 \n",
       "L 236.231696 132.176626 \n",
       "L 280.088839 144.709617 \n",
       "L 323.945982 154.105916 \n",
       "L 367.803125 159.746615 \n",
       "L 411.660268 167.271786 \n",
       "L 455.517411 171.114705 \n",
       "L 499.374554 176.448182 \n",
       "L 543.231696 181.324867 \n",
       "L 587.088839 184.673355 \n",
       "L 630.945982 189.939418 \n",
       "L 674.803125 192.984737 \n",
       "\" style=\"fill:none;stroke:#0000ff;stroke-linecap:square;stroke-width:1.5;\"/>\n",
       "   </g>\n",
       "   <g id=\"line2d_37\">\n",
       "    <path clip-path=\"url(#p37f692dc70)\" d=\"M 60.803125 65.858203 \n",
       "L 104.660268 103.143392 \n",
       "L 148.517411 115.293881 \n",
       "L 192.374554 123.181383 \n",
       "L 236.231696 132.346222 \n",
       "L 280.088839 132.664229 \n",
       "L 323.945982 133.111683 \n",
       "L 367.803125 131.809397 \n",
       "L 411.660268 122.411723 \n",
       "L 455.517411 121.351995 \n",
       "L 499.374554 107.538626 \n",
       "L 543.231696 98.458814 \n",
       "L 587.088839 81.076547 \n",
       "L 630.945982 64.544239 \n",
       "L 674.803125 35.809034 \n",
       "\" style=\"fill:none;stroke:#008000;stroke-dasharray:5.55,2.4;stroke-dashoffset:0;stroke-width:1.5;\"/>\n",
       "   </g>\n",
       "   <g id=\"line2d_38\">\n",
       "    <path clip-path=\"url(#p37f692dc70)\" d=\"M 60.803125 67.83301 \n",
       "L 104.660268 110.491487 \n",
       "L 148.517411 129.539987 \n",
       "L 192.374554 143.575889 \n",
       "L 236.231696 163.697001 \n",
       "L 280.088839 173.807852 \n",
       "L 323.945982 187.349347 \n",
       "L 367.803125 198.407005 \n",
       "L 411.660268 207.544676 \n",
       "L 455.517411 223.229778 \n",
       "L 499.374554 236.24685 \n",
       "L 543.231696 253.574273 \n",
       "L 587.088839 270.882781 \n",
       "L 630.945982 289.393202 \n",
       "L 674.803125 305.627216 \n",
       "\" style=\"fill:none;stroke:#008000;stroke-linecap:square;stroke-width:1.5;\"/>\n",
       "   </g>\n",
       "   <g id=\"line2d_39\">\n",
       "    <path clip-path=\"url(#p37f692dc70)\" d=\"M 60.803125 56.455823 \n",
       "L 104.660268 90.22136 \n",
       "L 148.517411 104.17928 \n",
       "L 192.374554 109.998575 \n",
       "L 236.231696 108.905141 \n",
       "L 280.088839 124.77791 \n",
       "L 323.945982 124.383103 \n",
       "L 367.803125 133.800466 \n",
       "L 411.660268 128.164665 \n",
       "L 455.517411 134.404174 \n",
       "L 499.374554 136.577675 \n",
       "L 543.231696 136.354105 \n",
       "L 587.088839 136.180986 \n",
       "L 630.945982 123.472946 \n",
       "L 674.803125 131.74553 \n",
       "\" style=\"fill:none;stroke:#ffff00;stroke-dasharray:5.55,2.4;stroke-dashoffset:0;stroke-width:1.5;\"/>\n",
       "   </g>\n",
       "   <g id=\"line2d_40\">\n",
       "    <path clip-path=\"url(#p37f692dc70)\" d=\"M 60.803125 57.60258 \n",
       "L 104.660268 96.105101 \n",
       "L 148.517411 112.477923 \n",
       "L 192.374554 120.625452 \n",
       "L 236.231696 124.241279 \n",
       "L 280.088839 142.39019 \n",
       "L 323.945982 146.913954 \n",
       "L 367.803125 158.055868 \n",
       "L 411.660268 160.478491 \n",
       "L 455.517411 168.333805 \n",
       "L 499.374554 175.059518 \n",
       "L 543.231696 178.90982 \n",
       "L 587.088839 183.483095 \n",
       "L 630.945982 183.931973 \n",
       "L 674.803125 190.679642 \n",
       "\" style=\"fill:none;stroke:#ffff00;stroke-linecap:square;stroke-width:1.5;\"/>\n",
       "   </g>\n",
       "   <g id=\"line2d_41\">\n",
       "    <path clip-path=\"url(#p37f692dc70)\" d=\"M 60.803125 43.578018 \n",
       "L 104.660268 76.225776 \n",
       "L 148.517411 96.740319 \n",
       "L 192.374554 109.926698 \n",
       "L 236.231696 124.900649 \n",
       "L 280.088839 128.04762 \n",
       "L 323.945982 131.621898 \n",
       "L 367.803125 135.419433 \n",
       "L 411.660268 133.263376 \n",
       "L 455.517411 129.631094 \n",
       "L 499.374554 125.686113 \n",
       "L 543.231696 126.455677 \n",
       "L 587.088839 110.396857 \n",
       "L 630.945982 99.946549 \n",
       "L 674.803125 92.609746 \n",
       "\" style=\"fill:none;stroke:#800080;stroke-dasharray:5.55,2.4;stroke-dashoffset:0;stroke-width:1.5;\"/>\n",
       "   </g>\n",
       "   <g id=\"line2d_42\">\n",
       "    <path clip-path=\"url(#p37f692dc70)\" d=\"M 60.803125 45.616161 \n",
       "L 104.660268 79.777446 \n",
       "L 148.517411 104.012459 \n",
       "L 192.374554 121.899967 \n",
       "L 236.231696 141.27492 \n",
       "L 280.088839 152.060342 \n",
       "L 323.945982 159.473534 \n",
       "L 367.803125 170.689497 \n",
       "L 411.660268 182.598755 \n",
       "L 455.517411 189.128644 \n",
       "L 499.374554 203.231984 \n",
       "L 543.231696 214.55744 \n",
       "L 587.088839 228.141424 \n",
       "L 630.945982 239.683887 \n",
       "L 674.803125 261.028483 \n",
       "\" style=\"fill:none;stroke:#800080;stroke-linecap:square;stroke-width:1.5;\"/>\n",
       "   </g>\n",
       "   <g id=\"line2d_43\">\n",
       "    <path clip-path=\"url(#p37f692dc70)\" d=\"M 60.803125 42.866097 \n",
       "L 104.660268 37.447038 \n",
       "L 148.517411 91.893722 \n",
       "L 192.374554 104.055817 \n",
       "L 236.231696 117.653217 \n",
       "L 280.088839 125.130372 \n",
       "L 323.945982 129.678434 \n",
       "L 367.803125 130.215741 \n",
       "L 411.660268 136.367664 \n",
       "L 455.517411 140.332479 \n",
       "L 499.374554 138.545846 \n",
       "L 543.231696 142.485664 \n",
       "L 587.088839 142.959828 \n",
       "L 630.945982 144.367023 \n",
       "L 674.803125 145.384743 \n",
       "\" style=\"fill:none;stroke:#00ffff;stroke-dasharray:5.55,2.4;stroke-dashoffset:0;stroke-width:1.5;\"/>\n",
       "   </g>\n",
       "   <g id=\"line2d_44\">\n",
       "    <path clip-path=\"url(#p37f692dc70)\" d=\"M 60.803125 42.209187 \n",
       "L 104.660268 39.324005 \n",
       "L 148.517411 97.12714 \n",
       "L 192.374554 111.58439 \n",
       "L 236.231696 125.654602 \n",
       "L 280.088839 136.911052 \n",
       "L 323.945982 143.765198 \n",
       "L 367.803125 146.56487 \n",
       "L 411.660268 154.991536 \n",
       "L 455.517411 161.271869 \n",
       "L 499.374554 162.433682 \n",
       "L 543.231696 169.931925 \n",
       "L 587.088839 172.949401 \n",
       "L 630.945982 174.669054 \n",
       "L 674.803125 179.185459 \n",
       "\" style=\"fill:none;stroke:#00ffff;stroke-linecap:square;stroke-width:1.5;\"/>\n",
       "   </g>\n",
       "   <g id=\"patch_3\">\n",
       "    <path d=\"M 30.103125 319.118125 \n",
       "L 30.103125 22.318125 \n",
       "\" style=\"fill:none;stroke:#000000;stroke-linecap:square;stroke-linejoin:miter;stroke-width:0.8;\"/>\n",
       "   </g>\n",
       "   <g id=\"patch_4\">\n",
       "    <path d=\"M 705.503125 319.118125 \n",
       "L 705.503125 22.318125 \n",
       "\" style=\"fill:none;stroke:#000000;stroke-linecap:square;stroke-linejoin:miter;stroke-width:0.8;\"/>\n",
       "   </g>\n",
       "   <g id=\"patch_5\">\n",
       "    <path d=\"M 30.103125 319.118125 \n",
       "L 705.503125 319.118125 \n",
       "\" style=\"fill:none;stroke:#000000;stroke-linecap:square;stroke-linejoin:miter;stroke-width:0.8;\"/>\n",
       "   </g>\n",
       "   <g id=\"patch_6\">\n",
       "    <path d=\"M 30.103125 22.318125 \n",
       "L 705.503125 22.318125 \n",
       "\" style=\"fill:none;stroke:#000000;stroke-linecap:square;stroke-linejoin:miter;stroke-width:0.8;\"/>\n",
       "   </g>\n",
       "   <g id=\"text_17\">\n",
       "    <!-- CrossEntropy Loss -->\n",
       "    <defs>\n",
       "     <path d=\"M 64.40625 67.28125 \n",
       "L 64.40625 56.890625 \n",
       "Q 59.421875 61.53125 53.78125 63.8125 \n",
       "Q 48.140625 66.109375 41.796875 66.109375 \n",
       "Q 29.296875 66.109375 22.65625 58.46875 \n",
       "Q 16.015625 50.828125 16.015625 36.375 \n",
       "Q 16.015625 21.96875 22.65625 14.328125 \n",
       "Q 29.296875 6.6875 41.796875 6.6875 \n",
       "Q 48.140625 6.6875 53.78125 8.984375 \n",
       "Q 59.421875 11.28125 64.40625 15.921875 \n",
       "L 64.40625 5.609375 \n",
       "Q 59.234375 2.09375 53.4375 0.328125 \n",
       "Q 47.65625 -1.421875 41.21875 -1.421875 \n",
       "Q 24.65625 -1.421875 15.125 8.703125 \n",
       "Q 5.609375 18.84375 5.609375 36.375 \n",
       "Q 5.609375 53.953125 15.125 64.078125 \n",
       "Q 24.65625 74.21875 41.21875 74.21875 \n",
       "Q 47.75 74.21875 53.53125 72.484375 \n",
       "Q 59.328125 70.75 64.40625 67.28125 \n",
       "z\n",
       "\" id=\"DejaVuSans-67\"/>\n",
       "     <path d=\"M 41.109375 46.296875 \n",
       "Q 39.59375 47.171875 37.8125 47.578125 \n",
       "Q 36.03125 48 33.890625 48 \n",
       "Q 26.265625 48 22.1875 43.046875 \n",
       "Q 18.109375 38.09375 18.109375 28.8125 \n",
       "L 18.109375 0 \n",
       "L 9.078125 0 \n",
       "L 9.078125 54.6875 \n",
       "L 18.109375 54.6875 \n",
       "L 18.109375 46.1875 \n",
       "Q 20.953125 51.171875 25.484375 53.578125 \n",
       "Q 30.03125 56 36.53125 56 \n",
       "Q 37.453125 56 38.578125 55.875 \n",
       "Q 39.703125 55.765625 41.0625 55.515625 \n",
       "z\n",
       "\" id=\"DejaVuSans-114\"/>\n",
       "     <path d=\"M 44.28125 53.078125 \n",
       "L 44.28125 44.578125 \n",
       "Q 40.484375 46.53125 36.375 47.5 \n",
       "Q 32.28125 48.484375 27.875 48.484375 \n",
       "Q 21.1875 48.484375 17.84375 46.4375 \n",
       "Q 14.5 44.390625 14.5 40.28125 \n",
       "Q 14.5 37.15625 16.890625 35.375 \n",
       "Q 19.28125 33.59375 26.515625 31.984375 \n",
       "L 29.59375 31.296875 \n",
       "Q 39.15625 29.25 43.1875 25.515625 \n",
       "Q 47.21875 21.78125 47.21875 15.09375 \n",
       "Q 47.21875 7.46875 41.1875 3.015625 \n",
       "Q 35.15625 -1.421875 24.609375 -1.421875 \n",
       "Q 20.21875 -1.421875 15.453125 -0.5625 \n",
       "Q 10.6875 0.296875 5.421875 2 \n",
       "L 5.421875 11.28125 \n",
       "Q 10.40625 8.6875 15.234375 7.390625 \n",
       "Q 20.0625 6.109375 24.8125 6.109375 \n",
       "Q 31.15625 6.109375 34.5625 8.28125 \n",
       "Q 37.984375 10.453125 37.984375 14.40625 \n",
       "Q 37.984375 18.0625 35.515625 20.015625 \n",
       "Q 33.0625 21.96875 24.703125 23.78125 \n",
       "L 21.578125 24.515625 \n",
       "Q 13.234375 26.265625 9.515625 29.90625 \n",
       "Q 5.8125 33.546875 5.8125 39.890625 \n",
       "Q 5.8125 47.609375 11.28125 51.796875 \n",
       "Q 16.75 56 26.8125 56 \n",
       "Q 31.78125 56 36.171875 55.265625 \n",
       "Q 40.578125 54.546875 44.28125 53.078125 \n",
       "z\n",
       "\" id=\"DejaVuSans-115\"/>\n",
       "     <path d=\"M 54.890625 33.015625 \n",
       "L 54.890625 0 \n",
       "L 45.90625 0 \n",
       "L 45.90625 32.71875 \n",
       "Q 45.90625 40.484375 42.875 44.328125 \n",
       "Q 39.84375 48.1875 33.796875 48.1875 \n",
       "Q 26.515625 48.1875 22.3125 43.546875 \n",
       "Q 18.109375 38.921875 18.109375 30.90625 \n",
       "L 18.109375 0 \n",
       "L 9.078125 0 \n",
       "L 9.078125 54.6875 \n",
       "L 18.109375 54.6875 \n",
       "L 18.109375 46.1875 \n",
       "Q 21.34375 51.125 25.703125 53.5625 \n",
       "Q 30.078125 56 35.796875 56 \n",
       "Q 45.21875 56 50.046875 50.171875 \n",
       "Q 54.890625 44.34375 54.890625 33.015625 \n",
       "z\n",
       "\" id=\"DejaVuSans-110\"/>\n",
       "     <path d=\"M 18.3125 70.21875 \n",
       "L 18.3125 54.6875 \n",
       "L 36.8125 54.6875 \n",
       "L 36.8125 47.703125 \n",
       "L 18.3125 47.703125 \n",
       "L 18.3125 18.015625 \n",
       "Q 18.3125 11.328125 20.140625 9.421875 \n",
       "Q 21.96875 7.515625 27.59375 7.515625 \n",
       "L 36.8125 7.515625 \n",
       "L 36.8125 0 \n",
       "L 27.59375 0 \n",
       "Q 17.1875 0 13.234375 3.875 \n",
       "Q 9.28125 7.765625 9.28125 18.015625 \n",
       "L 9.28125 47.703125 \n",
       "L 2.6875 47.703125 \n",
       "L 2.6875 54.6875 \n",
       "L 9.28125 54.6875 \n",
       "L 9.28125 70.21875 \n",
       "z\n",
       "\" id=\"DejaVuSans-116\"/>\n",
       "     <path d=\"M 32.171875 -5.078125 \n",
       "Q 28.375 -14.84375 24.75 -17.8125 \n",
       "Q 21.140625 -20.796875 15.09375 -20.796875 \n",
       "L 7.90625 -20.796875 \n",
       "L 7.90625 -13.28125 \n",
       "L 13.1875 -13.28125 \n",
       "Q 16.890625 -13.28125 18.9375 -11.515625 \n",
       "Q 21 -9.765625 23.484375 -3.21875 \n",
       "L 25.09375 0.875 \n",
       "L 2.984375 54.6875 \n",
       "L 12.5 54.6875 \n",
       "L 29.59375 11.921875 \n",
       "L 46.6875 54.6875 \n",
       "L 56.203125 54.6875 \n",
       "z\n",
       "\" id=\"DejaVuSans-121\"/>\n",
       "     <path id=\"DejaVuSans-32\"/>\n",
       "     <path d=\"M 9.8125 72.90625 \n",
       "L 19.671875 72.90625 \n",
       "L 19.671875 8.296875 \n",
       "L 55.171875 8.296875 \n",
       "L 55.171875 0 \n",
       "L 9.8125 0 \n",
       "z\n",
       "\" id=\"DejaVuSans-76\"/>\n",
       "    </defs>\n",
       "    <g transform=\"translate(312.982812 16.318125)scale(0.12 -0.12)\">\n",
       "     <use xlink:href=\"#DejaVuSans-67\"/>\n",
       "     <use x=\"69.824219\" xlink:href=\"#DejaVuSans-114\"/>\n",
       "     <use x=\"108.6875\" xlink:href=\"#DejaVuSans-111\"/>\n",
       "     <use x=\"169.869141\" xlink:href=\"#DejaVuSans-115\"/>\n",
       "     <use x=\"221.96875\" xlink:href=\"#DejaVuSans-115\"/>\n",
       "     <use x=\"274.068359\" xlink:href=\"#DejaVuSans-69\"/>\n",
       "     <use x=\"337.251953\" xlink:href=\"#DejaVuSans-110\"/>\n",
       "     <use x=\"400.630859\" xlink:href=\"#DejaVuSans-116\"/>\n",
       "     <use x=\"439.839844\" xlink:href=\"#DejaVuSans-114\"/>\n",
       "     <use x=\"478.703125\" xlink:href=\"#DejaVuSans-111\"/>\n",
       "     <use x=\"539.884766\" xlink:href=\"#DejaVuSans-112\"/>\n",
       "     <use x=\"603.361328\" xlink:href=\"#DejaVuSans-121\"/>\n",
       "     <use x=\"662.541016\" xlink:href=\"#DejaVuSans-32\"/>\n",
       "     <use x=\"694.328125\" xlink:href=\"#DejaVuSans-76\"/>\n",
       "     <use x=\"748.291016\" xlink:href=\"#DejaVuSans-111\"/>\n",
       "     <use x=\"809.472656\" xlink:href=\"#DejaVuSans-115\"/>\n",
       "     <use x=\"861.572266\" xlink:href=\"#DejaVuSans-115\"/>\n",
       "    </g>\n",
       "   </g>\n",
       "   <g id=\"legend_1\">\n",
       "    <g id=\"patch_7\">\n",
       "     <path d=\"M 37.103125 314.118125 \n",
       "L 216.909375 314.118125 \n",
       "Q 218.909375 314.118125 218.909375 312.118125 \n",
       "L 218.909375 107.624375 \n",
       "Q 218.909375 105.624375 216.909375 105.624375 \n",
       "L 37.103125 105.624375 \n",
       "Q 35.103125 105.624375 35.103125 107.624375 \n",
       "L 35.103125 312.118125 \n",
       "Q 35.103125 314.118125 37.103125 314.118125 \n",
       "z\n",
       "\" style=\"fill:#ffffff;opacity:0.8;stroke:#cccccc;stroke-linejoin:miter;\"/>\n",
       "    </g>\n",
       "    <g id=\"line2d_45\">\n",
       "     <path d=\"M 39.103125 113.722812 \n",
       "L 59.103125 113.722812 \n",
       "\" style=\"fill:none;stroke:#000000;stroke-dasharray:5.55,2.4;stroke-dashoffset:0;stroke-width:1.5;\"/>\n",
       "    </g>\n",
       "    <g id=\"line2d_46\"/>\n",
       "    <g id=\"text_18\">\n",
       "     <!-- Base test -->\n",
       "     <defs>\n",
       "      <path d=\"M 19.671875 34.8125 \n",
       "L 19.671875 8.109375 \n",
       "L 35.5 8.109375 \n",
       "Q 43.453125 8.109375 47.28125 11.40625 \n",
       "Q 51.125 14.703125 51.125 21.484375 \n",
       "Q 51.125 28.328125 47.28125 31.5625 \n",
       "Q 43.453125 34.8125 35.5 34.8125 \n",
       "z\n",
       "M 19.671875 64.796875 \n",
       "L 19.671875 42.828125 \n",
       "L 34.28125 42.828125 \n",
       "Q 41.5 42.828125 45.03125 45.53125 \n",
       "Q 48.578125 48.25 48.578125 53.8125 \n",
       "Q 48.578125 59.328125 45.03125 62.0625 \n",
       "Q 41.5 64.796875 34.28125 64.796875 \n",
       "z\n",
       "M 9.8125 72.90625 \n",
       "L 35.015625 72.90625 \n",
       "Q 46.296875 72.90625 52.390625 68.21875 \n",
       "Q 58.5 63.53125 58.5 54.890625 \n",
       "Q 58.5 48.1875 55.375 44.234375 \n",
       "Q 52.25 40.28125 46.1875 39.3125 \n",
       "Q 53.46875 37.75 57.5 32.78125 \n",
       "Q 61.53125 27.828125 61.53125 20.40625 \n",
       "Q 61.53125 10.640625 54.890625 5.3125 \n",
       "Q 48.25 0 35.984375 0 \n",
       "L 9.8125 0 \n",
       "z\n",
       "\" id=\"DejaVuSans-66\"/>\n",
       "      <path d=\"M 34.28125 27.484375 \n",
       "Q 23.390625 27.484375 19.1875 25 \n",
       "Q 14.984375 22.515625 14.984375 16.5 \n",
       "Q 14.984375 11.71875 18.140625 8.90625 \n",
       "Q 21.296875 6.109375 26.703125 6.109375 \n",
       "Q 34.1875 6.109375 38.703125 11.40625 \n",
       "Q 43.21875 16.703125 43.21875 25.484375 \n",
       "L 43.21875 27.484375 \n",
       "z\n",
       "M 52.203125 31.203125 \n",
       "L 52.203125 0 \n",
       "L 43.21875 0 \n",
       "L 43.21875 8.296875 \n",
       "Q 40.140625 3.328125 35.546875 0.953125 \n",
       "Q 30.953125 -1.421875 24.3125 -1.421875 \n",
       "Q 15.921875 -1.421875 10.953125 3.296875 \n",
       "Q 6 8.015625 6 15.921875 \n",
       "Q 6 25.140625 12.171875 29.828125 \n",
       "Q 18.359375 34.515625 30.609375 34.515625 \n",
       "L 43.21875 34.515625 \n",
       "L 43.21875 35.40625 \n",
       "Q 43.21875 41.609375 39.140625 45 \n",
       "Q 35.0625 48.390625 27.6875 48.390625 \n",
       "Q 23 48.390625 18.546875 47.265625 \n",
       "Q 14.109375 46.140625 10.015625 43.890625 \n",
       "L 10.015625 52.203125 \n",
       "Q 14.9375 54.109375 19.578125 55.046875 \n",
       "Q 24.21875 56 28.609375 56 \n",
       "Q 40.484375 56 46.34375 49.84375 \n",
       "Q 52.203125 43.703125 52.203125 31.203125 \n",
       "z\n",
       "\" id=\"DejaVuSans-97\"/>\n",
       "      <path d=\"M 56.203125 29.59375 \n",
       "L 56.203125 25.203125 \n",
       "L 14.890625 25.203125 \n",
       "Q 15.484375 15.921875 20.484375 11.0625 \n",
       "Q 25.484375 6.203125 34.421875 6.203125 \n",
       "Q 39.59375 6.203125 44.453125 7.46875 \n",
       "Q 49.3125 8.734375 54.109375 11.28125 \n",
       "L 54.109375 2.78125 \n",
       "Q 49.265625 0.734375 44.1875 -0.34375 \n",
       "Q 39.109375 -1.421875 33.890625 -1.421875 \n",
       "Q 20.796875 -1.421875 13.15625 6.1875 \n",
       "Q 5.515625 13.8125 5.515625 26.8125 \n",
       "Q 5.515625 40.234375 12.765625 48.109375 \n",
       "Q 20.015625 56 32.328125 56 \n",
       "Q 43.359375 56 49.78125 48.890625 \n",
       "Q 56.203125 41.796875 56.203125 29.59375 \n",
       "z\n",
       "M 47.21875 32.234375 \n",
       "Q 47.125 39.59375 43.09375 43.984375 \n",
       "Q 39.0625 48.390625 32.421875 48.390625 \n",
       "Q 24.90625 48.390625 20.390625 44.140625 \n",
       "Q 15.875 39.890625 15.1875 32.171875 \n",
       "z\n",
       "\" id=\"DejaVuSans-101\"/>\n",
       "     </defs>\n",
       "     <g transform=\"translate(67.103125 117.222812)scale(0.1 -0.1)\">\n",
       "      <use xlink:href=\"#DejaVuSans-66\"/>\n",
       "      <use x=\"68.603516\" xlink:href=\"#DejaVuSans-97\"/>\n",
       "      <use x=\"129.882812\" xlink:href=\"#DejaVuSans-115\"/>\n",
       "      <use x=\"181.982422\" xlink:href=\"#DejaVuSans-101\"/>\n",
       "      <use x=\"243.505859\" xlink:href=\"#DejaVuSans-32\"/>\n",
       "      <use x=\"275.292969\" xlink:href=\"#DejaVuSans-116\"/>\n",
       "      <use x=\"314.501953\" xlink:href=\"#DejaVuSans-101\"/>\n",
       "      <use x=\"376.025391\" xlink:href=\"#DejaVuSans-115\"/>\n",
       "      <use x=\"428.125\" xlink:href=\"#DejaVuSans-116\"/>\n",
       "     </g>\n",
       "    </g>\n",
       "    <g id=\"line2d_47\">\n",
       "     <path d=\"M 39.103125 128.400937 \n",
       "L 59.103125 128.400937 \n",
       "\" style=\"fill:none;stroke:#000000;stroke-linecap:square;stroke-width:1.5;\"/>\n",
       "    </g>\n",
       "    <g id=\"line2d_48\"/>\n",
       "    <g id=\"text_19\">\n",
       "     <!-- Base train -->\n",
       "     <defs>\n",
       "      <path d=\"M 9.421875 54.6875 \n",
       "L 18.40625 54.6875 \n",
       "L 18.40625 0 \n",
       "L 9.421875 0 \n",
       "z\n",
       "M 9.421875 75.984375 \n",
       "L 18.40625 75.984375 \n",
       "L 18.40625 64.59375 \n",
       "L 9.421875 64.59375 \n",
       "z\n",
       "\" id=\"DejaVuSans-105\"/>\n",
       "     </defs>\n",
       "     <g transform=\"translate(67.103125 131.900937)scale(0.1 -0.1)\">\n",
       "      <use xlink:href=\"#DejaVuSans-66\"/>\n",
       "      <use x=\"68.603516\" xlink:href=\"#DejaVuSans-97\"/>\n",
       "      <use x=\"129.882812\" xlink:href=\"#DejaVuSans-115\"/>\n",
       "      <use x=\"181.982422\" xlink:href=\"#DejaVuSans-101\"/>\n",
       "      <use x=\"243.505859\" xlink:href=\"#DejaVuSans-32\"/>\n",
       "      <use x=\"275.292969\" xlink:href=\"#DejaVuSans-116\"/>\n",
       "      <use x=\"314.501953\" xlink:href=\"#DejaVuSans-114\"/>\n",
       "      <use x=\"355.615234\" xlink:href=\"#DejaVuSans-97\"/>\n",
       "      <use x=\"416.894531\" xlink:href=\"#DejaVuSans-105\"/>\n",
       "      <use x=\"444.677734\" xlink:href=\"#DejaVuSans-110\"/>\n",
       "     </g>\n",
       "    </g>\n",
       "    <g id=\"line2d_49\">\n",
       "     <path d=\"M 39.103125 143.079062 \n",
       "L 59.103125 143.079062 \n",
       "\" style=\"fill:none;stroke:#ff0000;stroke-dasharray:5.55,2.4;stroke-dashoffset:0;stroke-width:1.5;\"/>\n",
       "    </g>\n",
       "    <g id=\"line2d_50\"/>\n",
       "    <g id=\"text_20\">\n",
       "     <!-- Var test -->\n",
       "     <defs>\n",
       "      <path d=\"M 28.609375 0 \n",
       "L 0.78125 72.90625 \n",
       "L 11.078125 72.90625 \n",
       "L 34.1875 11.53125 \n",
       "L 57.328125 72.90625 \n",
       "L 67.578125 72.90625 \n",
       "L 39.796875 0 \n",
       "z\n",
       "\" id=\"DejaVuSans-86\"/>\n",
       "     </defs>\n",
       "     <g transform=\"translate(67.103125 146.579062)scale(0.1 -0.1)\">\n",
       "      <use xlink:href=\"#DejaVuSans-86\"/>\n",
       "      <use x=\"60.658203\" xlink:href=\"#DejaVuSans-97\"/>\n",
       "      <use x=\"121.9375\" xlink:href=\"#DejaVuSans-114\"/>\n",
       "      <use x=\"163.050781\" xlink:href=\"#DejaVuSans-32\"/>\n",
       "      <use x=\"194.837891\" xlink:href=\"#DejaVuSans-116\"/>\n",
       "      <use x=\"234.046875\" xlink:href=\"#DejaVuSans-101\"/>\n",
       "      <use x=\"295.570312\" xlink:href=\"#DejaVuSans-115\"/>\n",
       "      <use x=\"347.669922\" xlink:href=\"#DejaVuSans-116\"/>\n",
       "     </g>\n",
       "    </g>\n",
       "    <g id=\"line2d_51\">\n",
       "     <path d=\"M 39.103125 157.757187 \n",
       "L 59.103125 157.757187 \n",
       "\" style=\"fill:none;stroke:#ff0000;stroke-linecap:square;stroke-width:1.5;\"/>\n",
       "    </g>\n",
       "    <g id=\"line2d_52\"/>\n",
       "    <g id=\"text_21\">\n",
       "     <!-- Var train -->\n",
       "     <g transform=\"translate(67.103125 161.257187)scale(0.1 -0.1)\">\n",
       "      <use xlink:href=\"#DejaVuSans-86\"/>\n",
       "      <use x=\"60.658203\" xlink:href=\"#DejaVuSans-97\"/>\n",
       "      <use x=\"121.9375\" xlink:href=\"#DejaVuSans-114\"/>\n",
       "      <use x=\"163.050781\" xlink:href=\"#DejaVuSans-32\"/>\n",
       "      <use x=\"194.837891\" xlink:href=\"#DejaVuSans-116\"/>\n",
       "      <use x=\"234.046875\" xlink:href=\"#DejaVuSans-114\"/>\n",
       "      <use x=\"275.160156\" xlink:href=\"#DejaVuSans-97\"/>\n",
       "      <use x=\"336.439453\" xlink:href=\"#DejaVuSans-105\"/>\n",
       "      <use x=\"364.222656\" xlink:href=\"#DejaVuSans-110\"/>\n",
       "     </g>\n",
       "    </g>\n",
       "    <g id=\"line2d_53\">\n",
       "     <path d=\"M 39.103125 172.435312 \n",
       "L 59.103125 172.435312 \n",
       "\" style=\"fill:none;stroke:#0000ff;stroke-dasharray:5.55,2.4;stroke-dashoffset:0;stroke-width:1.5;\"/>\n",
       "    </g>\n",
       "    <g id=\"line2d_54\"/>\n",
       "    <g id=\"text_22\">\n",
       "     <!-- Var with dropout test -->\n",
       "     <defs>\n",
       "      <path d=\"M 4.203125 54.6875 \n",
       "L 13.1875 54.6875 \n",
       "L 24.421875 12.015625 \n",
       "L 35.59375 54.6875 \n",
       "L 46.1875 54.6875 \n",
       "L 57.421875 12.015625 \n",
       "L 68.609375 54.6875 \n",
       "L 77.59375 54.6875 \n",
       "L 63.28125 0 \n",
       "L 52.6875 0 \n",
       "L 40.921875 44.828125 \n",
       "L 29.109375 0 \n",
       "L 18.5 0 \n",
       "z\n",
       "\" id=\"DejaVuSans-119\"/>\n",
       "      <path d=\"M 45.40625 46.390625 \n",
       "L 45.40625 75.984375 \n",
       "L 54.390625 75.984375 \n",
       "L 54.390625 0 \n",
       "L 45.40625 0 \n",
       "L 45.40625 8.203125 \n",
       "Q 42.578125 3.328125 38.25 0.953125 \n",
       "Q 33.9375 -1.421875 27.875 -1.421875 \n",
       "Q 17.96875 -1.421875 11.734375 6.484375 \n",
       "Q 5.515625 14.40625 5.515625 27.296875 \n",
       "Q 5.515625 40.1875 11.734375 48.09375 \n",
       "Q 17.96875 56 27.875 56 \n",
       "Q 33.9375 56 38.25 53.625 \n",
       "Q 42.578125 51.265625 45.40625 46.390625 \n",
       "z\n",
       "M 14.796875 27.296875 \n",
       "Q 14.796875 17.390625 18.875 11.75 \n",
       "Q 22.953125 6.109375 30.078125 6.109375 \n",
       "Q 37.203125 6.109375 41.296875 11.75 \n",
       "Q 45.40625 17.390625 45.40625 27.296875 \n",
       "Q 45.40625 37.203125 41.296875 42.84375 \n",
       "Q 37.203125 48.484375 30.078125 48.484375 \n",
       "Q 22.953125 48.484375 18.875 42.84375 \n",
       "Q 14.796875 37.203125 14.796875 27.296875 \n",
       "z\n",
       "\" id=\"DejaVuSans-100\"/>\n",
       "      <path d=\"M 8.5 21.578125 \n",
       "L 8.5 54.6875 \n",
       "L 17.484375 54.6875 \n",
       "L 17.484375 21.921875 \n",
       "Q 17.484375 14.15625 20.5 10.265625 \n",
       "Q 23.53125 6.390625 29.59375 6.390625 \n",
       "Q 36.859375 6.390625 41.078125 11.03125 \n",
       "Q 45.3125 15.671875 45.3125 23.6875 \n",
       "L 45.3125 54.6875 \n",
       "L 54.296875 54.6875 \n",
       "L 54.296875 0 \n",
       "L 45.3125 0 \n",
       "L 45.3125 8.40625 \n",
       "Q 42.046875 3.421875 37.71875 1 \n",
       "Q 33.40625 -1.421875 27.6875 -1.421875 \n",
       "Q 18.265625 -1.421875 13.375 4.4375 \n",
       "Q 8.5 10.296875 8.5 21.578125 \n",
       "z\n",
       "M 31.109375 56 \n",
       "z\n",
       "\" id=\"DejaVuSans-117\"/>\n",
       "     </defs>\n",
       "     <g transform=\"translate(67.103125 175.935312)scale(0.1 -0.1)\">\n",
       "      <use xlink:href=\"#DejaVuSans-86\"/>\n",
       "      <use x=\"60.658203\" xlink:href=\"#DejaVuSans-97\"/>\n",
       "      <use x=\"121.9375\" xlink:href=\"#DejaVuSans-114\"/>\n",
       "      <use x=\"163.050781\" xlink:href=\"#DejaVuSans-32\"/>\n",
       "      <use x=\"194.837891\" xlink:href=\"#DejaVuSans-119\"/>\n",
       "      <use x=\"276.625\" xlink:href=\"#DejaVuSans-105\"/>\n",
       "      <use x=\"304.408203\" xlink:href=\"#DejaVuSans-116\"/>\n",
       "      <use x=\"343.617188\" xlink:href=\"#DejaVuSans-104\"/>\n",
       "      <use x=\"406.996094\" xlink:href=\"#DejaVuSans-32\"/>\n",
       "      <use x=\"438.783203\" xlink:href=\"#DejaVuSans-100\"/>\n",
       "      <use x=\"502.259766\" xlink:href=\"#DejaVuSans-114\"/>\n",
       "      <use x=\"541.123047\" xlink:href=\"#DejaVuSans-111\"/>\n",
       "      <use x=\"602.304688\" xlink:href=\"#DejaVuSans-112\"/>\n",
       "      <use x=\"665.78125\" xlink:href=\"#DejaVuSans-111\"/>\n",
       "      <use x=\"726.962891\" xlink:href=\"#DejaVuSans-117\"/>\n",
       "      <use x=\"790.341797\" xlink:href=\"#DejaVuSans-116\"/>\n",
       "      <use x=\"829.550781\" xlink:href=\"#DejaVuSans-32\"/>\n",
       "      <use x=\"861.337891\" xlink:href=\"#DejaVuSans-116\"/>\n",
       "      <use x=\"900.546875\" xlink:href=\"#DejaVuSans-101\"/>\n",
       "      <use x=\"962.070312\" xlink:href=\"#DejaVuSans-115\"/>\n",
       "      <use x=\"1014.169922\" xlink:href=\"#DejaVuSans-116\"/>\n",
       "     </g>\n",
       "    </g>\n",
       "    <g id=\"line2d_55\">\n",
       "     <path d=\"M 39.103125 187.113437 \n",
       "L 59.103125 187.113437 \n",
       "\" style=\"fill:none;stroke:#0000ff;stroke-linecap:square;stroke-width:1.5;\"/>\n",
       "    </g>\n",
       "    <g id=\"line2d_56\"/>\n",
       "    <g id=\"text_23\">\n",
       "     <!-- Var with dropout train -->\n",
       "     <g transform=\"translate(67.103125 190.613437)scale(0.1 -0.1)\">\n",
       "      <use xlink:href=\"#DejaVuSans-86\"/>\n",
       "      <use x=\"60.658203\" xlink:href=\"#DejaVuSans-97\"/>\n",
       "      <use x=\"121.9375\" xlink:href=\"#DejaVuSans-114\"/>\n",
       "      <use x=\"163.050781\" xlink:href=\"#DejaVuSans-32\"/>\n",
       "      <use x=\"194.837891\" xlink:href=\"#DejaVuSans-119\"/>\n",
       "      <use x=\"276.625\" xlink:href=\"#DejaVuSans-105\"/>\n",
       "      <use x=\"304.408203\" xlink:href=\"#DejaVuSans-116\"/>\n",
       "      <use x=\"343.617188\" xlink:href=\"#DejaVuSans-104\"/>\n",
       "      <use x=\"406.996094\" xlink:href=\"#DejaVuSans-32\"/>\n",
       "      <use x=\"438.783203\" xlink:href=\"#DejaVuSans-100\"/>\n",
       "      <use x=\"502.259766\" xlink:href=\"#DejaVuSans-114\"/>\n",
       "      <use x=\"541.123047\" xlink:href=\"#DejaVuSans-111\"/>\n",
       "      <use x=\"602.304688\" xlink:href=\"#DejaVuSans-112\"/>\n",
       "      <use x=\"665.78125\" xlink:href=\"#DejaVuSans-111\"/>\n",
       "      <use x=\"726.962891\" xlink:href=\"#DejaVuSans-117\"/>\n",
       "      <use x=\"790.341797\" xlink:href=\"#DejaVuSans-116\"/>\n",
       "      <use x=\"829.550781\" xlink:href=\"#DejaVuSans-32\"/>\n",
       "      <use x=\"861.337891\" xlink:href=\"#DejaVuSans-116\"/>\n",
       "      <use x=\"900.546875\" xlink:href=\"#DejaVuSans-114\"/>\n",
       "      <use x=\"941.660156\" xlink:href=\"#DejaVuSans-97\"/>\n",
       "      <use x=\"1002.939453\" xlink:href=\"#DejaVuSans-105\"/>\n",
       "      <use x=\"1030.722656\" xlink:href=\"#DejaVuSans-110\"/>\n",
       "     </g>\n",
       "    </g>\n",
       "    <g id=\"line2d_57\">\n",
       "     <path d=\"M 39.103125 201.791562 \n",
       "L 59.103125 201.791562 \n",
       "\" style=\"fill:none;stroke:#008000;stroke-dasharray:5.55,2.4;stroke-dashoffset:0;stroke-width:1.5;\"/>\n",
       "    </g>\n",
       "    <g id=\"line2d_58\"/>\n",
       "    <g id=\"text_24\">\n",
       "     <!-- FastVar test -->\n",
       "     <defs>\n",
       "      <path d=\"M 9.8125 72.90625 \n",
       "L 51.703125 72.90625 \n",
       "L 51.703125 64.59375 \n",
       "L 19.671875 64.59375 \n",
       "L 19.671875 43.109375 \n",
       "L 48.578125 43.109375 \n",
       "L 48.578125 34.8125 \n",
       "L 19.671875 34.8125 \n",
       "L 19.671875 0 \n",
       "L 9.8125 0 \n",
       "z\n",
       "\" id=\"DejaVuSans-70\"/>\n",
       "     </defs>\n",
       "     <g transform=\"translate(67.103125 205.291562)scale(0.1 -0.1)\">\n",
       "      <use xlink:href=\"#DejaVuSans-70\"/>\n",
       "      <use x=\"48.394531\" xlink:href=\"#DejaVuSans-97\"/>\n",
       "      <use x=\"109.673828\" xlink:href=\"#DejaVuSans-115\"/>\n",
       "      <use x=\"161.773438\" xlink:href=\"#DejaVuSans-116\"/>\n",
       "      <use x=\"200.982422\" xlink:href=\"#DejaVuSans-86\"/>\n",
       "      <use x=\"261.640625\" xlink:href=\"#DejaVuSans-97\"/>\n",
       "      <use x=\"322.919922\" xlink:href=\"#DejaVuSans-114\"/>\n",
       "      <use x=\"364.033203\" xlink:href=\"#DejaVuSans-32\"/>\n",
       "      <use x=\"395.820312\" xlink:href=\"#DejaVuSans-116\"/>\n",
       "      <use x=\"435.029297\" xlink:href=\"#DejaVuSans-101\"/>\n",
       "      <use x=\"496.552734\" xlink:href=\"#DejaVuSans-115\"/>\n",
       "      <use x=\"548.652344\" xlink:href=\"#DejaVuSans-116\"/>\n",
       "     </g>\n",
       "    </g>\n",
       "    <g id=\"line2d_59\">\n",
       "     <path d=\"M 39.103125 216.469687 \n",
       "L 59.103125 216.469687 \n",
       "\" style=\"fill:none;stroke:#008000;stroke-linecap:square;stroke-width:1.5;\"/>\n",
       "    </g>\n",
       "    <g id=\"line2d_60\"/>\n",
       "    <g id=\"text_25\">\n",
       "     <!-- FastVar train -->\n",
       "     <g transform=\"translate(67.103125 219.969687)scale(0.1 -0.1)\">\n",
       "      <use xlink:href=\"#DejaVuSans-70\"/>\n",
       "      <use x=\"48.394531\" xlink:href=\"#DejaVuSans-97\"/>\n",
       "      <use x=\"109.673828\" xlink:href=\"#DejaVuSans-115\"/>\n",
       "      <use x=\"161.773438\" xlink:href=\"#DejaVuSans-116\"/>\n",
       "      <use x=\"200.982422\" xlink:href=\"#DejaVuSans-86\"/>\n",
       "      <use x=\"261.640625\" xlink:href=\"#DejaVuSans-97\"/>\n",
       "      <use x=\"322.919922\" xlink:href=\"#DejaVuSans-114\"/>\n",
       "      <use x=\"364.033203\" xlink:href=\"#DejaVuSans-32\"/>\n",
       "      <use x=\"395.820312\" xlink:href=\"#DejaVuSans-116\"/>\n",
       "      <use x=\"435.029297\" xlink:href=\"#DejaVuSans-114\"/>\n",
       "      <use x=\"476.142578\" xlink:href=\"#DejaVuSans-97\"/>\n",
       "      <use x=\"537.421875\" xlink:href=\"#DejaVuSans-105\"/>\n",
       "      <use x=\"565.205078\" xlink:href=\"#DejaVuSans-110\"/>\n",
       "     </g>\n",
       "    </g>\n",
       "    <g id=\"line2d_61\">\n",
       "     <path d=\"M 39.103125 231.147812 \n",
       "L 59.103125 231.147812 \n",
       "\" style=\"fill:none;stroke:#ffff00;stroke-dasharray:5.55,2.4;stroke-dashoffset:0;stroke-width:1.5;\"/>\n",
       "    </g>\n",
       "    <g id=\"line2d_62\"/>\n",
       "    <g id=\"text_26\">\n",
       "     <!-- FastVar with dropout test -->\n",
       "     <g transform=\"translate(67.103125 234.647812)scale(0.1 -0.1)\">\n",
       "      <use xlink:href=\"#DejaVuSans-70\"/>\n",
       "      <use x=\"48.394531\" xlink:href=\"#DejaVuSans-97\"/>\n",
       "      <use x=\"109.673828\" xlink:href=\"#DejaVuSans-115\"/>\n",
       "      <use x=\"161.773438\" xlink:href=\"#DejaVuSans-116\"/>\n",
       "      <use x=\"200.982422\" xlink:href=\"#DejaVuSans-86\"/>\n",
       "      <use x=\"261.640625\" xlink:href=\"#DejaVuSans-97\"/>\n",
       "      <use x=\"322.919922\" xlink:href=\"#DejaVuSans-114\"/>\n",
       "      <use x=\"364.033203\" xlink:href=\"#DejaVuSans-32\"/>\n",
       "      <use x=\"395.820312\" xlink:href=\"#DejaVuSans-119\"/>\n",
       "      <use x=\"477.607422\" xlink:href=\"#DejaVuSans-105\"/>\n",
       "      <use x=\"505.390625\" xlink:href=\"#DejaVuSans-116\"/>\n",
       "      <use x=\"544.599609\" xlink:href=\"#DejaVuSans-104\"/>\n",
       "      <use x=\"607.978516\" xlink:href=\"#DejaVuSans-32\"/>\n",
       "      <use x=\"639.765625\" xlink:href=\"#DejaVuSans-100\"/>\n",
       "      <use x=\"703.242188\" xlink:href=\"#DejaVuSans-114\"/>\n",
       "      <use x=\"742.105469\" xlink:href=\"#DejaVuSans-111\"/>\n",
       "      <use x=\"803.287109\" xlink:href=\"#DejaVuSans-112\"/>\n",
       "      <use x=\"866.763672\" xlink:href=\"#DejaVuSans-111\"/>\n",
       "      <use x=\"927.945312\" xlink:href=\"#DejaVuSans-117\"/>\n",
       "      <use x=\"991.324219\" xlink:href=\"#DejaVuSans-116\"/>\n",
       "      <use x=\"1030.533203\" xlink:href=\"#DejaVuSans-32\"/>\n",
       "      <use x=\"1062.320312\" xlink:href=\"#DejaVuSans-116\"/>\n",
       "      <use x=\"1101.529297\" xlink:href=\"#DejaVuSans-101\"/>\n",
       "      <use x=\"1163.052734\" xlink:href=\"#DejaVuSans-115\"/>\n",
       "      <use x=\"1215.152344\" xlink:href=\"#DejaVuSans-116\"/>\n",
       "     </g>\n",
       "    </g>\n",
       "    <g id=\"line2d_63\">\n",
       "     <path d=\"M 39.103125 245.825937 \n",
       "L 59.103125 245.825937 \n",
       "\" style=\"fill:none;stroke:#ffff00;stroke-linecap:square;stroke-width:1.5;\"/>\n",
       "    </g>\n",
       "    <g id=\"line2d_64\"/>\n",
       "    <g id=\"text_27\">\n",
       "     <!-- FastVar with dropout train -->\n",
       "     <g transform=\"translate(67.103125 249.325937)scale(0.1 -0.1)\">\n",
       "      <use xlink:href=\"#DejaVuSans-70\"/>\n",
       "      <use x=\"48.394531\" xlink:href=\"#DejaVuSans-97\"/>\n",
       "      <use x=\"109.673828\" xlink:href=\"#DejaVuSans-115\"/>\n",
       "      <use x=\"161.773438\" xlink:href=\"#DejaVuSans-116\"/>\n",
       "      <use x=\"200.982422\" xlink:href=\"#DejaVuSans-86\"/>\n",
       "      <use x=\"261.640625\" xlink:href=\"#DejaVuSans-97\"/>\n",
       "      <use x=\"322.919922\" xlink:href=\"#DejaVuSans-114\"/>\n",
       "      <use x=\"364.033203\" xlink:href=\"#DejaVuSans-32\"/>\n",
       "      <use x=\"395.820312\" xlink:href=\"#DejaVuSans-119\"/>\n",
       "      <use x=\"477.607422\" xlink:href=\"#DejaVuSans-105\"/>\n",
       "      <use x=\"505.390625\" xlink:href=\"#DejaVuSans-116\"/>\n",
       "      <use x=\"544.599609\" xlink:href=\"#DejaVuSans-104\"/>\n",
       "      <use x=\"607.978516\" xlink:href=\"#DejaVuSans-32\"/>\n",
       "      <use x=\"639.765625\" xlink:href=\"#DejaVuSans-100\"/>\n",
       "      <use x=\"703.242188\" xlink:href=\"#DejaVuSans-114\"/>\n",
       "      <use x=\"742.105469\" xlink:href=\"#DejaVuSans-111\"/>\n",
       "      <use x=\"803.287109\" xlink:href=\"#DejaVuSans-112\"/>\n",
       "      <use x=\"866.763672\" xlink:href=\"#DejaVuSans-111\"/>\n",
       "      <use x=\"927.945312\" xlink:href=\"#DejaVuSans-117\"/>\n",
       "      <use x=\"991.324219\" xlink:href=\"#DejaVuSans-116\"/>\n",
       "      <use x=\"1030.533203\" xlink:href=\"#DejaVuSans-32\"/>\n",
       "      <use x=\"1062.320312\" xlink:href=\"#DejaVuSans-116\"/>\n",
       "      <use x=\"1101.529297\" xlink:href=\"#DejaVuSans-114\"/>\n",
       "      <use x=\"1142.642578\" xlink:href=\"#DejaVuSans-97\"/>\n",
       "      <use x=\"1203.921875\" xlink:href=\"#DejaVuSans-105\"/>\n",
       "      <use x=\"1231.705078\" xlink:href=\"#DejaVuSans-110\"/>\n",
       "     </g>\n",
       "    </g>\n",
       "    <g id=\"line2d_65\">\n",
       "     <path d=\"M 39.103125 260.504062 \n",
       "L 59.103125 260.504062 \n",
       "\" style=\"fill:none;stroke:#800080;stroke-dasharray:5.55,2.4;stroke-dashoffset:0;stroke-width:1.5;\"/>\n",
       "    </g>\n",
       "    <g id=\"line2d_66\"/>\n",
       "    <g id=\"text_28\">\n",
       "     <!-- Handmade test -->\n",
       "     <defs>\n",
       "      <path d=\"M 9.8125 72.90625 \n",
       "L 19.671875 72.90625 \n",
       "L 19.671875 43.015625 \n",
       "L 55.515625 43.015625 \n",
       "L 55.515625 72.90625 \n",
       "L 65.375 72.90625 \n",
       "L 65.375 0 \n",
       "L 55.515625 0 \n",
       "L 55.515625 34.71875 \n",
       "L 19.671875 34.71875 \n",
       "L 19.671875 0 \n",
       "L 9.8125 0 \n",
       "z\n",
       "\" id=\"DejaVuSans-72\"/>\n",
       "      <path d=\"M 52 44.1875 \n",
       "Q 55.375 50.25 60.0625 53.125 \n",
       "Q 64.75 56 71.09375 56 \n",
       "Q 79.640625 56 84.28125 50.015625 \n",
       "Q 88.921875 44.046875 88.921875 33.015625 \n",
       "L 88.921875 0 \n",
       "L 79.890625 0 \n",
       "L 79.890625 32.71875 \n",
       "Q 79.890625 40.578125 77.09375 44.375 \n",
       "Q 74.3125 48.1875 68.609375 48.1875 \n",
       "Q 61.625 48.1875 57.5625 43.546875 \n",
       "Q 53.515625 38.921875 53.515625 30.90625 \n",
       "L 53.515625 0 \n",
       "L 44.484375 0 \n",
       "L 44.484375 32.71875 \n",
       "Q 44.484375 40.625 41.703125 44.40625 \n",
       "Q 38.921875 48.1875 33.109375 48.1875 \n",
       "Q 26.21875 48.1875 22.15625 43.53125 \n",
       "Q 18.109375 38.875 18.109375 30.90625 \n",
       "L 18.109375 0 \n",
       "L 9.078125 0 \n",
       "L 9.078125 54.6875 \n",
       "L 18.109375 54.6875 \n",
       "L 18.109375 46.1875 \n",
       "Q 21.1875 51.21875 25.484375 53.609375 \n",
       "Q 29.78125 56 35.6875 56 \n",
       "Q 41.65625 56 45.828125 52.96875 \n",
       "Q 50 49.953125 52 44.1875 \n",
       "z\n",
       "\" id=\"DejaVuSans-109\"/>\n",
       "     </defs>\n",
       "     <g transform=\"translate(67.103125 264.004062)scale(0.1 -0.1)\">\n",
       "      <use xlink:href=\"#DejaVuSans-72\"/>\n",
       "      <use x=\"75.195312\" xlink:href=\"#DejaVuSans-97\"/>\n",
       "      <use x=\"136.474609\" xlink:href=\"#DejaVuSans-110\"/>\n",
       "      <use x=\"199.853516\" xlink:href=\"#DejaVuSans-100\"/>\n",
       "      <use x=\"263.330078\" xlink:href=\"#DejaVuSans-109\"/>\n",
       "      <use x=\"360.742188\" xlink:href=\"#DejaVuSans-97\"/>\n",
       "      <use x=\"422.021484\" xlink:href=\"#DejaVuSans-100\"/>\n",
       "      <use x=\"485.498047\" xlink:href=\"#DejaVuSans-101\"/>\n",
       "      <use x=\"547.021484\" xlink:href=\"#DejaVuSans-32\"/>\n",
       "      <use x=\"578.808594\" xlink:href=\"#DejaVuSans-116\"/>\n",
       "      <use x=\"618.017578\" xlink:href=\"#DejaVuSans-101\"/>\n",
       "      <use x=\"679.541016\" xlink:href=\"#DejaVuSans-115\"/>\n",
       "      <use x=\"731.640625\" xlink:href=\"#DejaVuSans-116\"/>\n",
       "     </g>\n",
       "    </g>\n",
       "    <g id=\"line2d_67\">\n",
       "     <path d=\"M 39.103125 275.182187 \n",
       "L 59.103125 275.182187 \n",
       "\" style=\"fill:none;stroke:#800080;stroke-linecap:square;stroke-width:1.5;\"/>\n",
       "    </g>\n",
       "    <g id=\"line2d_68\"/>\n",
       "    <g id=\"text_29\">\n",
       "     <!-- Handmade train -->\n",
       "     <g transform=\"translate(67.103125 278.682187)scale(0.1 -0.1)\">\n",
       "      <use xlink:href=\"#DejaVuSans-72\"/>\n",
       "      <use x=\"75.195312\" xlink:href=\"#DejaVuSans-97\"/>\n",
       "      <use x=\"136.474609\" xlink:href=\"#DejaVuSans-110\"/>\n",
       "      <use x=\"199.853516\" xlink:href=\"#DejaVuSans-100\"/>\n",
       "      <use x=\"263.330078\" xlink:href=\"#DejaVuSans-109\"/>\n",
       "      <use x=\"360.742188\" xlink:href=\"#DejaVuSans-97\"/>\n",
       "      <use x=\"422.021484\" xlink:href=\"#DejaVuSans-100\"/>\n",
       "      <use x=\"485.498047\" xlink:href=\"#DejaVuSans-101\"/>\n",
       "      <use x=\"547.021484\" xlink:href=\"#DejaVuSans-32\"/>\n",
       "      <use x=\"578.808594\" xlink:href=\"#DejaVuSans-116\"/>\n",
       "      <use x=\"618.017578\" xlink:href=\"#DejaVuSans-114\"/>\n",
       "      <use x=\"659.130859\" xlink:href=\"#DejaVuSans-97\"/>\n",
       "      <use x=\"720.410156\" xlink:href=\"#DejaVuSans-105\"/>\n",
       "      <use x=\"748.193359\" xlink:href=\"#DejaVuSans-110\"/>\n",
       "     </g>\n",
       "    </g>\n",
       "    <g id=\"line2d_69\">\n",
       "     <path d=\"M 39.103125 289.860312 \n",
       "L 59.103125 289.860312 \n",
       "\" style=\"fill:none;stroke:#00ffff;stroke-dasharray:5.55,2.4;stroke-dashoffset:0;stroke-width:1.5;\"/>\n",
       "    </g>\n",
       "    <g id=\"line2d_70\"/>\n",
       "    <g id=\"text_30\">\n",
       "     <!-- Handmade with dropout test -->\n",
       "     <g transform=\"translate(67.103125 293.360312)scale(0.1 -0.1)\">\n",
       "      <use xlink:href=\"#DejaVuSans-72\"/>\n",
       "      <use x=\"75.195312\" xlink:href=\"#DejaVuSans-97\"/>\n",
       "      <use x=\"136.474609\" xlink:href=\"#DejaVuSans-110\"/>\n",
       "      <use x=\"199.853516\" xlink:href=\"#DejaVuSans-100\"/>\n",
       "      <use x=\"263.330078\" xlink:href=\"#DejaVuSans-109\"/>\n",
       "      <use x=\"360.742188\" xlink:href=\"#DejaVuSans-97\"/>\n",
       "      <use x=\"422.021484\" xlink:href=\"#DejaVuSans-100\"/>\n",
       "      <use x=\"485.498047\" xlink:href=\"#DejaVuSans-101\"/>\n",
       "      <use x=\"547.021484\" xlink:href=\"#DejaVuSans-32\"/>\n",
       "      <use x=\"578.808594\" xlink:href=\"#DejaVuSans-119\"/>\n",
       "      <use x=\"660.595703\" xlink:href=\"#DejaVuSans-105\"/>\n",
       "      <use x=\"688.378906\" xlink:href=\"#DejaVuSans-116\"/>\n",
       "      <use x=\"727.587891\" xlink:href=\"#DejaVuSans-104\"/>\n",
       "      <use x=\"790.966797\" xlink:href=\"#DejaVuSans-32\"/>\n",
       "      <use x=\"822.753906\" xlink:href=\"#DejaVuSans-100\"/>\n",
       "      <use x=\"886.230469\" xlink:href=\"#DejaVuSans-114\"/>\n",
       "      <use x=\"925.09375\" xlink:href=\"#DejaVuSans-111\"/>\n",
       "      <use x=\"986.275391\" xlink:href=\"#DejaVuSans-112\"/>\n",
       "      <use x=\"1049.751953\" xlink:href=\"#DejaVuSans-111\"/>\n",
       "      <use x=\"1110.933594\" xlink:href=\"#DejaVuSans-117\"/>\n",
       "      <use x=\"1174.3125\" xlink:href=\"#DejaVuSans-116\"/>\n",
       "      <use x=\"1213.521484\" xlink:href=\"#DejaVuSans-32\"/>\n",
       "      <use x=\"1245.308594\" xlink:href=\"#DejaVuSans-116\"/>\n",
       "      <use x=\"1284.517578\" xlink:href=\"#DejaVuSans-101\"/>\n",
       "      <use x=\"1346.041016\" xlink:href=\"#DejaVuSans-115\"/>\n",
       "      <use x=\"1398.140625\" xlink:href=\"#DejaVuSans-116\"/>\n",
       "     </g>\n",
       "    </g>\n",
       "    <g id=\"line2d_71\">\n",
       "     <path d=\"M 39.103125 304.538437 \n",
       "L 59.103125 304.538437 \n",
       "\" style=\"fill:none;stroke:#00ffff;stroke-linecap:square;stroke-width:1.5;\"/>\n",
       "    </g>\n",
       "    <g id=\"line2d_72\"/>\n",
       "    <g id=\"text_31\">\n",
       "     <!-- Handmade with dropout train -->\n",
       "     <g transform=\"translate(67.103125 308.038437)scale(0.1 -0.1)\">\n",
       "      <use xlink:href=\"#DejaVuSans-72\"/>\n",
       "      <use x=\"75.195312\" xlink:href=\"#DejaVuSans-97\"/>\n",
       "      <use x=\"136.474609\" xlink:href=\"#DejaVuSans-110\"/>\n",
       "      <use x=\"199.853516\" xlink:href=\"#DejaVuSans-100\"/>\n",
       "      <use x=\"263.330078\" xlink:href=\"#DejaVuSans-109\"/>\n",
       "      <use x=\"360.742188\" xlink:href=\"#DejaVuSans-97\"/>\n",
       "      <use x=\"422.021484\" xlink:href=\"#DejaVuSans-100\"/>\n",
       "      <use x=\"485.498047\" xlink:href=\"#DejaVuSans-101\"/>\n",
       "      <use x=\"547.021484\" xlink:href=\"#DejaVuSans-32\"/>\n",
       "      <use x=\"578.808594\" xlink:href=\"#DejaVuSans-119\"/>\n",
       "      <use x=\"660.595703\" xlink:href=\"#DejaVuSans-105\"/>\n",
       "      <use x=\"688.378906\" xlink:href=\"#DejaVuSans-116\"/>\n",
       "      <use x=\"727.587891\" xlink:href=\"#DejaVuSans-104\"/>\n",
       "      <use x=\"790.966797\" xlink:href=\"#DejaVuSans-32\"/>\n",
       "      <use x=\"822.753906\" xlink:href=\"#DejaVuSans-100\"/>\n",
       "      <use x=\"886.230469\" xlink:href=\"#DejaVuSans-114\"/>\n",
       "      <use x=\"925.09375\" xlink:href=\"#DejaVuSans-111\"/>\n",
       "      <use x=\"986.275391\" xlink:href=\"#DejaVuSans-112\"/>\n",
       "      <use x=\"1049.751953\" xlink:href=\"#DejaVuSans-111\"/>\n",
       "      <use x=\"1110.933594\" xlink:href=\"#DejaVuSans-117\"/>\n",
       "      <use x=\"1174.3125\" xlink:href=\"#DejaVuSans-116\"/>\n",
       "      <use x=\"1213.521484\" xlink:href=\"#DejaVuSans-32\"/>\n",
       "      <use x=\"1245.308594\" xlink:href=\"#DejaVuSans-116\"/>\n",
       "      <use x=\"1284.517578\" xlink:href=\"#DejaVuSans-114\"/>\n",
       "      <use x=\"1325.630859\" xlink:href=\"#DejaVuSans-97\"/>\n",
       "      <use x=\"1386.910156\" xlink:href=\"#DejaVuSans-105\"/>\n",
       "      <use x=\"1414.693359\" xlink:href=\"#DejaVuSans-110\"/>\n",
       "     </g>\n",
       "    </g>\n",
       "   </g>\n",
       "  </g>\n",
       "  <g id=\"axes_2\">\n",
       "   <g id=\"patch_8\">\n",
       "    <path d=\"M 30.103125 673.718125 \n",
       "L 705.503125 673.718125 \n",
       "L 705.503125 376.918125 \n",
       "L 30.103125 376.918125 \n",
       "z\n",
       "\" style=\"fill:#ffffff;\"/>\n",
       "   </g>\n",
       "   <g id=\"matplotlib.axis_3\">\n",
       "    <g id=\"xtick_9\">\n",
       "     <g id=\"line2d_73\">\n",
       "      <path clip-path=\"url(#p35d25506d6)\" d=\"M 60.803125 673.718125 \n",
       "L 60.803125 376.918125 \n",
       "\" style=\"fill:none;stroke:#b0b0b0;stroke-linecap:square;stroke-width:0.8;\"/>\n",
       "     </g>\n",
       "     <g id=\"line2d_74\">\n",
       "      <g>\n",
       "       <use style=\"stroke:#000000;stroke-width:0.8;\" x=\"60.803125\" xlink:href=\"#mec934a000c\" y=\"673.718125\"/>\n",
       "      </g>\n",
       "     </g>\n",
       "     <g id=\"text_32\">\n",
       "      <!-- 0 -->\n",
       "      <g transform=\"translate(57.621875 688.316562)scale(0.1 -0.1)\">\n",
       "       <use xlink:href=\"#DejaVuSans-48\"/>\n",
       "      </g>\n",
       "     </g>\n",
       "    </g>\n",
       "    <g id=\"xtick_10\">\n",
       "     <g id=\"line2d_75\">\n",
       "      <path clip-path=\"url(#p35d25506d6)\" d=\"M 148.517411 673.718125 \n",
       "L 148.517411 376.918125 \n",
       "\" style=\"fill:none;stroke:#b0b0b0;stroke-linecap:square;stroke-width:0.8;\"/>\n",
       "     </g>\n",
       "     <g id=\"line2d_76\">\n",
       "      <g>\n",
       "       <use style=\"stroke:#000000;stroke-width:0.8;\" x=\"148.517411\" xlink:href=\"#mec934a000c\" y=\"673.718125\"/>\n",
       "      </g>\n",
       "     </g>\n",
       "     <g id=\"text_33\">\n",
       "      <!-- 2 -->\n",
       "      <g transform=\"translate(145.336161 688.316562)scale(0.1 -0.1)\">\n",
       "       <use xlink:href=\"#DejaVuSans-50\"/>\n",
       "      </g>\n",
       "     </g>\n",
       "    </g>\n",
       "    <g id=\"xtick_11\">\n",
       "     <g id=\"line2d_77\">\n",
       "      <path clip-path=\"url(#p35d25506d6)\" d=\"M 236.231696 673.718125 \n",
       "L 236.231696 376.918125 \n",
       "\" style=\"fill:none;stroke:#b0b0b0;stroke-linecap:square;stroke-width:0.8;\"/>\n",
       "     </g>\n",
       "     <g id=\"line2d_78\">\n",
       "      <g>\n",
       "       <use style=\"stroke:#000000;stroke-width:0.8;\" x=\"236.231696\" xlink:href=\"#mec934a000c\" y=\"673.718125\"/>\n",
       "      </g>\n",
       "     </g>\n",
       "     <g id=\"text_34\">\n",
       "      <!-- 4 -->\n",
       "      <g transform=\"translate(233.050446 688.316562)scale(0.1 -0.1)\">\n",
       "       <use xlink:href=\"#DejaVuSans-52\"/>\n",
       "      </g>\n",
       "     </g>\n",
       "    </g>\n",
       "    <g id=\"xtick_12\">\n",
       "     <g id=\"line2d_79\">\n",
       "      <path clip-path=\"url(#p35d25506d6)\" d=\"M 323.945982 673.718125 \n",
       "L 323.945982 376.918125 \n",
       "\" style=\"fill:none;stroke:#b0b0b0;stroke-linecap:square;stroke-width:0.8;\"/>\n",
       "     </g>\n",
       "     <g id=\"line2d_80\">\n",
       "      <g>\n",
       "       <use style=\"stroke:#000000;stroke-width:0.8;\" x=\"323.945982\" xlink:href=\"#mec934a000c\" y=\"673.718125\"/>\n",
       "      </g>\n",
       "     </g>\n",
       "     <g id=\"text_35\">\n",
       "      <!-- 6 -->\n",
       "      <g transform=\"translate(320.764732 688.316562)scale(0.1 -0.1)\">\n",
       "       <use xlink:href=\"#DejaVuSans-54\"/>\n",
       "      </g>\n",
       "     </g>\n",
       "    </g>\n",
       "    <g id=\"xtick_13\">\n",
       "     <g id=\"line2d_81\">\n",
       "      <path clip-path=\"url(#p35d25506d6)\" d=\"M 411.660268 673.718125 \n",
       "L 411.660268 376.918125 \n",
       "\" style=\"fill:none;stroke:#b0b0b0;stroke-linecap:square;stroke-width:0.8;\"/>\n",
       "     </g>\n",
       "     <g id=\"line2d_82\">\n",
       "      <g>\n",
       "       <use style=\"stroke:#000000;stroke-width:0.8;\" x=\"411.660268\" xlink:href=\"#mec934a000c\" y=\"673.718125\"/>\n",
       "      </g>\n",
       "     </g>\n",
       "     <g id=\"text_36\">\n",
       "      <!-- 8 -->\n",
       "      <g transform=\"translate(408.479018 688.316562)scale(0.1 -0.1)\">\n",
       "       <use xlink:href=\"#DejaVuSans-56\"/>\n",
       "      </g>\n",
       "     </g>\n",
       "    </g>\n",
       "    <g id=\"xtick_14\">\n",
       "     <g id=\"line2d_83\">\n",
       "      <path clip-path=\"url(#p35d25506d6)\" d=\"M 499.374554 673.718125 \n",
       "L 499.374554 376.918125 \n",
       "\" style=\"fill:none;stroke:#b0b0b0;stroke-linecap:square;stroke-width:0.8;\"/>\n",
       "     </g>\n",
       "     <g id=\"line2d_84\">\n",
       "      <g>\n",
       "       <use style=\"stroke:#000000;stroke-width:0.8;\" x=\"499.374554\" xlink:href=\"#mec934a000c\" y=\"673.718125\"/>\n",
       "      </g>\n",
       "     </g>\n",
       "     <g id=\"text_37\">\n",
       "      <!-- 10 -->\n",
       "      <g transform=\"translate(493.012054 688.316562)scale(0.1 -0.1)\">\n",
       "       <use xlink:href=\"#DejaVuSans-49\"/>\n",
       "       <use x=\"63.623047\" xlink:href=\"#DejaVuSans-48\"/>\n",
       "      </g>\n",
       "     </g>\n",
       "    </g>\n",
       "    <g id=\"xtick_15\">\n",
       "     <g id=\"line2d_85\">\n",
       "      <path clip-path=\"url(#p35d25506d6)\" d=\"M 587.088839 673.718125 \n",
       "L 587.088839 376.918125 \n",
       "\" style=\"fill:none;stroke:#b0b0b0;stroke-linecap:square;stroke-width:0.8;\"/>\n",
       "     </g>\n",
       "     <g id=\"line2d_86\">\n",
       "      <g>\n",
       "       <use style=\"stroke:#000000;stroke-width:0.8;\" x=\"587.088839\" xlink:href=\"#mec934a000c\" y=\"673.718125\"/>\n",
       "      </g>\n",
       "     </g>\n",
       "     <g id=\"text_38\">\n",
       "      <!-- 12 -->\n",
       "      <g transform=\"translate(580.726339 688.316562)scale(0.1 -0.1)\">\n",
       "       <use xlink:href=\"#DejaVuSans-49\"/>\n",
       "       <use x=\"63.623047\" xlink:href=\"#DejaVuSans-50\"/>\n",
       "      </g>\n",
       "     </g>\n",
       "    </g>\n",
       "    <g id=\"xtick_16\">\n",
       "     <g id=\"line2d_87\">\n",
       "      <path clip-path=\"url(#p35d25506d6)\" d=\"M 674.803125 673.718125 \n",
       "L 674.803125 376.918125 \n",
       "\" style=\"fill:none;stroke:#b0b0b0;stroke-linecap:square;stroke-width:0.8;\"/>\n",
       "     </g>\n",
       "     <g id=\"line2d_88\">\n",
       "      <g>\n",
       "       <use style=\"stroke:#000000;stroke-width:0.8;\" x=\"674.803125\" xlink:href=\"#mec934a000c\" y=\"673.718125\"/>\n",
       "      </g>\n",
       "     </g>\n",
       "     <g id=\"text_39\">\n",
       "      <!-- 14 -->\n",
       "      <g transform=\"translate(668.440625 688.316562)scale(0.1 -0.1)\">\n",
       "       <use xlink:href=\"#DejaVuSans-49\"/>\n",
       "       <use x=\"63.623047\" xlink:href=\"#DejaVuSans-52\"/>\n",
       "      </g>\n",
       "     </g>\n",
       "    </g>\n",
       "    <g id=\"text_40\">\n",
       "     <!-- Epoch -->\n",
       "     <g transform=\"translate(352.492187 701.994687)scale(0.1 -0.1)\">\n",
       "      <use xlink:href=\"#DejaVuSans-69\"/>\n",
       "      <use x=\"63.183594\" xlink:href=\"#DejaVuSans-112\"/>\n",
       "      <use x=\"126.660156\" xlink:href=\"#DejaVuSans-111\"/>\n",
       "      <use x=\"187.841797\" xlink:href=\"#DejaVuSans-99\"/>\n",
       "      <use x=\"242.822266\" xlink:href=\"#DejaVuSans-104\"/>\n",
       "     </g>\n",
       "    </g>\n",
       "   </g>\n",
       "   <g id=\"matplotlib.axis_4\">\n",
       "    <g id=\"ytick_8\">\n",
       "     <g id=\"line2d_89\">\n",
       "      <path clip-path=\"url(#p35d25506d6)\" d=\"M 30.103125 667.071245 \n",
       "L 705.503125 667.071245 \n",
       "\" style=\"fill:none;stroke:#b0b0b0;stroke-linecap:square;stroke-width:0.8;\"/>\n",
       "     </g>\n",
       "     <g id=\"line2d_90\">\n",
       "      <g>\n",
       "       <use style=\"stroke:#000000;stroke-width:0.8;\" x=\"30.103125\" xlink:href=\"#m9997b468c1\" y=\"667.071245\"/>\n",
       "      </g>\n",
       "     </g>\n",
       "     <g id=\"text_41\">\n",
       "      <!-- 0.2 -->\n",
       "      <g transform=\"translate(7.2 670.870464)scale(0.1 -0.1)\">\n",
       "       <use xlink:href=\"#DejaVuSans-48\"/>\n",
       "       <use x=\"63.623047\" xlink:href=\"#DejaVuSans-46\"/>\n",
       "       <use x=\"95.410156\" xlink:href=\"#DejaVuSans-50\"/>\n",
       "      </g>\n",
       "     </g>\n",
       "    </g>\n",
       "    <g id=\"ytick_9\">\n",
       "     <g id=\"line2d_91\">\n",
       "      <path clip-path=\"url(#p35d25506d6)\" d=\"M 30.103125 615.996402 \n",
       "L 705.503125 615.996402 \n",
       "\" style=\"fill:none;stroke:#b0b0b0;stroke-linecap:square;stroke-width:0.8;\"/>\n",
       "     </g>\n",
       "     <g id=\"line2d_92\">\n",
       "      <g>\n",
       "       <use style=\"stroke:#000000;stroke-width:0.8;\" x=\"30.103125\" xlink:href=\"#m9997b468c1\" y=\"615.996402\"/>\n",
       "      </g>\n",
       "     </g>\n",
       "     <g id=\"text_42\">\n",
       "      <!-- 0.3 -->\n",
       "      <defs>\n",
       "       <path d=\"M 40.578125 39.3125 \n",
       "Q 47.65625 37.796875 51.625 33 \n",
       "Q 55.609375 28.21875 55.609375 21.1875 \n",
       "Q 55.609375 10.40625 48.1875 4.484375 \n",
       "Q 40.765625 -1.421875 27.09375 -1.421875 \n",
       "Q 22.515625 -1.421875 17.65625 -0.515625 \n",
       "Q 12.796875 0.390625 7.625 2.203125 \n",
       "L 7.625 11.71875 \n",
       "Q 11.71875 9.328125 16.59375 8.109375 \n",
       "Q 21.484375 6.890625 26.8125 6.890625 \n",
       "Q 36.078125 6.890625 40.9375 10.546875 \n",
       "Q 45.796875 14.203125 45.796875 21.1875 \n",
       "Q 45.796875 27.640625 41.28125 31.265625 \n",
       "Q 36.765625 34.90625 28.71875 34.90625 \n",
       "L 20.21875 34.90625 \n",
       "L 20.21875 43.015625 \n",
       "L 29.109375 43.015625 \n",
       "Q 36.375 43.015625 40.234375 45.921875 \n",
       "Q 44.09375 48.828125 44.09375 54.296875 \n",
       "Q 44.09375 59.90625 40.109375 62.90625 \n",
       "Q 36.140625 65.921875 28.71875 65.921875 \n",
       "Q 24.65625 65.921875 20.015625 65.03125 \n",
       "Q 15.375 64.15625 9.8125 62.3125 \n",
       "L 9.8125 71.09375 \n",
       "Q 15.4375 72.65625 20.34375 73.4375 \n",
       "Q 25.25 74.21875 29.59375 74.21875 \n",
       "Q 40.828125 74.21875 47.359375 69.109375 \n",
       "Q 53.90625 64.015625 53.90625 55.328125 \n",
       "Q 53.90625 49.265625 50.4375 45.09375 \n",
       "Q 46.96875 40.921875 40.578125 39.3125 \n",
       "z\n",
       "\" id=\"DejaVuSans-51\"/>\n",
       "      </defs>\n",
       "      <g transform=\"translate(7.2 619.79562)scale(0.1 -0.1)\">\n",
       "       <use xlink:href=\"#DejaVuSans-48\"/>\n",
       "       <use x=\"63.623047\" xlink:href=\"#DejaVuSans-46\"/>\n",
       "       <use x=\"95.410156\" xlink:href=\"#DejaVuSans-51\"/>\n",
       "      </g>\n",
       "     </g>\n",
       "    </g>\n",
       "    <g id=\"ytick_10\">\n",
       "     <g id=\"line2d_93\">\n",
       "      <path clip-path=\"url(#p35d25506d6)\" d=\"M 30.103125 564.921558 \n",
       "L 705.503125 564.921558 \n",
       "\" style=\"fill:none;stroke:#b0b0b0;stroke-linecap:square;stroke-width:0.8;\"/>\n",
       "     </g>\n",
       "     <g id=\"line2d_94\">\n",
       "      <g>\n",
       "       <use style=\"stroke:#000000;stroke-width:0.8;\" x=\"30.103125\" xlink:href=\"#m9997b468c1\" y=\"564.921558\"/>\n",
       "      </g>\n",
       "     </g>\n",
       "     <g id=\"text_43\">\n",
       "      <!-- 0.4 -->\n",
       "      <g transform=\"translate(7.2 568.720777)scale(0.1 -0.1)\">\n",
       "       <use xlink:href=\"#DejaVuSans-48\"/>\n",
       "       <use x=\"63.623047\" xlink:href=\"#DejaVuSans-46\"/>\n",
       "       <use x=\"95.410156\" xlink:href=\"#DejaVuSans-52\"/>\n",
       "      </g>\n",
       "     </g>\n",
       "    </g>\n",
       "    <g id=\"ytick_11\">\n",
       "     <g id=\"line2d_95\">\n",
       "      <path clip-path=\"url(#p35d25506d6)\" d=\"M 30.103125 513.846715 \n",
       "L 705.503125 513.846715 \n",
       "\" style=\"fill:none;stroke:#b0b0b0;stroke-linecap:square;stroke-width:0.8;\"/>\n",
       "     </g>\n",
       "     <g id=\"line2d_96\">\n",
       "      <g>\n",
       "       <use style=\"stroke:#000000;stroke-width:0.8;\" x=\"30.103125\" xlink:href=\"#m9997b468c1\" y=\"513.846715\"/>\n",
       "      </g>\n",
       "     </g>\n",
       "     <g id=\"text_44\">\n",
       "      <!-- 0.5 -->\n",
       "      <defs>\n",
       "       <path d=\"M 10.796875 72.90625 \n",
       "L 49.515625 72.90625 \n",
       "L 49.515625 64.59375 \n",
       "L 19.828125 64.59375 \n",
       "L 19.828125 46.734375 \n",
       "Q 21.96875 47.46875 24.109375 47.828125 \n",
       "Q 26.265625 48.1875 28.421875 48.1875 \n",
       "Q 40.625 48.1875 47.75 41.5 \n",
       "Q 54.890625 34.8125 54.890625 23.390625 \n",
       "Q 54.890625 11.625 47.5625 5.09375 \n",
       "Q 40.234375 -1.421875 26.90625 -1.421875 \n",
       "Q 22.3125 -1.421875 17.546875 -0.640625 \n",
       "Q 12.796875 0.140625 7.71875 1.703125 \n",
       "L 7.71875 11.625 \n",
       "Q 12.109375 9.234375 16.796875 8.0625 \n",
       "Q 21.484375 6.890625 26.703125 6.890625 \n",
       "Q 35.15625 6.890625 40.078125 11.328125 \n",
       "Q 45.015625 15.765625 45.015625 23.390625 \n",
       "Q 45.015625 31 40.078125 35.4375 \n",
       "Q 35.15625 39.890625 26.703125 39.890625 \n",
       "Q 22.75 39.890625 18.8125 39.015625 \n",
       "Q 14.890625 38.140625 10.796875 36.28125 \n",
       "z\n",
       "\" id=\"DejaVuSans-53\"/>\n",
       "      </defs>\n",
       "      <g transform=\"translate(7.2 517.645934)scale(0.1 -0.1)\">\n",
       "       <use xlink:href=\"#DejaVuSans-48\"/>\n",
       "       <use x=\"63.623047\" xlink:href=\"#DejaVuSans-46\"/>\n",
       "       <use x=\"95.410156\" xlink:href=\"#DejaVuSans-53\"/>\n",
       "      </g>\n",
       "     </g>\n",
       "    </g>\n",
       "    <g id=\"ytick_12\">\n",
       "     <g id=\"line2d_97\">\n",
       "      <path clip-path=\"url(#p35d25506d6)\" d=\"M 30.103125 462.771872 \n",
       "L 705.503125 462.771872 \n",
       "\" style=\"fill:none;stroke:#b0b0b0;stroke-linecap:square;stroke-width:0.8;\"/>\n",
       "     </g>\n",
       "     <g id=\"line2d_98\">\n",
       "      <g>\n",
       "       <use style=\"stroke:#000000;stroke-width:0.8;\" x=\"30.103125\" xlink:href=\"#m9997b468c1\" y=\"462.771872\"/>\n",
       "      </g>\n",
       "     </g>\n",
       "     <g id=\"text_45\">\n",
       "      <!-- 0.6 -->\n",
       "      <g transform=\"translate(7.2 466.571091)scale(0.1 -0.1)\">\n",
       "       <use xlink:href=\"#DejaVuSans-48\"/>\n",
       "       <use x=\"63.623047\" xlink:href=\"#DejaVuSans-46\"/>\n",
       "       <use x=\"95.410156\" xlink:href=\"#DejaVuSans-54\"/>\n",
       "      </g>\n",
       "     </g>\n",
       "    </g>\n",
       "    <g id=\"ytick_13\">\n",
       "     <g id=\"line2d_99\">\n",
       "      <path clip-path=\"url(#p35d25506d6)\" d=\"M 30.103125 411.697029 \n",
       "L 705.503125 411.697029 \n",
       "\" style=\"fill:none;stroke:#b0b0b0;stroke-linecap:square;stroke-width:0.8;\"/>\n",
       "     </g>\n",
       "     <g id=\"line2d_100\">\n",
       "      <g>\n",
       "       <use style=\"stroke:#000000;stroke-width:0.8;\" x=\"30.103125\" xlink:href=\"#m9997b468c1\" y=\"411.697029\"/>\n",
       "      </g>\n",
       "     </g>\n",
       "     <g id=\"text_46\">\n",
       "      <!-- 0.7 -->\n",
       "      <defs>\n",
       "       <path d=\"M 8.203125 72.90625 \n",
       "L 55.078125 72.90625 \n",
       "L 55.078125 68.703125 \n",
       "L 28.609375 0 \n",
       "L 18.3125 0 \n",
       "L 43.21875 64.59375 \n",
       "L 8.203125 64.59375 \n",
       "z\n",
       "\" id=\"DejaVuSans-55\"/>\n",
       "      </defs>\n",
       "      <g transform=\"translate(7.2 415.496247)scale(0.1 -0.1)\">\n",
       "       <use xlink:href=\"#DejaVuSans-48\"/>\n",
       "       <use x=\"63.623047\" xlink:href=\"#DejaVuSans-46\"/>\n",
       "       <use x=\"95.410156\" xlink:href=\"#DejaVuSans-55\"/>\n",
       "      </g>\n",
       "     </g>\n",
       "    </g>\n",
       "   </g>\n",
       "   <g id=\"line2d_101\">\n",
       "    <path clip-path=\"url(#p35d25506d6)\" d=\"M 60.803125 640.798346 \n",
       "L 104.660268 595.709474 \n",
       "L 148.517411 586.802021 \n",
       "L 192.374554 586.699872 \n",
       "L 236.231696 569.273135 \n",
       "L 280.088839 568.844106 \n",
       "L 323.945982 564.921558 \n",
       "L 367.803125 567.72046 \n",
       "L 411.660268 566.596813 \n",
       "L 455.517411 569.824743 \n",
       "L 499.374554 569.252705 \n",
       "L 543.231696 572.889234 \n",
       "L 587.088839 582.920333 \n",
       "L 630.945982 583.410652 \n",
       "L 674.803125 584.942897 \n",
       "\" style=\"fill:none;stroke:#000000;stroke-dasharray:5.55,2.4;stroke-dashoffset:0;stroke-width:1.5;\"/>\n",
       "   </g>\n",
       "   <g id=\"line2d_102\">\n",
       "    <path clip-path=\"url(#p35d25506d6)\" d=\"M 60.803125 641.002645 \n",
       "L 104.660268 594.953566 \n",
       "L 148.517411 580.060142 \n",
       "L 192.374554 574.993518 \n",
       "L 236.231696 555.748517 \n",
       "L 280.088839 546.636765 \n",
       "L 323.945982 531.620761 \n",
       "L 367.803125 526.635856 \n",
       "L 411.660268 509.454279 \n",
       "L 455.517411 496.930727 \n",
       "L 499.374554 482.078163 \n",
       "L 543.231696 465.529914 \n",
       "L 587.088839 440.58496 \n",
       "L 630.945982 423.239943 \n",
       "L 674.803125 409.102427 \n",
       "\" style=\"fill:none;stroke:#000000;stroke-linecap:square;stroke-width:1.5;\"/>\n",
       "   </g>\n",
       "   <g id=\"line2d_103\">\n",
       "    <path clip-path=\"url(#p35d25506d6)\" d=\"M 60.803125 631.032836 \n",
       "L 104.660268 599.611592 \n",
       "L 148.517411 590.172961 \n",
       "L 192.374554 591.031018 \n",
       "L 236.231696 571.622578 \n",
       "L 280.088839 567.271001 \n",
       "L 323.945982 564.717259 \n",
       "L 367.803125 568.435508 \n",
       "L 411.660268 566.555953 \n",
       "L 455.517411 566.801113 \n",
       "L 499.374554 574.768788 \n",
       "L 543.231696 577.32253 \n",
       "L 587.088839 576.137594 \n",
       "L 630.945982 580.346161 \n",
       "L 674.803125 579.079505 \n",
       "\" style=\"fill:none;stroke:#ff0000;stroke-dasharray:5.55,2.4;stroke-dashoffset:0;stroke-width:1.5;\"/>\n",
       "   </g>\n",
       "   <g id=\"line2d_104\">\n",
       "    <path clip-path=\"url(#p35d25506d6)\" d=\"M 60.803125 630.971546 \n",
       "L 104.660268 601.348137 \n",
       "L 148.517411 582.021416 \n",
       "L 192.374554 574.993518 \n",
       "L 236.231696 552.173278 \n",
       "L 280.088839 543.102385 \n",
       "L 323.945982 531.355171 \n",
       "L 367.803125 521.181063 \n",
       "L 411.660268 508.637081 \n",
       "L 455.517411 496.13396 \n",
       "L 499.374554 491.455504 \n",
       "L 543.231696 468.206235 \n",
       "L 587.088839 449.594562 \n",
       "L 630.945982 426.140994 \n",
       "L 674.803125 414.107761 \n",
       "\" style=\"fill:none;stroke:#ff0000;stroke-linecap:square;stroke-width:1.5;\"/>\n",
       "   </g>\n",
       "   <g id=\"line2d_105\">\n",
       "    <path clip-path=\"url(#p35d25506d6)\" d=\"M 60.803125 646.171419 \n",
       "L 104.660268 601.491146 \n",
       "L 148.517411 588.007388 \n",
       "L 192.374554 584.963327 \n",
       "L 236.231696 580.63218 \n",
       "L 280.088839 574.687068 \n",
       "L 323.945982 570.131192 \n",
       "L 367.803125 570.417212 \n",
       "L 411.660268 563.103294 \n",
       "L 455.517411 565.881765 \n",
       "L 499.374554 564.676399 \n",
       "L 543.231696 561.14202 \n",
       "L 587.088839 561.14202 \n",
       "L 630.945982 562.347386 \n",
       "L 674.803125 562.837705 \n",
       "\" style=\"fill:none;stroke:#0000ff;stroke-dasharray:5.55,2.4;stroke-dashoffset:0;stroke-width:1.5;\"/>\n",
       "   </g>\n",
       "   <g id=\"line2d_106\">\n",
       "    <path clip-path=\"url(#p35d25506d6)\" d=\"M 60.803125 644.700464 \n",
       "L 104.660268 602.614793 \n",
       "L 148.517411 589.866512 \n",
       "L 192.374554 579.774123 \n",
       "L 236.231696 575.402116 \n",
       "L 280.088839 561.2646 \n",
       "L 323.945982 555.237768 \n",
       "L 367.803125 550.457163 \n",
       "L 411.660268 543.980873 \n",
       "L 455.517411 538.648659 \n",
       "L 499.374554 532.274519 \n",
       "L 543.231696 530.333675 \n",
       "L 587.088839 526.288547 \n",
       "L 630.945982 519.158499 \n",
       "L 674.803125 516.400457 \n",
       "\" style=\"fill:none;stroke:#0000ff;stroke-linecap:square;stroke-width:1.5;\"/>\n",
       "   </g>\n",
       "   <g id=\"line2d_107\">\n",
       "    <path clip-path=\"url(#p35d25506d6)\" d=\"M 60.803125 619.163042 \n",
       "L 104.660268 592.072945 \n",
       "L 148.517411 588.558996 \n",
       "L 192.374554 587.946098 \n",
       "L 236.231696 570.78495 \n",
       "L 280.088839 570.560221 \n",
       "L 323.945982 571.561288 \n",
       "L 367.803125 573.686002 \n",
       "L 411.660268 574.05374 \n",
       "L 455.517411 569.947323 \n",
       "L 499.374554 574.646209 \n",
       "L 543.231696 576.648342 \n",
       "L 587.088839 578.241878 \n",
       "L 630.945982 580.305301 \n",
       "L 674.803125 580.75476 \n",
       "\" style=\"fill:none;stroke:#008000;stroke-dasharray:5.55,2.4;stroke-dashoffset:0;stroke-width:1.5;\"/>\n",
       "   </g>\n",
       "   <g id=\"line2d_108\">\n",
       "    <path clip-path=\"url(#p35d25506d6)\" d=\"M 60.803125 619.040462 \n",
       "L 104.660268 589.376193 \n",
       "L 148.517411 575.831145 \n",
       "L 192.374554 566.392514 \n",
       "L 236.231696 547.310952 \n",
       "L 280.088839 538.30135 \n",
       "L 323.945982 524.613292 \n",
       "L 367.803125 510.251046 \n",
       "L 411.660268 502.181221 \n",
       "L 455.517411 485.959851 \n",
       "L 499.374554 468.859993 \n",
       "L 543.231696 449.042954 \n",
       "L 587.088839 428.163558 \n",
       "L 630.945982 407.468032 \n",
       "L 674.803125 390.409034 \n",
       "\" style=\"fill:none;stroke:#008000;stroke-linecap:square;stroke-width:1.5;\"/>\n",
       "   </g>\n",
       "   <g id=\"line2d_109\">\n",
       "    <path clip-path=\"url(#p35d25506d6)\" d=\"M 60.803125 628.499523 \n",
       "L 104.660268 597.854617 \n",
       "L 148.517411 588.334267 \n",
       "L 192.374554 584.10527 \n",
       "L 236.231696 586.577292 \n",
       "L 280.088839 581.020349 \n",
       "L 323.945982 577.220381 \n",
       "L 367.803125 571.765587 \n",
       "L 411.660268 570.376352 \n",
       "L 455.517411 567.168852 \n",
       "L 499.374554 570.212912 \n",
       "L 543.231696 565.248437 \n",
       "L 587.088839 562.326956 \n",
       "L 630.945982 566.269934 \n",
       "L 674.803125 565.963485 \n",
       "\" style=\"fill:none;stroke:#ffff00;stroke-dasharray:5.55,2.4;stroke-dashoffset:0;stroke-width:1.5;\"/>\n",
       "   </g>\n",
       "   <g id=\"line2d_110\">\n",
       "    <path clip-path=\"url(#p35d25506d6)\" d=\"M 60.803125 632.156482 \n",
       "L 104.660268 597.13957 \n",
       "L 148.517411 588.661146 \n",
       "L 192.374554 583.165492 \n",
       "L 236.231696 580.59132 \n",
       "L 280.088839 567.986049 \n",
       "L 323.945982 564.206511 \n",
       "L 367.803125 554.073262 \n",
       "L 411.660268 550.171144 \n",
       "L 455.517411 543.327115 \n",
       "L 499.374554 535.441159 \n",
       "L 543.231696 532.928277 \n",
       "L 587.088839 528.351971 \n",
       "L 630.945982 526.370267 \n",
       "L 674.803125 521.97783 \n",
       "\" style=\"fill:none;stroke:#ffff00;stroke-linecap:square;stroke-width:1.5;\"/>\n",
       "   </g>\n",
       "   <g id=\"line2d_111\">\n",
       "    <path clip-path=\"url(#p35d25506d6)\" d=\"M 60.803125 660.227216 \n",
       "L 104.660268 605.863153 \n",
       "L 148.517411 597.07828 \n",
       "L 192.374554 586.679442 \n",
       "L 236.231696 578.078438 \n",
       "L 280.088839 571.213979 \n",
       "L 323.945982 576.341893 \n",
       "L 367.803125 570.519361 \n",
       "L 411.660268 567.965619 \n",
       "L 455.517411 568.026909 \n",
       "L 499.374554 566.351654 \n",
       "L 543.231696 571.05054 \n",
       "L 587.088839 573.379552 \n",
       "L 630.945982 573.563422 \n",
       "L 674.803125 577.56769 \n",
       "\" style=\"fill:none;stroke:#800080;stroke-dasharray:5.55,2.4;stroke-dashoffset:0;stroke-width:1.5;\"/>\n",
       "   </g>\n",
       "   <g id=\"line2d_112\">\n",
       "    <path clip-path=\"url(#p35d25506d6)\" d=\"M 60.803125 659.00142 \n",
       "L 104.660268 607.354538 \n",
       "L 148.517411 593.89121 \n",
       "L 192.374554 580.203152 \n",
       "L 236.231696 562.347386 \n",
       "L 280.088839 553.746383 \n",
       "L 323.945982 545.186239 \n",
       "L 367.803125 534.93041 \n",
       "L 411.660268 524.327273 \n",
       "L 455.517411 518.341301 \n",
       "L 499.374554 505.020982 \n",
       "L 543.231696 487.737255 \n",
       "L 587.088839 476.133051 \n",
       "L 630.945982 463.241761 \n",
       "L 674.803125 434.598988 \n",
       "\" style=\"fill:none;stroke:#800080;stroke-linecap:square;stroke-width:1.5;\"/>\n",
       "   </g>\n",
       "   <g id=\"line2d_113\">\n",
       "    <path clip-path=\"url(#p35d25506d6)\" d=\"M 60.803125 648.541292 \n",
       "L 104.660268 637.386546 \n",
       "L 148.517411 600.490079 \n",
       "L 192.374554 593.482611 \n",
       "L 236.231696 580.73433 \n",
       "L 280.088839 576.158024 \n",
       "L 323.945982 578.956925 \n",
       "L 367.803125 571.213979 \n",
       "L 411.660268 569.354855 \n",
       "L 455.517411 564.043071 \n",
       "L 499.374554 566.617243 \n",
       "L 543.231696 562.817275 \n",
       "L 587.088839 557.137752 \n",
       "L 630.945982 559.997944 \n",
       "L 674.803125 559.895794 \n",
       "\" style=\"fill:none;stroke:#00ffff;stroke-dasharray:5.55,2.4;stroke-dashoffset:0;stroke-width:1.5;\"/>\n",
       "   </g>\n",
       "   <g id=\"line2d_114\">\n",
       "    <path clip-path=\"url(#p35d25506d6)\" d=\"M 60.803125 649.27677 \n",
       "L 104.660268 636.896228 \n",
       "L 148.517411 598.876114 \n",
       "L 192.374554 588.783725 \n",
       "L 236.231696 576.975221 \n",
       "L 280.088839 571.111829 \n",
       "L 323.945982 565.718326 \n",
       "L 367.803125 559.834504 \n",
       "L 411.660268 552.908755 \n",
       "L 455.517411 548.516319 \n",
       "L 499.374554 545.124949 \n",
       "L 543.231696 540.303484 \n",
       "L 587.088839 537.157274 \n",
       "L 630.945982 536.380936 \n",
       "L 674.803125 529.986366 \n",
       "\" style=\"fill:none;stroke:#00ffff;stroke-linecap:square;stroke-width:1.5;\"/>\n",
       "   </g>\n",
       "   <g id=\"patch_9\">\n",
       "    <path d=\"M 30.103125 673.718125 \n",
       "L 30.103125 376.918125 \n",
       "\" style=\"fill:none;stroke:#000000;stroke-linecap:square;stroke-linejoin:miter;stroke-width:0.8;\"/>\n",
       "   </g>\n",
       "   <g id=\"patch_10\">\n",
       "    <path d=\"M 705.503125 673.718125 \n",
       "L 705.503125 376.918125 \n",
       "\" style=\"fill:none;stroke:#000000;stroke-linecap:square;stroke-linejoin:miter;stroke-width:0.8;\"/>\n",
       "   </g>\n",
       "   <g id=\"patch_11\">\n",
       "    <path d=\"M 30.103125 673.718125 \n",
       "L 705.503125 673.718125 \n",
       "\" style=\"fill:none;stroke:#000000;stroke-linecap:square;stroke-linejoin:miter;stroke-width:0.8;\"/>\n",
       "   </g>\n",
       "   <g id=\"patch_12\">\n",
       "    <path d=\"M 30.103125 376.918125 \n",
       "L 705.503125 376.918125 \n",
       "\" style=\"fill:none;stroke:#000000;stroke-linecap:square;stroke-linejoin:miter;stroke-width:0.8;\"/>\n",
       "   </g>\n",
       "   <g id=\"text_47\">\n",
       "    <!-- Accuracy -->\n",
       "    <defs>\n",
       "     <path d=\"M 34.1875 63.1875 \n",
       "L 20.796875 26.90625 \n",
       "L 47.609375 26.90625 \n",
       "z\n",
       "M 28.609375 72.90625 \n",
       "L 39.796875 72.90625 \n",
       "L 67.578125 0 \n",
       "L 57.328125 0 \n",
       "L 50.6875 18.703125 \n",
       "L 17.828125 18.703125 \n",
       "L 11.1875 0 \n",
       "L 0.78125 0 \n",
       "z\n",
       "\" id=\"DejaVuSans-65\"/>\n",
       "    </defs>\n",
       "    <g transform=\"translate(340.409375 370.918125)scale(0.12 -0.12)\">\n",
       "     <use xlink:href=\"#DejaVuSans-65\"/>\n",
       "     <use x=\"66.658203\" xlink:href=\"#DejaVuSans-99\"/>\n",
       "     <use x=\"121.638672\" xlink:href=\"#DejaVuSans-99\"/>\n",
       "     <use x=\"176.619141\" xlink:href=\"#DejaVuSans-117\"/>\n",
       "     <use x=\"239.998047\" xlink:href=\"#DejaVuSans-114\"/>\n",
       "     <use x=\"281.111328\" xlink:href=\"#DejaVuSans-97\"/>\n",
       "     <use x=\"342.390625\" xlink:href=\"#DejaVuSans-99\"/>\n",
       "     <use x=\"397.371094\" xlink:href=\"#DejaVuSans-121\"/>\n",
       "    </g>\n",
       "   </g>\n",
       "   <g id=\"legend_2\">\n",
       "    <g id=\"patch_13\">\n",
       "     <path d=\"M 37.103125 590.411875 \n",
       "L 216.909375 590.411875 \n",
       "Q 218.909375 590.411875 218.909375 588.411875 \n",
       "L 218.909375 383.918125 \n",
       "Q 218.909375 381.918125 216.909375 381.918125 \n",
       "L 37.103125 381.918125 \n",
       "Q 35.103125 381.918125 35.103125 383.918125 \n",
       "L 35.103125 588.411875 \n",
       "Q 35.103125 590.411875 37.103125 590.411875 \n",
       "z\n",
       "\" style=\"fill:#ffffff;opacity:0.8;stroke:#cccccc;stroke-linejoin:miter;\"/>\n",
       "    </g>\n",
       "    <g id=\"line2d_115\">\n",
       "     <path d=\"M 39.103125 390.016562 \n",
       "L 59.103125 390.016562 \n",
       "\" style=\"fill:none;stroke:#000000;stroke-dasharray:5.55,2.4;stroke-dashoffset:0;stroke-width:1.5;\"/>\n",
       "    </g>\n",
       "    <g id=\"line2d_116\"/>\n",
       "    <g id=\"text_48\">\n",
       "     <!-- Base test -->\n",
       "     <g transform=\"translate(67.103125 393.516562)scale(0.1 -0.1)\">\n",
       "      <use xlink:href=\"#DejaVuSans-66\"/>\n",
       "      <use x=\"68.603516\" xlink:href=\"#DejaVuSans-97\"/>\n",
       "      <use x=\"129.882812\" xlink:href=\"#DejaVuSans-115\"/>\n",
       "      <use x=\"181.982422\" xlink:href=\"#DejaVuSans-101\"/>\n",
       "      <use x=\"243.505859\" xlink:href=\"#DejaVuSans-32\"/>\n",
       "      <use x=\"275.292969\" xlink:href=\"#DejaVuSans-116\"/>\n",
       "      <use x=\"314.501953\" xlink:href=\"#DejaVuSans-101\"/>\n",
       "      <use x=\"376.025391\" xlink:href=\"#DejaVuSans-115\"/>\n",
       "      <use x=\"428.125\" xlink:href=\"#DejaVuSans-116\"/>\n",
       "     </g>\n",
       "    </g>\n",
       "    <g id=\"line2d_117\">\n",
       "     <path d=\"M 39.103125 404.694687 \n",
       "L 59.103125 404.694687 \n",
       "\" style=\"fill:none;stroke:#000000;stroke-linecap:square;stroke-width:1.5;\"/>\n",
       "    </g>\n",
       "    <g id=\"line2d_118\"/>\n",
       "    <g id=\"text_49\">\n",
       "     <!-- Base train -->\n",
       "     <g transform=\"translate(67.103125 408.194687)scale(0.1 -0.1)\">\n",
       "      <use xlink:href=\"#DejaVuSans-66\"/>\n",
       "      <use x=\"68.603516\" xlink:href=\"#DejaVuSans-97\"/>\n",
       "      <use x=\"129.882812\" xlink:href=\"#DejaVuSans-115\"/>\n",
       "      <use x=\"181.982422\" xlink:href=\"#DejaVuSans-101\"/>\n",
       "      <use x=\"243.505859\" xlink:href=\"#DejaVuSans-32\"/>\n",
       "      <use x=\"275.292969\" xlink:href=\"#DejaVuSans-116\"/>\n",
       "      <use x=\"314.501953\" xlink:href=\"#DejaVuSans-114\"/>\n",
       "      <use x=\"355.615234\" xlink:href=\"#DejaVuSans-97\"/>\n",
       "      <use x=\"416.894531\" xlink:href=\"#DejaVuSans-105\"/>\n",
       "      <use x=\"444.677734\" xlink:href=\"#DejaVuSans-110\"/>\n",
       "     </g>\n",
       "    </g>\n",
       "    <g id=\"line2d_119\">\n",
       "     <path d=\"M 39.103125 419.372812 \n",
       "L 59.103125 419.372812 \n",
       "\" style=\"fill:none;stroke:#ff0000;stroke-dasharray:5.55,2.4;stroke-dashoffset:0;stroke-width:1.5;\"/>\n",
       "    </g>\n",
       "    <g id=\"line2d_120\"/>\n",
       "    <g id=\"text_50\">\n",
       "     <!-- Var test -->\n",
       "     <g transform=\"translate(67.103125 422.872812)scale(0.1 -0.1)\">\n",
       "      <use xlink:href=\"#DejaVuSans-86\"/>\n",
       "      <use x=\"60.658203\" xlink:href=\"#DejaVuSans-97\"/>\n",
       "      <use x=\"121.9375\" xlink:href=\"#DejaVuSans-114\"/>\n",
       "      <use x=\"163.050781\" xlink:href=\"#DejaVuSans-32\"/>\n",
       "      <use x=\"194.837891\" xlink:href=\"#DejaVuSans-116\"/>\n",
       "      <use x=\"234.046875\" xlink:href=\"#DejaVuSans-101\"/>\n",
       "      <use x=\"295.570312\" xlink:href=\"#DejaVuSans-115\"/>\n",
       "      <use x=\"347.669922\" xlink:href=\"#DejaVuSans-116\"/>\n",
       "     </g>\n",
       "    </g>\n",
       "    <g id=\"line2d_121\">\n",
       "     <path d=\"M 39.103125 434.050937 \n",
       "L 59.103125 434.050937 \n",
       "\" style=\"fill:none;stroke:#ff0000;stroke-linecap:square;stroke-width:1.5;\"/>\n",
       "    </g>\n",
       "    <g id=\"line2d_122\"/>\n",
       "    <g id=\"text_51\">\n",
       "     <!-- Var train -->\n",
       "     <g transform=\"translate(67.103125 437.550937)scale(0.1 -0.1)\">\n",
       "      <use xlink:href=\"#DejaVuSans-86\"/>\n",
       "      <use x=\"60.658203\" xlink:href=\"#DejaVuSans-97\"/>\n",
       "      <use x=\"121.9375\" xlink:href=\"#DejaVuSans-114\"/>\n",
       "      <use x=\"163.050781\" xlink:href=\"#DejaVuSans-32\"/>\n",
       "      <use x=\"194.837891\" xlink:href=\"#DejaVuSans-116\"/>\n",
       "      <use x=\"234.046875\" xlink:href=\"#DejaVuSans-114\"/>\n",
       "      <use x=\"275.160156\" xlink:href=\"#DejaVuSans-97\"/>\n",
       "      <use x=\"336.439453\" xlink:href=\"#DejaVuSans-105\"/>\n",
       "      <use x=\"364.222656\" xlink:href=\"#DejaVuSans-110\"/>\n",
       "     </g>\n",
       "    </g>\n",
       "    <g id=\"line2d_123\">\n",
       "     <path d=\"M 39.103125 448.729062 \n",
       "L 59.103125 448.729062 \n",
       "\" style=\"fill:none;stroke:#0000ff;stroke-dasharray:5.55,2.4;stroke-dashoffset:0;stroke-width:1.5;\"/>\n",
       "    </g>\n",
       "    <g id=\"line2d_124\"/>\n",
       "    <g id=\"text_52\">\n",
       "     <!-- Var with dropout test -->\n",
       "     <g transform=\"translate(67.103125 452.229062)scale(0.1 -0.1)\">\n",
       "      <use xlink:href=\"#DejaVuSans-86\"/>\n",
       "      <use x=\"60.658203\" xlink:href=\"#DejaVuSans-97\"/>\n",
       "      <use x=\"121.9375\" xlink:href=\"#DejaVuSans-114\"/>\n",
       "      <use x=\"163.050781\" xlink:href=\"#DejaVuSans-32\"/>\n",
       "      <use x=\"194.837891\" xlink:href=\"#DejaVuSans-119\"/>\n",
       "      <use x=\"276.625\" xlink:href=\"#DejaVuSans-105\"/>\n",
       "      <use x=\"304.408203\" xlink:href=\"#DejaVuSans-116\"/>\n",
       "      <use x=\"343.617188\" xlink:href=\"#DejaVuSans-104\"/>\n",
       "      <use x=\"406.996094\" xlink:href=\"#DejaVuSans-32\"/>\n",
       "      <use x=\"438.783203\" xlink:href=\"#DejaVuSans-100\"/>\n",
       "      <use x=\"502.259766\" xlink:href=\"#DejaVuSans-114\"/>\n",
       "      <use x=\"541.123047\" xlink:href=\"#DejaVuSans-111\"/>\n",
       "      <use x=\"602.304688\" xlink:href=\"#DejaVuSans-112\"/>\n",
       "      <use x=\"665.78125\" xlink:href=\"#DejaVuSans-111\"/>\n",
       "      <use x=\"726.962891\" xlink:href=\"#DejaVuSans-117\"/>\n",
       "      <use x=\"790.341797\" xlink:href=\"#DejaVuSans-116\"/>\n",
       "      <use x=\"829.550781\" xlink:href=\"#DejaVuSans-32\"/>\n",
       "      <use x=\"861.337891\" xlink:href=\"#DejaVuSans-116\"/>\n",
       "      <use x=\"900.546875\" xlink:href=\"#DejaVuSans-101\"/>\n",
       "      <use x=\"962.070312\" xlink:href=\"#DejaVuSans-115\"/>\n",
       "      <use x=\"1014.169922\" xlink:href=\"#DejaVuSans-116\"/>\n",
       "     </g>\n",
       "    </g>\n",
       "    <g id=\"line2d_125\">\n",
       "     <path d=\"M 39.103125 463.407187 \n",
       "L 59.103125 463.407187 \n",
       "\" style=\"fill:none;stroke:#0000ff;stroke-linecap:square;stroke-width:1.5;\"/>\n",
       "    </g>\n",
       "    <g id=\"line2d_126\"/>\n",
       "    <g id=\"text_53\">\n",
       "     <!-- Var with dropout train -->\n",
       "     <g transform=\"translate(67.103125 466.907187)scale(0.1 -0.1)\">\n",
       "      <use xlink:href=\"#DejaVuSans-86\"/>\n",
       "      <use x=\"60.658203\" xlink:href=\"#DejaVuSans-97\"/>\n",
       "      <use x=\"121.9375\" xlink:href=\"#DejaVuSans-114\"/>\n",
       "      <use x=\"163.050781\" xlink:href=\"#DejaVuSans-32\"/>\n",
       "      <use x=\"194.837891\" xlink:href=\"#DejaVuSans-119\"/>\n",
       "      <use x=\"276.625\" xlink:href=\"#DejaVuSans-105\"/>\n",
       "      <use x=\"304.408203\" xlink:href=\"#DejaVuSans-116\"/>\n",
       "      <use x=\"343.617188\" xlink:href=\"#DejaVuSans-104\"/>\n",
       "      <use x=\"406.996094\" xlink:href=\"#DejaVuSans-32\"/>\n",
       "      <use x=\"438.783203\" xlink:href=\"#DejaVuSans-100\"/>\n",
       "      <use x=\"502.259766\" xlink:href=\"#DejaVuSans-114\"/>\n",
       "      <use x=\"541.123047\" xlink:href=\"#DejaVuSans-111\"/>\n",
       "      <use x=\"602.304688\" xlink:href=\"#DejaVuSans-112\"/>\n",
       "      <use x=\"665.78125\" xlink:href=\"#DejaVuSans-111\"/>\n",
       "      <use x=\"726.962891\" xlink:href=\"#DejaVuSans-117\"/>\n",
       "      <use x=\"790.341797\" xlink:href=\"#DejaVuSans-116\"/>\n",
       "      <use x=\"829.550781\" xlink:href=\"#DejaVuSans-32\"/>\n",
       "      <use x=\"861.337891\" xlink:href=\"#DejaVuSans-116\"/>\n",
       "      <use x=\"900.546875\" xlink:href=\"#DejaVuSans-114\"/>\n",
       "      <use x=\"941.660156\" xlink:href=\"#DejaVuSans-97\"/>\n",
       "      <use x=\"1002.939453\" xlink:href=\"#DejaVuSans-105\"/>\n",
       "      <use x=\"1030.722656\" xlink:href=\"#DejaVuSans-110\"/>\n",
       "     </g>\n",
       "    </g>\n",
       "    <g id=\"line2d_127\">\n",
       "     <path d=\"M 39.103125 478.085312 \n",
       "L 59.103125 478.085312 \n",
       "\" style=\"fill:none;stroke:#008000;stroke-dasharray:5.55,2.4;stroke-dashoffset:0;stroke-width:1.5;\"/>\n",
       "    </g>\n",
       "    <g id=\"line2d_128\"/>\n",
       "    <g id=\"text_54\">\n",
       "     <!-- FastVar test -->\n",
       "     <g transform=\"translate(67.103125 481.585312)scale(0.1 -0.1)\">\n",
       "      <use xlink:href=\"#DejaVuSans-70\"/>\n",
       "      <use x=\"48.394531\" xlink:href=\"#DejaVuSans-97\"/>\n",
       "      <use x=\"109.673828\" xlink:href=\"#DejaVuSans-115\"/>\n",
       "      <use x=\"161.773438\" xlink:href=\"#DejaVuSans-116\"/>\n",
       "      <use x=\"200.982422\" xlink:href=\"#DejaVuSans-86\"/>\n",
       "      <use x=\"261.640625\" xlink:href=\"#DejaVuSans-97\"/>\n",
       "      <use x=\"322.919922\" xlink:href=\"#DejaVuSans-114\"/>\n",
       "      <use x=\"364.033203\" xlink:href=\"#DejaVuSans-32\"/>\n",
       "      <use x=\"395.820312\" xlink:href=\"#DejaVuSans-116\"/>\n",
       "      <use x=\"435.029297\" xlink:href=\"#DejaVuSans-101\"/>\n",
       "      <use x=\"496.552734\" xlink:href=\"#DejaVuSans-115\"/>\n",
       "      <use x=\"548.652344\" xlink:href=\"#DejaVuSans-116\"/>\n",
       "     </g>\n",
       "    </g>\n",
       "    <g id=\"line2d_129\">\n",
       "     <path d=\"M 39.103125 492.763437 \n",
       "L 59.103125 492.763437 \n",
       "\" style=\"fill:none;stroke:#008000;stroke-linecap:square;stroke-width:1.5;\"/>\n",
       "    </g>\n",
       "    <g id=\"line2d_130\"/>\n",
       "    <g id=\"text_55\">\n",
       "     <!-- FastVar train -->\n",
       "     <g transform=\"translate(67.103125 496.263437)scale(0.1 -0.1)\">\n",
       "      <use xlink:href=\"#DejaVuSans-70\"/>\n",
       "      <use x=\"48.394531\" xlink:href=\"#DejaVuSans-97\"/>\n",
       "      <use x=\"109.673828\" xlink:href=\"#DejaVuSans-115\"/>\n",
       "      <use x=\"161.773438\" xlink:href=\"#DejaVuSans-116\"/>\n",
       "      <use x=\"200.982422\" xlink:href=\"#DejaVuSans-86\"/>\n",
       "      <use x=\"261.640625\" xlink:href=\"#DejaVuSans-97\"/>\n",
       "      <use x=\"322.919922\" xlink:href=\"#DejaVuSans-114\"/>\n",
       "      <use x=\"364.033203\" xlink:href=\"#DejaVuSans-32\"/>\n",
       "      <use x=\"395.820312\" xlink:href=\"#DejaVuSans-116\"/>\n",
       "      <use x=\"435.029297\" xlink:href=\"#DejaVuSans-114\"/>\n",
       "      <use x=\"476.142578\" xlink:href=\"#DejaVuSans-97\"/>\n",
       "      <use x=\"537.421875\" xlink:href=\"#DejaVuSans-105\"/>\n",
       "      <use x=\"565.205078\" xlink:href=\"#DejaVuSans-110\"/>\n",
       "     </g>\n",
       "    </g>\n",
       "    <g id=\"line2d_131\">\n",
       "     <path d=\"M 39.103125 507.441562 \n",
       "L 59.103125 507.441562 \n",
       "\" style=\"fill:none;stroke:#ffff00;stroke-dasharray:5.55,2.4;stroke-dashoffset:0;stroke-width:1.5;\"/>\n",
       "    </g>\n",
       "    <g id=\"line2d_132\"/>\n",
       "    <g id=\"text_56\">\n",
       "     <!-- FastVar with dropout test -->\n",
       "     <g transform=\"translate(67.103125 510.941562)scale(0.1 -0.1)\">\n",
       "      <use xlink:href=\"#DejaVuSans-70\"/>\n",
       "      <use x=\"48.394531\" xlink:href=\"#DejaVuSans-97\"/>\n",
       "      <use x=\"109.673828\" xlink:href=\"#DejaVuSans-115\"/>\n",
       "      <use x=\"161.773438\" xlink:href=\"#DejaVuSans-116\"/>\n",
       "      <use x=\"200.982422\" xlink:href=\"#DejaVuSans-86\"/>\n",
       "      <use x=\"261.640625\" xlink:href=\"#DejaVuSans-97\"/>\n",
       "      <use x=\"322.919922\" xlink:href=\"#DejaVuSans-114\"/>\n",
       "      <use x=\"364.033203\" xlink:href=\"#DejaVuSans-32\"/>\n",
       "      <use x=\"395.820312\" xlink:href=\"#DejaVuSans-119\"/>\n",
       "      <use x=\"477.607422\" xlink:href=\"#DejaVuSans-105\"/>\n",
       "      <use x=\"505.390625\" xlink:href=\"#DejaVuSans-116\"/>\n",
       "      <use x=\"544.599609\" xlink:href=\"#DejaVuSans-104\"/>\n",
       "      <use x=\"607.978516\" xlink:href=\"#DejaVuSans-32\"/>\n",
       "      <use x=\"639.765625\" xlink:href=\"#DejaVuSans-100\"/>\n",
       "      <use x=\"703.242188\" xlink:href=\"#DejaVuSans-114\"/>\n",
       "      <use x=\"742.105469\" xlink:href=\"#DejaVuSans-111\"/>\n",
       "      <use x=\"803.287109\" xlink:href=\"#DejaVuSans-112\"/>\n",
       "      <use x=\"866.763672\" xlink:href=\"#DejaVuSans-111\"/>\n",
       "      <use x=\"927.945312\" xlink:href=\"#DejaVuSans-117\"/>\n",
       "      <use x=\"991.324219\" xlink:href=\"#DejaVuSans-116\"/>\n",
       "      <use x=\"1030.533203\" xlink:href=\"#DejaVuSans-32\"/>\n",
       "      <use x=\"1062.320312\" xlink:href=\"#DejaVuSans-116\"/>\n",
       "      <use x=\"1101.529297\" xlink:href=\"#DejaVuSans-101\"/>\n",
       "      <use x=\"1163.052734\" xlink:href=\"#DejaVuSans-115\"/>\n",
       "      <use x=\"1215.152344\" xlink:href=\"#DejaVuSans-116\"/>\n",
       "     </g>\n",
       "    </g>\n",
       "    <g id=\"line2d_133\">\n",
       "     <path d=\"M 39.103125 522.119687 \n",
       "L 59.103125 522.119687 \n",
       "\" style=\"fill:none;stroke:#ffff00;stroke-linecap:square;stroke-width:1.5;\"/>\n",
       "    </g>\n",
       "    <g id=\"line2d_134\"/>\n",
       "    <g id=\"text_57\">\n",
       "     <!-- FastVar with dropout train -->\n",
       "     <g transform=\"translate(67.103125 525.619687)scale(0.1 -0.1)\">\n",
       "      <use xlink:href=\"#DejaVuSans-70\"/>\n",
       "      <use x=\"48.394531\" xlink:href=\"#DejaVuSans-97\"/>\n",
       "      <use x=\"109.673828\" xlink:href=\"#DejaVuSans-115\"/>\n",
       "      <use x=\"161.773438\" xlink:href=\"#DejaVuSans-116\"/>\n",
       "      <use x=\"200.982422\" xlink:href=\"#DejaVuSans-86\"/>\n",
       "      <use x=\"261.640625\" xlink:href=\"#DejaVuSans-97\"/>\n",
       "      <use x=\"322.919922\" xlink:href=\"#DejaVuSans-114\"/>\n",
       "      <use x=\"364.033203\" xlink:href=\"#DejaVuSans-32\"/>\n",
       "      <use x=\"395.820312\" xlink:href=\"#DejaVuSans-119\"/>\n",
       "      <use x=\"477.607422\" xlink:href=\"#DejaVuSans-105\"/>\n",
       "      <use x=\"505.390625\" xlink:href=\"#DejaVuSans-116\"/>\n",
       "      <use x=\"544.599609\" xlink:href=\"#DejaVuSans-104\"/>\n",
       "      <use x=\"607.978516\" xlink:href=\"#DejaVuSans-32\"/>\n",
       "      <use x=\"639.765625\" xlink:href=\"#DejaVuSans-100\"/>\n",
       "      <use x=\"703.242188\" xlink:href=\"#DejaVuSans-114\"/>\n",
       "      <use x=\"742.105469\" xlink:href=\"#DejaVuSans-111\"/>\n",
       "      <use x=\"803.287109\" xlink:href=\"#DejaVuSans-112\"/>\n",
       "      <use x=\"866.763672\" xlink:href=\"#DejaVuSans-111\"/>\n",
       "      <use x=\"927.945312\" xlink:href=\"#DejaVuSans-117\"/>\n",
       "      <use x=\"991.324219\" xlink:href=\"#DejaVuSans-116\"/>\n",
       "      <use x=\"1030.533203\" xlink:href=\"#DejaVuSans-32\"/>\n",
       "      <use x=\"1062.320312\" xlink:href=\"#DejaVuSans-116\"/>\n",
       "      <use x=\"1101.529297\" xlink:href=\"#DejaVuSans-114\"/>\n",
       "      <use x=\"1142.642578\" xlink:href=\"#DejaVuSans-97\"/>\n",
       "      <use x=\"1203.921875\" xlink:href=\"#DejaVuSans-105\"/>\n",
       "      <use x=\"1231.705078\" xlink:href=\"#DejaVuSans-110\"/>\n",
       "     </g>\n",
       "    </g>\n",
       "    <g id=\"line2d_135\">\n",
       "     <path d=\"M 39.103125 536.797812 \n",
       "L 59.103125 536.797812 \n",
       "\" style=\"fill:none;stroke:#800080;stroke-dasharray:5.55,2.4;stroke-dashoffset:0;stroke-width:1.5;\"/>\n",
       "    </g>\n",
       "    <g id=\"line2d_136\"/>\n",
       "    <g id=\"text_58\">\n",
       "     <!-- Handmade test -->\n",
       "     <g transform=\"translate(67.103125 540.297812)scale(0.1 -0.1)\">\n",
       "      <use xlink:href=\"#DejaVuSans-72\"/>\n",
       "      <use x=\"75.195312\" xlink:href=\"#DejaVuSans-97\"/>\n",
       "      <use x=\"136.474609\" xlink:href=\"#DejaVuSans-110\"/>\n",
       "      <use x=\"199.853516\" xlink:href=\"#DejaVuSans-100\"/>\n",
       "      <use x=\"263.330078\" xlink:href=\"#DejaVuSans-109\"/>\n",
       "      <use x=\"360.742188\" xlink:href=\"#DejaVuSans-97\"/>\n",
       "      <use x=\"422.021484\" xlink:href=\"#DejaVuSans-100\"/>\n",
       "      <use x=\"485.498047\" xlink:href=\"#DejaVuSans-101\"/>\n",
       "      <use x=\"547.021484\" xlink:href=\"#DejaVuSans-32\"/>\n",
       "      <use x=\"578.808594\" xlink:href=\"#DejaVuSans-116\"/>\n",
       "      <use x=\"618.017578\" xlink:href=\"#DejaVuSans-101\"/>\n",
       "      <use x=\"679.541016\" xlink:href=\"#DejaVuSans-115\"/>\n",
       "      <use x=\"731.640625\" xlink:href=\"#DejaVuSans-116\"/>\n",
       "     </g>\n",
       "    </g>\n",
       "    <g id=\"line2d_137\">\n",
       "     <path d=\"M 39.103125 551.475937 \n",
       "L 59.103125 551.475937 \n",
       "\" style=\"fill:none;stroke:#800080;stroke-linecap:square;stroke-width:1.5;\"/>\n",
       "    </g>\n",
       "    <g id=\"line2d_138\"/>\n",
       "    <g id=\"text_59\">\n",
       "     <!-- Handmade train -->\n",
       "     <g transform=\"translate(67.103125 554.975937)scale(0.1 -0.1)\">\n",
       "      <use xlink:href=\"#DejaVuSans-72\"/>\n",
       "      <use x=\"75.195312\" xlink:href=\"#DejaVuSans-97\"/>\n",
       "      <use x=\"136.474609\" xlink:href=\"#DejaVuSans-110\"/>\n",
       "      <use x=\"199.853516\" xlink:href=\"#DejaVuSans-100\"/>\n",
       "      <use x=\"263.330078\" xlink:href=\"#DejaVuSans-109\"/>\n",
       "      <use x=\"360.742188\" xlink:href=\"#DejaVuSans-97\"/>\n",
       "      <use x=\"422.021484\" xlink:href=\"#DejaVuSans-100\"/>\n",
       "      <use x=\"485.498047\" xlink:href=\"#DejaVuSans-101\"/>\n",
       "      <use x=\"547.021484\" xlink:href=\"#DejaVuSans-32\"/>\n",
       "      <use x=\"578.808594\" xlink:href=\"#DejaVuSans-116\"/>\n",
       "      <use x=\"618.017578\" xlink:href=\"#DejaVuSans-114\"/>\n",
       "      <use x=\"659.130859\" xlink:href=\"#DejaVuSans-97\"/>\n",
       "      <use x=\"720.410156\" xlink:href=\"#DejaVuSans-105\"/>\n",
       "      <use x=\"748.193359\" xlink:href=\"#DejaVuSans-110\"/>\n",
       "     </g>\n",
       "    </g>\n",
       "    <g id=\"line2d_139\">\n",
       "     <path d=\"M 39.103125 566.154062 \n",
       "L 59.103125 566.154062 \n",
       "\" style=\"fill:none;stroke:#00ffff;stroke-dasharray:5.55,2.4;stroke-dashoffset:0;stroke-width:1.5;\"/>\n",
       "    </g>\n",
       "    <g id=\"line2d_140\"/>\n",
       "    <g id=\"text_60\">\n",
       "     <!-- Handmade with dropout test -->\n",
       "     <g transform=\"translate(67.103125 569.654062)scale(0.1 -0.1)\">\n",
       "      <use xlink:href=\"#DejaVuSans-72\"/>\n",
       "      <use x=\"75.195312\" xlink:href=\"#DejaVuSans-97\"/>\n",
       "      <use x=\"136.474609\" xlink:href=\"#DejaVuSans-110\"/>\n",
       "      <use x=\"199.853516\" xlink:href=\"#DejaVuSans-100\"/>\n",
       "      <use x=\"263.330078\" xlink:href=\"#DejaVuSans-109\"/>\n",
       "      <use x=\"360.742188\" xlink:href=\"#DejaVuSans-97\"/>\n",
       "      <use x=\"422.021484\" xlink:href=\"#DejaVuSans-100\"/>\n",
       "      <use x=\"485.498047\" xlink:href=\"#DejaVuSans-101\"/>\n",
       "      <use x=\"547.021484\" xlink:href=\"#DejaVuSans-32\"/>\n",
       "      <use x=\"578.808594\" xlink:href=\"#DejaVuSans-119\"/>\n",
       "      <use x=\"660.595703\" xlink:href=\"#DejaVuSans-105\"/>\n",
       "      <use x=\"688.378906\" xlink:href=\"#DejaVuSans-116\"/>\n",
       "      <use x=\"727.587891\" xlink:href=\"#DejaVuSans-104\"/>\n",
       "      <use x=\"790.966797\" xlink:href=\"#DejaVuSans-32\"/>\n",
       "      <use x=\"822.753906\" xlink:href=\"#DejaVuSans-100\"/>\n",
       "      <use x=\"886.230469\" xlink:href=\"#DejaVuSans-114\"/>\n",
       "      <use x=\"925.09375\" xlink:href=\"#DejaVuSans-111\"/>\n",
       "      <use x=\"986.275391\" xlink:href=\"#DejaVuSans-112\"/>\n",
       "      <use x=\"1049.751953\" xlink:href=\"#DejaVuSans-111\"/>\n",
       "      <use x=\"1110.933594\" xlink:href=\"#DejaVuSans-117\"/>\n",
       "      <use x=\"1174.3125\" xlink:href=\"#DejaVuSans-116\"/>\n",
       "      <use x=\"1213.521484\" xlink:href=\"#DejaVuSans-32\"/>\n",
       "      <use x=\"1245.308594\" xlink:href=\"#DejaVuSans-116\"/>\n",
       "      <use x=\"1284.517578\" xlink:href=\"#DejaVuSans-101\"/>\n",
       "      <use x=\"1346.041016\" xlink:href=\"#DejaVuSans-115\"/>\n",
       "      <use x=\"1398.140625\" xlink:href=\"#DejaVuSans-116\"/>\n",
       "     </g>\n",
       "    </g>\n",
       "    <g id=\"line2d_141\">\n",
       "     <path d=\"M 39.103125 580.832187 \n",
       "L 59.103125 580.832187 \n",
       "\" style=\"fill:none;stroke:#00ffff;stroke-linecap:square;stroke-width:1.5;\"/>\n",
       "    </g>\n",
       "    <g id=\"line2d_142\"/>\n",
       "    <g id=\"text_61\">\n",
       "     <!-- Handmade with dropout train -->\n",
       "     <g transform=\"translate(67.103125 584.332187)scale(0.1 -0.1)\">\n",
       "      <use xlink:href=\"#DejaVuSans-72\"/>\n",
       "      <use x=\"75.195312\" xlink:href=\"#DejaVuSans-97\"/>\n",
       "      <use x=\"136.474609\" xlink:href=\"#DejaVuSans-110\"/>\n",
       "      <use x=\"199.853516\" xlink:href=\"#DejaVuSans-100\"/>\n",
       "      <use x=\"263.330078\" xlink:href=\"#DejaVuSans-109\"/>\n",
       "      <use x=\"360.742188\" xlink:href=\"#DejaVuSans-97\"/>\n",
       "      <use x=\"422.021484\" xlink:href=\"#DejaVuSans-100\"/>\n",
       "      <use x=\"485.498047\" xlink:href=\"#DejaVuSans-101\"/>\n",
       "      <use x=\"547.021484\" xlink:href=\"#DejaVuSans-32\"/>\n",
       "      <use x=\"578.808594\" xlink:href=\"#DejaVuSans-119\"/>\n",
       "      <use x=\"660.595703\" xlink:href=\"#DejaVuSans-105\"/>\n",
       "      <use x=\"688.378906\" xlink:href=\"#DejaVuSans-116\"/>\n",
       "      <use x=\"727.587891\" xlink:href=\"#DejaVuSans-104\"/>\n",
       "      <use x=\"790.966797\" xlink:href=\"#DejaVuSans-32\"/>\n",
       "      <use x=\"822.753906\" xlink:href=\"#DejaVuSans-100\"/>\n",
       "      <use x=\"886.230469\" xlink:href=\"#DejaVuSans-114\"/>\n",
       "      <use x=\"925.09375\" xlink:href=\"#DejaVuSans-111\"/>\n",
       "      <use x=\"986.275391\" xlink:href=\"#DejaVuSans-112\"/>\n",
       "      <use x=\"1049.751953\" xlink:href=\"#DejaVuSans-111\"/>\n",
       "      <use x=\"1110.933594\" xlink:href=\"#DejaVuSans-117\"/>\n",
       "      <use x=\"1174.3125\" xlink:href=\"#DejaVuSans-116\"/>\n",
       "      <use x=\"1213.521484\" xlink:href=\"#DejaVuSans-32\"/>\n",
       "      <use x=\"1245.308594\" xlink:href=\"#DejaVuSans-116\"/>\n",
       "      <use x=\"1284.517578\" xlink:href=\"#DejaVuSans-114\"/>\n",
       "      <use x=\"1325.630859\" xlink:href=\"#DejaVuSans-97\"/>\n",
       "      <use x=\"1386.910156\" xlink:href=\"#DejaVuSans-105\"/>\n",
       "      <use x=\"1414.693359\" xlink:href=\"#DejaVuSans-110\"/>\n",
       "     </g>\n",
       "    </g>\n",
       "   </g>\n",
       "  </g>\n",
       " </g>\n",
       " <defs>\n",
       "  <clipPath id=\"p37f692dc70\">\n",
       "   <rect height=\"296.8\" width=\"675.4\" x=\"30.103125\" y=\"22.318125\"/>\n",
       "  </clipPath>\n",
       "  <clipPath id=\"p35d25506d6\">\n",
       "   <rect height=\"296.8\" width=\"675.4\" x=\"30.103125\" y=\"376.918125\"/>\n",
       "  </clipPath>\n",
       " </defs>\n",
       "</svg>\n"
      ],
      "text/plain": [
       "<Figure size 720x720 with 2 Axes>"
      ]
     },
     "metadata": {
      "needs_background": "light",
      "tags": []
     },
     "output_type": "display_data"
    }
   ],
   "source": [
    "fig, axes = plt.subplots(2, 1, figsize=(10, 10))\n",
    "\n",
    "# YOUR CODE HERE\n",
    "axes[0].plot(y, test_losses_pure, linestyle = '--', color = 'Black', label = 'Base test' )\n",
    "axes[0].plot(y, train_losses_pure, linestyle = '-', color = 'Black', label = 'Base train')\n",
    "axes[0].plot(y, test_losses_pure_2, linestyle = '--', color = 'red', label = 'Var test' )\n",
    "axes[0].plot(y, train_losses_pure_2, linestyle = '-', color = 'red', label = 'Var train')\n",
    "axes[0].plot(y, test_losses_pure_3, linestyle = '--', color = 'blue', label = 'Var with dropout test' )\n",
    "axes[0].plot(y, train_losses_pure_3, linestyle = '-', color = 'blue', label = 'Var with dropout train')\n",
    "axes[0].plot(y, test_losses_pure_4, linestyle = '--', color = 'green', label = 'FastVar test' )\n",
    "axes[0].plot(y, train_losses_pure_4, linestyle = '-', color = 'green', label = 'FastVar train')\n",
    "axes[0].plot(y, test_losses_pure_5, linestyle = '--', color = 'yellow', label = 'FastVar with dropout test' )\n",
    "axes[0].plot(y, train_losses_pure_5, linestyle = '-', color = 'yellow', label = 'FastVar with dropout train')\n",
    "axes[0].plot(y, test_losses_pure_6, linestyle = '--', color = 'purple', label = 'Handmade test' )\n",
    "axes[0].plot(y, train_losses_pure_6, linestyle = '-', color = 'purple', label = 'Handmade train')\n",
    "axes[0].plot(y, test_losses_pure_7, linestyle = '--', color = 'cyan', label = 'Handmade with dropout test' )\n",
    "axes[0].plot(y, train_losses_pure_7, linestyle = '-', color = 'cyan', label = 'Handmade with dropout train')\n",
    "\n",
    "axes[0].legend()\n",
    "axes[0].grid(True)\n",
    "axes[0].set_xlabel('Epoch')\n",
    "axes[0].set_title('CrossEntropy Loss')\n",
    "\n",
    "\n",
    "axes[1].plot(y, test_accuracies_pure, linestyle = '--', color = 'Black', label = 'Base test' )\n",
    "axes[1].plot(y, train_accuracies_pure, linestyle = '-', color = 'Black', label = 'Base train' )\n",
    "axes[1].plot(y, test_accuracies_pure_2, linestyle = '--', color = 'red', label = 'Var test' )\n",
    "axes[1].plot(y, train_accuracies_pure_2, linestyle = '-', color = 'red', label = 'Var train')\n",
    "axes[1].plot(y, test_accuracies_pure_3, linestyle = '--', color = 'blue', label = 'Var with dropout test' )\n",
    "axes[1].plot(y, train_accuracies_pure_3, linestyle = '-', color = 'blue', label = 'Var with dropout train')\n",
    "axes[1].plot(y, test_accuracies_pure_4, linestyle = '--', color = 'green', label = 'FastVar test' )\n",
    "axes[1].plot(y, train_accuracies_pure_4, linestyle = '-', color = 'green', label = 'FastVar train')\n",
    "axes[1].plot(y, test_accuracies_pure_5, linestyle = '--', color = 'yellow', label = 'FastVar with dropout test' )\n",
    "axes[1].plot(y, train_accuracies_pure_5, linestyle = '-', color = 'yellow', label = 'FastVar with dropout train')\n",
    "axes[1].plot(y, test_accuracies_pure_6, linestyle = '--', color = 'purple', label = 'Handmade test' )\n",
    "axes[1].plot(y, train_accuracies_pure_6, linestyle = '-', color = 'purple', label = 'Handmade train')\n",
    "axes[1].plot(y, test_accuracies_pure_7, linestyle = '--', color = 'cyan', label = 'Handmade with dropout test' )\n",
    "axes[1].plot(y, train_accuracies_pure_7, linestyle = '-', color = 'cyan', label = 'Handmade with dropout train')\n",
    "\n",
    "axes[1].legend()\n",
    "axes[1].grid(True)\n",
    "axes[1].set_xlabel('Epoch')\n",
    "axes[1].set_title('Accuracy')\n",
    "\n",
    "fig.tight_layout()\n",
    "plt.show()"
   ]
  },
  {
   "cell_type": "markdown",
   "metadata": {
    "id": "QCsI3mqvikBo"
   },
   "source": [
    "Из этих графиков видно, что при применении Dropout качество на обучении хуже, но зато на тесте показывается более хороший результат. VAR, FastVar и Handmade показали хорошие результаты, причем FastVar еще и работал небольшое количество времени, относительно других моделей. "
   ]
  },
  {
   "cell_type": "markdown",
   "metadata": {
    "collapsed": true,
    "id": "inPwIx-6yYtl"
   },
   "source": [
    "## Бонус. Zoneout (2 балла)"
   ]
  },
  {
   "cell_type": "markdown",
   "metadata": {
    "collapsed": true,
    "id": "MdkQC7KRyYtl"
   },
   "source": [
    "Это еще одна модификация идеи дропаута применительно к рекуррентным нейросетям. В Zoneout на каждом временном шаге с вероятностью p компонента скрытого состояния обновляется, а с вероятностью 1-p берется с предыдущего шага. \n",
    "В Виде формул (m^t_h - бинарная маска):\n",
    " \n",
    "(сначала обычный рекуррентный переход, например LSTM)\n",
    "$$\n",
    "i = \\sigma(h_{t-1}W^i + x_t U^i+b_i) \\quad\n",
    "o = \\sigma(h_{t-1}W^o + x_t U^o+b_o) \n",
    "$$\n",
    "$$\n",
    "f = \\sigma(h_{t-1}W^f + x_t U^f+b_f) \\quad \n",
    "g = tanh(h_{t-1} W^g + x_t U^g+b_g) \n",
    "$$\n",
    "$$\n",
    "c_t = f \\odot c_{t-1} +  i \\odot  g \\quad\n",
    "h_t =  o \\odot tanh(c_t) \\nonumber\n",
    "$$\n",
    "Затем Zoneout:\n",
    "$$\n",
    "h_t = h_t * m_h^t + h_{t-1}*(1-m_h^t)\n",
    "$$\n",
    "В этом методе маска уже должна быть разная во все моменты времени (иначе метод упрощается до дропаута Гала и Гарамани). На входы $x_t$ вновь можно накладывать маску до начала работы рекуррентного слоя.  \n",
    "\n",
    "Если у вас осталось время, вы можете реализовать этот метод. Выберите основу из трех рассмотренных случаев самостоятельно."
   ]
  },
  {
   "cell_type": "code",
   "execution_count": 149,
   "metadata": {
    "id": "DdzmSDdlztm-"
   },
   "outputs": [],
   "source": [
    "class ZoneoutLSTM(torch.nn.Module):\n",
    "    def __init__(self, input_size, hidden_size, dropout=0.0):\n",
    "        super().__init__()\n",
    "        \n",
    "        self.dropout = dropout\n",
    "        self.input_size = input_size\n",
    "        self.hidden_size = hidden_size\n",
    "        \n",
    "        self.input_weights = torch.nn.Linear(input_size, 4 * hidden_size)\n",
    "        self.hidden_weights = torch.nn.Linear(hidden_size, 4 * hidden_size)\n",
    "        \n",
    "        self.reset_params()\n",
    "\n",
    "    def reset_params(self):\n",
    "        \"\"\"\n",
    "        Initialization as in Pytorch. \n",
    "        Do not forget to call this method!\n",
    "        https://pytorch.org/docs/stable/_modules/torch/nn/modules/rnn.html#LSTM\n",
    "        \"\"\"\n",
    "        stdv = 1.0 / np.sqrt(self.hidden_size)\n",
    "        for weight in self.parameters():\n",
    "            torch.nn.init.uniform_(weight, -stdv, stdv)\n",
    "\n",
    " \n",
    "    def forward(self, x):\n",
    "        # Use functions init_h0_c0 and gen_dropout_masks defined above\n",
    "        # YOUR CODE HERE\n",
    "        h_0, c_0 = init_h0_c0(x.shape[1], self.hidden_size, x)\n",
    "\n",
    "        inp_m, hidd_m = gen_dropout_mask(self.input_size, self.hidden_size, self.training, self.dropout, x)\n",
    "\n",
    "        # Implement recurrent logic to mimic torch.nn.LSTM\n",
    "        # Do not forget to apply dropout mask\n",
    "        # YOUR CODE HERE\n",
    "        output_cell = []\n",
    "        h = h_0\n",
    "        c = c_0\n",
    "        for k in range(x.shape[0]):\n",
    "          #print('x_i', x[k].shape)# 64 32\n",
    "          #print('mask_h', mask_h.shape) # 128\n",
    "          #print('mask_i', mask_i.shape) # 32\n",
    "          #print('h', h.shape) # 64 128\n",
    "          #print('c', c.shape) # 64 128\n",
    "          \n",
    "\n",
    "          into = self.hidden_weights(h) + self.input_weights(x[k] * inp_m)\n",
    "          sigm = torch.sigmoid(into[:, :3*self.hidden_size])\n",
    "          i = sigm[:, :self.hidden_size]\n",
    "          o = sigm[:, self.hidden_size: 2*self.hidden_size]\n",
    "          f = sigm[:, 2*self.hidden_size: 3*self.hidden_size]\n",
    "          \n",
    "          g =  torch.tanh(into[:, 3 * self.hidden_size: 4 * self.hidden_size])\n",
    "          c = f * c + i * g * hidd_m\n",
    "          h1 = o * torch.tanh(c)\n",
    "          #print('h1', h1.shape)\n",
    "          #print('h', h.shape)\n",
    "          inp_m_new, hidd_m_new = gen_dropout_mask(1, self.hidden_size, self.training, self.dropout, x)\n",
    "          h = h1 *  hidd_m_new + h * (1 - hidd_m_new)\n",
    "\n",
    "          output_cell += [h1.clone()]\n",
    "\n",
    "        output_cell = torch.stack(output_cell)\n",
    "        #print('output_cell', output_cell.shape)#[200, 64, 128]\n",
    "        return output_cell, (h, c)\n"
   ]
  },
  {
   "cell_type": "code",
   "execution_count": 150,
   "metadata": {
    "id": "1co2-s4AWkh_"
   },
   "outputs": [],
   "source": [
    "model_8 = RNNClassifier(\n",
    "    embedding_dim=embedding_dim, hidden_dim=hidden_dim, output_size=10, vocab=vocab,\n",
    "    rec_layer = ZoneoutLSTM , dropout=0.25\n",
    ").to(device)"
   ]
  },
  {
   "cell_type": "code",
   "execution_count": 151,
   "metadata": {
    "id": "lGrbubTVWujv"
   },
   "outputs": [],
   "source": [
    "loss_fn = torch.nn.CrossEntropyLoss(reduction='sum')#поставить summ\n",
    "optimizer_8 = torch.optim.Adam(model_8.parameters(), lr=learning_rate)"
   ]
  },
  {
   "cell_type": "code",
   "execution_count": 152,
   "metadata": {
    "colab": {
     "base_uri": "https://localhost:8080/"
    },
    "id": "7zqsiC5NXFJ_",
    "outputId": "e4daca9a-fb2a-4466-9888-ca1e98b59aa6"
   },
   "outputs": [
    {
     "name": "stdout",
     "output_type": "stream",
     "text": [
      "Epoch: 1/15. Loss (Train/Test): 2.016/2.022. Accuracy (Train/Test): 0.220/0.217\n",
      "Epoch: 2/15. Loss (Train/Test): 1.983/2.005. Accuracy (Train/Test): 0.283/0.283\n",
      "Epoch: 3/15. Loss (Train/Test): 1.732/1.759. Accuracy (Train/Test): 0.346/0.347\n",
      "Epoch: 4/15. Loss (Train/Test): 1.652/1.692. Accuracy (Train/Test): 0.365/0.360\n",
      "Epoch: 5/15. Loss (Train/Test): 1.620/1.659. Accuracy (Train/Test): 0.371/0.365\n",
      "Epoch: 6/15. Loss (Train/Test): 1.576/1.633. Accuracy (Train/Test): 0.386/0.374\n",
      "Epoch: 7/15. Loss (Train/Test): 1.533/1.608. Accuracy (Train/Test): 0.396/0.374\n",
      "Epoch: 8/15. Loss (Train/Test): 1.503/1.585. Accuracy (Train/Test): 0.411/0.385\n",
      "Epoch: 9/15. Loss (Train/Test): 1.500/1.583. Accuracy (Train/Test): 0.414/0.379\n",
      "Epoch: 10/15. Loss (Train/Test): 1.449/1.553. Accuracy (Train/Test): 0.429/0.395\n",
      "Epoch: 11/15. Loss (Train/Test): 1.434/1.559. Accuracy (Train/Test): 0.434/0.391\n",
      "Epoch: 12/15. Loss (Train/Test): 1.412/1.539. Accuracy (Train/Test): 0.443/0.399\n",
      "Epoch: 13/15. Loss (Train/Test): 1.395/1.542. Accuracy (Train/Test): 0.449/0.405\n",
      "Epoch: 14/15. Loss (Train/Test): 1.370/1.523. Accuracy (Train/Test): 0.460/0.406\n",
      "Epoch: 15/15. Loss (Train/Test): 1.355/1.530. Accuracy (Train/Test): 0.466/0.407\n"
     ]
    }
   ],
   "source": [
    "warnings.filterwarnings('ignore')\n",
    "import time \n",
    "start_time = time.time()\n",
    "train_losses_pure_8, train_accuracies_pure_8, test_losses_pure_8, test_accuracies_pure_8 = train(\n",
    "    train_dataloader, test_dataloader, model_8, loss_fn, optimizer_8, device, num_epochs\n",
    ")\n",
    "t_first_model_8 = time.time() - start_time"
   ]
  },
  {
   "cell_type": "code",
   "execution_count": 164,
   "metadata": {
    "colab": {
     "base_uri": "https://localhost:8080/"
    },
    "id": "nwBCoxY3aP5k",
    "outputId": "c8835cd9-5fa0-4f04-df87-6d5afb5f5819"
   },
   "outputs": [
    {
     "data": {
      "text/plain": [
       "(48.0, 55.950419664382935)"
      ]
     },
     "execution_count": 164,
     "metadata": {
      "tags": []
     },
     "output_type": "execute_result"
    }
   ],
   "source": [
    "t_first_model_8 // 60, t_first_model_8 % 60"
   ]
  },
  {
   "cell_type": "code",
   "execution_count": 155,
   "metadata": {
    "colab": {
     "base_uri": "https://localhost:8080/",
     "height": 969
    },
    "id": "ZMXm6N_3lFSn",
    "outputId": "2aedffad-5c24-4471-f9b9-de7b5d692e34"
   },
   "outputs": [
    {
     "data": {
      "application/pdf": "[encoded data removed]",
      "image/svg+xml": [
       "<?xml version=\"1.0\" encoding=\"utf-8\" standalone=\"no\"?>\n",
       "<!DOCTYPE svg PUBLIC \"-//W3C//DTD SVG 1.1//EN\"\n",
       "  \"http://www.w3.org/Graphics/SVG/1.1/DTD/svg11.dtd\">\n",
       "<!-- Created with matplotlib (https://matplotlib.org/) -->\n",
       "<svg height=\"711.274375pt\" version=\"1.1\" viewBox=\"0 0 712.703125 711.274375\" width=\"712.703125pt\" xmlns=\"http://www.w3.org/2000/svg\" xmlns:xlink=\"http://www.w3.org/1999/xlink\">\n",
       " <defs>\n",
       "  <style type=\"text/css\">\n",
       "*{stroke-linecap:butt;stroke-linejoin:round;}\n",
       "  </style>\n",
       " </defs>\n",
       " <g id=\"figure_1\">\n",
       "  <g id=\"patch_1\">\n",
       "   <path d=\"M 0 711.274375 \n",
       "L 712.703125 711.274375 \n",
       "L 712.703125 0 \n",
       "L 0 0 \n",
       "z\n",
       "\" style=\"fill:none;\"/>\n",
       "  </g>\n",
       "  <g id=\"axes_1\">\n",
       "   <g id=\"patch_2\">\n",
       "    <path d=\"M 30.103125 319.118125 \n",
       "L 705.503125 319.118125 \n",
       "L 705.503125 22.318125 \n",
       "L 30.103125 22.318125 \n",
       "z\n",
       "\" style=\"fill:#ffffff;\"/>\n",
       "   </g>\n",
       "   <g id=\"matplotlib.axis_1\">\n",
       "    <g id=\"xtick_1\">\n",
       "     <g id=\"line2d_1\">\n",
       "      <path clip-path=\"url(#p4a1d139c6a)\" d=\"M 60.803125 319.118125 \n",
       "L 60.803125 22.318125 \n",
       "\" style=\"fill:none;stroke:#b0b0b0;stroke-linecap:square;stroke-width:0.8;\"/>\n",
       "     </g>\n",
       "     <g id=\"line2d_2\">\n",
       "      <defs>\n",
       "       <path d=\"M 0 0 \n",
       "L 0 3.5 \n",
       "\" id=\"m69c1bcdf95\" style=\"stroke:#000000;stroke-width:0.8;\"/>\n",
       "      </defs>\n",
       "      <g>\n",
       "       <use style=\"stroke:#000000;stroke-width:0.8;\" x=\"60.803125\" xlink:href=\"#m69c1bcdf95\" y=\"319.118125\"/>\n",
       "      </g>\n",
       "     </g>\n",
       "     <g id=\"text_1\">\n",
       "      <!-- 0 -->\n",
       "      <defs>\n",
       "       <path d=\"M 31.78125 66.40625 \n",
       "Q 24.171875 66.40625 20.328125 58.90625 \n",
       "Q 16.5 51.421875 16.5 36.375 \n",
       "Q 16.5 21.390625 20.328125 13.890625 \n",
       "Q 24.171875 6.390625 31.78125 6.390625 \n",
       "Q 39.453125 6.390625 43.28125 13.890625 \n",
       "Q 47.125 21.390625 47.125 36.375 \n",
       "Q 47.125 51.421875 43.28125 58.90625 \n",
       "Q 39.453125 66.40625 31.78125 66.40625 \n",
       "z\n",
       "M 31.78125 74.21875 \n",
       "Q 44.046875 74.21875 50.515625 64.515625 \n",
       "Q 56.984375 54.828125 56.984375 36.375 \n",
       "Q 56.984375 17.96875 50.515625 8.265625 \n",
       "Q 44.046875 -1.421875 31.78125 -1.421875 \n",
       "Q 19.53125 -1.421875 13.0625 8.265625 \n",
       "Q 6.59375 17.96875 6.59375 36.375 \n",
       "Q 6.59375 54.828125 13.0625 64.515625 \n",
       "Q 19.53125 74.21875 31.78125 74.21875 \n",
       "z\n",
       "\" id=\"DejaVuSans-48\"/>\n",
       "      </defs>\n",
       "      <g transform=\"translate(57.621875 333.716562)scale(0.1 -0.1)\">\n",
       "       <use xlink:href=\"#DejaVuSans-48\"/>\n",
       "      </g>\n",
       "     </g>\n",
       "    </g>\n",
       "    <g id=\"xtick_2\">\n",
       "     <g id=\"line2d_3\">\n",
       "      <path clip-path=\"url(#p4a1d139c6a)\" d=\"M 148.517411 319.118125 \n",
       "L 148.517411 22.318125 \n",
       "\" style=\"fill:none;stroke:#b0b0b0;stroke-linecap:square;stroke-width:0.8;\"/>\n",
       "     </g>\n",
       "     <g id=\"line2d_4\">\n",
       "      <g>\n",
       "       <use style=\"stroke:#000000;stroke-width:0.8;\" x=\"148.517411\" xlink:href=\"#m69c1bcdf95\" y=\"319.118125\"/>\n",
       "      </g>\n",
       "     </g>\n",
       "     <g id=\"text_2\">\n",
       "      <!-- 2 -->\n",
       "      <defs>\n",
       "       <path d=\"M 19.1875 8.296875 \n",
       "L 53.609375 8.296875 \n",
       "L 53.609375 0 \n",
       "L 7.328125 0 \n",
       "L 7.328125 8.296875 \n",
       "Q 12.9375 14.109375 22.625 23.890625 \n",
       "Q 32.328125 33.6875 34.8125 36.53125 \n",
       "Q 39.546875 41.84375 41.421875 45.53125 \n",
       "Q 43.3125 49.21875 43.3125 52.78125 \n",
       "Q 43.3125 58.59375 39.234375 62.25 \n",
       "Q 35.15625 65.921875 28.609375 65.921875 \n",
       "Q 23.96875 65.921875 18.8125 64.3125 \n",
       "Q 13.671875 62.703125 7.8125 59.421875 \n",
       "L 7.8125 69.390625 \n",
       "Q 13.765625 71.78125 18.9375 73 \n",
       "Q 24.125 74.21875 28.421875 74.21875 \n",
       "Q 39.75 74.21875 46.484375 68.546875 \n",
       "Q 53.21875 62.890625 53.21875 53.421875 \n",
       "Q 53.21875 48.921875 51.53125 44.890625 \n",
       "Q 49.859375 40.875 45.40625 35.40625 \n",
       "Q 44.1875 33.984375 37.640625 27.21875 \n",
       "Q 31.109375 20.453125 19.1875 8.296875 \n",
       "z\n",
       "\" id=\"DejaVuSans-50\"/>\n",
       "      </defs>\n",
       "      <g transform=\"translate(145.336161 333.716562)scale(0.1 -0.1)\">\n",
       "       <use xlink:href=\"#DejaVuSans-50\"/>\n",
       "      </g>\n",
       "     </g>\n",
       "    </g>\n",
       "    <g id=\"xtick_3\">\n",
       "     <g id=\"line2d_5\">\n",
       "      <path clip-path=\"url(#p4a1d139c6a)\" d=\"M 236.231696 319.118125 \n",
       "L 236.231696 22.318125 \n",
       "\" style=\"fill:none;stroke:#b0b0b0;stroke-linecap:square;stroke-width:0.8;\"/>\n",
       "     </g>\n",
       "     <g id=\"line2d_6\">\n",
       "      <g>\n",
       "       <use style=\"stroke:#000000;stroke-width:0.8;\" x=\"236.231696\" xlink:href=\"#m69c1bcdf95\" y=\"319.118125\"/>\n",
       "      </g>\n",
       "     </g>\n",
       "     <g id=\"text_3\">\n",
       "      <!-- 4 -->\n",
       "      <defs>\n",
       "       <path d=\"M 37.796875 64.3125 \n",
       "L 12.890625 25.390625 \n",
       "L 37.796875 25.390625 \n",
       "z\n",
       "M 35.203125 72.90625 \n",
       "L 47.609375 72.90625 \n",
       "L 47.609375 25.390625 \n",
       "L 58.015625 25.390625 \n",
       "L 58.015625 17.1875 \n",
       "L 47.609375 17.1875 \n",
       "L 47.609375 0 \n",
       "L 37.796875 0 \n",
       "L 37.796875 17.1875 \n",
       "L 4.890625 17.1875 \n",
       "L 4.890625 26.703125 \n",
       "z\n",
       "\" id=\"DejaVuSans-52\"/>\n",
       "      </defs>\n",
       "      <g transform=\"translate(233.050446 333.716562)scale(0.1 -0.1)\">\n",
       "       <use xlink:href=\"#DejaVuSans-52\"/>\n",
       "      </g>\n",
       "     </g>\n",
       "    </g>\n",
       "    <g id=\"xtick_4\">\n",
       "     <g id=\"line2d_7\">\n",
       "      <path clip-path=\"url(#p4a1d139c6a)\" d=\"M 323.945982 319.118125 \n",
       "L 323.945982 22.318125 \n",
       "\" style=\"fill:none;stroke:#b0b0b0;stroke-linecap:square;stroke-width:0.8;\"/>\n",
       "     </g>\n",
       "     <g id=\"line2d_8\">\n",
       "      <g>\n",
       "       <use style=\"stroke:#000000;stroke-width:0.8;\" x=\"323.945982\" xlink:href=\"#m69c1bcdf95\" y=\"319.118125\"/>\n",
       "      </g>\n",
       "     </g>\n",
       "     <g id=\"text_4\">\n",
       "      <!-- 6 -->\n",
       "      <defs>\n",
       "       <path d=\"M 33.015625 40.375 \n",
       "Q 26.375 40.375 22.484375 35.828125 \n",
       "Q 18.609375 31.296875 18.609375 23.390625 \n",
       "Q 18.609375 15.53125 22.484375 10.953125 \n",
       "Q 26.375 6.390625 33.015625 6.390625 \n",
       "Q 39.65625 6.390625 43.53125 10.953125 \n",
       "Q 47.40625 15.53125 47.40625 23.390625 \n",
       "Q 47.40625 31.296875 43.53125 35.828125 \n",
       "Q 39.65625 40.375 33.015625 40.375 \n",
       "z\n",
       "M 52.59375 71.296875 \n",
       "L 52.59375 62.3125 \n",
       "Q 48.875 64.0625 45.09375 64.984375 \n",
       "Q 41.3125 65.921875 37.59375 65.921875 \n",
       "Q 27.828125 65.921875 22.671875 59.328125 \n",
       "Q 17.53125 52.734375 16.796875 39.40625 \n",
       "Q 19.671875 43.65625 24.015625 45.921875 \n",
       "Q 28.375 48.1875 33.59375 48.1875 \n",
       "Q 44.578125 48.1875 50.953125 41.515625 \n",
       "Q 57.328125 34.859375 57.328125 23.390625 \n",
       "Q 57.328125 12.15625 50.6875 5.359375 \n",
       "Q 44.046875 -1.421875 33.015625 -1.421875 \n",
       "Q 20.359375 -1.421875 13.671875 8.265625 \n",
       "Q 6.984375 17.96875 6.984375 36.375 \n",
       "Q 6.984375 53.65625 15.1875 63.9375 \n",
       "Q 23.390625 74.21875 37.203125 74.21875 \n",
       "Q 40.921875 74.21875 44.703125 73.484375 \n",
       "Q 48.484375 72.75 52.59375 71.296875 \n",
       "z\n",
       "\" id=\"DejaVuSans-54\"/>\n",
       "      </defs>\n",
       "      <g transform=\"translate(320.764732 333.716562)scale(0.1 -0.1)\">\n",
       "       <use xlink:href=\"#DejaVuSans-54\"/>\n",
       "      </g>\n",
       "     </g>\n",
       "    </g>\n",
       "    <g id=\"xtick_5\">\n",
       "     <g id=\"line2d_9\">\n",
       "      <path clip-path=\"url(#p4a1d139c6a)\" d=\"M 411.660268 319.118125 \n",
       "L 411.660268 22.318125 \n",
       "\" style=\"fill:none;stroke:#b0b0b0;stroke-linecap:square;stroke-width:0.8;\"/>\n",
       "     </g>\n",
       "     <g id=\"line2d_10\">\n",
       "      <g>\n",
       "       <use style=\"stroke:#000000;stroke-width:0.8;\" x=\"411.660268\" xlink:href=\"#m69c1bcdf95\" y=\"319.118125\"/>\n",
       "      </g>\n",
       "     </g>\n",
       "     <g id=\"text_5\">\n",
       "      <!-- 8 -->\n",
       "      <defs>\n",
       "       <path d=\"M 31.78125 34.625 \n",
       "Q 24.75 34.625 20.71875 30.859375 \n",
       "Q 16.703125 27.09375 16.703125 20.515625 \n",
       "Q 16.703125 13.921875 20.71875 10.15625 \n",
       "Q 24.75 6.390625 31.78125 6.390625 \n",
       "Q 38.8125 6.390625 42.859375 10.171875 \n",
       "Q 46.921875 13.96875 46.921875 20.515625 \n",
       "Q 46.921875 27.09375 42.890625 30.859375 \n",
       "Q 38.875 34.625 31.78125 34.625 \n",
       "z\n",
       "M 21.921875 38.8125 \n",
       "Q 15.578125 40.375 12.03125 44.71875 \n",
       "Q 8.5 49.078125 8.5 55.328125 \n",
       "Q 8.5 64.0625 14.71875 69.140625 \n",
       "Q 20.953125 74.21875 31.78125 74.21875 \n",
       "Q 42.671875 74.21875 48.875 69.140625 \n",
       "Q 55.078125 64.0625 55.078125 55.328125 \n",
       "Q 55.078125 49.078125 51.53125 44.71875 \n",
       "Q 48 40.375 41.703125 38.8125 \n",
       "Q 48.828125 37.15625 52.796875 32.3125 \n",
       "Q 56.78125 27.484375 56.78125 20.515625 \n",
       "Q 56.78125 9.90625 50.3125 4.234375 \n",
       "Q 43.84375 -1.421875 31.78125 -1.421875 \n",
       "Q 19.734375 -1.421875 13.25 4.234375 \n",
       "Q 6.78125 9.90625 6.78125 20.515625 \n",
       "Q 6.78125 27.484375 10.78125 32.3125 \n",
       "Q 14.796875 37.15625 21.921875 38.8125 \n",
       "z\n",
       "M 18.3125 54.390625 \n",
       "Q 18.3125 48.734375 21.84375 45.5625 \n",
       "Q 25.390625 42.390625 31.78125 42.390625 \n",
       "Q 38.140625 42.390625 41.71875 45.5625 \n",
       "Q 45.3125 48.734375 45.3125 54.390625 \n",
       "Q 45.3125 60.0625 41.71875 63.234375 \n",
       "Q 38.140625 66.40625 31.78125 66.40625 \n",
       "Q 25.390625 66.40625 21.84375 63.234375 \n",
       "Q 18.3125 60.0625 18.3125 54.390625 \n",
       "z\n",
       "\" id=\"DejaVuSans-56\"/>\n",
       "      </defs>\n",
       "      <g transform=\"translate(408.479018 333.716562)scale(0.1 -0.1)\">\n",
       "       <use xlink:href=\"#DejaVuSans-56\"/>\n",
       "      </g>\n",
       "     </g>\n",
       "    </g>\n",
       "    <g id=\"xtick_6\">\n",
       "     <g id=\"line2d_11\">\n",
       "      <path clip-path=\"url(#p4a1d139c6a)\" d=\"M 499.374554 319.118125 \n",
       "L 499.374554 22.318125 \n",
       "\" style=\"fill:none;stroke:#b0b0b0;stroke-linecap:square;stroke-width:0.8;\"/>\n",
       "     </g>\n",
       "     <g id=\"line2d_12\">\n",
       "      <g>\n",
       "       <use style=\"stroke:#000000;stroke-width:0.8;\" x=\"499.374554\" xlink:href=\"#m69c1bcdf95\" y=\"319.118125\"/>\n",
       "      </g>\n",
       "     </g>\n",
       "     <g id=\"text_6\">\n",
       "      <!-- 10 -->\n",
       "      <defs>\n",
       "       <path d=\"M 12.40625 8.296875 \n",
       "L 28.515625 8.296875 \n",
       "L 28.515625 63.921875 \n",
       "L 10.984375 60.40625 \n",
       "L 10.984375 69.390625 \n",
       "L 28.421875 72.90625 \n",
       "L 38.28125 72.90625 \n",
       "L 38.28125 8.296875 \n",
       "L 54.390625 8.296875 \n",
       "L 54.390625 0 \n",
       "L 12.40625 0 \n",
       "z\n",
       "\" id=\"DejaVuSans-49\"/>\n",
       "      </defs>\n",
       "      <g transform=\"translate(493.012054 333.716562)scale(0.1 -0.1)\">\n",
       "       <use xlink:href=\"#DejaVuSans-49\"/>\n",
       "       <use x=\"63.623047\" xlink:href=\"#DejaVuSans-48\"/>\n",
       "      </g>\n",
       "     </g>\n",
       "    </g>\n",
       "    <g id=\"xtick_7\">\n",
       "     <g id=\"line2d_13\">\n",
       "      <path clip-path=\"url(#p4a1d139c6a)\" d=\"M 587.088839 319.118125 \n",
       "L 587.088839 22.318125 \n",
       "\" style=\"fill:none;stroke:#b0b0b0;stroke-linecap:square;stroke-width:0.8;\"/>\n",
       "     </g>\n",
       "     <g id=\"line2d_14\">\n",
       "      <g>\n",
       "       <use style=\"stroke:#000000;stroke-width:0.8;\" x=\"587.088839\" xlink:href=\"#m69c1bcdf95\" y=\"319.118125\"/>\n",
       "      </g>\n",
       "     </g>\n",
       "     <g id=\"text_7\">\n",
       "      <!-- 12 -->\n",
       "      <g transform=\"translate(580.726339 333.716562)scale(0.1 -0.1)\">\n",
       "       <use xlink:href=\"#DejaVuSans-49\"/>\n",
       "       <use x=\"63.623047\" xlink:href=\"#DejaVuSans-50\"/>\n",
       "      </g>\n",
       "     </g>\n",
       "    </g>\n",
       "    <g id=\"xtick_8\">\n",
       "     <g id=\"line2d_15\">\n",
       "      <path clip-path=\"url(#p4a1d139c6a)\" d=\"M 674.803125 319.118125 \n",
       "L 674.803125 22.318125 \n",
       "\" style=\"fill:none;stroke:#b0b0b0;stroke-linecap:square;stroke-width:0.8;\"/>\n",
       "     </g>\n",
       "     <g id=\"line2d_16\">\n",
       "      <g>\n",
       "       <use style=\"stroke:#000000;stroke-width:0.8;\" x=\"674.803125\" xlink:href=\"#m69c1bcdf95\" y=\"319.118125\"/>\n",
       "      </g>\n",
       "     </g>\n",
       "     <g id=\"text_8\">\n",
       "      <!-- 14 -->\n",
       "      <g transform=\"translate(668.440625 333.716562)scale(0.1 -0.1)\">\n",
       "       <use xlink:href=\"#DejaVuSans-49\"/>\n",
       "       <use x=\"63.623047\" xlink:href=\"#DejaVuSans-52\"/>\n",
       "      </g>\n",
       "     </g>\n",
       "    </g>\n",
       "    <g id=\"text_9\">\n",
       "     <!-- Epoch -->\n",
       "     <defs>\n",
       "      <path d=\"M 9.8125 72.90625 \n",
       "L 55.90625 72.90625 \n",
       "L 55.90625 64.59375 \n",
       "L 19.671875 64.59375 \n",
       "L 19.671875 43.015625 \n",
       "L 54.390625 43.015625 \n",
       "L 54.390625 34.71875 \n",
       "L 19.671875 34.71875 \n",
       "L 19.671875 8.296875 \n",
       "L 56.78125 8.296875 \n",
       "L 56.78125 0 \n",
       "L 9.8125 0 \n",
       "z\n",
       "\" id=\"DejaVuSans-69\"/>\n",
       "      <path d=\"M 18.109375 8.203125 \n",
       "L 18.109375 -20.796875 \n",
       "L 9.078125 -20.796875 \n",
       "L 9.078125 54.6875 \n",
       "L 18.109375 54.6875 \n",
       "L 18.109375 46.390625 \n",
       "Q 20.953125 51.265625 25.265625 53.625 \n",
       "Q 29.59375 56 35.59375 56 \n",
       "Q 45.5625 56 51.78125 48.09375 \n",
       "Q 58.015625 40.1875 58.015625 27.296875 \n",
       "Q 58.015625 14.40625 51.78125 6.484375 \n",
       "Q 45.5625 -1.421875 35.59375 -1.421875 \n",
       "Q 29.59375 -1.421875 25.265625 0.953125 \n",
       "Q 20.953125 3.328125 18.109375 8.203125 \n",
       "z\n",
       "M 48.6875 27.296875 \n",
       "Q 48.6875 37.203125 44.609375 42.84375 \n",
       "Q 40.53125 48.484375 33.40625 48.484375 \n",
       "Q 26.265625 48.484375 22.1875 42.84375 \n",
       "Q 18.109375 37.203125 18.109375 27.296875 \n",
       "Q 18.109375 17.390625 22.1875 11.75 \n",
       "Q 26.265625 6.109375 33.40625 6.109375 \n",
       "Q 40.53125 6.109375 44.609375 11.75 \n",
       "Q 48.6875 17.390625 48.6875 27.296875 \n",
       "z\n",
       "\" id=\"DejaVuSans-112\"/>\n",
       "      <path d=\"M 30.609375 48.390625 \n",
       "Q 23.390625 48.390625 19.1875 42.75 \n",
       "Q 14.984375 37.109375 14.984375 27.296875 \n",
       "Q 14.984375 17.484375 19.15625 11.84375 \n",
       "Q 23.34375 6.203125 30.609375 6.203125 \n",
       "Q 37.796875 6.203125 41.984375 11.859375 \n",
       "Q 46.1875 17.53125 46.1875 27.296875 \n",
       "Q 46.1875 37.015625 41.984375 42.703125 \n",
       "Q 37.796875 48.390625 30.609375 48.390625 \n",
       "z\n",
       "M 30.609375 56 \n",
       "Q 42.328125 56 49.015625 48.375 \n",
       "Q 55.71875 40.765625 55.71875 27.296875 \n",
       "Q 55.71875 13.875 49.015625 6.21875 \n",
       "Q 42.328125 -1.421875 30.609375 -1.421875 \n",
       "Q 18.84375 -1.421875 12.171875 6.21875 \n",
       "Q 5.515625 13.875 5.515625 27.296875 \n",
       "Q 5.515625 40.765625 12.171875 48.375 \n",
       "Q 18.84375 56 30.609375 56 \n",
       "z\n",
       "\" id=\"DejaVuSans-111\"/>\n",
       "      <path d=\"M 48.78125 52.59375 \n",
       "L 48.78125 44.1875 \n",
       "Q 44.96875 46.296875 41.140625 47.34375 \n",
       "Q 37.3125 48.390625 33.40625 48.390625 \n",
       "Q 24.65625 48.390625 19.8125 42.84375 \n",
       "Q 14.984375 37.3125 14.984375 27.296875 \n",
       "Q 14.984375 17.28125 19.8125 11.734375 \n",
       "Q 24.65625 6.203125 33.40625 6.203125 \n",
       "Q 37.3125 6.203125 41.140625 7.25 \n",
       "Q 44.96875 8.296875 48.78125 10.40625 \n",
       "L 48.78125 2.09375 \n",
       "Q 45.015625 0.34375 40.984375 -0.53125 \n",
       "Q 36.96875 -1.421875 32.421875 -1.421875 \n",
       "Q 20.0625 -1.421875 12.78125 6.34375 \n",
       "Q 5.515625 14.109375 5.515625 27.296875 \n",
       "Q 5.515625 40.671875 12.859375 48.328125 \n",
       "Q 20.21875 56 33.015625 56 \n",
       "Q 37.15625 56 41.109375 55.140625 \n",
       "Q 45.0625 54.296875 48.78125 52.59375 \n",
       "z\n",
       "\" id=\"DejaVuSans-99\"/>\n",
       "      <path d=\"M 54.890625 33.015625 \n",
       "L 54.890625 0 \n",
       "L 45.90625 0 \n",
       "L 45.90625 32.71875 \n",
       "Q 45.90625 40.484375 42.875 44.328125 \n",
       "Q 39.84375 48.1875 33.796875 48.1875 \n",
       "Q 26.515625 48.1875 22.3125 43.546875 \n",
       "Q 18.109375 38.921875 18.109375 30.90625 \n",
       "L 18.109375 0 \n",
       "L 9.078125 0 \n",
       "L 9.078125 75.984375 \n",
       "L 18.109375 75.984375 \n",
       "L 18.109375 46.1875 \n",
       "Q 21.34375 51.125 25.703125 53.5625 \n",
       "Q 30.078125 56 35.796875 56 \n",
       "Q 45.21875 56 50.046875 50.171875 \n",
       "Q 54.890625 44.34375 54.890625 33.015625 \n",
       "z\n",
       "\" id=\"DejaVuSans-104\"/>\n",
       "     </defs>\n",
       "     <g transform=\"translate(352.492187 347.394687)scale(0.1 -0.1)\">\n",
       "      <use xlink:href=\"#DejaVuSans-69\"/>\n",
       "      <use x=\"63.183594\" xlink:href=\"#DejaVuSans-112\"/>\n",
       "      <use x=\"126.660156\" xlink:href=\"#DejaVuSans-111\"/>\n",
       "      <use x=\"187.841797\" xlink:href=\"#DejaVuSans-99\"/>\n",
       "      <use x=\"242.822266\" xlink:href=\"#DejaVuSans-104\"/>\n",
       "     </g>\n",
       "    </g>\n",
       "   </g>\n",
       "   <g id=\"matplotlib.axis_2\">\n",
       "    <g id=\"ytick_1\">\n",
       "     <g id=\"line2d_17\">\n",
       "      <path clip-path=\"url(#p4a1d139c6a)\" d=\"M 30.103125 311.963187 \n",
       "L 705.503125 311.963187 \n",
       "\" style=\"fill:none;stroke:#b0b0b0;stroke-linecap:square;stroke-width:0.8;\"/>\n",
       "     </g>\n",
       "     <g id=\"line2d_18\">\n",
       "      <defs>\n",
       "       <path d=\"M 0 0 \n",
       "L -3.5 0 \n",
       "\" id=\"meaf6d6bac5\" style=\"stroke:#000000;stroke-width:0.8;\"/>\n",
       "      </defs>\n",
       "      <g>\n",
       "       <use style=\"stroke:#000000;stroke-width:0.8;\" x=\"30.103125\" xlink:href=\"#meaf6d6bac5\" y=\"311.963187\"/>\n",
       "      </g>\n",
       "     </g>\n",
       "     <g id=\"text_10\">\n",
       "      <!-- 0.8 -->\n",
       "      <defs>\n",
       "       <path d=\"M 10.6875 12.40625 \n",
       "L 21 12.40625 \n",
       "L 21 0 \n",
       "L 10.6875 0 \n",
       "z\n",
       "\" id=\"DejaVuSans-46\"/>\n",
       "      </defs>\n",
       "      <g transform=\"translate(7.2 315.762406)scale(0.1 -0.1)\">\n",
       "       <use xlink:href=\"#DejaVuSans-48\"/>\n",
       "       <use x=\"63.623047\" xlink:href=\"#DejaVuSans-46\"/>\n",
       "       <use x=\"95.410156\" xlink:href=\"#DejaVuSans-56\"/>\n",
       "      </g>\n",
       "     </g>\n",
       "    </g>\n",
       "    <g id=\"ytick_2\">\n",
       "     <g id=\"line2d_19\">\n",
       "      <path clip-path=\"url(#p4a1d139c6a)\" d=\"M 30.103125 266.750056 \n",
       "L 705.503125 266.750056 \n",
       "\" style=\"fill:none;stroke:#b0b0b0;stroke-linecap:square;stroke-width:0.8;\"/>\n",
       "     </g>\n",
       "     <g id=\"line2d_20\">\n",
       "      <g>\n",
       "       <use style=\"stroke:#000000;stroke-width:0.8;\" x=\"30.103125\" xlink:href=\"#meaf6d6bac5\" y=\"266.750056\"/>\n",
       "      </g>\n",
       "     </g>\n",
       "     <g id=\"text_11\">\n",
       "      <!-- 1.0 -->\n",
       "      <g transform=\"translate(7.2 270.549275)scale(0.1 -0.1)\">\n",
       "       <use xlink:href=\"#DejaVuSans-49\"/>\n",
       "       <use x=\"63.623047\" xlink:href=\"#DejaVuSans-46\"/>\n",
       "       <use x=\"95.410156\" xlink:href=\"#DejaVuSans-48\"/>\n",
       "      </g>\n",
       "     </g>\n",
       "    </g>\n",
       "    <g id=\"ytick_3\">\n",
       "     <g id=\"line2d_21\">\n",
       "      <path clip-path=\"url(#p4a1d139c6a)\" d=\"M 30.103125 221.536925 \n",
       "L 705.503125 221.536925 \n",
       "\" style=\"fill:none;stroke:#b0b0b0;stroke-linecap:square;stroke-width:0.8;\"/>\n",
       "     </g>\n",
       "     <g id=\"line2d_22\">\n",
       "      <g>\n",
       "       <use style=\"stroke:#000000;stroke-width:0.8;\" x=\"30.103125\" xlink:href=\"#meaf6d6bac5\" y=\"221.536925\"/>\n",
       "      </g>\n",
       "     </g>\n",
       "     <g id=\"text_12\">\n",
       "      <!-- 1.2 -->\n",
       "      <g transform=\"translate(7.2 225.336144)scale(0.1 -0.1)\">\n",
       "       <use xlink:href=\"#DejaVuSans-49\"/>\n",
       "       <use x=\"63.623047\" xlink:href=\"#DejaVuSans-46\"/>\n",
       "       <use x=\"95.410156\" xlink:href=\"#DejaVuSans-50\"/>\n",
       "      </g>\n",
       "     </g>\n",
       "    </g>\n",
       "    <g id=\"ytick_4\">\n",
       "     <g id=\"line2d_23\">\n",
       "      <path clip-path=\"url(#p4a1d139c6a)\" d=\"M 30.103125 176.323794 \n",
       "L 705.503125 176.323794 \n",
       "\" style=\"fill:none;stroke:#b0b0b0;stroke-linecap:square;stroke-width:0.8;\"/>\n",
       "     </g>\n",
       "     <g id=\"line2d_24\">\n",
       "      <g>\n",
       "       <use style=\"stroke:#000000;stroke-width:0.8;\" x=\"30.103125\" xlink:href=\"#meaf6d6bac5\" y=\"176.323794\"/>\n",
       "      </g>\n",
       "     </g>\n",
       "     <g id=\"text_13\">\n",
       "      <!-- 1.4 -->\n",
       "      <g transform=\"translate(7.2 180.123013)scale(0.1 -0.1)\">\n",
       "       <use xlink:href=\"#DejaVuSans-49\"/>\n",
       "       <use x=\"63.623047\" xlink:href=\"#DejaVuSans-46\"/>\n",
       "       <use x=\"95.410156\" xlink:href=\"#DejaVuSans-52\"/>\n",
       "      </g>\n",
       "     </g>\n",
       "    </g>\n",
       "    <g id=\"ytick_5\">\n",
       "     <g id=\"line2d_25\">\n",
       "      <path clip-path=\"url(#p4a1d139c6a)\" d=\"M 30.103125 131.110663 \n",
       "L 705.503125 131.110663 \n",
       "\" style=\"fill:none;stroke:#b0b0b0;stroke-linecap:square;stroke-width:0.8;\"/>\n",
       "     </g>\n",
       "     <g id=\"line2d_26\">\n",
       "      <g>\n",
       "       <use style=\"stroke:#000000;stroke-width:0.8;\" x=\"30.103125\" xlink:href=\"#meaf6d6bac5\" y=\"131.110663\"/>\n",
       "      </g>\n",
       "     </g>\n",
       "     <g id=\"text_14\">\n",
       "      <!-- 1.6 -->\n",
       "      <g transform=\"translate(7.2 134.909882)scale(0.1 -0.1)\">\n",
       "       <use xlink:href=\"#DejaVuSans-49\"/>\n",
       "       <use x=\"63.623047\" xlink:href=\"#DejaVuSans-46\"/>\n",
       "       <use x=\"95.410156\" xlink:href=\"#DejaVuSans-54\"/>\n",
       "      </g>\n",
       "     </g>\n",
       "    </g>\n",
       "    <g id=\"ytick_6\">\n",
       "     <g id=\"line2d_27\">\n",
       "      <path clip-path=\"url(#p4a1d139c6a)\" d=\"M 30.103125 85.897532 \n",
       "L 705.503125 85.897532 \n",
       "\" style=\"fill:none;stroke:#b0b0b0;stroke-linecap:square;stroke-width:0.8;\"/>\n",
       "     </g>\n",
       "     <g id=\"line2d_28\">\n",
       "      <g>\n",
       "       <use style=\"stroke:#000000;stroke-width:0.8;\" x=\"30.103125\" xlink:href=\"#meaf6d6bac5\" y=\"85.897532\"/>\n",
       "      </g>\n",
       "     </g>\n",
       "     <g id=\"text_15\">\n",
       "      <!-- 1.8 -->\n",
       "      <g transform=\"translate(7.2 89.69675)scale(0.1 -0.1)\">\n",
       "       <use xlink:href=\"#DejaVuSans-49\"/>\n",
       "       <use x=\"63.623047\" xlink:href=\"#DejaVuSans-46\"/>\n",
       "       <use x=\"95.410156\" xlink:href=\"#DejaVuSans-56\"/>\n",
       "      </g>\n",
       "     </g>\n",
       "    </g>\n",
       "    <g id=\"ytick_7\">\n",
       "     <g id=\"line2d_29\">\n",
       "      <path clip-path=\"url(#p4a1d139c6a)\" d=\"M 30.103125 40.684401 \n",
       "L 705.503125 40.684401 \n",
       "\" style=\"fill:none;stroke:#b0b0b0;stroke-linecap:square;stroke-width:0.8;\"/>\n",
       "     </g>\n",
       "     <g id=\"line2d_30\">\n",
       "      <g>\n",
       "       <use style=\"stroke:#000000;stroke-width:0.8;\" x=\"30.103125\" xlink:href=\"#meaf6d6bac5\" y=\"40.684401\"/>\n",
       "      </g>\n",
       "     </g>\n",
       "     <g id=\"text_16\">\n",
       "      <!-- 2.0 -->\n",
       "      <g transform=\"translate(7.2 44.483619)scale(0.1 -0.1)\">\n",
       "       <use xlink:href=\"#DejaVuSans-50\"/>\n",
       "       <use x=\"63.623047\" xlink:href=\"#DejaVuSans-46\"/>\n",
       "       <use x=\"95.410156\" xlink:href=\"#DejaVuSans-48\"/>\n",
       "      </g>\n",
       "     </g>\n",
       "    </g>\n",
       "   </g>\n",
       "   <g id=\"line2d_31\">\n",
       "    <path clip-path=\"url(#p4a1d139c6a)\" d=\"M 60.803125 49.349946 \n",
       "L 104.660268 87.069695 \n",
       "L 148.517411 111.771129 \n",
       "L 192.374554 118.067765 \n",
       "L 236.231696 136.755556 \n",
       "L 280.088839 136.587636 \n",
       "L 323.945982 140.059708 \n",
       "L 367.803125 137.602136 \n",
       "L 411.660268 133.703325 \n",
       "L 455.517411 132.13397 \n",
       "L 499.374554 109.890808 \n",
       "L 543.231696 104.382595 \n",
       "L 587.088839 90.471402 \n",
       "L 630.945982 72.813984 \n",
       "L 674.803125 56.797014 \n",
       "\" style=\"fill:none;stroke:#ff0000;stroke-dasharray:5.55,2.4;stroke-dashoffset:0;stroke-width:1.5;\"/>\n",
       "   </g>\n",
       "   <g id=\"line2d_32\">\n",
       "    <path clip-path=\"url(#p4a1d139c6a)\" d=\"M 60.803125 50.319872 \n",
       "L 104.660268 90.936598 \n",
       "L 148.517411 122.232807 \n",
       "L 192.374554 134.72343 \n",
       "L 236.231696 162.052377 \n",
       "L 280.088839 171.291724 \n",
       "L 323.945982 185.942158 \n",
       "L 367.803125 197.87286 \n",
       "L 411.660268 211.805261 \n",
       "L 455.517411 223.532847 \n",
       "L 499.374554 230.476775 \n",
       "L 543.231696 254.067905 \n",
       "L 587.088839 269.478493 \n",
       "L 630.945982 291.817015 \n",
       "L 674.803125 305.627216 \n",
       "\" style=\"fill:none;stroke:#ff0000;stroke-linecap:square;stroke-width:1.5;\"/>\n",
       "   </g>\n",
       "   <g id=\"line2d_33\">\n",
       "    <path clip-path=\"url(#p4a1d139c6a)\" d=\"M 60.803125 39.28725 \n",
       "L 104.660268 79.844364 \n",
       "L 148.517411 106.390925 \n",
       "L 192.374554 116.331056 \n",
       "L 236.231696 121.148374 \n",
       "L 280.088839 131.695103 \n",
       "L 323.945982 137.424541 \n",
       "L 367.803125 140.711823 \n",
       "L 411.660268 145.501221 \n",
       "L 455.517411 144.284064 \n",
       "L 499.374554 147.212437 \n",
       "L 543.231696 148.572937 \n",
       "L 587.088839 148.19705 \n",
       "L 630.945982 148.547577 \n",
       "L 674.803125 147.109707 \n",
       "\" style=\"fill:none;stroke:#0000ff;stroke-dasharray:5.55,2.4;stroke-dashoffset:0;stroke-width:1.5;\"/>\n",
       "   </g>\n",
       "   <g id=\"line2d_34\">\n",
       "    <path clip-path=\"url(#p4a1d139c6a)\" d=\"M 60.803125 40.415394 \n",
       "L 104.660268 82.699328 \n",
       "L 148.517411 111.90256 \n",
       "L 192.374554 125.766107 \n",
       "L 236.231696 134.014938 \n",
       "L 280.088839 148.013311 \n",
       "L 323.945982 158.508244 \n",
       "L 367.803125 164.808465 \n",
       "L 411.660268 173.213493 \n",
       "L 455.517411 177.505734 \n",
       "L 499.374554 183.462811 \n",
       "L 543.231696 188.909688 \n",
       "L 587.088839 192.649688 \n",
       "L 630.945982 198.531469 \n",
       "L 674.803125 201.932853 \n",
       "\" style=\"fill:none;stroke:#0000ff;stroke-linecap:square;stroke-width:1.5;\"/>\n",
       "   </g>\n",
       "   <g id=\"line2d_35\">\n",
       "    <path clip-path=\"url(#p4a1d139c6a)\" d=\"M 60.803125 35.809034 \n",
       "L 104.660268 39.468779 \n",
       "L 148.517411 95.163703 \n",
       "L 192.374554 110.392627 \n",
       "L 236.231696 117.841177 \n",
       "L 280.088839 123.689892 \n",
       "L 323.945982 129.369151 \n",
       "L 367.803125 134.399205 \n",
       "L 411.660268 134.951743 \n",
       "L 455.517411 141.726781 \n",
       "L 499.374554 140.369676 \n",
       "L 543.231696 144.915832 \n",
       "L 587.088839 144.174651 \n",
       "L 630.945982 148.478695 \n",
       "L 674.803125 146.968386 \n",
       "\" style=\"fill:none;stroke:#ffc0cb;stroke-dasharray:5.55,2.4;stroke-dashoffset:0;stroke-width:1.5;\"/>\n",
       "   </g>\n",
       "   <g id=\"line2d_36\">\n",
       "    <path clip-path=\"url(#p4a1d139c6a)\" d=\"M 60.803125 36.969194 \n",
       "L 104.660268 44.589086 \n",
       "L 148.517411 101.223861 \n",
       "L 192.374554 119.458556 \n",
       "L 236.231696 126.699005 \n",
       "L 280.088839 136.484637 \n",
       "L 323.945982 146.363027 \n",
       "L 367.803125 153.094569 \n",
       "L 411.660268 153.668909 \n",
       "L 455.517411 165.135816 \n",
       "L 499.374554 168.570724 \n",
       "L 543.231696 173.607354 \n",
       "L 587.088839 177.488109 \n",
       "L 630.945982 183.053131 \n",
       "L 674.803125 186.591389 \n",
       "\" style=\"fill:none;stroke:#ffc0cb;stroke-linecap:square;stroke-width:1.5;\"/>\n",
       "   </g>\n",
       "   <g id=\"patch_3\">\n",
       "    <path d=\"M 30.103125 319.118125 \n",
       "L 30.103125 22.318125 \n",
       "\" style=\"fill:none;stroke:#000000;stroke-linecap:square;stroke-linejoin:miter;stroke-width:0.8;\"/>\n",
       "   </g>\n",
       "   <g id=\"patch_4\">\n",
       "    <path d=\"M 705.503125 319.118125 \n",
       "L 705.503125 22.318125 \n",
       "\" style=\"fill:none;stroke:#000000;stroke-linecap:square;stroke-linejoin:miter;stroke-width:0.8;\"/>\n",
       "   </g>\n",
       "   <g id=\"patch_5\">\n",
       "    <path d=\"M 30.103125 319.118125 \n",
       "L 705.503125 319.118125 \n",
       "\" style=\"fill:none;stroke:#000000;stroke-linecap:square;stroke-linejoin:miter;stroke-width:0.8;\"/>\n",
       "   </g>\n",
       "   <g id=\"patch_6\">\n",
       "    <path d=\"M 30.103125 22.318125 \n",
       "L 705.503125 22.318125 \n",
       "\" style=\"fill:none;stroke:#000000;stroke-linecap:square;stroke-linejoin:miter;stroke-width:0.8;\"/>\n",
       "   </g>\n",
       "   <g id=\"text_17\">\n",
       "    <!-- CrossEntropy Loss -->\n",
       "    <defs>\n",
       "     <path d=\"M 64.40625 67.28125 \n",
       "L 64.40625 56.890625 \n",
       "Q 59.421875 61.53125 53.78125 63.8125 \n",
       "Q 48.140625 66.109375 41.796875 66.109375 \n",
       "Q 29.296875 66.109375 22.65625 58.46875 \n",
       "Q 16.015625 50.828125 16.015625 36.375 \n",
       "Q 16.015625 21.96875 22.65625 14.328125 \n",
       "Q 29.296875 6.6875 41.796875 6.6875 \n",
       "Q 48.140625 6.6875 53.78125 8.984375 \n",
       "Q 59.421875 11.28125 64.40625 15.921875 \n",
       "L 64.40625 5.609375 \n",
       "Q 59.234375 2.09375 53.4375 0.328125 \n",
       "Q 47.65625 -1.421875 41.21875 -1.421875 \n",
       "Q 24.65625 -1.421875 15.125 8.703125 \n",
       "Q 5.609375 18.84375 5.609375 36.375 \n",
       "Q 5.609375 53.953125 15.125 64.078125 \n",
       "Q 24.65625 74.21875 41.21875 74.21875 \n",
       "Q 47.75 74.21875 53.53125 72.484375 \n",
       "Q 59.328125 70.75 64.40625 67.28125 \n",
       "z\n",
       "\" id=\"DejaVuSans-67\"/>\n",
       "     <path d=\"M 41.109375 46.296875 \n",
       "Q 39.59375 47.171875 37.8125 47.578125 \n",
       "Q 36.03125 48 33.890625 48 \n",
       "Q 26.265625 48 22.1875 43.046875 \n",
       "Q 18.109375 38.09375 18.109375 28.8125 \n",
       "L 18.109375 0 \n",
       "L 9.078125 0 \n",
       "L 9.078125 54.6875 \n",
       "L 18.109375 54.6875 \n",
       "L 18.109375 46.1875 \n",
       "Q 20.953125 51.171875 25.484375 53.578125 \n",
       "Q 30.03125 56 36.53125 56 \n",
       "Q 37.453125 56 38.578125 55.875 \n",
       "Q 39.703125 55.765625 41.0625 55.515625 \n",
       "z\n",
       "\" id=\"DejaVuSans-114\"/>\n",
       "     <path d=\"M 44.28125 53.078125 \n",
       "L 44.28125 44.578125 \n",
       "Q 40.484375 46.53125 36.375 47.5 \n",
       "Q 32.28125 48.484375 27.875 48.484375 \n",
       "Q 21.1875 48.484375 17.84375 46.4375 \n",
       "Q 14.5 44.390625 14.5 40.28125 \n",
       "Q 14.5 37.15625 16.890625 35.375 \n",
       "Q 19.28125 33.59375 26.515625 31.984375 \n",
       "L 29.59375 31.296875 \n",
       "Q 39.15625 29.25 43.1875 25.515625 \n",
       "Q 47.21875 21.78125 47.21875 15.09375 \n",
       "Q 47.21875 7.46875 41.1875 3.015625 \n",
       "Q 35.15625 -1.421875 24.609375 -1.421875 \n",
       "Q 20.21875 -1.421875 15.453125 -0.5625 \n",
       "Q 10.6875 0.296875 5.421875 2 \n",
       "L 5.421875 11.28125 \n",
       "Q 10.40625 8.6875 15.234375 7.390625 \n",
       "Q 20.0625 6.109375 24.8125 6.109375 \n",
       "Q 31.15625 6.109375 34.5625 8.28125 \n",
       "Q 37.984375 10.453125 37.984375 14.40625 \n",
       "Q 37.984375 18.0625 35.515625 20.015625 \n",
       "Q 33.0625 21.96875 24.703125 23.78125 \n",
       "L 21.578125 24.515625 \n",
       "Q 13.234375 26.265625 9.515625 29.90625 \n",
       "Q 5.8125 33.546875 5.8125 39.890625 \n",
       "Q 5.8125 47.609375 11.28125 51.796875 \n",
       "Q 16.75 56 26.8125 56 \n",
       "Q 31.78125 56 36.171875 55.265625 \n",
       "Q 40.578125 54.546875 44.28125 53.078125 \n",
       "z\n",
       "\" id=\"DejaVuSans-115\"/>\n",
       "     <path d=\"M 54.890625 33.015625 \n",
       "L 54.890625 0 \n",
       "L 45.90625 0 \n",
       "L 45.90625 32.71875 \n",
       "Q 45.90625 40.484375 42.875 44.328125 \n",
       "Q 39.84375 48.1875 33.796875 48.1875 \n",
       "Q 26.515625 48.1875 22.3125 43.546875 \n",
       "Q 18.109375 38.921875 18.109375 30.90625 \n",
       "L 18.109375 0 \n",
       "L 9.078125 0 \n",
       "L 9.078125 54.6875 \n",
       "L 18.109375 54.6875 \n",
       "L 18.109375 46.1875 \n",
       "Q 21.34375 51.125 25.703125 53.5625 \n",
       "Q 30.078125 56 35.796875 56 \n",
       "Q 45.21875 56 50.046875 50.171875 \n",
       "Q 54.890625 44.34375 54.890625 33.015625 \n",
       "z\n",
       "\" id=\"DejaVuSans-110\"/>\n",
       "     <path d=\"M 18.3125 70.21875 \n",
       "L 18.3125 54.6875 \n",
       "L 36.8125 54.6875 \n",
       "L 36.8125 47.703125 \n",
       "L 18.3125 47.703125 \n",
       "L 18.3125 18.015625 \n",
       "Q 18.3125 11.328125 20.140625 9.421875 \n",
       "Q 21.96875 7.515625 27.59375 7.515625 \n",
       "L 36.8125 7.515625 \n",
       "L 36.8125 0 \n",
       "L 27.59375 0 \n",
       "Q 17.1875 0 13.234375 3.875 \n",
       "Q 9.28125 7.765625 9.28125 18.015625 \n",
       "L 9.28125 47.703125 \n",
       "L 2.6875 47.703125 \n",
       "L 2.6875 54.6875 \n",
       "L 9.28125 54.6875 \n",
       "L 9.28125 70.21875 \n",
       "z\n",
       "\" id=\"DejaVuSans-116\"/>\n",
       "     <path d=\"M 32.171875 -5.078125 \n",
       "Q 28.375 -14.84375 24.75 -17.8125 \n",
       "Q 21.140625 -20.796875 15.09375 -20.796875 \n",
       "L 7.90625 -20.796875 \n",
       "L 7.90625 -13.28125 \n",
       "L 13.1875 -13.28125 \n",
       "Q 16.890625 -13.28125 18.9375 -11.515625 \n",
       "Q 21 -9.765625 23.484375 -3.21875 \n",
       "L 25.09375 0.875 \n",
       "L 2.984375 54.6875 \n",
       "L 12.5 54.6875 \n",
       "L 29.59375 11.921875 \n",
       "L 46.6875 54.6875 \n",
       "L 56.203125 54.6875 \n",
       "z\n",
       "\" id=\"DejaVuSans-121\"/>\n",
       "     <path id=\"DejaVuSans-32\"/>\n",
       "     <path d=\"M 9.8125 72.90625 \n",
       "L 19.671875 72.90625 \n",
       "L 19.671875 8.296875 \n",
       "L 55.171875 8.296875 \n",
       "L 55.171875 0 \n",
       "L 9.8125 0 \n",
       "z\n",
       "\" id=\"DejaVuSans-76\"/>\n",
       "    </defs>\n",
       "    <g transform=\"translate(312.982812 16.318125)scale(0.12 -0.12)\">\n",
       "     <use xlink:href=\"#DejaVuSans-67\"/>\n",
       "     <use x=\"69.824219\" xlink:href=\"#DejaVuSans-114\"/>\n",
       "     <use x=\"108.6875\" xlink:href=\"#DejaVuSans-111\"/>\n",
       "     <use x=\"169.869141\" xlink:href=\"#DejaVuSans-115\"/>\n",
       "     <use x=\"221.96875\" xlink:href=\"#DejaVuSans-115\"/>\n",
       "     <use x=\"274.068359\" xlink:href=\"#DejaVuSans-69\"/>\n",
       "     <use x=\"337.251953\" xlink:href=\"#DejaVuSans-110\"/>\n",
       "     <use x=\"400.630859\" xlink:href=\"#DejaVuSans-116\"/>\n",
       "     <use x=\"439.839844\" xlink:href=\"#DejaVuSans-114\"/>\n",
       "     <use x=\"478.703125\" xlink:href=\"#DejaVuSans-111\"/>\n",
       "     <use x=\"539.884766\" xlink:href=\"#DejaVuSans-112\"/>\n",
       "     <use x=\"603.361328\" xlink:href=\"#DejaVuSans-121\"/>\n",
       "     <use x=\"662.541016\" xlink:href=\"#DejaVuSans-32\"/>\n",
       "     <use x=\"694.328125\" xlink:href=\"#DejaVuSans-76\"/>\n",
       "     <use x=\"748.291016\" xlink:href=\"#DejaVuSans-111\"/>\n",
       "     <use x=\"809.472656\" xlink:href=\"#DejaVuSans-115\"/>\n",
       "     <use x=\"861.572266\" xlink:href=\"#DejaVuSans-115\"/>\n",
       "    </g>\n",
       "   </g>\n",
       "   <g id=\"legend_1\">\n",
       "    <g id=\"patch_7\">\n",
       "     <path d=\"M 37.103125 314.118125 \n",
       "L 204.040625 314.118125 \n",
       "Q 206.040625 314.118125 206.040625 312.118125 \n",
       "L 206.040625 225.049375 \n",
       "Q 206.040625 223.049375 204.040625 223.049375 \n",
       "L 37.103125 223.049375 \n",
       "Q 35.103125 223.049375 35.103125 225.049375 \n",
       "L 35.103125 312.118125 \n",
       "Q 35.103125 314.118125 37.103125 314.118125 \n",
       "z\n",
       "\" style=\"fill:#ffffff;opacity:0.8;stroke:#cccccc;stroke-linejoin:miter;\"/>\n",
       "    </g>\n",
       "    <g id=\"line2d_37\">\n",
       "     <path d=\"M 39.103125 231.147812 \n",
       "L 59.103125 231.147812 \n",
       "\" style=\"fill:none;stroke:#ff0000;stroke-dasharray:5.55,2.4;stroke-dashoffset:0;stroke-width:1.5;\"/>\n",
       "    </g>\n",
       "    <g id=\"line2d_38\"/>\n",
       "    <g id=\"text_18\">\n",
       "     <!-- Var test -->\n",
       "     <defs>\n",
       "      <path d=\"M 28.609375 0 \n",
       "L 0.78125 72.90625 \n",
       "L 11.078125 72.90625 \n",
       "L 34.1875 11.53125 \n",
       "L 57.328125 72.90625 \n",
       "L 67.578125 72.90625 \n",
       "L 39.796875 0 \n",
       "z\n",
       "\" id=\"DejaVuSans-86\"/>\n",
       "      <path d=\"M 34.28125 27.484375 \n",
       "Q 23.390625 27.484375 19.1875 25 \n",
       "Q 14.984375 22.515625 14.984375 16.5 \n",
       "Q 14.984375 11.71875 18.140625 8.90625 \n",
       "Q 21.296875 6.109375 26.703125 6.109375 \n",
       "Q 34.1875 6.109375 38.703125 11.40625 \n",
       "Q 43.21875 16.703125 43.21875 25.484375 \n",
       "L 43.21875 27.484375 \n",
       "z\n",
       "M 52.203125 31.203125 \n",
       "L 52.203125 0 \n",
       "L 43.21875 0 \n",
       "L 43.21875 8.296875 \n",
       "Q 40.140625 3.328125 35.546875 0.953125 \n",
       "Q 30.953125 -1.421875 24.3125 -1.421875 \n",
       "Q 15.921875 -1.421875 10.953125 3.296875 \n",
       "Q 6 8.015625 6 15.921875 \n",
       "Q 6 25.140625 12.171875 29.828125 \n",
       "Q 18.359375 34.515625 30.609375 34.515625 \n",
       "L 43.21875 34.515625 \n",
       "L 43.21875 35.40625 \n",
       "Q 43.21875 41.609375 39.140625 45 \n",
       "Q 35.0625 48.390625 27.6875 48.390625 \n",
       "Q 23 48.390625 18.546875 47.265625 \n",
       "Q 14.109375 46.140625 10.015625 43.890625 \n",
       "L 10.015625 52.203125 \n",
       "Q 14.9375 54.109375 19.578125 55.046875 \n",
       "Q 24.21875 56 28.609375 56 \n",
       "Q 40.484375 56 46.34375 49.84375 \n",
       "Q 52.203125 43.703125 52.203125 31.203125 \n",
       "z\n",
       "\" id=\"DejaVuSans-97\"/>\n",
       "      <path d=\"M 56.203125 29.59375 \n",
       "L 56.203125 25.203125 \n",
       "L 14.890625 25.203125 \n",
       "Q 15.484375 15.921875 20.484375 11.0625 \n",
       "Q 25.484375 6.203125 34.421875 6.203125 \n",
       "Q 39.59375 6.203125 44.453125 7.46875 \n",
       "Q 49.3125 8.734375 54.109375 11.28125 \n",
       "L 54.109375 2.78125 \n",
       "Q 49.265625 0.734375 44.1875 -0.34375 \n",
       "Q 39.109375 -1.421875 33.890625 -1.421875 \n",
       "Q 20.796875 -1.421875 13.15625 6.1875 \n",
       "Q 5.515625 13.8125 5.515625 26.8125 \n",
       "Q 5.515625 40.234375 12.765625 48.109375 \n",
       "Q 20.015625 56 32.328125 56 \n",
       "Q 43.359375 56 49.78125 48.890625 \n",
       "Q 56.203125 41.796875 56.203125 29.59375 \n",
       "z\n",
       "M 47.21875 32.234375 \n",
       "Q 47.125 39.59375 43.09375 43.984375 \n",
       "Q 39.0625 48.390625 32.421875 48.390625 \n",
       "Q 24.90625 48.390625 20.390625 44.140625 \n",
       "Q 15.875 39.890625 15.1875 32.171875 \n",
       "z\n",
       "\" id=\"DejaVuSans-101\"/>\n",
       "     </defs>\n",
       "     <g transform=\"translate(67.103125 234.647812)scale(0.1 -0.1)\">\n",
       "      <use xlink:href=\"#DejaVuSans-86\"/>\n",
       "      <use x=\"60.658203\" xlink:href=\"#DejaVuSans-97\"/>\n",
       "      <use x=\"121.9375\" xlink:href=\"#DejaVuSans-114\"/>\n",
       "      <use x=\"163.050781\" xlink:href=\"#DejaVuSans-32\"/>\n",
       "      <use x=\"194.837891\" xlink:href=\"#DejaVuSans-116\"/>\n",
       "      <use x=\"234.046875\" xlink:href=\"#DejaVuSans-101\"/>\n",
       "      <use x=\"295.570312\" xlink:href=\"#DejaVuSans-115\"/>\n",
       "      <use x=\"347.669922\" xlink:href=\"#DejaVuSans-116\"/>\n",
       "     </g>\n",
       "    </g>\n",
       "    <g id=\"line2d_39\">\n",
       "     <path d=\"M 39.103125 245.825937 \n",
       "L 59.103125 245.825937 \n",
       "\" style=\"fill:none;stroke:#ff0000;stroke-linecap:square;stroke-width:1.5;\"/>\n",
       "    </g>\n",
       "    <g id=\"line2d_40\"/>\n",
       "    <g id=\"text_19\">\n",
       "     <!-- Var train -->\n",
       "     <defs>\n",
       "      <path d=\"M 9.421875 54.6875 \n",
       "L 18.40625 54.6875 \n",
       "L 18.40625 0 \n",
       "L 9.421875 0 \n",
       "z\n",
       "M 9.421875 75.984375 \n",
       "L 18.40625 75.984375 \n",
       "L 18.40625 64.59375 \n",
       "L 9.421875 64.59375 \n",
       "z\n",
       "\" id=\"DejaVuSans-105\"/>\n",
       "     </defs>\n",
       "     <g transform=\"translate(67.103125 249.325937)scale(0.1 -0.1)\">\n",
       "      <use xlink:href=\"#DejaVuSans-86\"/>\n",
       "      <use x=\"60.658203\" xlink:href=\"#DejaVuSans-97\"/>\n",
       "      <use x=\"121.9375\" xlink:href=\"#DejaVuSans-114\"/>\n",
       "      <use x=\"163.050781\" xlink:href=\"#DejaVuSans-32\"/>\n",
       "      <use x=\"194.837891\" xlink:href=\"#DejaVuSans-116\"/>\n",
       "      <use x=\"234.046875\" xlink:href=\"#DejaVuSans-114\"/>\n",
       "      <use x=\"275.160156\" xlink:href=\"#DejaVuSans-97\"/>\n",
       "      <use x=\"336.439453\" xlink:href=\"#DejaVuSans-105\"/>\n",
       "      <use x=\"364.222656\" xlink:href=\"#DejaVuSans-110\"/>\n",
       "     </g>\n",
       "    </g>\n",
       "    <g id=\"line2d_41\">\n",
       "     <path d=\"M 39.103125 260.504062 \n",
       "L 59.103125 260.504062 \n",
       "\" style=\"fill:none;stroke:#0000ff;stroke-dasharray:5.55,2.4;stroke-dashoffset:0;stroke-width:1.5;\"/>\n",
       "    </g>\n",
       "    <g id=\"line2d_42\"/>\n",
       "    <g id=\"text_20\">\n",
       "     <!-- Var with dropout test -->\n",
       "     <defs>\n",
       "      <path d=\"M 4.203125 54.6875 \n",
       "L 13.1875 54.6875 \n",
       "L 24.421875 12.015625 \n",
       "L 35.59375 54.6875 \n",
       "L 46.1875 54.6875 \n",
       "L 57.421875 12.015625 \n",
       "L 68.609375 54.6875 \n",
       "L 77.59375 54.6875 \n",
       "L 63.28125 0 \n",
       "L 52.6875 0 \n",
       "L 40.921875 44.828125 \n",
       "L 29.109375 0 \n",
       "L 18.5 0 \n",
       "z\n",
       "\" id=\"DejaVuSans-119\"/>\n",
       "      <path d=\"M 45.40625 46.390625 \n",
       "L 45.40625 75.984375 \n",
       "L 54.390625 75.984375 \n",
       "L 54.390625 0 \n",
       "L 45.40625 0 \n",
       "L 45.40625 8.203125 \n",
       "Q 42.578125 3.328125 38.25 0.953125 \n",
       "Q 33.9375 -1.421875 27.875 -1.421875 \n",
       "Q 17.96875 -1.421875 11.734375 6.484375 \n",
       "Q 5.515625 14.40625 5.515625 27.296875 \n",
       "Q 5.515625 40.1875 11.734375 48.09375 \n",
       "Q 17.96875 56 27.875 56 \n",
       "Q 33.9375 56 38.25 53.625 \n",
       "Q 42.578125 51.265625 45.40625 46.390625 \n",
       "z\n",
       "M 14.796875 27.296875 \n",
       "Q 14.796875 17.390625 18.875 11.75 \n",
       "Q 22.953125 6.109375 30.078125 6.109375 \n",
       "Q 37.203125 6.109375 41.296875 11.75 \n",
       "Q 45.40625 17.390625 45.40625 27.296875 \n",
       "Q 45.40625 37.203125 41.296875 42.84375 \n",
       "Q 37.203125 48.484375 30.078125 48.484375 \n",
       "Q 22.953125 48.484375 18.875 42.84375 \n",
       "Q 14.796875 37.203125 14.796875 27.296875 \n",
       "z\n",
       "\" id=\"DejaVuSans-100\"/>\n",
       "      <path d=\"M 8.5 21.578125 \n",
       "L 8.5 54.6875 \n",
       "L 17.484375 54.6875 \n",
       "L 17.484375 21.921875 \n",
       "Q 17.484375 14.15625 20.5 10.265625 \n",
       "Q 23.53125 6.390625 29.59375 6.390625 \n",
       "Q 36.859375 6.390625 41.078125 11.03125 \n",
       "Q 45.3125 15.671875 45.3125 23.6875 \n",
       "L 45.3125 54.6875 \n",
       "L 54.296875 54.6875 \n",
       "L 54.296875 0 \n",
       "L 45.3125 0 \n",
       "L 45.3125 8.40625 \n",
       "Q 42.046875 3.421875 37.71875 1 \n",
       "Q 33.40625 -1.421875 27.6875 -1.421875 \n",
       "Q 18.265625 -1.421875 13.375 4.4375 \n",
       "Q 8.5 10.296875 8.5 21.578125 \n",
       "z\n",
       "M 31.109375 56 \n",
       "z\n",
       "\" id=\"DejaVuSans-117\"/>\n",
       "     </defs>\n",
       "     <g transform=\"translate(67.103125 264.004062)scale(0.1 -0.1)\">\n",
       "      <use xlink:href=\"#DejaVuSans-86\"/>\n",
       "      <use x=\"60.658203\" xlink:href=\"#DejaVuSans-97\"/>\n",
       "      <use x=\"121.9375\" xlink:href=\"#DejaVuSans-114\"/>\n",
       "      <use x=\"163.050781\" xlink:href=\"#DejaVuSans-32\"/>\n",
       "      <use x=\"194.837891\" xlink:href=\"#DejaVuSans-119\"/>\n",
       "      <use x=\"276.625\" xlink:href=\"#DejaVuSans-105\"/>\n",
       "      <use x=\"304.408203\" xlink:href=\"#DejaVuSans-116\"/>\n",
       "      <use x=\"343.617188\" xlink:href=\"#DejaVuSans-104\"/>\n",
       "      <use x=\"406.996094\" xlink:href=\"#DejaVuSans-32\"/>\n",
       "      <use x=\"438.783203\" xlink:href=\"#DejaVuSans-100\"/>\n",
       "      <use x=\"502.259766\" xlink:href=\"#DejaVuSans-114\"/>\n",
       "      <use x=\"541.123047\" xlink:href=\"#DejaVuSans-111\"/>\n",
       "      <use x=\"602.304688\" xlink:href=\"#DejaVuSans-112\"/>\n",
       "      <use x=\"665.78125\" xlink:href=\"#DejaVuSans-111\"/>\n",
       "      <use x=\"726.962891\" xlink:href=\"#DejaVuSans-117\"/>\n",
       "      <use x=\"790.341797\" xlink:href=\"#DejaVuSans-116\"/>\n",
       "      <use x=\"829.550781\" xlink:href=\"#DejaVuSans-32\"/>\n",
       "      <use x=\"861.337891\" xlink:href=\"#DejaVuSans-116\"/>\n",
       "      <use x=\"900.546875\" xlink:href=\"#DejaVuSans-101\"/>\n",
       "      <use x=\"962.070312\" xlink:href=\"#DejaVuSans-115\"/>\n",
       "      <use x=\"1014.169922\" xlink:href=\"#DejaVuSans-116\"/>\n",
       "     </g>\n",
       "    </g>\n",
       "    <g id=\"line2d_43\">\n",
       "     <path d=\"M 39.103125 275.182187 \n",
       "L 59.103125 275.182187 \n",
       "\" style=\"fill:none;stroke:#0000ff;stroke-linecap:square;stroke-width:1.5;\"/>\n",
       "    </g>\n",
       "    <g id=\"line2d_44\"/>\n",
       "    <g id=\"text_21\">\n",
       "     <!-- Var with dropout train -->\n",
       "     <g transform=\"translate(67.103125 278.682187)scale(0.1 -0.1)\">\n",
       "      <use xlink:href=\"#DejaVuSans-86\"/>\n",
       "      <use x=\"60.658203\" xlink:href=\"#DejaVuSans-97\"/>\n",
       "      <use x=\"121.9375\" xlink:href=\"#DejaVuSans-114\"/>\n",
       "      <use x=\"163.050781\" xlink:href=\"#DejaVuSans-32\"/>\n",
       "      <use x=\"194.837891\" xlink:href=\"#DejaVuSans-119\"/>\n",
       "      <use x=\"276.625\" xlink:href=\"#DejaVuSans-105\"/>\n",
       "      <use x=\"304.408203\" xlink:href=\"#DejaVuSans-116\"/>\n",
       "      <use x=\"343.617188\" xlink:href=\"#DejaVuSans-104\"/>\n",
       "      <use x=\"406.996094\" xlink:href=\"#DejaVuSans-32\"/>\n",
       "      <use x=\"438.783203\" xlink:href=\"#DejaVuSans-100\"/>\n",
       "      <use x=\"502.259766\" xlink:href=\"#DejaVuSans-114\"/>\n",
       "      <use x=\"541.123047\" xlink:href=\"#DejaVuSans-111\"/>\n",
       "      <use x=\"602.304688\" xlink:href=\"#DejaVuSans-112\"/>\n",
       "      <use x=\"665.78125\" xlink:href=\"#DejaVuSans-111\"/>\n",
       "      <use x=\"726.962891\" xlink:href=\"#DejaVuSans-117\"/>\n",
       "      <use x=\"790.341797\" xlink:href=\"#DejaVuSans-116\"/>\n",
       "      <use x=\"829.550781\" xlink:href=\"#DejaVuSans-32\"/>\n",
       "      <use x=\"861.337891\" xlink:href=\"#DejaVuSans-116\"/>\n",
       "      <use x=\"900.546875\" xlink:href=\"#DejaVuSans-114\"/>\n",
       "      <use x=\"941.660156\" xlink:href=\"#DejaVuSans-97\"/>\n",
       "      <use x=\"1002.939453\" xlink:href=\"#DejaVuSans-105\"/>\n",
       "      <use x=\"1030.722656\" xlink:href=\"#DejaVuSans-110\"/>\n",
       "     </g>\n",
       "    </g>\n",
       "    <g id=\"line2d_45\">\n",
       "     <path d=\"M 39.103125 289.860312 \n",
       "L 59.103125 289.860312 \n",
       "\" style=\"fill:none;stroke:#ffc0cb;stroke-dasharray:5.55,2.4;stroke-dashoffset:0;stroke-width:1.5;\"/>\n",
       "    </g>\n",
       "    <g id=\"line2d_46\"/>\n",
       "    <g id=\"text_22\">\n",
       "     <!-- Zoneout with dropout test -->\n",
       "     <defs>\n",
       "      <path d=\"M 5.609375 72.90625 \n",
       "L 62.890625 72.90625 \n",
       "L 62.890625 65.375 \n",
       "L 16.796875 8.296875 \n",
       "L 64.015625 8.296875 \n",
       "L 64.015625 0 \n",
       "L 4.5 0 \n",
       "L 4.5 7.515625 \n",
       "L 50.59375 64.59375 \n",
       "L 5.609375 64.59375 \n",
       "z\n",
       "\" id=\"DejaVuSans-90\"/>\n",
       "     </defs>\n",
       "     <g transform=\"translate(67.103125 293.360312)scale(0.1 -0.1)\">\n",
       "      <use xlink:href=\"#DejaVuSans-90\"/>\n",
       "      <use x=\"68.505859\" xlink:href=\"#DejaVuSans-111\"/>\n",
       "      <use x=\"129.6875\" xlink:href=\"#DejaVuSans-110\"/>\n",
       "      <use x=\"193.066406\" xlink:href=\"#DejaVuSans-101\"/>\n",
       "      <use x=\"254.589844\" xlink:href=\"#DejaVuSans-111\"/>\n",
       "      <use x=\"315.771484\" xlink:href=\"#DejaVuSans-117\"/>\n",
       "      <use x=\"379.150391\" xlink:href=\"#DejaVuSans-116\"/>\n",
       "      <use x=\"418.359375\" xlink:href=\"#DejaVuSans-32\"/>\n",
       "      <use x=\"450.146484\" xlink:href=\"#DejaVuSans-119\"/>\n",
       "      <use x=\"531.933594\" xlink:href=\"#DejaVuSans-105\"/>\n",
       "      <use x=\"559.716797\" xlink:href=\"#DejaVuSans-116\"/>\n",
       "      <use x=\"598.925781\" xlink:href=\"#DejaVuSans-104\"/>\n",
       "      <use x=\"662.304688\" xlink:href=\"#DejaVuSans-32\"/>\n",
       "      <use x=\"694.091797\" xlink:href=\"#DejaVuSans-100\"/>\n",
       "      <use x=\"757.568359\" xlink:href=\"#DejaVuSans-114\"/>\n",
       "      <use x=\"796.431641\" xlink:href=\"#DejaVuSans-111\"/>\n",
       "      <use x=\"857.613281\" xlink:href=\"#DejaVuSans-112\"/>\n",
       "      <use x=\"921.089844\" xlink:href=\"#DejaVuSans-111\"/>\n",
       "      <use x=\"982.271484\" xlink:href=\"#DejaVuSans-117\"/>\n",
       "      <use x=\"1045.650391\" xlink:href=\"#DejaVuSans-116\"/>\n",
       "      <use x=\"1084.859375\" xlink:href=\"#DejaVuSans-32\"/>\n",
       "      <use x=\"1116.646484\" xlink:href=\"#DejaVuSans-116\"/>\n",
       "      <use x=\"1155.855469\" xlink:href=\"#DejaVuSans-101\"/>\n",
       "      <use x=\"1217.378906\" xlink:href=\"#DejaVuSans-115\"/>\n",
       "      <use x=\"1269.478516\" xlink:href=\"#DejaVuSans-116\"/>\n",
       "     </g>\n",
       "    </g>\n",
       "    <g id=\"line2d_47\">\n",
       "     <path d=\"M 39.103125 304.538437 \n",
       "L 59.103125 304.538437 \n",
       "\" style=\"fill:none;stroke:#ffc0cb;stroke-linecap:square;stroke-width:1.5;\"/>\n",
       "    </g>\n",
       "    <g id=\"line2d_48\"/>\n",
       "    <g id=\"text_23\">\n",
       "     <!-- Zoneout with dropout train -->\n",
       "     <g transform=\"translate(67.103125 308.038437)scale(0.1 -0.1)\">\n",
       "      <use xlink:href=\"#DejaVuSans-90\"/>\n",
       "      <use x=\"68.505859\" xlink:href=\"#DejaVuSans-111\"/>\n",
       "      <use x=\"129.6875\" xlink:href=\"#DejaVuSans-110\"/>\n",
       "      <use x=\"193.066406\" xlink:href=\"#DejaVuSans-101\"/>\n",
       "      <use x=\"254.589844\" xlink:href=\"#DejaVuSans-111\"/>\n",
       "      <use x=\"315.771484\" xlink:href=\"#DejaVuSans-117\"/>\n",
       "      <use x=\"379.150391\" xlink:href=\"#DejaVuSans-116\"/>\n",
       "      <use x=\"418.359375\" xlink:href=\"#DejaVuSans-32\"/>\n",
       "      <use x=\"450.146484\" xlink:href=\"#DejaVuSans-119\"/>\n",
       "      <use x=\"531.933594\" xlink:href=\"#DejaVuSans-105\"/>\n",
       "      <use x=\"559.716797\" xlink:href=\"#DejaVuSans-116\"/>\n",
       "      <use x=\"598.925781\" xlink:href=\"#DejaVuSans-104\"/>\n",
       "      <use x=\"662.304688\" xlink:href=\"#DejaVuSans-32\"/>\n",
       "      <use x=\"694.091797\" xlink:href=\"#DejaVuSans-100\"/>\n",
       "      <use x=\"757.568359\" xlink:href=\"#DejaVuSans-114\"/>\n",
       "      <use x=\"796.431641\" xlink:href=\"#DejaVuSans-111\"/>\n",
       "      <use x=\"857.613281\" xlink:href=\"#DejaVuSans-112\"/>\n",
       "      <use x=\"921.089844\" xlink:href=\"#DejaVuSans-111\"/>\n",
       "      <use x=\"982.271484\" xlink:href=\"#DejaVuSans-117\"/>\n",
       "      <use x=\"1045.650391\" xlink:href=\"#DejaVuSans-116\"/>\n",
       "      <use x=\"1084.859375\" xlink:href=\"#DejaVuSans-32\"/>\n",
       "      <use x=\"1116.646484\" xlink:href=\"#DejaVuSans-116\"/>\n",
       "      <use x=\"1155.855469\" xlink:href=\"#DejaVuSans-114\"/>\n",
       "      <use x=\"1196.96875\" xlink:href=\"#DejaVuSans-97\"/>\n",
       "      <use x=\"1258.248047\" xlink:href=\"#DejaVuSans-105\"/>\n",
       "      <use x=\"1286.03125\" xlink:href=\"#DejaVuSans-110\"/>\n",
       "     </g>\n",
       "    </g>\n",
       "   </g>\n",
       "  </g>\n",
       "  <g id=\"axes_2\">\n",
       "   <g id=\"patch_8\">\n",
       "    <path d=\"M 30.103125 673.718125 \n",
       "L 705.503125 673.718125 \n",
       "L 705.503125 376.918125 \n",
       "L 30.103125 376.918125 \n",
       "z\n",
       "\" style=\"fill:#ffffff;\"/>\n",
       "   </g>\n",
       "   <g id=\"matplotlib.axis_3\">\n",
       "    <g id=\"xtick_9\">\n",
       "     <g id=\"line2d_49\">\n",
       "      <path clip-path=\"url(#p374f1010ef)\" d=\"M 60.803125 673.718125 \n",
       "L 60.803125 376.918125 \n",
       "\" style=\"fill:none;stroke:#b0b0b0;stroke-linecap:square;stroke-width:0.8;\"/>\n",
       "     </g>\n",
       "     <g id=\"line2d_50\">\n",
       "      <g>\n",
       "       <use style=\"stroke:#000000;stroke-width:0.8;\" x=\"60.803125\" xlink:href=\"#m69c1bcdf95\" y=\"673.718125\"/>\n",
       "      </g>\n",
       "     </g>\n",
       "     <g id=\"text_24\">\n",
       "      <!-- 0 -->\n",
       "      <g transform=\"translate(57.621875 688.316562)scale(0.1 -0.1)\">\n",
       "       <use xlink:href=\"#DejaVuSans-48\"/>\n",
       "      </g>\n",
       "     </g>\n",
       "    </g>\n",
       "    <g id=\"xtick_10\">\n",
       "     <g id=\"line2d_51\">\n",
       "      <path clip-path=\"url(#p374f1010ef)\" d=\"M 148.517411 673.718125 \n",
       "L 148.517411 376.918125 \n",
       "\" style=\"fill:none;stroke:#b0b0b0;stroke-linecap:square;stroke-width:0.8;\"/>\n",
       "     </g>\n",
       "     <g id=\"line2d_52\">\n",
       "      <g>\n",
       "       <use style=\"stroke:#000000;stroke-width:0.8;\" x=\"148.517411\" xlink:href=\"#m69c1bcdf95\" y=\"673.718125\"/>\n",
       "      </g>\n",
       "     </g>\n",
       "     <g id=\"text_25\">\n",
       "      <!-- 2 -->\n",
       "      <g transform=\"translate(145.336161 688.316562)scale(0.1 -0.1)\">\n",
       "       <use xlink:href=\"#DejaVuSans-50\"/>\n",
       "      </g>\n",
       "     </g>\n",
       "    </g>\n",
       "    <g id=\"xtick_11\">\n",
       "     <g id=\"line2d_53\">\n",
       "      <path clip-path=\"url(#p374f1010ef)\" d=\"M 236.231696 673.718125 \n",
       "L 236.231696 376.918125 \n",
       "\" style=\"fill:none;stroke:#b0b0b0;stroke-linecap:square;stroke-width:0.8;\"/>\n",
       "     </g>\n",
       "     <g id=\"line2d_54\">\n",
       "      <g>\n",
       "       <use style=\"stroke:#000000;stroke-width:0.8;\" x=\"236.231696\" xlink:href=\"#m69c1bcdf95\" y=\"673.718125\"/>\n",
       "      </g>\n",
       "     </g>\n",
       "     <g id=\"text_26\">\n",
       "      <!-- 4 -->\n",
       "      <g transform=\"translate(233.050446 688.316562)scale(0.1 -0.1)\">\n",
       "       <use xlink:href=\"#DejaVuSans-52\"/>\n",
       "      </g>\n",
       "     </g>\n",
       "    </g>\n",
       "    <g id=\"xtick_12\">\n",
       "     <g id=\"line2d_55\">\n",
       "      <path clip-path=\"url(#p374f1010ef)\" d=\"M 323.945982 673.718125 \n",
       "L 323.945982 376.918125 \n",
       "\" style=\"fill:none;stroke:#b0b0b0;stroke-linecap:square;stroke-width:0.8;\"/>\n",
       "     </g>\n",
       "     <g id=\"line2d_56\">\n",
       "      <g>\n",
       "       <use style=\"stroke:#000000;stroke-width:0.8;\" x=\"323.945982\" xlink:href=\"#m69c1bcdf95\" y=\"673.718125\"/>\n",
       "      </g>\n",
       "     </g>\n",
       "     <g id=\"text_27\">\n",
       "      <!-- 6 -->\n",
       "      <g transform=\"translate(320.764732 688.316562)scale(0.1 -0.1)\">\n",
       "       <use xlink:href=\"#DejaVuSans-54\"/>\n",
       "      </g>\n",
       "     </g>\n",
       "    </g>\n",
       "    <g id=\"xtick_13\">\n",
       "     <g id=\"line2d_57\">\n",
       "      <path clip-path=\"url(#p374f1010ef)\" d=\"M 411.660268 673.718125 \n",
       "L 411.660268 376.918125 \n",
       "\" style=\"fill:none;stroke:#b0b0b0;stroke-linecap:square;stroke-width:0.8;\"/>\n",
       "     </g>\n",
       "     <g id=\"line2d_58\">\n",
       "      <g>\n",
       "       <use style=\"stroke:#000000;stroke-width:0.8;\" x=\"411.660268\" xlink:href=\"#m69c1bcdf95\" y=\"673.718125\"/>\n",
       "      </g>\n",
       "     </g>\n",
       "     <g id=\"text_28\">\n",
       "      <!-- 8 -->\n",
       "      <g transform=\"translate(408.479018 688.316562)scale(0.1 -0.1)\">\n",
       "       <use xlink:href=\"#DejaVuSans-56\"/>\n",
       "      </g>\n",
       "     </g>\n",
       "    </g>\n",
       "    <g id=\"xtick_14\">\n",
       "     <g id=\"line2d_59\">\n",
       "      <path clip-path=\"url(#p374f1010ef)\" d=\"M 499.374554 673.718125 \n",
       "L 499.374554 376.918125 \n",
       "\" style=\"fill:none;stroke:#b0b0b0;stroke-linecap:square;stroke-width:0.8;\"/>\n",
       "     </g>\n",
       "     <g id=\"line2d_60\">\n",
       "      <g>\n",
       "       <use style=\"stroke:#000000;stroke-width:0.8;\" x=\"499.374554\" xlink:href=\"#m69c1bcdf95\" y=\"673.718125\"/>\n",
       "      </g>\n",
       "     </g>\n",
       "     <g id=\"text_29\">\n",
       "      <!-- 10 -->\n",
       "      <g transform=\"translate(493.012054 688.316562)scale(0.1 -0.1)\">\n",
       "       <use xlink:href=\"#DejaVuSans-49\"/>\n",
       "       <use x=\"63.623047\" xlink:href=\"#DejaVuSans-48\"/>\n",
       "      </g>\n",
       "     </g>\n",
       "    </g>\n",
       "    <g id=\"xtick_15\">\n",
       "     <g id=\"line2d_61\">\n",
       "      <path clip-path=\"url(#p374f1010ef)\" d=\"M 587.088839 673.718125 \n",
       "L 587.088839 376.918125 \n",
       "\" style=\"fill:none;stroke:#b0b0b0;stroke-linecap:square;stroke-width:0.8;\"/>\n",
       "     </g>\n",
       "     <g id=\"line2d_62\">\n",
       "      <g>\n",
       "       <use style=\"stroke:#000000;stroke-width:0.8;\" x=\"587.088839\" xlink:href=\"#m69c1bcdf95\" y=\"673.718125\"/>\n",
       "      </g>\n",
       "     </g>\n",
       "     <g id=\"text_30\">\n",
       "      <!-- 12 -->\n",
       "      <g transform=\"translate(580.726339 688.316562)scale(0.1 -0.1)\">\n",
       "       <use xlink:href=\"#DejaVuSans-49\"/>\n",
       "       <use x=\"63.623047\" xlink:href=\"#DejaVuSans-50\"/>\n",
       "      </g>\n",
       "     </g>\n",
       "    </g>\n",
       "    <g id=\"xtick_16\">\n",
       "     <g id=\"line2d_63\">\n",
       "      <path clip-path=\"url(#p374f1010ef)\" d=\"M 674.803125 673.718125 \n",
       "L 674.803125 376.918125 \n",
       "\" style=\"fill:none;stroke:#b0b0b0;stroke-linecap:square;stroke-width:0.8;\"/>\n",
       "     </g>\n",
       "     <g id=\"line2d_64\">\n",
       "      <g>\n",
       "       <use style=\"stroke:#000000;stroke-width:0.8;\" x=\"674.803125\" xlink:href=\"#m69c1bcdf95\" y=\"673.718125\"/>\n",
       "      </g>\n",
       "     </g>\n",
       "     <g id=\"text_31\">\n",
       "      <!-- 14 -->\n",
       "      <g transform=\"translate(668.440625 688.316562)scale(0.1 -0.1)\">\n",
       "       <use xlink:href=\"#DejaVuSans-49\"/>\n",
       "       <use x=\"63.623047\" xlink:href=\"#DejaVuSans-52\"/>\n",
       "      </g>\n",
       "     </g>\n",
       "    </g>\n",
       "    <g id=\"text_32\">\n",
       "     <!-- Epoch -->\n",
       "     <g transform=\"translate(352.492187 701.994687)scale(0.1 -0.1)\">\n",
       "      <use xlink:href=\"#DejaVuSans-69\"/>\n",
       "      <use x=\"63.183594\" xlink:href=\"#DejaVuSans-112\"/>\n",
       "      <use x=\"126.660156\" xlink:href=\"#DejaVuSans-111\"/>\n",
       "      <use x=\"187.841797\" xlink:href=\"#DejaVuSans-99\"/>\n",
       "      <use x=\"242.822266\" xlink:href=\"#DejaVuSans-104\"/>\n",
       "     </g>\n",
       "    </g>\n",
       "   </g>\n",
       "   <g id=\"matplotlib.axis_4\">\n",
       "    <g id=\"ytick_8\">\n",
       "     <g id=\"line2d_65\">\n",
       "      <path clip-path=\"url(#p374f1010ef)\" d=\"M 30.103125 669.794276 \n",
       "L 705.503125 669.794276 \n",
       "\" style=\"fill:none;stroke:#b0b0b0;stroke-linecap:square;stroke-width:0.8;\"/>\n",
       "     </g>\n",
       "     <g id=\"line2d_66\">\n",
       "      <g>\n",
       "       <use style=\"stroke:#000000;stroke-width:0.8;\" x=\"30.103125\" xlink:href=\"#meaf6d6bac5\" y=\"669.794276\"/>\n",
       "      </g>\n",
       "     </g>\n",
       "     <g id=\"text_33\">\n",
       "      <!-- 0.2 -->\n",
       "      <g transform=\"translate(7.2 673.593495)scale(0.1 -0.1)\">\n",
       "       <use xlink:href=\"#DejaVuSans-48\"/>\n",
       "       <use x=\"63.623047\" xlink:href=\"#DejaVuSans-46\"/>\n",
       "       <use x=\"95.410156\" xlink:href=\"#DejaVuSans-50\"/>\n",
       "      </g>\n",
       "     </g>\n",
       "    </g>\n",
       "    <g id=\"ytick_9\">\n",
       "     <g id=\"line2d_67\">\n",
       "      <path clip-path=\"url(#p374f1010ef)\" d=\"M 30.103125 613.384722 \n",
       "L 705.503125 613.384722 \n",
       "\" style=\"fill:none;stroke:#b0b0b0;stroke-linecap:square;stroke-width:0.8;\"/>\n",
       "     </g>\n",
       "     <g id=\"line2d_68\">\n",
       "      <g>\n",
       "       <use style=\"stroke:#000000;stroke-width:0.8;\" x=\"30.103125\" xlink:href=\"#meaf6d6bac5\" y=\"613.384722\"/>\n",
       "      </g>\n",
       "     </g>\n",
       "     <g id=\"text_34\">\n",
       "      <!-- 0.3 -->\n",
       "      <defs>\n",
       "       <path d=\"M 40.578125 39.3125 \n",
       "Q 47.65625 37.796875 51.625 33 \n",
       "Q 55.609375 28.21875 55.609375 21.1875 \n",
       "Q 55.609375 10.40625 48.1875 4.484375 \n",
       "Q 40.765625 -1.421875 27.09375 -1.421875 \n",
       "Q 22.515625 -1.421875 17.65625 -0.515625 \n",
       "Q 12.796875 0.390625 7.625 2.203125 \n",
       "L 7.625 11.71875 \n",
       "Q 11.71875 9.328125 16.59375 8.109375 \n",
       "Q 21.484375 6.890625 26.8125 6.890625 \n",
       "Q 36.078125 6.890625 40.9375 10.546875 \n",
       "Q 45.796875 14.203125 45.796875 21.1875 \n",
       "Q 45.796875 27.640625 41.28125 31.265625 \n",
       "Q 36.765625 34.90625 28.71875 34.90625 \n",
       "L 20.21875 34.90625 \n",
       "L 20.21875 43.015625 \n",
       "L 29.109375 43.015625 \n",
       "Q 36.375 43.015625 40.234375 45.921875 \n",
       "Q 44.09375 48.828125 44.09375 54.296875 \n",
       "Q 44.09375 59.90625 40.109375 62.90625 \n",
       "Q 36.140625 65.921875 28.71875 65.921875 \n",
       "Q 24.65625 65.921875 20.015625 65.03125 \n",
       "Q 15.375 64.15625 9.8125 62.3125 \n",
       "L 9.8125 71.09375 \n",
       "Q 15.4375 72.65625 20.34375 73.4375 \n",
       "Q 25.25 74.21875 29.59375 74.21875 \n",
       "Q 40.828125 74.21875 47.359375 69.109375 \n",
       "Q 53.90625 64.015625 53.90625 55.328125 \n",
       "Q 53.90625 49.265625 50.4375 45.09375 \n",
       "Q 46.96875 40.921875 40.578125 39.3125 \n",
       "z\n",
       "\" id=\"DejaVuSans-51\"/>\n",
       "      </defs>\n",
       "      <g transform=\"translate(7.2 617.18394)scale(0.1 -0.1)\">\n",
       "       <use xlink:href=\"#DejaVuSans-48\"/>\n",
       "       <use x=\"63.623047\" xlink:href=\"#DejaVuSans-46\"/>\n",
       "       <use x=\"95.410156\" xlink:href=\"#DejaVuSans-51\"/>\n",
       "      </g>\n",
       "     </g>\n",
       "    </g>\n",
       "    <g id=\"ytick_10\">\n",
       "     <g id=\"line2d_69\">\n",
       "      <path clip-path=\"url(#p374f1010ef)\" d=\"M 30.103125 556.975167 \n",
       "L 705.503125 556.975167 \n",
       "\" style=\"fill:none;stroke:#b0b0b0;stroke-linecap:square;stroke-width:0.8;\"/>\n",
       "     </g>\n",
       "     <g id=\"line2d_70\">\n",
       "      <g>\n",
       "       <use style=\"stroke:#000000;stroke-width:0.8;\" x=\"30.103125\" xlink:href=\"#meaf6d6bac5\" y=\"556.975167\"/>\n",
       "      </g>\n",
       "     </g>\n",
       "     <g id=\"text_35\">\n",
       "      <!-- 0.4 -->\n",
       "      <g transform=\"translate(7.2 560.774386)scale(0.1 -0.1)\">\n",
       "       <use xlink:href=\"#DejaVuSans-48\"/>\n",
       "       <use x=\"63.623047\" xlink:href=\"#DejaVuSans-46\"/>\n",
       "       <use x=\"95.410156\" xlink:href=\"#DejaVuSans-52\"/>\n",
       "      </g>\n",
       "     </g>\n",
       "    </g>\n",
       "    <g id=\"ytick_11\">\n",
       "     <g id=\"line2d_71\">\n",
       "      <path clip-path=\"url(#p374f1010ef)\" d=\"M 30.103125 500.565612 \n",
       "L 705.503125 500.565612 \n",
       "\" style=\"fill:none;stroke:#b0b0b0;stroke-linecap:square;stroke-width:0.8;\"/>\n",
       "     </g>\n",
       "     <g id=\"line2d_72\">\n",
       "      <g>\n",
       "       <use style=\"stroke:#000000;stroke-width:0.8;\" x=\"30.103125\" xlink:href=\"#meaf6d6bac5\" y=\"500.565612\"/>\n",
       "      </g>\n",
       "     </g>\n",
       "     <g id=\"text_36\">\n",
       "      <!-- 0.5 -->\n",
       "      <defs>\n",
       "       <path d=\"M 10.796875 72.90625 \n",
       "L 49.515625 72.90625 \n",
       "L 49.515625 64.59375 \n",
       "L 19.828125 64.59375 \n",
       "L 19.828125 46.734375 \n",
       "Q 21.96875 47.46875 24.109375 47.828125 \n",
       "Q 26.265625 48.1875 28.421875 48.1875 \n",
       "Q 40.625 48.1875 47.75 41.5 \n",
       "Q 54.890625 34.8125 54.890625 23.390625 \n",
       "Q 54.890625 11.625 47.5625 5.09375 \n",
       "Q 40.234375 -1.421875 26.90625 -1.421875 \n",
       "Q 22.3125 -1.421875 17.546875 -0.640625 \n",
       "Q 12.796875 0.140625 7.71875 1.703125 \n",
       "L 7.71875 11.625 \n",
       "Q 12.109375 9.234375 16.796875 8.0625 \n",
       "Q 21.484375 6.890625 26.703125 6.890625 \n",
       "Q 35.15625 6.890625 40.078125 11.328125 \n",
       "Q 45.015625 15.765625 45.015625 23.390625 \n",
       "Q 45.015625 31 40.078125 35.4375 \n",
       "Q 35.15625 39.890625 26.703125 39.890625 \n",
       "Q 22.75 39.890625 18.8125 39.015625 \n",
       "Q 14.890625 38.140625 10.796875 36.28125 \n",
       "z\n",
       "\" id=\"DejaVuSans-53\"/>\n",
       "      </defs>\n",
       "      <g transform=\"translate(7.2 504.364831)scale(0.1 -0.1)\">\n",
       "       <use xlink:href=\"#DejaVuSans-48\"/>\n",
       "       <use x=\"63.623047\" xlink:href=\"#DejaVuSans-46\"/>\n",
       "       <use x=\"95.410156\" xlink:href=\"#DejaVuSans-53\"/>\n",
       "      </g>\n",
       "     </g>\n",
       "    </g>\n",
       "    <g id=\"ytick_12\">\n",
       "     <g id=\"line2d_73\">\n",
       "      <path clip-path=\"url(#p374f1010ef)\" d=\"M 30.103125 444.156058 \n",
       "L 705.503125 444.156058 \n",
       "\" style=\"fill:none;stroke:#b0b0b0;stroke-linecap:square;stroke-width:0.8;\"/>\n",
       "     </g>\n",
       "     <g id=\"line2d_74\">\n",
       "      <g>\n",
       "       <use style=\"stroke:#000000;stroke-width:0.8;\" x=\"30.103125\" xlink:href=\"#meaf6d6bac5\" y=\"444.156058\"/>\n",
       "      </g>\n",
       "     </g>\n",
       "     <g id=\"text_37\">\n",
       "      <!-- 0.6 -->\n",
       "      <g transform=\"translate(7.2 447.955277)scale(0.1 -0.1)\">\n",
       "       <use xlink:href=\"#DejaVuSans-48\"/>\n",
       "       <use x=\"63.623047\" xlink:href=\"#DejaVuSans-46\"/>\n",
       "       <use x=\"95.410156\" xlink:href=\"#DejaVuSans-54\"/>\n",
       "      </g>\n",
       "     </g>\n",
       "    </g>\n",
       "    <g id=\"ytick_13\">\n",
       "     <g id=\"line2d_75\">\n",
       "      <path clip-path=\"url(#p374f1010ef)\" d=\"M 30.103125 387.746503 \n",
       "L 705.503125 387.746503 \n",
       "\" style=\"fill:none;stroke:#b0b0b0;stroke-linecap:square;stroke-width:0.8;\"/>\n",
       "     </g>\n",
       "     <g id=\"line2d_76\">\n",
       "      <g>\n",
       "       <use style=\"stroke:#000000;stroke-width:0.8;\" x=\"30.103125\" xlink:href=\"#meaf6d6bac5\" y=\"387.746503\"/>\n",
       "      </g>\n",
       "     </g>\n",
       "     <g id=\"text_38\">\n",
       "      <!-- 0.7 -->\n",
       "      <defs>\n",
       "       <path d=\"M 8.203125 72.90625 \n",
       "L 55.078125 72.90625 \n",
       "L 55.078125 68.703125 \n",
       "L 28.609375 0 \n",
       "L 18.3125 0 \n",
       "L 43.21875 64.59375 \n",
       "L 8.203125 64.59375 \n",
       "z\n",
       "\" id=\"DejaVuSans-55\"/>\n",
       "      </defs>\n",
       "      <g transform=\"translate(7.2 391.545722)scale(0.1 -0.1)\">\n",
       "       <use xlink:href=\"#DejaVuSans-48\"/>\n",
       "       <use x=\"63.623047\" xlink:href=\"#DejaVuSans-46\"/>\n",
       "       <use x=\"95.410156\" xlink:href=\"#DejaVuSans-55\"/>\n",
       "      </g>\n",
       "     </g>\n",
       "    </g>\n",
       "   </g>\n",
       "   <g id=\"line2d_77\">\n",
       "    <path clip-path=\"url(#p374f1010ef)\" d=\"M 60.803125 629.991695 \n",
       "L 104.660268 595.288537 \n",
       "L 148.517411 584.864051 \n",
       "L 192.374554 585.811731 \n",
       "L 236.231696 564.376101 \n",
       "L 280.088839 559.570007 \n",
       "L 323.945982 556.749529 \n",
       "L 367.803125 560.856144 \n",
       "L 411.660268 558.780273 \n",
       "L 455.517411 559.051039 \n",
       "L 499.374554 567.850929 \n",
       "L 543.231696 570.671407 \n",
       "L 587.088839 569.362705 \n",
       "L 630.945982 574.010853 \n",
       "L 674.803125 572.611896 \n",
       "\" style=\"fill:none;stroke:#ff0000;stroke-dasharray:5.55,2.4;stroke-dashoffset:0;stroke-width:1.5;\"/>\n",
       "   </g>\n",
       "   <g id=\"line2d_78\">\n",
       "    <path clip-path=\"url(#p374f1010ef)\" d=\"M 60.803125 629.924003 \n",
       "L 104.660268 597.206461 \n",
       "L 148.517411 575.861086 \n",
       "L 192.374554 568.099131 \n",
       "L 236.231696 542.895342 \n",
       "L 280.088839 532.877005 \n",
       "L 323.945982 519.902808 \n",
       "L 367.803125 508.666024 \n",
       "L 411.660268 494.811838 \n",
       "L 455.517411 481.002779 \n",
       "L 499.374554 475.835664 \n",
       "L 543.231696 450.158034 \n",
       "L 587.088839 429.602393 \n",
       "L 630.945982 403.699125 \n",
       "L 674.803125 390.409034 \n",
       "\" style=\"fill:none;stroke:#ff0000;stroke-linecap:square;stroke-width:1.5;\"/>\n",
       "   </g>\n",
       "   <g id=\"line2d_79\">\n",
       "    <path clip-path=\"url(#p374f1010ef)\" d=\"M 60.803125 646.711487 \n",
       "L 104.660268 597.364408 \n",
       "L 148.517411 582.472286 \n",
       "L 192.374554 579.110276 \n",
       "L 236.231696 574.326746 \n",
       "L 280.088839 567.760674 \n",
       "L 323.945982 562.728942 \n",
       "L 367.803125 563.044835 \n",
       "L 411.660268 554.966987 \n",
       "L 455.517411 558.035667 \n",
       "L 499.374554 556.704401 \n",
       "L 543.231696 552.80086 \n",
       "L 587.088839 552.80086 \n",
       "L 630.945982 554.132126 \n",
       "L 674.803125 554.673657 \n",
       "\" style=\"fill:none;stroke:#0000ff;stroke-dasharray:5.55,2.4;stroke-dashoffset:0;stroke-width:1.5;\"/>\n",
       "   </g>\n",
       "   <g id=\"line2d_80\">\n",
       "    <path clip-path=\"url(#p374f1010ef)\" d=\"M 60.803125 645.086891 \n",
       "L 104.660268 598.605418 \n",
       "L 148.517411 584.525594 \n",
       "L 192.374554 573.379066 \n",
       "L 236.231696 568.550408 \n",
       "L 280.088839 552.936243 \n",
       "L 323.945982 546.279916 \n",
       "L 367.803125 540.999981 \n",
       "L 411.660268 533.84725 \n",
       "L 455.517411 527.958092 \n",
       "L 499.374554 520.91818 \n",
       "L 543.231696 518.774617 \n",
       "L 587.088839 514.30698 \n",
       "L 630.945982 506.432206 \n",
       "L 674.803125 503.38609 \n",
       "\" style=\"fill:none;stroke:#0000ff;stroke-linecap:square;stroke-width:1.5;\"/>\n",
       "   </g>\n",
       "   <g id=\"line2d_81\">\n",
       "    <path clip-path=\"url(#p374f1010ef)\" d=\"M 60.803125 660.227216 \n",
       "L 104.660268 623.109729 \n",
       "L 148.517411 586.894795 \n",
       "L 192.374554 579.60668 \n",
       "L 236.231696 576.808766 \n",
       "L 280.088839 571.822162 \n",
       "L 323.945982 571.619087 \n",
       "L 367.803125 565.368909 \n",
       "L 411.660268 568.843737 \n",
       "L 455.517411 559.795645 \n",
       "L 499.374554 561.826389 \n",
       "L 543.231696 557.516699 \n",
       "L 587.088839 553.974179 \n",
       "L 630.945982 553.590594 \n",
       "L 674.803125 553.229573 \n",
       "\" style=\"fill:none;stroke:#ffc0cb;stroke-dasharray:5.55,2.4;stroke-dashoffset:0;stroke-width:1.5;\"/>\n",
       "   </g>\n",
       "   <g id=\"line2d_82\">\n",
       "    <path clip-path=\"url(#p374f1010ef)\" d=\"M 60.803125 658.489802 \n",
       "L 104.660268 622.951782 \n",
       "L 148.517411 587.639401 \n",
       "L 192.374554 576.899022 \n",
       "L 236.231696 573.175991 \n",
       "L 280.088839 565.053015 \n",
       "L 323.945982 559.051039 \n",
       "L 367.803125 550.657297 \n",
       "L 411.660268 548.987574 \n",
       "L 455.517411 540.34563 \n",
       "L 499.374554 537.953865 \n",
       "L 543.231696 532.899569 \n",
       "L 587.088839 529.357049 \n",
       "L 630.945982 523.151998 \n",
       "L 674.803125 519.812552 \n",
       "\" style=\"fill:none;stroke:#ffc0cb;stroke-linecap:square;stroke-width:1.5;\"/>\n",
       "   </g>\n",
       "   <g id=\"patch_9\">\n",
       "    <path d=\"M 30.103125 673.718125 \n",
       "L 30.103125 376.918125 \n",
       "\" style=\"fill:none;stroke:#000000;stroke-linecap:square;stroke-linejoin:miter;stroke-width:0.8;\"/>\n",
       "   </g>\n",
       "   <g id=\"patch_10\">\n",
       "    <path d=\"M 705.503125 673.718125 \n",
       "L 705.503125 376.918125 \n",
       "\" style=\"fill:none;stroke:#000000;stroke-linecap:square;stroke-linejoin:miter;stroke-width:0.8;\"/>\n",
       "   </g>\n",
       "   <g id=\"patch_11\">\n",
       "    <path d=\"M 30.103125 673.718125 \n",
       "L 705.503125 673.718125 \n",
       "\" style=\"fill:none;stroke:#000000;stroke-linecap:square;stroke-linejoin:miter;stroke-width:0.8;\"/>\n",
       "   </g>\n",
       "   <g id=\"patch_12\">\n",
       "    <path d=\"M 30.103125 376.918125 \n",
       "L 705.503125 376.918125 \n",
       "\" style=\"fill:none;stroke:#000000;stroke-linecap:square;stroke-linejoin:miter;stroke-width:0.8;\"/>\n",
       "   </g>\n",
       "   <g id=\"text_39\">\n",
       "    <!-- Accuracy -->\n",
       "    <defs>\n",
       "     <path d=\"M 34.1875 63.1875 \n",
       "L 20.796875 26.90625 \n",
       "L 47.609375 26.90625 \n",
       "z\n",
       "M 28.609375 72.90625 \n",
       "L 39.796875 72.90625 \n",
       "L 67.578125 0 \n",
       "L 57.328125 0 \n",
       "L 50.6875 18.703125 \n",
       "L 17.828125 18.703125 \n",
       "L 11.1875 0 \n",
       "L 0.78125 0 \n",
       "z\n",
       "\" id=\"DejaVuSans-65\"/>\n",
       "    </defs>\n",
       "    <g transform=\"translate(340.409375 370.918125)scale(0.12 -0.12)\">\n",
       "     <use xlink:href=\"#DejaVuSans-65\"/>\n",
       "     <use x=\"66.658203\" xlink:href=\"#DejaVuSans-99\"/>\n",
       "     <use x=\"121.638672\" xlink:href=\"#DejaVuSans-99\"/>\n",
       "     <use x=\"176.619141\" xlink:href=\"#DejaVuSans-117\"/>\n",
       "     <use x=\"239.998047\" xlink:href=\"#DejaVuSans-114\"/>\n",
       "     <use x=\"281.111328\" xlink:href=\"#DejaVuSans-97\"/>\n",
       "     <use x=\"342.390625\" xlink:href=\"#DejaVuSans-99\"/>\n",
       "     <use x=\"397.371094\" xlink:href=\"#DejaVuSans-121\"/>\n",
       "    </g>\n",
       "   </g>\n",
       "   <g id=\"legend_2\">\n",
       "    <g id=\"patch_13\">\n",
       "     <path d=\"M 37.103125 472.986875 \n",
       "L 204.040625 472.986875 \n",
       "Q 206.040625 472.986875 206.040625 470.986875 \n",
       "L 206.040625 383.918125 \n",
       "Q 206.040625 381.918125 204.040625 381.918125 \n",
       "L 37.103125 381.918125 \n",
       "Q 35.103125 381.918125 35.103125 383.918125 \n",
       "L 35.103125 470.986875 \n",
       "Q 35.103125 472.986875 37.103125 472.986875 \n",
       "z\n",
       "\" style=\"fill:#ffffff;opacity:0.8;stroke:#cccccc;stroke-linejoin:miter;\"/>\n",
       "    </g>\n",
       "    <g id=\"line2d_83\">\n",
       "     <path d=\"M 39.103125 390.016562 \n",
       "L 59.103125 390.016562 \n",
       "\" style=\"fill:none;stroke:#ff0000;stroke-dasharray:5.55,2.4;stroke-dashoffset:0;stroke-width:1.5;\"/>\n",
       "    </g>\n",
       "    <g id=\"line2d_84\"/>\n",
       "    <g id=\"text_40\">\n",
       "     <!-- Var test -->\n",
       "     <g transform=\"translate(67.103125 393.516562)scale(0.1 -0.1)\">\n",
       "      <use xlink:href=\"#DejaVuSans-86\"/>\n",
       "      <use x=\"60.658203\" xlink:href=\"#DejaVuSans-97\"/>\n",
       "      <use x=\"121.9375\" xlink:href=\"#DejaVuSans-114\"/>\n",
       "      <use x=\"163.050781\" xlink:href=\"#DejaVuSans-32\"/>\n",
       "      <use x=\"194.837891\" xlink:href=\"#DejaVuSans-116\"/>\n",
       "      <use x=\"234.046875\" xlink:href=\"#DejaVuSans-101\"/>\n",
       "      <use x=\"295.570312\" xlink:href=\"#DejaVuSans-115\"/>\n",
       "      <use x=\"347.669922\" xlink:href=\"#DejaVuSans-116\"/>\n",
       "     </g>\n",
       "    </g>\n",
       "    <g id=\"line2d_85\">\n",
       "     <path d=\"M 39.103125 404.694687 \n",
       "L 59.103125 404.694687 \n",
       "\" style=\"fill:none;stroke:#ff0000;stroke-linecap:square;stroke-width:1.5;\"/>\n",
       "    </g>\n",
       "    <g id=\"line2d_86\"/>\n",
       "    <g id=\"text_41\">\n",
       "     <!-- Var train -->\n",
       "     <g transform=\"translate(67.103125 408.194687)scale(0.1 -0.1)\">\n",
       "      <use xlink:href=\"#DejaVuSans-86\"/>\n",
       "      <use x=\"60.658203\" xlink:href=\"#DejaVuSans-97\"/>\n",
       "      <use x=\"121.9375\" xlink:href=\"#DejaVuSans-114\"/>\n",
       "      <use x=\"163.050781\" xlink:href=\"#DejaVuSans-32\"/>\n",
       "      <use x=\"194.837891\" xlink:href=\"#DejaVuSans-116\"/>\n",
       "      <use x=\"234.046875\" xlink:href=\"#DejaVuSans-114\"/>\n",
       "      <use x=\"275.160156\" xlink:href=\"#DejaVuSans-97\"/>\n",
       "      <use x=\"336.439453\" xlink:href=\"#DejaVuSans-105\"/>\n",
       "      <use x=\"364.222656\" xlink:href=\"#DejaVuSans-110\"/>\n",
       "     </g>\n",
       "    </g>\n",
       "    <g id=\"line2d_87\">\n",
       "     <path d=\"M 39.103125 419.372812 \n",
       "L 59.103125 419.372812 \n",
       "\" style=\"fill:none;stroke:#0000ff;stroke-dasharray:5.55,2.4;stroke-dashoffset:0;stroke-width:1.5;\"/>\n",
       "    </g>\n",
       "    <g id=\"line2d_88\"/>\n",
       "    <g id=\"text_42\">\n",
       "     <!-- Var with dropout test -->\n",
       "     <g transform=\"translate(67.103125 422.872812)scale(0.1 -0.1)\">\n",
       "      <use xlink:href=\"#DejaVuSans-86\"/>\n",
       "      <use x=\"60.658203\" xlink:href=\"#DejaVuSans-97\"/>\n",
       "      <use x=\"121.9375\" xlink:href=\"#DejaVuSans-114\"/>\n",
       "      <use x=\"163.050781\" xlink:href=\"#DejaVuSans-32\"/>\n",
       "      <use x=\"194.837891\" xlink:href=\"#DejaVuSans-119\"/>\n",
       "      <use x=\"276.625\" xlink:href=\"#DejaVuSans-105\"/>\n",
       "      <use x=\"304.408203\" xlink:href=\"#DejaVuSans-116\"/>\n",
       "      <use x=\"343.617188\" xlink:href=\"#DejaVuSans-104\"/>\n",
       "      <use x=\"406.996094\" xlink:href=\"#DejaVuSans-32\"/>\n",
       "      <use x=\"438.783203\" xlink:href=\"#DejaVuSans-100\"/>\n",
       "      <use x=\"502.259766\" xlink:href=\"#DejaVuSans-114\"/>\n",
       "      <use x=\"541.123047\" xlink:href=\"#DejaVuSans-111\"/>\n",
       "      <use x=\"602.304688\" xlink:href=\"#DejaVuSans-112\"/>\n",
       "      <use x=\"665.78125\" xlink:href=\"#DejaVuSans-111\"/>\n",
       "      <use x=\"726.962891\" xlink:href=\"#DejaVuSans-117\"/>\n",
       "      <use x=\"790.341797\" xlink:href=\"#DejaVuSans-116\"/>\n",
       "      <use x=\"829.550781\" xlink:href=\"#DejaVuSans-32\"/>\n",
       "      <use x=\"861.337891\" xlink:href=\"#DejaVuSans-116\"/>\n",
       "      <use x=\"900.546875\" xlink:href=\"#DejaVuSans-101\"/>\n",
       "      <use x=\"962.070312\" xlink:href=\"#DejaVuSans-115\"/>\n",
       "      <use x=\"1014.169922\" xlink:href=\"#DejaVuSans-116\"/>\n",
       "     </g>\n",
       "    </g>\n",
       "    <g id=\"line2d_89\">\n",
       "     <path d=\"M 39.103125 434.050937 \n",
       "L 59.103125 434.050937 \n",
       "\" style=\"fill:none;stroke:#0000ff;stroke-linecap:square;stroke-width:1.5;\"/>\n",
       "    </g>\n",
       "    <g id=\"line2d_90\"/>\n",
       "    <g id=\"text_43\">\n",
       "     <!-- Var with dropout train -->\n",
       "     <g transform=\"translate(67.103125 437.550937)scale(0.1 -0.1)\">\n",
       "      <use xlink:href=\"#DejaVuSans-86\"/>\n",
       "      <use x=\"60.658203\" xlink:href=\"#DejaVuSans-97\"/>\n",
       "      <use x=\"121.9375\" xlink:href=\"#DejaVuSans-114\"/>\n",
       "      <use x=\"163.050781\" xlink:href=\"#DejaVuSans-32\"/>\n",
       "      <use x=\"194.837891\" xlink:href=\"#DejaVuSans-119\"/>\n",
       "      <use x=\"276.625\" xlink:href=\"#DejaVuSans-105\"/>\n",
       "      <use x=\"304.408203\" xlink:href=\"#DejaVuSans-116\"/>\n",
       "      <use x=\"343.617188\" xlink:href=\"#DejaVuSans-104\"/>\n",
       "      <use x=\"406.996094\" xlink:href=\"#DejaVuSans-32\"/>\n",
       "      <use x=\"438.783203\" xlink:href=\"#DejaVuSans-100\"/>\n",
       "      <use x=\"502.259766\" xlink:href=\"#DejaVuSans-114\"/>\n",
       "      <use x=\"541.123047\" xlink:href=\"#DejaVuSans-111\"/>\n",
       "      <use x=\"602.304688\" xlink:href=\"#DejaVuSans-112\"/>\n",
       "      <use x=\"665.78125\" xlink:href=\"#DejaVuSans-111\"/>\n",
       "      <use x=\"726.962891\" xlink:href=\"#DejaVuSans-117\"/>\n",
       "      <use x=\"790.341797\" xlink:href=\"#DejaVuSans-116\"/>\n",
       "      <use x=\"829.550781\" xlink:href=\"#DejaVuSans-32\"/>\n",
       "      <use x=\"861.337891\" xlink:href=\"#DejaVuSans-116\"/>\n",
       "      <use x=\"900.546875\" xlink:href=\"#DejaVuSans-114\"/>\n",
       "      <use x=\"941.660156\" xlink:href=\"#DejaVuSans-97\"/>\n",
       "      <use x=\"1002.939453\" xlink:href=\"#DejaVuSans-105\"/>\n",
       "      <use x=\"1030.722656\" xlink:href=\"#DejaVuSans-110\"/>\n",
       "     </g>\n",
       "    </g>\n",
       "    <g id=\"line2d_91\">\n",
       "     <path d=\"M 39.103125 448.729062 \n",
       "L 59.103125 448.729062 \n",
       "\" style=\"fill:none;stroke:#ffc0cb;stroke-dasharray:5.55,2.4;stroke-dashoffset:0;stroke-width:1.5;\"/>\n",
       "    </g>\n",
       "    <g id=\"line2d_92\"/>\n",
       "    <g id=\"text_44\">\n",
       "     <!-- Zoneout with dropout test -->\n",
       "     <g transform=\"translate(67.103125 452.229062)scale(0.1 -0.1)\">\n",
       "      <use xlink:href=\"#DejaVuSans-90\"/>\n",
       "      <use x=\"68.505859\" xlink:href=\"#DejaVuSans-111\"/>\n",
       "      <use x=\"129.6875\" xlink:href=\"#DejaVuSans-110\"/>\n",
       "      <use x=\"193.066406\" xlink:href=\"#DejaVuSans-101\"/>\n",
       "      <use x=\"254.589844\" xlink:href=\"#DejaVuSans-111\"/>\n",
       "      <use x=\"315.771484\" xlink:href=\"#DejaVuSans-117\"/>\n",
       "      <use x=\"379.150391\" xlink:href=\"#DejaVuSans-116\"/>\n",
       "      <use x=\"418.359375\" xlink:href=\"#DejaVuSans-32\"/>\n",
       "      <use x=\"450.146484\" xlink:href=\"#DejaVuSans-119\"/>\n",
       "      <use x=\"531.933594\" xlink:href=\"#DejaVuSans-105\"/>\n",
       "      <use x=\"559.716797\" xlink:href=\"#DejaVuSans-116\"/>\n",
       "      <use x=\"598.925781\" xlink:href=\"#DejaVuSans-104\"/>\n",
       "      <use x=\"662.304688\" xlink:href=\"#DejaVuSans-32\"/>\n",
       "      <use x=\"694.091797\" xlink:href=\"#DejaVuSans-100\"/>\n",
       "      <use x=\"757.568359\" xlink:href=\"#DejaVuSans-114\"/>\n",
       "      <use x=\"796.431641\" xlink:href=\"#DejaVuSans-111\"/>\n",
       "      <use x=\"857.613281\" xlink:href=\"#DejaVuSans-112\"/>\n",
       "      <use x=\"921.089844\" xlink:href=\"#DejaVuSans-111\"/>\n",
       "      <use x=\"982.271484\" xlink:href=\"#DejaVuSans-117\"/>\n",
       "      <use x=\"1045.650391\" xlink:href=\"#DejaVuSans-116\"/>\n",
       "      <use x=\"1084.859375\" xlink:href=\"#DejaVuSans-32\"/>\n",
       "      <use x=\"1116.646484\" xlink:href=\"#DejaVuSans-116\"/>\n",
       "      <use x=\"1155.855469\" xlink:href=\"#DejaVuSans-101\"/>\n",
       "      <use x=\"1217.378906\" xlink:href=\"#DejaVuSans-115\"/>\n",
       "      <use x=\"1269.478516\" xlink:href=\"#DejaVuSans-116\"/>\n",
       "     </g>\n",
       "    </g>\n",
       "    <g id=\"line2d_93\">\n",
       "     <path d=\"M 39.103125 463.407187 \n",
       "L 59.103125 463.407187 \n",
       "\" style=\"fill:none;stroke:#ffc0cb;stroke-linecap:square;stroke-width:1.5;\"/>\n",
       "    </g>\n",
       "    <g id=\"line2d_94\"/>\n",
       "    <g id=\"text_45\">\n",
       "     <!-- Zoneout with dropout train -->\n",
       "     <g transform=\"translate(67.103125 466.907187)scale(0.1 -0.1)\">\n",
       "      <use xlink:href=\"#DejaVuSans-90\"/>\n",
       "      <use x=\"68.505859\" xlink:href=\"#DejaVuSans-111\"/>\n",
       "      <use x=\"129.6875\" xlink:href=\"#DejaVuSans-110\"/>\n",
       "      <use x=\"193.066406\" xlink:href=\"#DejaVuSans-101\"/>\n",
       "      <use x=\"254.589844\" xlink:href=\"#DejaVuSans-111\"/>\n",
       "      <use x=\"315.771484\" xlink:href=\"#DejaVuSans-117\"/>\n",
       "      <use x=\"379.150391\" xlink:href=\"#DejaVuSans-116\"/>\n",
       "      <use x=\"418.359375\" xlink:href=\"#DejaVuSans-32\"/>\n",
       "      <use x=\"450.146484\" xlink:href=\"#DejaVuSans-119\"/>\n",
       "      <use x=\"531.933594\" xlink:href=\"#DejaVuSans-105\"/>\n",
       "      <use x=\"559.716797\" xlink:href=\"#DejaVuSans-116\"/>\n",
       "      <use x=\"598.925781\" xlink:href=\"#DejaVuSans-104\"/>\n",
       "      <use x=\"662.304688\" xlink:href=\"#DejaVuSans-32\"/>\n",
       "      <use x=\"694.091797\" xlink:href=\"#DejaVuSans-100\"/>\n",
       "      <use x=\"757.568359\" xlink:href=\"#DejaVuSans-114\"/>\n",
       "      <use x=\"796.431641\" xlink:href=\"#DejaVuSans-111\"/>\n",
       "      <use x=\"857.613281\" xlink:href=\"#DejaVuSans-112\"/>\n",
       "      <use x=\"921.089844\" xlink:href=\"#DejaVuSans-111\"/>\n",
       "      <use x=\"982.271484\" xlink:href=\"#DejaVuSans-117\"/>\n",
       "      <use x=\"1045.650391\" xlink:href=\"#DejaVuSans-116\"/>\n",
       "      <use x=\"1084.859375\" xlink:href=\"#DejaVuSans-32\"/>\n",
       "      <use x=\"1116.646484\" xlink:href=\"#DejaVuSans-116\"/>\n",
       "      <use x=\"1155.855469\" xlink:href=\"#DejaVuSans-114\"/>\n",
       "      <use x=\"1196.96875\" xlink:href=\"#DejaVuSans-97\"/>\n",
       "      <use x=\"1258.248047\" xlink:href=\"#DejaVuSans-105\"/>\n",
       "      <use x=\"1286.03125\" xlink:href=\"#DejaVuSans-110\"/>\n",
       "     </g>\n",
       "    </g>\n",
       "   </g>\n",
       "  </g>\n",
       " </g>\n",
       " <defs>\n",
       "  <clipPath id=\"p4a1d139c6a\">\n",
       "   <rect height=\"296.8\" width=\"675.4\" x=\"30.103125\" y=\"22.318125\"/>\n",
       "  </clipPath>\n",
       "  <clipPath id=\"p374f1010ef\">\n",
       "   <rect height=\"296.8\" width=\"675.4\" x=\"30.103125\" y=\"376.918125\"/>\n",
       "  </clipPath>\n",
       " </defs>\n",
       "</svg>\n"
      ],
      "text/plain": [
       "<Figure size 720x720 with 2 Axes>"
      ]
     },
     "metadata": {
      "needs_background": "light",
      "tags": []
     },
     "output_type": "display_data"
    }
   ],
   "source": [
    "fig, axes = plt.subplots(2, 1, figsize=(10, 10))\n",
    "\n",
    "# YOUR CODE HERE\n",
    "\n",
    "axes[0].plot(y, test_losses_pure_2, linestyle = '--', color = 'red', label = 'Var test' )\n",
    "axes[0].plot(y, train_losses_pure_2, linestyle = '-', color = 'red', label = 'Var train')\n",
    "axes[0].plot(y, test_losses_pure_3, linestyle = '--', color = 'blue', label = 'Var with dropout test' )\n",
    "axes[0].plot(y, train_losses_pure_3, linestyle = '-', color = 'blue', label = 'Var with dropout train')\n",
    "axes[0].plot(y, test_losses_pure_8, linestyle = '--', color = 'pink', label = 'Zoneout with dropout test' )\n",
    "axes[0].plot(y, train_losses_pure_8, linestyle = '-', color = 'pink', label = 'Zoneout with dropout train')\n",
    "\n",
    "\n",
    "axes[0].legend()\n",
    "axes[0].grid(True)\n",
    "axes[0].set_xlabel('Epoch')\n",
    "axes[0].set_title('CrossEntropy Loss')\n",
    "\n",
    "\n",
    "axes[1].plot(y, test_accuracies_pure_2, linestyle = '--', color = 'red', label = 'Var test' )\n",
    "axes[1].plot(y, train_accuracies_pure_2, linestyle = '-', color = 'red', label = 'Var train' )\n",
    "axes[1].plot(y, test_accuracies_pure_3, linestyle = '--', color = 'blue', label = 'Var with dropout test' )\n",
    "axes[1].plot(y, train_accuracies_pure_3, linestyle = '-', color = 'blue', label = 'Var with dropout train')\n",
    "axes[1].plot(y, test_accuracies_pure_8, linestyle = '--', color = 'pink', label = 'Zoneout with dropout test' )\n",
    "axes[1].plot(y, train_accuracies_pure_8, linestyle = '-', color = 'pink', label = 'Zoneout with dropout train')\n",
    "\n",
    "axes[1].legend()\n",
    "axes[1].grid(True)\n",
    "axes[1].set_xlabel('Epoch')\n",
    "axes[1].set_title('Accuracy')\n",
    "\n",
    "fig.tight_layout()\n",
    "plt.show()"
   ]
  },
  {
   "cell_type": "markdown",
   "metadata": {
    "id": "n_H81xLumTWq"
   },
   "source": [
    "Идея использованная в Zoneout действительно рабочая и дала неплохие результаты по сравнению с остальными моделями, однако работал дольше, 48 минут"
   ]
  },
  {
   "cell_type": "markdown",
   "metadata": {
    "id": "qPaim3fryYtl"
   },
   "source": [
    "# Часть 2. Language Modeling с помощью LSTM. (3 балла)"
   ]
  },
  {
   "cell_type": "markdown",
   "metadata": {
    "id": "-r94GrsVyYtl"
   },
   "source": [
    "Во второй части мы попробуем обучить модель для генерации отзывов по их началу."
   ]
  },
  {
   "cell_type": "markdown",
   "metadata": {
    "id": "KhUhqGikyYtl"
   },
   "source": [
    "Концептуально модель будет выглядеть следующим образом:\n",
    "    \n",
    "![image info](https://blog.feedly.com/wp-content/uploads/2019/03/Screen-Shot-2019-03-06-at-12.08.35-PM.png)"
   ]
  },
  {
   "cell_type": "markdown",
   "metadata": {
    "id": "MGY1vw85yYtm"
   },
   "source": [
    "В процессе обучения будем тренировать сеть предсказывать вероятность следующего символа при условии всех предыдущих. Эту вероятность можно моделировать с помощью скрытого состояния $h^{(t)}$ пропуская его через линейный слой с выходной размерностью равной размерности словаря:\n",
    "$$\n",
    "p(x^{t}|x^{t-1}, ..., x^{1}) = SoftMax(Linear(h^{(t)}))\n",
    "$$"
   ]
  },
  {
   "cell_type": "markdown",
   "metadata": {
    "id": "XCmwwqWRyYtm"
   },
   "source": [
    "Обратите внимание, что для вычисления $p(x^{t}|x^{t-1}, ..., x^{1})$ для всех моментов времени достаточно сделать один проход по RNN, а затем применить линейное преобразование ко всем скрытым состояниям."
   ]
  },
  {
   "cell_type": "markdown",
   "metadata": {
    "id": "AiGjFLvkyYtm"
   },
   "source": [
    "В качестве функции потерь необходимо использовать `CrossEntropy`."
   ]
  },
  {
   "cell_type": "markdown",
   "metadata": {
    "id": "bfqhz77TyYtm"
   },
   "source": [
    "Рассмотрим другой важный момент. Для того, чтобы решить данную задачу, модель должна уметь определять момент начала генерации предложения и оповещать о завершении генерации -- конце предложения. Для этого добавим в словарь вспомогательные токены `<sos>`, `<eos>`. Добавив `<sos>` в начало каждого предложения и `<eos>` в конец.\n",
    "\n",
    "Модель сможет начинать генерацию как только ей будет передан токен `<sos>` и заканчивать генерацию, как только на очередном месте самым вероятным токеном оказывается `<eos>`."
   ]
  },
  {
   "cell_type": "markdown",
   "metadata": {
    "id": "5Yo6kAidyYtm"
   },
   "source": [
    "Для решения этой задачи мы воспользуемся уже реализованной LSTM с дропаутом `FastRNNLayer` и классом `RNNClassifier`, то есть архитектура сети принципиально не поменяется. "
   ]
  },
  {
   "cell_type": "markdown",
   "metadata": {
    "id": "oBu7xXyVyYtm"
   },
   "source": [
    "## Реализация модели и цикла обучения (1 балл)"
   ]
  },
  {
   "cell_type": "markdown",
   "metadata": {
    "id": "_2cMATCcyYtm"
   },
   "source": [
    "**Не используйте циклы в `RNNLM`, `LMCrossEntropyLoss`, `LMAccuracy`**"
   ]
  },
  {
   "cell_type": "code",
   "execution_count": 478,
   "metadata": {
    "id": "fgoBTmfkyYtn"
   },
   "outputs": [],
   "source": [
    "class RNNLM(RNNClassifier):\n",
    "    def __init__(\n",
    "        self, embedding_dim, hidden_dim, vocab, dropout=0.5, layers_dropout=0.5, num_layers=1\n",
    "    ):\n",
    "        super().__init__(\n",
    "            embedding_dim=embedding_dim, hidden_dim=hidden_dim, output_size=len(vocab), vocab=vocab,\n",
    "            rec_layer=FastRNNLayer, dropout=dropout, layers_dropout=layers_dropout, num_layers=num_layers\n",
    "        )\n",
    "    \n",
    "    def forward(self, tokens, tokens_lens):\n",
    "        \"\"\"\n",
    "        :param torch.tensor(dtype=torch.long) tokens: Batch of texts represented with tokens. Shape: [T, B]\n",
    "        :param torch.tensor(dtype=torch.long) tokens_lens: Number of non-padding tokens for each object in batch. Shape: [B]\n",
    "        :return torch.tensor: Distribution of next token for each time step. Shape: [T, B, V], V -- size of vocabulary\n",
    "        \"\"\"\n",
    "        # Make embeddings for all tokens\n",
    "        # YOUR CODE HERE\n",
    "        emb = self.word_embeddings(tokens)\n",
    "        \n",
    "        # Forward pass embeddings through network\n",
    "        # YOUR CODE HERE\n",
    "        res, (a, b) = self.rnn(emb)\n",
    "        # Take all hidden states from the last layer of LSTM for each step and perform linear transformation\n",
    "        # YOUR CODE HERE\n",
    "        res = self.output(res)\n",
    "        return res"
   ]
  },
  {
   "cell_type": "markdown",
   "metadata": {
    "id": "mj9r6ilAyYtn"
   },
   "source": [
    "Реализуем функцию потерь для данной задачи. \n",
    "\n",
    "Моменты на которые нужно обратить внимание:\n",
    "1. Распределение вероятности следующего токена для последнего токена в последовательности не участвует в подсчёте функции потерь.\n",
    "2. Необходимо учитывать, что в одном батче могут быть тексты разной длины."
   ]
  },
  {
   "cell_type": "markdown",
   "metadata": {
    "id": "x1MigdM-yYtn"
   },
   "source": [
    "Для решения второй проблемы можно воспользоваться функцией `torch.nn.utils.rnn.pack_padded_sequence`. \n",
    "\n",
    "Принимая на вход батч тензоров и длину каждого тензора без учёта паддинга эта функция позволяет получить все элементы в тензорах, которые не относятся к паддингу в виде плоского массива:"
   ]
  },
  {
   "cell_type": "code",
   "execution_count": 479,
   "metadata": {
    "id": "EBRzY8RnyYtn"
   },
   "outputs": [],
   "source": [
    "padded_tensors = torch.tensor([\n",
    "    [[1, 11, 111], [2, 22, 222], [3, 33, 333]],\n",
    "    [[4, 44, 444], [5, 55, 555], [6, 66, 666]],\n",
    "    [[7, 77, 777], [0, 0, 0], [8, 88, 888]],\n",
    "    [[9, 99, 999], [0, 0, 0], [0, 0, 0]]\n",
    "])\n",
    "tensors_lens = torch.tensor([4, 2, 3])"
   ]
  },
  {
   "cell_type": "markdown",
   "metadata": {
    "id": "WNTqEYwbyYtn"
   },
   "source": [
    "Обратите внимание, что `torch.nn.utils.rnn.pack_padded_sequence` автоматически переупорядочивает тензоры в батче по убыванию их длины."
   ]
  },
  {
   "cell_type": "code",
   "execution_count": 480,
   "metadata": {
    "colab": {
     "base_uri": "https://localhost:8080/"
    },
    "id": "kx_HEfTZyYtn",
    "outputId": "f5af33d2-626b-49d3-ca15-d69e92d76e0c"
   },
   "outputs": [
    {
     "data": {
      "text/plain": [
       "PackedSequence(data=tensor([[  1,  11, 111],\n",
       "        [  3,  33, 333],\n",
       "        [  2,  22, 222],\n",
       "        [  4,  44, 444],\n",
       "        [  6,  66, 666],\n",
       "        [  5,  55, 555],\n",
       "        [  7,  77, 777],\n",
       "        [  8,  88, 888],\n",
       "        [  9,  99, 999]]), batch_sizes=tensor([3, 3, 2, 1]), sorted_indices=tensor([0, 2, 1]), unsorted_indices=tensor([0, 2, 1]))"
      ]
     },
     "execution_count": 480,
     "metadata": {
      "tags": []
     },
     "output_type": "execute_result"
    }
   ],
   "source": [
    "torch.nn.utils.rnn.pack_padded_sequence(padded_tensors, tensors_lens, batch_first=False, enforce_sorted=False)"
   ]
  },
  {
   "cell_type": "code",
   "execution_count": 459,
   "metadata": {
    "id": "OJxN_yDdyYto"
   },
   "outputs": [],
   "source": [
    "class LMCrossEntropyLoss(torch.nn.CrossEntropyLoss):\n",
    "    def __init__(self, *args, **kwargs):\n",
    "        super().__init__(*args, **kwargs)\n",
    "        \n",
    "    def forward(self, outputs, tokens, tokens_lens):\n",
    "        \"\"\"\n",
    "        :param torch.tensor outputs: Output from RNNLM.forward. Shape: [T, B, V]\n",
    "        :param torch.tensor tokens: Batch of tokens. Shape: [T, B]\n",
    "        :param torch.tensor tokens_lens: Length of each sequence in batch\n",
    "        :return torch.tensor: CrossEntropyLoss between corresponding logits and tokens\n",
    "        \"\"\"\n",
    "        # Use torch.nn.utils.rnn.pack_padded_sequence().data to remove padding and flatten logits and tokens\n",
    "        # Do not forget specify enforce_sorted=False and correct value of batch_first \n",
    "        # YOUR CODE HERE\n",
    "        packed_outputs = torch.nn.utils.rnn.pack_padded_sequence(outputs, tensors_lens - 1, batch_first=False, enforce_sorted=False).data\n",
    "        packed_tokens = torch.nn.utils.rnn.pack_padded_sequence(tokens[1:], tensors_lens - 1, batch_first=False, enforce_sorted=False).data\n",
    "        \n",
    "        # Use super().forward(..., ...) to compute CrossEntropyLoss\n",
    "        # YOUR CODE HERE\n",
    "        res = super().forward(packed_outputs, packed_tokens)\n",
    "        return res"
   ]
  },
  {
   "cell_type": "markdown",
   "metadata": {
    "id": "W3025MS2yYto"
   },
   "source": [
    "Для оценки качества нам также необходимо вычислять долю правильно предсказанных токенов. Реализуйте класс для вычисления точности."
   ]
  },
  {
   "cell_type": "code",
   "execution_count": 481,
   "metadata": {
    "id": "PlKKAWPoyYto"
   },
   "outputs": [],
   "source": [
    "class LMAccuracy(torch.nn.Module):\n",
    "    def __init__(self):\n",
    "        super().__init__()\n",
    "        \n",
    "    def forward(self, outputs, tokens, tokens_lens):\n",
    "        \"\"\"\n",
    "        :param torch.tensor outputs: Output from RNNLM.forward. Shape: [T, B, V]\n",
    "        :param torch.tensor tokens: Batch of tokens. Shape: [T, B]\n",
    "        :param torch.tensor tokens_lens: Length of each sequence in batch\n",
    "        :return torch.tensor: Accuracy for given logits and tokens\n",
    "        \"\"\"\n",
    "        # Use torch.nn.utils.rnn.pack_padded_sequence().data to remove padding and flatten logits and tokens\n",
    "        # Do not forget specify enforce_sorted=False and correct value of batch_first \n",
    "        # YOUR CODE HERE\n",
    "        packed_outputs = torch.nn.utils.rnn.pack_padded_sequence(outputs[:-1, ], tensors_lens - 1, batch_first=False, enforce_sorted=False).data\n",
    "        packed_tokens = torch.nn.utils.rnn.pack_padded_sequence(tokens[1:, ], tensors_lens - 1, batch_first=False, enforce_sorted=False).data\n",
    "        packed_outputs = torch.argmax(packed_outputs, axis =1)\n",
    "        res = torch.sum(packed_outputs == packed_tokens)\n",
    "        return res"
   ]
  },
  {
   "cell_type": "markdown",
   "metadata": {
    "id": "00gKtKCEyYto"
   },
   "source": [
    "Модифицируйте функции `train_epoch`, `evaluate`, `train` для обучения LM.\n",
    "\n",
    "**При вычислении точности, обратите внимание на то, что мы не предсказываем первый токен в каждой последовательности и токены, относящиеся к паддингу.**"
   ]
  },
  {
   "cell_type": "code",
   "execution_count": 482,
   "metadata": {
    "id": "hieVkwi5yYto"
   },
   "outputs": [],
   "source": [
    "from torch.autograd import Variable\n",
    "def train_epoch_lm(dataloader, model, loss_fn, optimizer, device):\n",
    "    model.train()\n",
    "    for idx, data in enumerate(dataloader):\n",
    "        # 1. Take data from batch\n",
    "\n",
    "        tokens = data['tokens'].to(device)\n",
    "        tokens_lens = data['tokens_lens']\n",
    "        optimizer.zero_grad()\n",
    "        # 2. Perform forward pass\n",
    "        forw_model = model(tokens, tokens_lens)\n",
    "        # 3. Evaluate loss\n",
    "        loss = loss_fn(forw_model, tokens, tokens_lens)\n",
    "        #loss = Variable(loss, requires_grad = True)\n",
    "        loss.backward()\n",
    "        # 4. Make optimizer step\n",
    "        optimizer.step()\n",
    "\n",
    "    \n",
    "def evaluate_lm(dataloader, model, loss_fn, device):\n",
    "    model.eval()\n",
    "    \n",
    "    total_tokens = 0\n",
    "    total_loss = 0.0\n",
    "    total_accuracy = 0.0\n",
    "    \n",
    "    accuracy_fn = LMAccuracy()\n",
    "    with torch.no_grad():\n",
    "        for idx, data in enumerate(dataloader):\n",
    "            # 1. Take data from batch\n",
    "            tokens = data['tokens'].to(device)\n",
    "            tokens_lens = data['tokens_lens']\n",
    "            # 2. Perform forward pass\n",
    "            forw_model = model(tokens, tokens_lens)\n",
    "            # 3. Evaluate loss\n",
    "            loss = loss_fn(forw_model, tokens, tokens_lens)\n",
    "            # 4. Evaluate accuracy      \n",
    "            total_loss += loss\n",
    "            total_accuracy += accuracy_fn(forw_model, tokens, tokens_lens)\n",
    "            total_tokens += torch.sum(tokens_lens)\n",
    "   \n",
    "    return total_loss / total_tokens, total_accuracy / total_tokens\n",
    "\n",
    "def train_lm(\n",
    "    train_loader, test_loader, model, loss_fn, optimizer, device, num_epochs\n",
    "):\n",
    "    test_losses = []\n",
    "    train_losses = []\n",
    "    test_accuracies = []\n",
    "    train_accuracies = []\n",
    "    for epoch in range(num_epochs):\n",
    "        train_epoch_lm(train_loader, model, loss_fn, optimizer, device)\n",
    "        \n",
    "        train_loss, train_acc = evaluate_lm(train_loader, model, loss_fn, device)\n",
    "        train_accuracies.append(train_acc)\n",
    "        train_losses.append(train_loss)\n",
    "        \n",
    "        test_loss, test_acc = evaluate_lm(test_loader, model, loss_fn, device)\n",
    "        test_accuracies.append(test_acc)\n",
    "        test_losses.append(test_loss)\n",
    "        \n",
    "        print(\n",
    "            'Epoch: {0:d}/{1:d}. Loss (Train/Test): {2:.3f}/{3:.3f}. Accuracy (Train/Test): {4:.3f}/{5:.3f}'.format(\n",
    "                epoch + 1, num_epochs, train_losses[-1], test_losses[-1], train_accuracies[-1], test_accuracies[-1]\n",
    "            )\n",
    "        )\n",
    "    return train_losses, train_accuracies, test_losses, test_accuracies"
   ]
  },
  {
   "cell_type": "markdown",
   "metadata": {
    "id": "jjWDy-pIyYtp"
   },
   "source": [
    "Теперь у нас всё готово для обучения модели."
   ]
  },
  {
   "cell_type": "markdown",
   "metadata": {
    "id": "7gVDT_5wyYtp"
   },
   "source": [
    "Создадим словарь с `<sos>`, `<eos>` токенами.\n",
    "\n",
    "Обратите внимание, что в отличие от классификации текстов нам необходимо значительно увеличить размер словаря, чтобы доля `<unk>` токенов была не велика.\n",
    "\n",
    "Так же, так как задача генерации значительно сложнее задачи классификации текстов будем обучать модель только на префиксах рецензий длины $20$. Это позволяет значительно ускорить обучение."
   ]
  },
  {
   "cell_type": "code",
   "execution_count": 483,
   "metadata": {
    "id": "g2JXdCCqyYtp"
   },
   "outputs": [],
   "source": [
    "specials = ['<pad>', '<unk>', '<sos>', '<eos>']\n",
    "for special in specials:\n",
    "    counter[special] = 0\n",
    "lm_vocab = torchtext.vocab.Vocab(counter, specials=specials, specials_first=True, max_size=30000)"
   ]
  },
  {
   "cell_type": "code",
   "execution_count": 484,
   "metadata": {
    "id": "v8CSdg5jyYtp"
   },
   "outputs": [],
   "source": [
    "lm_test_dataset = LargeMovieReviewDataset(test_data_path, lm_vocab, max_len=20, pad_sos=True, pad_eos=True)\n",
    "lm_train_dataset = LargeMovieReviewDataset(train_data_path, lm_vocab, max_len=20, pad_sos=True, pad_eos=True)"
   ]
  },
  {
   "cell_type": "markdown",
   "metadata": {
    "id": "BQQfKg4IyYtp"
   },
   "source": [
    "Создадим даталоадеры для тестовой и обучающей выборок:"
   ]
  },
  {
   "cell_type": "code",
   "execution_count": 485,
   "metadata": {
    "id": "2ZaUiYSjyYtq"
   },
   "outputs": [],
   "source": [
    "lm_test_dataloader = DataLoader(\n",
    "    lm_test_dataset, batch_size=96, shuffle=False, num_workers=3, \n",
    "    collate_fn=partial(collate_fn, padding_value=lm_vocab.lookup_indices(['<pad>'])[0])\n",
    ")\n",
    "lm_train_dataloader = DataLoader(\n",
    "    lm_train_dataset, batch_size=96, shuffle=True, num_workers=3, \n",
    "    collate_fn=partial(collate_fn, padding_value=lm_vocab.lookup_indices(['<pad>'])[0])\n",
    ")"
   ]
  },
  {
   "cell_type": "markdown",
   "metadata": {
    "id": "-Y5jK1byyYtq"
   },
   "source": [
    "Убедитесь, что все предложения имеют в начале `<sos>` токен, а в конце -- `<eos>` токен."
   ]
  },
  {
   "cell_type": "code",
   "execution_count": 486,
   "metadata": {
    "colab": {
     "base_uri": "https://localhost:8080/"
    },
    "id": "ieFOWXptyYtq",
    "outputId": "0be52002-aea5-470b-ac79-82d7a95d6f7b"
   },
   "outputs": [
    {
     "data": {
      "text/plain": [
       "(tensor([[   2,    2,    2,  ...,    2,    2,    2],\n",
       "         [ 650,  286, 6849,  ...,   29, 1231,   19],\n",
       "         [6118, 7765, 6849,  ..., 2835,  282,   40],\n",
       "         ...,\n",
       "         [   0,    0,    0,  ...,    0,    0,    0],\n",
       "         [   0,    0,    0,  ...,    0,    0,    0],\n",
       "         [   0,    0,    0,  ...,    0,    0,    0]]),\n",
       " tensor([118,  49, 127, 202, 202, 124,  56,  73,  60, 129,  88,  59, 202,  44,\n",
       "          58, 112,  65,  55,  34, 164, 202, 137,  55, 109, 114,  84,  19, 123,\n",
       "         128, 173,  69, 165,  33, 179,  89,  85,  73,  40,  40, 202,  65,  56,\n",
       "          49,  97, 140,  90, 132, 202,  90,  82, 202,  98, 105, 202, 130,  43,\n",
       "         137,  48, 202,  60,  70,  61, 201, 149,  68,  29, 112,  25, 108,  60,\n",
       "          79, 202, 126,  83,  61,  42,  69, 112,  96, 102,  36,  61,  51, 202,\n",
       "         127,  57,  67,  32, 121,  64,  75,  64, 152, 107, 182,  82]))"
      ]
     },
     "execution_count": 486,
     "metadata": {
      "tags": []
     },
     "output_type": "execute_result"
    }
   ],
   "source": [
    "batch = next(iter(lm_train_dataloader))\n",
    "batch['tokens'], batch['tokens_lens']"
   ]
  },
  {
   "cell_type": "markdown",
   "metadata": {
    "id": "5QHzD4ZByYtq"
   },
   "source": [
    "Создадим модель, функцию потерь и оптимизатор: "
   ]
  },
  {
   "cell_type": "code",
   "execution_count": 490,
   "metadata": {
    "id": "dyFT0Z5myYtq"
   },
   "outputs": [],
   "source": [
    "lm_model = RNNLM(\n",
    "    embedding_dim=512, hidden_dim=512, vocab=lm_vocab, dropout=0.6, layers_dropout=0.6, num_layers=2\n",
    ").to(device=device)"
   ]
  },
  {
   "cell_type": "code",
   "execution_count": 491,
   "metadata": {
    "id": "7XoCZyOQyYtq"
   },
   "outputs": [],
   "source": [
    "lm_loss_fn = LMCrossEntropyLoss(reduction='sum')\n",
    "lm_optimizer = torch.optim.Adam(lm_model.parameters(), lr=0.005, weight_decay=1.2e-6)"
   ]
  },
  {
   "cell_type": "markdown",
   "metadata": {
    "id": "f46MXuP5yYtr"
   },
   "source": [
    "Обучим модель:"
   ]
  },
  {
   "cell_type": "markdown",
   "metadata": {
    "id": "MX3LeyrkDscP"
   },
   "source": [
    "В какой-то момент ГПУ начала вылетать по памяти, хотя раньше то же самое отрабатыало, код написан (вроде как) правильно не знаю что делать в таком случае"
   ]
  },
  {
   "cell_type": "code",
   "execution_count": 492,
   "metadata": {
    "colab": {
     "base_uri": "https://localhost:8080/",
     "height": 1000
    },
    "id": "PdhSXKK2j--h",
    "outputId": "8e1dab55-4b38-41db-af9d-02948951ab4e"
   },
   "outputs": [
    {
     "ename": "RuntimeError",
     "evalue": "ignored",
     "output_type": "error",
     "traceback": [
      "\u001b[0;31m---------------------------------------------------------------------------\u001b[0m",
      "\u001b[0;31mRuntimeError\u001b[0m                              Traceback (most recent call last)",
      "\u001b[0;32m<ipython-input-492-9f0ee8f0bc28>\u001b[0m in \u001b[0;36m<module>\u001b[0;34m()\u001b[0m\n\u001b[1;32m      1\u001b[0m lm_train_losses, lm_train_accuracies, lm_test_losses, lm_test_accuracies = train_lm(\n\u001b[0;32m----> 2\u001b[0;31m     \u001b[0mlm_train_dataloader\u001b[0m\u001b[0;34m,\u001b[0m \u001b[0mlm_test_dataloader\u001b[0m\u001b[0;34m,\u001b[0m \u001b[0mlm_model\u001b[0m\u001b[0;34m,\u001b[0m \u001b[0mlm_loss_fn\u001b[0m\u001b[0;34m,\u001b[0m \u001b[0mlm_optimizer\u001b[0m\u001b[0;34m,\u001b[0m \u001b[0mdevice\u001b[0m\u001b[0;34m,\u001b[0m \u001b[0;36m10\u001b[0m\u001b[0;34m\u001b[0m\u001b[0;34m\u001b[0m\u001b[0m\n\u001b[0m\u001b[1;32m      3\u001b[0m )\n",
      "\u001b[0;32m<ipython-input-482-676f9e30b7c9>\u001b[0m in \u001b[0;36mtrain_lm\u001b[0;34m(train_loader, test_loader, model, loss_fn, optimizer, device, num_epochs)\u001b[0m\n\u001b[1;32m     50\u001b[0m     \u001b[0mtrain_accuracies\u001b[0m \u001b[0;34m=\u001b[0m \u001b[0;34m[\u001b[0m\u001b[0;34m]\u001b[0m\u001b[0;34m\u001b[0m\u001b[0;34m\u001b[0m\u001b[0m\n\u001b[1;32m     51\u001b[0m     \u001b[0;32mfor\u001b[0m \u001b[0mepoch\u001b[0m \u001b[0;32min\u001b[0m \u001b[0mrange\u001b[0m\u001b[0;34m(\u001b[0m\u001b[0mnum_epochs\u001b[0m\u001b[0;34m)\u001b[0m\u001b[0;34m:\u001b[0m\u001b[0;34m\u001b[0m\u001b[0;34m\u001b[0m\u001b[0m\n\u001b[0;32m---> 52\u001b[0;31m         \u001b[0mtrain_epoch_lm\u001b[0m\u001b[0;34m(\u001b[0m\u001b[0mtrain_loader\u001b[0m\u001b[0;34m,\u001b[0m \u001b[0mmodel\u001b[0m\u001b[0;34m,\u001b[0m \u001b[0mloss_fn\u001b[0m\u001b[0;34m,\u001b[0m \u001b[0moptimizer\u001b[0m\u001b[0;34m,\u001b[0m \u001b[0mdevice\u001b[0m\u001b[0;34m)\u001b[0m\u001b[0;34m\u001b[0m\u001b[0;34m\u001b[0m\u001b[0m\n\u001b[0m\u001b[1;32m     53\u001b[0m \u001b[0;34m\u001b[0m\u001b[0m\n\u001b[1;32m     54\u001b[0m         \u001b[0mtrain_loss\u001b[0m\u001b[0;34m,\u001b[0m \u001b[0mtrain_acc\u001b[0m \u001b[0;34m=\u001b[0m \u001b[0mevaluate_lm\u001b[0m\u001b[0;34m(\u001b[0m\u001b[0mtrain_loader\u001b[0m\u001b[0;34m,\u001b[0m \u001b[0mmodel\u001b[0m\u001b[0;34m,\u001b[0m \u001b[0mloss_fn\u001b[0m\u001b[0;34m,\u001b[0m \u001b[0mdevice\u001b[0m\u001b[0;34m)\u001b[0m\u001b[0;34m\u001b[0m\u001b[0;34m\u001b[0m\u001b[0m\n",
      "\u001b[0;32m<ipython-input-482-676f9e30b7c9>\u001b[0m in \u001b[0;36mtrain_epoch_lm\u001b[0;34m(dataloader, model, loss_fn, optimizer, device)\u001b[0m\n\u001b[1;32m      9\u001b[0m         \u001b[0moptimizer\u001b[0m\u001b[0;34m.\u001b[0m\u001b[0mzero_grad\u001b[0m\u001b[0;34m(\u001b[0m\u001b[0;34m)\u001b[0m\u001b[0;34m\u001b[0m\u001b[0;34m\u001b[0m\u001b[0m\n\u001b[1;32m     10\u001b[0m         \u001b[0;31m# 2. Perform forward pass\u001b[0m\u001b[0;34m\u001b[0m\u001b[0;34m\u001b[0m\u001b[0;34m\u001b[0m\u001b[0m\n\u001b[0;32m---> 11\u001b[0;31m         \u001b[0mforw_model\u001b[0m \u001b[0;34m=\u001b[0m \u001b[0mmodel\u001b[0m\u001b[0;34m(\u001b[0m\u001b[0mtokens\u001b[0m\u001b[0;34m,\u001b[0m \u001b[0mtokens_lens\u001b[0m\u001b[0;34m)\u001b[0m\u001b[0;34m\u001b[0m\u001b[0;34m\u001b[0m\u001b[0m\n\u001b[0m\u001b[1;32m     12\u001b[0m         \u001b[0;31m# 3. Evaluate loss\u001b[0m\u001b[0;34m\u001b[0m\u001b[0;34m\u001b[0m\u001b[0;34m\u001b[0m\u001b[0m\n\u001b[1;32m     13\u001b[0m         \u001b[0mloss\u001b[0m \u001b[0;34m=\u001b[0m \u001b[0mloss_fn\u001b[0m\u001b[0;34m(\u001b[0m\u001b[0mforw_model\u001b[0m\u001b[0;34m,\u001b[0m \u001b[0mtokens\u001b[0m\u001b[0;34m,\u001b[0m \u001b[0mtokens_lens\u001b[0m\u001b[0;34m)\u001b[0m\u001b[0;34m\u001b[0m\u001b[0;34m\u001b[0m\u001b[0m\n",
      "\u001b[0;32m/usr/local/lib/python3.7/dist-packages/torch/nn/modules/module.py\u001b[0m in \u001b[0;36m_call_impl\u001b[0;34m(self, *input, **kwargs)\u001b[0m\n\u001b[1;32m    887\u001b[0m             \u001b[0mresult\u001b[0m \u001b[0;34m=\u001b[0m \u001b[0mself\u001b[0m\u001b[0;34m.\u001b[0m\u001b[0m_slow_forward\u001b[0m\u001b[0;34m(\u001b[0m\u001b[0;34m*\u001b[0m\u001b[0minput\u001b[0m\u001b[0;34m,\u001b[0m \u001b[0;34m**\u001b[0m\u001b[0mkwargs\u001b[0m\u001b[0;34m)\u001b[0m\u001b[0;34m\u001b[0m\u001b[0;34m\u001b[0m\u001b[0m\n\u001b[1;32m    888\u001b[0m         \u001b[0;32melse\u001b[0m\u001b[0;34m:\u001b[0m\u001b[0;34m\u001b[0m\u001b[0;34m\u001b[0m\u001b[0m\n\u001b[0;32m--> 889\u001b[0;31m             \u001b[0mresult\u001b[0m \u001b[0;34m=\u001b[0m \u001b[0mself\u001b[0m\u001b[0;34m.\u001b[0m\u001b[0mforward\u001b[0m\u001b[0;34m(\u001b[0m\u001b[0;34m*\u001b[0m\u001b[0minput\u001b[0m\u001b[0;34m,\u001b[0m \u001b[0;34m**\u001b[0m\u001b[0mkwargs\u001b[0m\u001b[0;34m)\u001b[0m\u001b[0;34m\u001b[0m\u001b[0;34m\u001b[0m\u001b[0m\n\u001b[0m\u001b[1;32m    890\u001b[0m         for hook in itertools.chain(\n\u001b[1;32m    891\u001b[0m                 \u001b[0m_global_forward_hooks\u001b[0m\u001b[0;34m.\u001b[0m\u001b[0mvalues\u001b[0m\u001b[0;34m(\u001b[0m\u001b[0;34m)\u001b[0m\u001b[0;34m,\u001b[0m\u001b[0;34m\u001b[0m\u001b[0;34m\u001b[0m\u001b[0m\n",
      "\u001b[0;32m<ipython-input-478-d437907934e0>\u001b[0m in \u001b[0;36mforward\u001b[0;34m(self, tokens, tokens_lens)\u001b[0m\n\u001b[1;32m     23\u001b[0m         \u001b[0;31m# Take all hidden states from the last layer of LSTM for each step and perform linear transformation\u001b[0m\u001b[0;34m\u001b[0m\u001b[0;34m\u001b[0m\u001b[0;34m\u001b[0m\u001b[0m\n\u001b[1;32m     24\u001b[0m         \u001b[0;31m# YOUR CODE HERE\u001b[0m\u001b[0;34m\u001b[0m\u001b[0;34m\u001b[0m\u001b[0;34m\u001b[0m\u001b[0m\n\u001b[0;32m---> 25\u001b[0;31m         \u001b[0mres\u001b[0m \u001b[0;34m=\u001b[0m \u001b[0mself\u001b[0m\u001b[0;34m.\u001b[0m\u001b[0moutput\u001b[0m\u001b[0;34m(\u001b[0m\u001b[0mres\u001b[0m\u001b[0;34m)\u001b[0m\u001b[0;34m\u001b[0m\u001b[0;34m\u001b[0m\u001b[0m\n\u001b[0m\u001b[1;32m     26\u001b[0m         \u001b[0;32mreturn\u001b[0m \u001b[0mres\u001b[0m\u001b[0;34m\u001b[0m\u001b[0;34m\u001b[0m\u001b[0m\n",
      "\u001b[0;32m/usr/local/lib/python3.7/dist-packages/torch/nn/modules/module.py\u001b[0m in \u001b[0;36m_call_impl\u001b[0;34m(self, *input, **kwargs)\u001b[0m\n\u001b[1;32m    887\u001b[0m             \u001b[0mresult\u001b[0m \u001b[0;34m=\u001b[0m \u001b[0mself\u001b[0m\u001b[0;34m.\u001b[0m\u001b[0m_slow_forward\u001b[0m\u001b[0;34m(\u001b[0m\u001b[0;34m*\u001b[0m\u001b[0minput\u001b[0m\u001b[0;34m,\u001b[0m \u001b[0;34m**\u001b[0m\u001b[0mkwargs\u001b[0m\u001b[0;34m)\u001b[0m\u001b[0;34m\u001b[0m\u001b[0;34m\u001b[0m\u001b[0m\n\u001b[1;32m    888\u001b[0m         \u001b[0;32melse\u001b[0m\u001b[0;34m:\u001b[0m\u001b[0;34m\u001b[0m\u001b[0;34m\u001b[0m\u001b[0m\n\u001b[0;32m--> 889\u001b[0;31m             \u001b[0mresult\u001b[0m \u001b[0;34m=\u001b[0m \u001b[0mself\u001b[0m\u001b[0;34m.\u001b[0m\u001b[0mforward\u001b[0m\u001b[0;34m(\u001b[0m\u001b[0;34m*\u001b[0m\u001b[0minput\u001b[0m\u001b[0;34m,\u001b[0m \u001b[0;34m**\u001b[0m\u001b[0mkwargs\u001b[0m\u001b[0;34m)\u001b[0m\u001b[0;34m\u001b[0m\u001b[0;34m\u001b[0m\u001b[0m\n\u001b[0m\u001b[1;32m    890\u001b[0m         for hook in itertools.chain(\n\u001b[1;32m    891\u001b[0m                 \u001b[0m_global_forward_hooks\u001b[0m\u001b[0;34m.\u001b[0m\u001b[0mvalues\u001b[0m\u001b[0;34m(\u001b[0m\u001b[0;34m)\u001b[0m\u001b[0;34m,\u001b[0m\u001b[0;34m\u001b[0m\u001b[0;34m\u001b[0m\u001b[0m\n",
      "\u001b[0;32m/usr/local/lib/python3.7/dist-packages/torch/nn/modules/linear.py\u001b[0m in \u001b[0;36mforward\u001b[0;34m(self, input)\u001b[0m\n\u001b[1;32m     92\u001b[0m \u001b[0;34m\u001b[0m\u001b[0m\n\u001b[1;32m     93\u001b[0m     \u001b[0;32mdef\u001b[0m \u001b[0mforward\u001b[0m\u001b[0;34m(\u001b[0m\u001b[0mself\u001b[0m\u001b[0;34m,\u001b[0m \u001b[0minput\u001b[0m\u001b[0;34m:\u001b[0m \u001b[0mTensor\u001b[0m\u001b[0;34m)\u001b[0m \u001b[0;34m->\u001b[0m \u001b[0mTensor\u001b[0m\u001b[0;34m:\u001b[0m\u001b[0;34m\u001b[0m\u001b[0;34m\u001b[0m\u001b[0m\n\u001b[0;32m---> 94\u001b[0;31m         \u001b[0;32mreturn\u001b[0m \u001b[0mF\u001b[0m\u001b[0;34m.\u001b[0m\u001b[0mlinear\u001b[0m\u001b[0;34m(\u001b[0m\u001b[0minput\u001b[0m\u001b[0;34m,\u001b[0m \u001b[0mself\u001b[0m\u001b[0;34m.\u001b[0m\u001b[0mweight\u001b[0m\u001b[0;34m,\u001b[0m \u001b[0mself\u001b[0m\u001b[0;34m.\u001b[0m\u001b[0mbias\u001b[0m\u001b[0;34m)\u001b[0m\u001b[0;34m\u001b[0m\u001b[0;34m\u001b[0m\u001b[0m\n\u001b[0m\u001b[1;32m     95\u001b[0m \u001b[0;34m\u001b[0m\u001b[0m\n\u001b[1;32m     96\u001b[0m     \u001b[0;32mdef\u001b[0m \u001b[0mextra_repr\u001b[0m\u001b[0;34m(\u001b[0m\u001b[0mself\u001b[0m\u001b[0;34m)\u001b[0m \u001b[0;34m->\u001b[0m \u001b[0mstr\u001b[0m\u001b[0;34m:\u001b[0m\u001b[0;34m\u001b[0m\u001b[0;34m\u001b[0m\u001b[0m\n",
      "\u001b[0;32m/usr/local/lib/python3.7/dist-packages/torch/nn/functional.py\u001b[0m in \u001b[0;36mlinear\u001b[0;34m(input, weight, bias)\u001b[0m\n\u001b[1;32m   1751\u001b[0m     \u001b[0;32mif\u001b[0m \u001b[0mhas_torch_function_variadic\u001b[0m\u001b[0;34m(\u001b[0m\u001b[0minput\u001b[0m\u001b[0;34m,\u001b[0m \u001b[0mweight\u001b[0m\u001b[0;34m)\u001b[0m\u001b[0;34m:\u001b[0m\u001b[0;34m\u001b[0m\u001b[0;34m\u001b[0m\u001b[0m\n\u001b[1;32m   1752\u001b[0m         \u001b[0;32mreturn\u001b[0m \u001b[0mhandle_torch_function\u001b[0m\u001b[0;34m(\u001b[0m\u001b[0mlinear\u001b[0m\u001b[0;34m,\u001b[0m \u001b[0;34m(\u001b[0m\u001b[0minput\u001b[0m\u001b[0;34m,\u001b[0m \u001b[0mweight\u001b[0m\u001b[0;34m)\u001b[0m\u001b[0;34m,\u001b[0m \u001b[0minput\u001b[0m\u001b[0;34m,\u001b[0m \u001b[0mweight\u001b[0m\u001b[0;34m,\u001b[0m \u001b[0mbias\u001b[0m\u001b[0;34m=\u001b[0m\u001b[0mbias\u001b[0m\u001b[0;34m)\u001b[0m\u001b[0;34m\u001b[0m\u001b[0;34m\u001b[0m\u001b[0m\n\u001b[0;32m-> 1753\u001b[0;31m     \u001b[0;32mreturn\u001b[0m \u001b[0mtorch\u001b[0m\u001b[0;34m.\u001b[0m\u001b[0m_C\u001b[0m\u001b[0;34m.\u001b[0m\u001b[0m_nn\u001b[0m\u001b[0;34m.\u001b[0m\u001b[0mlinear\u001b[0m\u001b[0;34m(\u001b[0m\u001b[0minput\u001b[0m\u001b[0;34m,\u001b[0m \u001b[0mweight\u001b[0m\u001b[0;34m,\u001b[0m \u001b[0mbias\u001b[0m\u001b[0;34m)\u001b[0m\u001b[0;34m\u001b[0m\u001b[0;34m\u001b[0m\u001b[0m\n\u001b[0m\u001b[1;32m   1754\u001b[0m \u001b[0;34m\u001b[0m\u001b[0m\n\u001b[1;32m   1755\u001b[0m \u001b[0;34m\u001b[0m\u001b[0m\n",
      "\u001b[0;31mRuntimeError\u001b[0m: CUDA out of memory. Tried to allocate 2.17 GiB (GPU 0; 11.17 GiB total capacity; 7.01 GiB already allocated; 1.61 GiB free; 9.13 GiB reserved in total by PyTorch)"
     ]
    }
   ],
   "source": [
    "lm_train_losses, lm_train_accuracies, lm_test_losses, lm_test_accuracies = train_lm(\n",
    "    lm_train_dataloader, lm_test_dataloader, lm_model, lm_loss_fn, lm_optimizer, device, 10\n",
    ")"
   ]
  },
  {
   "cell_type": "markdown",
   "metadata": {
    "id": "Efm75LyKyYtr"
   },
   "source": [
    "## Реализация декодера. (2 балла)"
   ]
  },
  {
   "cell_type": "markdown",
   "metadata": {
    "id": "Ux-aevQ8yYtr"
   },
   "source": [
    "Теперь, реализуем последнюю деталь -- декодирование с использованием обученной модели.\n",
    "Есть несколько вариантов. Рассмотрим два самых простых:\n",
    "1. **Жадное декодирование.** На каждом шаге мы выбираем токен с максимальной вероятностью и используем его для обновления скрытого состояния RNN.\n",
    "2. **Top-k sampling.** На очередном шаге рассматриваются $k$ токенов с самыми большими вероятностями. Остальные токены игнорируются. Из выбранных токенов семплируется следующий токен пропорционально их вероятностям.\n",
    "\n",
    "Прочитать подробнее про разные варианты декодирования можно по ссылкам:\n",
    "1. [От huggingface](https://huggingface.co/blog/how-to-generate)\n",
    "2. [На towardsdatascience](https://towardsdatascience.com/decoding-strategies-that-you-need-to-know-for-response-generation-ba95ee0faadc)"
   ]
  },
  {
   "cell_type": "markdown",
   "metadata": {
    "id": "4d-1gklVyYtr"
   },
   "source": [
    "Существенным в процессе декодирования является критерий останова. Как только очередной самый вероятный символ оказался `<eos>`, то данная последовательность считается сгенерированной. Однако, может так оказаться, что `<eos>` никогда не будет выбран, тогда необходимо прекратить генерацию, как только длина последовательности перейдёт порог `max_generated_len`."
   ]
  },
  {
   "cell_type": "code",
   "execution_count": null,
   "metadata": {
    "id": "-GxAR9BByYtr"
   },
   "outputs": [],
   "source": [
    "def decode(model, start_tokens, start_tokens_lens, max_generated_len=20, top_k=None):\n",
    "    \"\"\"\n",
    "    :param RNNLM model: Model\n",
    "    :param torch.tensor start_tokens: Batch of seed tokens. Shape: [T, B]\n",
    "    :param torch.tensor start_tokens_lens: Length of each sequence in batch. Shape: [B]\n",
    "    :return Tuple[torch.tensor, torch.tensor]. Newly predicted tokens and length of generated part. Shape [T*, B], [B]\n",
    "    \"\"\"\n",
    "    # Get embedding for start_tokens\n",
    "    # YOUR CODE HERE\n",
    "    embedding = self.word_embedings(start_tokens)\n",
    "    \n",
    "    # Pass embedding through rnn and collect hidden states and cell states for each time moment\n",
    "    all_h, all_c = [], []\n",
    "    h = embedding.new_zeros([model.rnn.num_layers, start_tokens.shape[1], model.hidden_dim])\n",
    "    c = embedding.new_zeros([model.rnn.num_layers, start_tokens.shape[1], model.hidden_dim])\n",
    "    for time_step in range(start_tokens.shape[0]):\n",
    "        # YOUR CODE HERE\n",
    "        pass\n",
    "    \n",
    "    all_h = torch.stack(all_h, dim=1)\n",
    "    all_c = torch.stack(all_c, dim=1)\n",
    "    # Take final hidden state and cell state for each start sequence in batch\n",
    "    # We will use them as h_0, c_0 for generation new tokens\n",
    "    h = all_h[:, start_tokens_lens - 1, torch.arange(start_tokens_lens.shape[0])]\n",
    "    c = all_c[:, start_tokens_lens - 1, torch.arange(start_tokens_lens.shape[0])]\n",
    "    \n",
    "    # List of predicted tokens for each time step\n",
    "    predicted_tokens = []\n",
    "    # Length of generated part for each object in the batch\n",
    "    decoded_lens = torch.zeros_like(start_tokens_lens, dtype=torch.long)\n",
    "    # Boolean mask where we store if the sequence has already generated\n",
    "    # i.e. `<eos>` was selected on any step\n",
    "    is_finished_decoding = torch.zeros_like(start_tokens_lens, dtype=torch.bool)\n",
    "    \n",
    "    # Stop when all sequences in the batch are finished\n",
    "    while not torch.all(is_finished_decoding) and torch.max(decoded_lens) < max_generated_len:\n",
    "        # Evaluate next token distribution using hidden state h.\n",
    "        # Note. Over first dimension h has hidden states for each layer of LSTM.\n",
    "        #     We must use hidden state from the last layer\n",
    "        # YOUR CODE HERE\n",
    "        logits = None\n",
    "        \n",
    "        if top_k is not None:\n",
    "            # Top-k sampling. Use only top-k most probable logits to sample next token\n",
    "            indices_to_remove = logits < torch.topk(logits, top_k)[0][..., -1, None]\n",
    "            # Mask non top-k logits\n",
    "            logits[indices_to_remove] = -1e10\n",
    "            # Sample next_token. \n",
    "            # YOUR CODE HERE\n",
    "            next_token = None\n",
    "        else:\n",
    "            # Select most probable token\n",
    "            # YOUR CODE HERE\n",
    "            next_token = None\n",
    "            \n",
    "        predicted_tokens.append(next_token)\n",
    "        \n",
    "        decoded_lens += (~is_finished_decoding)\n",
    "        is_finished_decoding |= (next_token == torch.tensor(model.vocab.lookup_indices(['<eos>'])[0]))\n",
    "\n",
    "        # Evaluate embedding for next token\n",
    "        # YOUR CODE HERE\n",
    "\n",
    "        # Update hidden and cell states\n",
    "        # YOUR CODE HERE\n",
    "\n",
    "    return torch.stack(predicted_tokens), decoded_lens"
   ]
  },
  {
   "cell_type": "markdown",
   "metadata": {
    "id": "mVKdqFGuyYts"
   },
   "source": [
    "Попробуем сгенерировать продолжения для нескольких префиксов:"
   ]
  },
  {
   "cell_type": "code",
   "execution_count": null,
   "metadata": {
    "id": "RtkAAhmNyYts"
   },
   "outputs": [],
   "source": [
    "start_tokens = torch.tensor([\n",
    "    lm_model.vocab.lookup_indices(['<sos>', '<pad>', '<pad>', '<pad>']),\n",
    "    lm_model.vocab.lookup_indices(['<sos>', 'my', 'favorite', 'movie']),\n",
    "    lm_model.vocab.lookup_indices(['<sos>', 'the', 'best', 'movie']),\n",
    "    lm_model.vocab.lookup_indices(['<sos>', 'the', 'worst', 'movie']),\n",
    "]).T\n",
    "\n",
    "start_tokens_lens = torch.tensor([1, 4, 4, 4])"
   ]
  },
  {
   "cell_type": "code",
   "execution_count": null,
   "metadata": {
    "id": "3q_7RKGeyYts"
   },
   "outputs": [],
   "source": [
    "lm_model = lm_model.cpu()\n",
    "lm_model.eval()\n",
    "decoded_tokens, decoded_lens = decode(lm_model, start_tokens, start_tokens_lens, max_generated_len=20, top_k=5)"
   ]
  },
  {
   "cell_type": "code",
   "execution_count": null,
   "metadata": {
    "id": "7oSQlBL-yYts",
    "outputId": "dd9c9015-4ea8-4bdc-9db4-95fc2904055b"
   },
   "outputs": [
    {
     "name": "stdout",
     "output_type": "stream",
     "text": [
      "<sos> first saw movie first time really disappointed really disappointed movie even one funniest films ever seen movie seen life <eos>\n",
      "<sos> <unk> favorite movie ever seen movie really enjoyed first saw movie years ago thought would good movie <eos>\n",
      "<sos> <unk> best movie ever seen movie ever made one thing bad acting bad acting bad effects bad bad script bad script bad acting\n",
      "<sos> <unk> worst movie ever seen life life <unk> one best movies ever seen bad movies bad acting bad acting bad <eos>\n"
     ]
    }
   ],
   "source": [
    "for text_idx in range(start_tokens.shape[1]):\n",
    "    decoded_text_tokens = decoded_tokens[:decoded_lens[text_idx], text_idx]\n",
    "    tokens = start_tokens[:start_tokens_lens[text_idx], text_idx].tolist() + decoded_text_tokens.tolist()\n",
    "    words = np.array(lm_model.vocab.itos)[np.array(tokens)]\n",
    "    print(' '.join(words))"
   ]
  },
  {
   "cell_type": "markdown",
   "metadata": {
    "id": "CFIN-OQSyYts"
   },
   "source": [
    "Попробуйте выполнить семплирование для разных $k$. Сравните результаты top-k семплирования с жадным декодированием. Опишите ваши наблюдения."
   ]
  },
  {
   "cell_type": "code",
   "execution_count": null,
   "metadata": {
    "id": "RiQat5qxyYtt"
   },
   "outputs": [],
   "source": [
    "# YOUR CODE HERE"
   ]
  },
  {
   "cell_type": "markdown",
   "metadata": {
    "id": "ogOnCLKqyYtt"
   },
   "source": [
    "**Ответ:**"
   ]
  },
  {
   "cell_type": "markdown",
   "metadata": {
    "id": "oDEKAN_gyYtt"
   },
   "source": [
    "## Бонус. Cущественное улучшение качества. (до 3 баллов)"
   ]
  },
  {
   "cell_type": "markdown",
   "metadata": {
    "id": "9MPnZzENyYtt"
   },
   "source": [
    "Та модель, которая использовалась в предыдущей части во многом заимствует улучшения LSTM из статьи [Regularizing and Optimizing LSTM Language Models](https://arxiv.org/pdf/1708.02182.pdf). Вы можете попробовать применить другие варианты регуляризации из данной статьи для существенного улучшения качества LM.\n",
    "\n",
    "Например:\n",
    "1. Dropout для эмбеддингов\n",
    "2. Dropout входов и выходов RNN\n",
    "3. Регуляризация активаций (AR/TAR)\n",
    "4. NT-ASGD\n",
    "5. Tied веса эмбеддингов и софтмакса"
   ]
  }
 ],
 "metadata": {
  "accelerator": "GPU",
  "colab": {
   "collapsed_sections": [
    "oDEKAN_gyYtt"
   ],
   "name": "lab_03_berber.ipynb",
   "provenance": []
  },
  "kernelspec": {
   "display_name": "Python 3",
   "language": "python",
   "name": "python3"
  },
  "language_info": {
   "codemirror_mode": {
    "name": "ipython",
    "version": 3
   },
   "file_extension": ".py",
   "mimetype": "text/x-python",
   "name": "python",
   "nbconvert_exporter": "python",
   "pygments_lexer": "ipython3",
   "version": "3.8.3"
  },
  "varInspector": {
   "cols": {
    "lenName": 16,
    "lenType": 16,
    "lenVar": 40
   },
   "kernels_config": {
    "python": {
     "delete_cmd_postfix": "",
     "delete_cmd_prefix": "del ",
     "library": "var_list.py",
     "varRefreshCmd": "print(var_dic_list())"
    },
    "r": {
     "delete_cmd_postfix": ") ",
     "delete_cmd_prefix": "rm(",
     "library": "var_list.r",
     "varRefreshCmd": "cat(var_dic_list()) "
    }
   },
   "position": {
    "height": "313px",
    "left": "926px",
    "right": "27px",
    "top": "120px",
    "width": "343px"
   },
   "types_to_exclude": [
    "module",
    "function",
    "builtin_function_or_method",
    "instance",
    "_Feature"
   ],
   "window_display": false
  }
 },
 "nbformat": 4,
 "nbformat_minor": 1
}
